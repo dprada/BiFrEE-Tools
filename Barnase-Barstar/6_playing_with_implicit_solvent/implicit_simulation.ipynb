{
 "cells": [
  {
   "cell_type": "code",
   "execution_count": 1,
   "id": "0c7da63c-e943-4eea-952a-275d5a9d8635",
   "metadata": {},
   "outputs": [
    {
     "name": "stderr",
     "output_type": "stream",
     "text": [
      "Warning: importing 'simtk.openmm' is deprecated.  Import 'openmm' instead.\n",
      "Warning on use of the timeseries module: If the inherent timescales of the system are long compared to those being analyzed, this statistical inefficiency may be an underestimate.  The estimate presumes the use of many statistically independent samples.  Tests should be performed to assess whether this condition is satisfied.   Be cautious in the interpretation of the data.\n"
     ]
    }
   ],
   "source": [
    "import os\n",
    "\n",
    "import requests\n",
    "\n",
    "import openmm as mm\n",
    "from openmm.app import *\n",
    "from openmm import unit\n",
    "from openmm import app\n",
    "from openmmtools import testsystems"
   ]
  },
  {
   "cell_type": "code",
   "execution_count": 2,
   "id": "8e28993c-be16-4fc5-841b-cb4029c9d2fa",
   "metadata": {},
   "outputs": [],
   "source": [
    "alanine_implicit = testsystems.AlanineDipeptideImplicit(constraints=HBonds)"
   ]
  },
  {
   "cell_type": "code",
   "execution_count": 3,
   "id": "200dc7dc-3a9d-4dcc-a52a-256cc28d0301",
   "metadata": {},
   "outputs": [],
   "source": [
    "system = alanine_implicit.system"
   ]
  },
  {
   "cell_type": "code",
   "execution_count": 4,
   "id": "8236a826-b350-4237-a5f9-64a8ab5cfc73",
   "metadata": {},
   "outputs": [],
   "source": [
    "for i, f in enumerate(system.getForces()):\n",
    "    f.setForceGroup(i)"
   ]
  },
  {
   "cell_type": "code",
   "execution_count": 5,
   "id": "61277b04-fafc-4c24-a638-6f9af3e41c0b",
   "metadata": {},
   "outputs": [],
   "source": [
    "step_size   = 0.002*unit.picoseconds\n",
    "temperature = 300*unit.kelvin\n",
    "friction    = 1.0/unit.picosecond # Damping para la dinámica de Langevin\n",
    "\n",
    "integrator = mm.LangevinIntegrator(temperature, friction, step_size)"
   ]
  },
  {
   "cell_type": "code",
   "execution_count": 6,
   "id": "2a86e349-32ab-494d-b115-a89191ae7385",
   "metadata": {},
   "outputs": [],
   "source": [
    "platform_name = 'CUDA'\n",
    "platform      = mm.Platform.getPlatformByName(platform_name)"
   ]
  },
  {
   "cell_type": "code",
   "execution_count": 7,
   "id": "ef5f8505-59ae-40e8-bdef-00f248e6f2df",
   "metadata": {},
   "outputs": [],
   "source": [
    "simulation = Simulation(alanine_implicit.topology, system, integrator, platform)"
   ]
  },
  {
   "cell_type": "code",
   "execution_count": 8,
   "id": "6abb25bb-d35b-41c6-8ce7-a889a5f75673",
   "metadata": {},
   "outputs": [],
   "source": [
    "simulation.context.setPositions(alanine_implicit.positions)"
   ]
  },
  {
   "cell_type": "code",
   "execution_count": 9,
   "id": "730ff398-7a5a-4631-89c5-e5add4eb4319",
   "metadata": {},
   "outputs": [
    {
     "name": "stdout",
     "output_type": "stream",
     "text": [
      "HarmonicBondForce 0.08618217706680298 kJ/mol\n",
      "HarmonicAngleForce 1.5144082307815552 kJ/mol\n",
      "PeriodicTorsionForce 8.05634593963623 kJ/mol\n",
      "NonbondedForce -97.74549865722656 kJ/mol\n",
      "CustomGBForce -50.8812255859375 kJ/mol\n",
      "CMMotionRemover 0.0 kJ/mol\n"
     ]
    }
   ],
   "source": [
    "for i, f in enumerate(system.getForces()):\n",
    "    state = simulation.context.getState(getEnergy=True, groups={i})\n",
    "    print(f.getName(), state.getPotentialEnergy())"
   ]
  }
 ],
 "metadata": {
  "kernelspec": {
   "display_name": "Python 3 (ipykernel)",
   "language": "python",
   "name": "python3"
  },
  "language_info": {
   "codemirror_mode": {
    "name": "ipython",
    "version": 3
   },
   "file_extension": ".py",
   "mimetype": "text/x-python",
   "name": "python",
   "nbconvert_exporter": "python",
   "pygments_lexer": "ipython3",
   "version": "3.7.12"
  }
 },
 "nbformat": 4,
 "nbformat_minor": 5
}
