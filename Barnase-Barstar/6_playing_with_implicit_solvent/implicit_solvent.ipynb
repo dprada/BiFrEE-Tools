{
 "cells": [
  {
   "cell_type": "code",
   "execution_count": 1,
   "id": "b0eb2d33-6521-44ce-b715-4eba110c4da7",
   "metadata": {},
   "outputs": [
    {
     "data": {
      "application/vnd.jupyter.widget-view+json": {
       "model_id": "d41eb5573a764801a8e31de9fb44c22d",
       "version_major": 2,
       "version_minor": 0
      },
      "text/plain": []
     },
     "metadata": {},
     "output_type": "display_data"
    }
   ],
   "source": [
    "import os\n",
    "\n",
    "import openmm as mm\n",
    "from openmm.app import *\n",
    "from openmm import unit\n",
    "from openmm import app\n",
    "from pdbfixer import PDBFixer\n",
    "import mdtraj as md\n",
    "import nglview as nv\n",
    "import requests\n",
    "import numpy as np\n",
    "from math import sqrt\n",
    "from tqdm import tqdm\n",
    "import matplotlib.pyplot as plt"
   ]
  },
  {
   "cell_type": "code",
   "execution_count": 2,
   "id": "1c1df802-ff56-49c4-99fe-7ce013da92d9",
   "metadata": {},
   "outputs": [],
   "source": [
    "pdb = PDBFile('brs_full.pdb') #Sistema Vacio"
   ]
  },
  {
   "cell_type": "code",
   "execution_count": 3,
   "id": "ef9cc449-8308-4600-b81b-b34829fa4245",
   "metadata": {},
   "outputs": [],
   "source": [
    "forcefield = ForceField('amber14-all.xml', 'implicit/gbn2.xml') #Se indica el solvente implicito"
   ]
  },
  {
   "cell_type": "code",
   "execution_count": 25,
   "id": "6776ad39-43b2-4620-950f-0c7a32cc4ad6",
   "metadata": {},
   "outputs": [],
   "source": [
    "# Listado de modelos solvente implicito \n",
    "\n",
    "#implicit/hct.xml\n",
    "#implicit/obc1.xml\n",
    "#implicit/obc2.xml\n",
    "#implicit/gbn.xml\n",
    "#implicit/gbn2.xml"
   ]
  },
  {
   "cell_type": "code",
   "execution_count": 4,
   "id": "d8775b9b-86c1-4f8d-8bad-5ee159ad244f",
   "metadata": {},
   "outputs": [],
   "source": [
    "# El modelo de solvente implicito de AMBER no es compatible con nonbondedMethod\n",
    "\n",
    "system = forcefield.createSystem(pdb.topology, soluteDielectric=1.0, solventDielectric=80.0, nonbondedCutoff=1.2*unit.nanometer, switchDistance=0.9*unit.nanometer, constraints=HBonds)"
   ]
  },
  {
   "cell_type": "code",
   "execution_count": 5,
   "id": "20992ea8-0d03-4fff-ac62-607f14d72e18",
   "metadata": {},
   "outputs": [
    {
     "data": {
      "text/plain": [
       "[<openmm.openmm.HarmonicBondForce; proxy of <Swig Object of type 'OpenMM::HarmonicBondForce *' at 0x7fe9f4f91060> >,\n",
       " <openmm.openmm.HarmonicAngleForce; proxy of <Swig Object of type 'OpenMM::HarmonicAngleForce *' at 0x7fe9f4f91150> >,\n",
       " <openmm.openmm.PeriodicTorsionForce; proxy of <Swig Object of type 'OpenMM::PeriodicTorsionForce *' at 0x7fe9f4f911e0> >,\n",
       " <openmm.openmm.NonbondedForce; proxy of <Swig Object of type 'OpenMM::NonbondedForce *' at 0x7fe9f4f91270> >,\n",
       " <openmm.openmm.CMMotionRemover; proxy of <Swig Object of type 'OpenMM::CMMotionRemover *' at 0x7fe9f4f91300> >,\n",
       " <openmm.openmm.CustomGBForce; proxy of <Swig Object of type 'OpenMM::CustomGBForce *' at 0x7fe9f4f91390> >]"
      ]
     },
     "execution_count": 5,
     "metadata": {},
     "output_type": "execute_result"
    }
   ],
   "source": [
    "system.getForces()"
   ]
  },
  {
   "cell_type": "markdown",
   "id": "049fbed5-b5be-4955-8580-b45c60f82edb",
   "metadata": {},
   "source": [
    "Del listado se observa que la ultima fuerza corresponde al modelo de solvente implicito"
   ]
  },
  {
   "cell_type": "code",
   "execution_count": 6,
   "id": "dd3bacab-5f6d-4f76-9af1-22ac3920fca7",
   "metadata": {},
   "outputs": [],
   "source": [
    "implicit = system.getForces()[5]"
   ]
  },
  {
   "cell_type": "code",
   "execution_count": null,
   "id": "86279995-fee4-4619-8b95-b7e9504e9805",
   "metadata": {},
   "outputs": [
    {
     "data": {
      "text/plain": [
       "7"
      ]
     },
     "execution_count": 7,
     "metadata": {},
     "output_type": "execute_result"
    }
   ],
   "source": [
    "implicit.getNumPerParticleParameters()"
   ]
  },
  {
   "cell_type": "code",
   "execution_count": null,
   "id": "1f23b40f-14ef-474e-a956-d962ef23510c",
   "metadata": {},
   "outputs": [
    {
     "data": {
      "text/plain": [
       "'sr'"
      ]
     },
     "execution_count": 8,
     "metadata": {},
     "output_type": "execute_result"
    }
   ],
   "source": [
    "implicit.getPerParticleParameterName(2)"
   ]
  },
  {
   "cell_type": "code",
   "execution_count": 24,
   "id": "a713887f-8782-42f7-973d-843ebfe9576d",
   "metadata": {},
   "outputs": [
    {
     "name": "stdout",
     "output_type": "stream",
     "text": [
      "charge\n",
      "or\n",
      "sr\n",
      "alpha\n",
      "beta\n",
      "gamma\n",
      "radindex\n"
     ]
    }
   ],
   "source": [
    "# Impresion de los nombres de los parametros que tiene el modelo de solvente implicito seleccionado\n",
    "\n",
    "for ii in range(implicit.getNumPerParticleParameters()):\n",
    "    print(implicit.getPerParticleParameterName(ii))"
   ]
  },
  {
   "cell_type": "code",
   "execution_count": 23,
   "id": "8fac45e8-41c1-4684-81b8-26e49c58c9c5",
   "metadata": {},
   "outputs": [],
   "source": [
    "# Creacion de listas con los parametros involucrados en el modelo de solvente implicito seleccionado\n",
    "\n",
    "charge  = []\n",
    "or_     = []\n",
    "sr      = []\n",
    "alpha   = []\n",
    "beta    = []\n",
    "gamma   = []\n",
    "radinex = []\n",
    "\n",
    "for ii in range(implicit.getNumParticles()):\n",
    "    aa, bb, cc, dd, ee, ff, gg = implicit.getParticleParameters(ii)\n",
    "    charge.append(aa)\n",
    "    or_.append(bb)\n",
    "    sr.append(cc)\n",
    "    alpha.append(dd)\n",
    "    beta.append(ee)\n",
    "    gamma.append(ff)\n",
    "    radinex.append(gg)"
   ]
  },
  {
   "cell_type": "code",
   "execution_count": 6,
   "id": "d0028d7f-16ed-454c-91c8-b910d2f9450f",
   "metadata": {},
   "outputs": [],
   "source": [
    "step_size   = 0.002*unit.picoseconds\n",
    "temperature = 300*unit.kelvin\n",
    "friction    = 1.0/unit.picosecond # Damping para la dinámica de Langevin\n",
    "\n",
    "integrator = mm.LangevinIntegrator(temperature, friction, step_size)"
   ]
  },
  {
   "cell_type": "code",
   "execution_count": 7,
   "id": "5a7c9d22-50de-4156-ab8a-f71fb8f4f46b",
   "metadata": {},
   "outputs": [],
   "source": [
    "platform_name = 'CUDA'\n",
    "platform      = mm.Platform.getPlatformByName(platform_name)"
   ]
  },
  {
   "cell_type": "code",
   "execution_count": 8,
   "id": "fd27ada9-c369-4b91-951f-107150e456b9",
   "metadata": {},
   "outputs": [],
   "source": [
    "simulation = Simulation(pdb.topology, system, integrator, platform)"
   ]
  },
  {
   "cell_type": "code",
   "execution_count": 9,
   "id": "cdc0347b-dafa-4e46-a92e-b2cb36168852",
   "metadata": {},
   "outputs": [],
   "source": [
    "simulation.context.setPositions(pdb.positions)"
   ]
  },
  {
   "cell_type": "code",
   "execution_count": 10,
   "id": "181ba5b6-9eec-49c2-a949-20849dc3a97f",
   "metadata": {},
   "outputs": [],
   "source": [
    "simulation.minimizeEnergy()"
   ]
  },
  {
   "cell_type": "code",
   "execution_count": 11,
   "id": "50376a53-7205-4c82-bba6-5c628ed8b029",
   "metadata": {},
   "outputs": [],
   "source": [
    "# Parámetros de la simulación.\n",
    "\n",
    "simulation_time = 0.1*unit.nanosecond\n",
    "saving_time     = 10.0*unit.picoseconds"
   ]
  },
  {
   "cell_type": "code",
   "execution_count": 12,
   "id": "ecad9f4c-b710-4bc4-9619-286eb3da03ec",
   "metadata": {},
   "outputs": [],
   "source": [
    "n_steps_per_period = int(saving_time/step_size) # número de pasos entre frame de guardado\n",
    "n_periods          = int(simulation_time/saving_time) # número de frames guardados"
   ]
  },
  {
   "cell_type": "code",
   "execution_count": 13,
   "id": "d7282e8d-2744-425d-bb1d-6f05b718baaf",
   "metadata": {},
   "outputs": [],
   "source": [
    "n_particles  = pdb.topology.getNumAtoms()"
   ]
  },
  {
   "cell_type": "code",
   "execution_count": 14,
   "id": "49dea3b5-0585-4372-9749-ad4b59805a9c",
   "metadata": {},
   "outputs": [],
   "source": [
    "# Creación de arrays reporteros del tiempo, la posición y la velocidad.\n",
    "\n",
    "times                  = np.zeros([n_periods], np.float32) * unit.picoseconds\n",
    "positions              = np.zeros([n_periods, n_particles, 3], np.float32) * unit.angstroms\n",
    "potential_energies     = np.zeros([n_periods], np.float32) * unit.kilocalories_per_mole"
   ]
  },
  {
   "cell_type": "code",
   "execution_count": 15,
   "id": "01f40a0e-ce21-486f-9dbc-8034e8cd5e9f",
   "metadata": {},
   "outputs": [],
   "source": [
    "# Almacenamiento en reporteros de las condiciones iniciales para tiempo 0\n",
    "\n",
    "state                   = simulation.context.getState(getPositions=True, getEnergy=True)\n",
    "\n",
    "times[0]                = state.getTime()\n",
    "positions[0]            = state.getPositions()\n",
    "potential_energies[0]   = state.getPotentialEnergy()"
   ]
  },
  {
   "cell_type": "code",
   "execution_count": 16,
   "id": "6e0a01a1-4d22-48b9-bdd3-e19ea720d34c",
   "metadata": {},
   "outputs": [
    {
     "name": "stderr",
     "output_type": "stream",
     "text": [
      "100%|███████████████████████████████████████████████████████████████████████████████████████████████████████████████| 9/9 [02:10<00:00, 14.47s/it]\n"
     ]
    }
   ],
   "source": [
    "# Ejecuto el bucle sobre el número de periodos que vamos a simular\n",
    "\n",
    "for ii in tqdm(range(1, n_periods)):\n",
    "    simulation.context.getIntegrator().step(n_steps_per_period)\n",
    "    state                    = simulation.context.getState(getPositions=True, getEnergy=True)\n",
    "    times[ii]                = state.getTime()\n",
    "    positions[ii]            = state.getPositions()\n",
    "    potential_energies[ii]   = state.getPotentialEnergy()"
   ]
  }
 ],
 "metadata": {
  "kernelspec": {
   "display_name": "Python 3 (ipykernel)",
   "language": "python",
   "name": "python3"
  },
  "language_info": {
   "codemirror_mode": {
    "name": "ipython",
    "version": 3
   },
   "file_extension": ".py",
   "mimetype": "text/x-python",
   "name": "python",
   "nbconvert_exporter": "python",
   "pygments_lexer": "ipython3",
   "version": "3.9.12"
  }
 },
 "nbformat": 4,
 "nbformat_minor": 5
}
