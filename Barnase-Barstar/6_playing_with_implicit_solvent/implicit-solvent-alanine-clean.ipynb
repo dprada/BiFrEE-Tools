{
 "cells": [
  {
   "cell_type": "code",
   "execution_count": 1,
   "id": "074101a2-b83f-47d5-82d0-bdbb8e1da46c",
   "metadata": {},
   "outputs": [
    {
     "data": {
      "application/vnd.jupyter.widget-view+json": {
       "model_id": "5a9545cdbaa6467d9fd72fce5f0cf0b6",
       "version_major": 2,
       "version_minor": 0
      },
      "text/plain": []
     },
     "metadata": {},
     "output_type": "display_data"
    },
    {
     "name": "stderr",
     "output_type": "stream",
     "text": [
      "Warning: importing 'simtk.openmm' is deprecated.  Import 'openmm' instead.\n",
      "Warning on use of the timeseries module: If the inherent timescales of the system are long compared to those being analyzed, this statistical inefficiency may be an underestimate.  The estimate presumes the use of many statistically independent samples.  Tests should be performed to assess whether this condition is satisfied.   Be cautious in the interpretation of the data.\n"
     ]
    }
   ],
   "source": [
    "import os\n",
    "\n",
    "import openmm as mm\n",
    "from openmm.app import *\n",
    "from openmm import unit\n",
    "from openmm import app\n",
    "from pdbfixer import PDBFixer\n",
    "import mdtraj as md\n",
    "import nglview as nv\n",
    "import requests\n",
    "import numpy as np\n",
    "from math import sqrt\n",
    "from openmmtools import testsystems"
   ]
  },
  {
   "cell_type": "code",
   "execution_count": 2,
   "id": "7598091a-1a04-4b93-88e9-9853f98a0120",
   "metadata": {},
   "outputs": [],
   "source": [
    "alanine_implicit = testsystems.AlanineDipeptideImplicit(constraints=HBonds)"
   ]
  },
  {
   "cell_type": "code",
   "execution_count": 102,
   "id": "f79a6f91-d406-4f08-a96f-a6d6a083cb3e",
   "metadata": {},
   "outputs": [
    {
     "data": {
      "text/plain": [
       "Quantity(value=array([[ 2.0000010e-01,  1.0000000e-01, -1.3000000e-07],\n",
       "       [ 2.0000010e-01,  2.0900000e-01,  1.0000000e-08],\n",
       "       [ 1.4862640e-01,  2.4538490e-01,  8.8982400e-02],\n",
       "       [ 1.4862590e-01,  2.4538520e-01, -8.8982000e-02],\n",
       "       [ 3.4274200e-01,  2.6407950e-01, -3.0000000e-07],\n",
       "       [ 4.3905800e-01,  1.8774060e-01, -6.6000000e-07],\n",
       "       [ 3.5553754e-01,  3.9696488e-01, -3.1000000e-07],\n",
       "       [ 2.7331200e-01,  4.5561601e-01, -1.3000000e-07],\n",
       "       [ 4.8532621e-01,  4.6139253e-01, -4.3000000e-07],\n",
       "       [ 5.4075960e-01,  4.3155388e-01,  8.8981520e-02],\n",
       "       [ 5.6613044e-01,  4.2208425e-01, -1.2321480e-01],\n",
       "       [ 5.1232615e-01,  4.5213630e-01, -2.1312016e-01],\n",
       "       [ 6.6304840e-01,  4.7189354e-01, -1.2057907e-01],\n",
       "       [ 5.8085401e-01,  3.1408724e-01, -1.2413850e-01],\n",
       "       [ 4.7126759e-01,  6.1294185e-01,  1.4000000e-07],\n",
       "       [ 3.6006445e-01,  6.6527027e-01,  6.2000000e-07],\n",
       "       [ 5.8460533e-01,  6.8348833e-01,  2.5000000e-07],\n",
       "       [ 6.7370014e-01,  6.3591620e-01, -4.0000000e-08],\n",
       "       [ 5.8460551e-01,  8.2838837e-01,  6.2000000e-07],\n",
       "       [ 4.8185761e-01,  8.6477349e-01,  1.0400000e-06],\n",
       "       [ 6.3597984e-01,  8.6477313e-01,  8.8982830e-02],\n",
       "       [ 6.3597900e-01,  8.6477354e-01, -8.8981870e-02]]), unit=nanometer)"
      ]
     },
     "execution_count": 102,
     "metadata": {},
     "output_type": "execute_result"
    }
   ],
   "source": [
    "alanine_implicit.positions"
   ]
  },
  {
   "cell_type": "code",
   "execution_count": 3,
   "id": "a93ecc48-a8cb-43ce-a071-77dfc7326f0e",
   "metadata": {},
   "outputs": [],
   "source": [
    "system = alanine_implicit.system"
   ]
  },
  {
   "cell_type": "code",
   "execution_count": 82,
   "id": "b1509e99-fb15-4aff-919e-cc2eed08f6d8",
   "metadata": {},
   "outputs": [
    {
     "data": {
      "text/plain": [
       "6"
      ]
     },
     "execution_count": 82,
     "metadata": {},
     "output_type": "execute_result"
    }
   ],
   "source": [
    "system.getNumForces()"
   ]
  },
  {
   "cell_type": "code",
   "execution_count": 85,
   "id": "7090efea-3383-4a67-9c9c-fc4874948e35",
   "metadata": {},
   "outputs": [
    {
     "data": {
      "text/plain": [
       "[<openmm.openmm.HarmonicBondForce; proxy of <Swig Object of type 'OpenMM::HarmonicBondForce *' at 0x7f140036fcf0> >,\n",
       " <openmm.openmm.HarmonicAngleForce; proxy of <Swig Object of type 'OpenMM::HarmonicAngleForce *' at 0x7f140036f660> >,\n",
       " <openmm.openmm.PeriodicTorsionForce; proxy of <Swig Object of type 'OpenMM::PeriodicTorsionForce *' at 0x7f140036fb40> >,\n",
       " <openmm.openmm.NonbondedForce; proxy of <Swig Object of type 'OpenMM::NonbondedForce *' at 0x7f140036fe10> >,\n",
       " <openmm.openmm.CustomGBForce; proxy of <Swig Object of type 'OpenMM::CustomGBForce *' at 0x7f140036f9c0> >,\n",
       " <openmm.openmm.CMMotionRemover; proxy of <Swig Object of type 'OpenMM::CMMotionRemover *' at 0x7f140036ffc0> >]"
      ]
     },
     "execution_count": 85,
     "metadata": {},
     "output_type": "execute_result"
    }
   ],
   "source": [
    "system.getForces()"
   ]
  },
  {
   "cell_type": "code",
   "execution_count": 4,
   "id": "29e6571d-4b76-499d-9316-15f452acea83",
   "metadata": {},
   "outputs": [
    {
     "data": {
      "text/plain": [
       "<Topology; 1 chains, 3 residues, 22 atoms, 21 bonds>"
      ]
     },
     "execution_count": 4,
     "metadata": {},
     "output_type": "execute_result"
    }
   ],
   "source": [
    "topology = alanine_implicit.topology\n",
    "topology"
   ]
  },
  {
   "cell_type": "code",
   "execution_count": 76,
   "id": "a3859937-a15a-4607-9cbe-76e8a6ce85b6",
   "metadata": {},
   "outputs": [
    {
     "data": {
      "text/plain": [
       "\u001b[0;31mType:\u001b[0m        property\n",
       "\u001b[0;31mString form:\u001b[0m <property object at 0x7f1420fac6b0>\n",
       "\u001b[0;31mDocstring:\u001b[0m   A list of available analytical properties, accessible via 'get_propertyname(thermodynamic_state)' calls.\n"
      ]
     },
     "metadata": {},
     "output_type": "display_data"
    }
   ],
   "source": [
    "alanine_implicit.analytical_properties?"
   ]
  },
  {
   "cell_type": "code",
   "execution_count": 5,
   "id": "58559758-5f31-4464-8d04-31ee2c4e3432",
   "metadata": {},
   "outputs": [
    {
     "data": {
      "text/plain": [
       "[]"
      ]
     },
     "execution_count": 5,
     "metadata": {},
     "output_type": "execute_result"
    }
   ],
   "source": [
    "properties = alanine_implicit.analytical_properties\n",
    "properties"
   ]
  },
  {
   "cell_type": "code",
   "execution_count": 6,
   "id": "b34916b9-efbf-4efb-90ad-e43093cb69c8",
   "metadata": {},
   "outputs": [
    {
     "data": {
      "text/plain": [
       "<openmm.openmm.CustomGBForce; proxy of <Swig Object of type 'OpenMM::CustomGBForce *' at 0x7f14c85b80f0> >"
      ]
     },
     "execution_count": 6,
     "metadata": {},
     "output_type": "execute_result"
    }
   ],
   "source": [
    "implicit = system.getForce(4)\n",
    "implicit"
   ]
  },
  {
   "cell_type": "code",
   "execution_count": 21,
   "id": "7c2341bc-3132-4e8a-925e-3d9be44a56ea",
   "metadata": {},
   "outputs": [
    {
     "data": {
      "text/plain": [
       "\u001b[0;31mSignature:\u001b[0m \u001b[0mimplicit\u001b[0m\u001b[0;34m.\u001b[0m\u001b[0mgetComputedValueParameters\u001b[0m\u001b[0;34m(\u001b[0m\u001b[0mindex\u001b[0m\u001b[0;34m)\u001b[0m\u001b[0;34m\u001b[0m\u001b[0;34m\u001b[0m\u001b[0m\n",
       "\u001b[0;31mDocstring:\u001b[0m\n",
       "getComputedValueParameters(self, index)\n",
       "Get the properties of a computed value.\n",
       "\n",
       "Parameters\n",
       "----------\n",
       "index : int\n",
       "    the index of the computed value for which to get parameters\n",
       "\n",
       "Returns\n",
       "-------\n",
       "name : string\n",
       "    the name of the value\n",
       "expression : string\n",
       "    an algebraic expression to evaluate when calculating the computed value. If the ComputationType is SingleParticle, the expression is evaluated independently for each particle, and may depend on its x, y, and z coordinates, as well as the per-particle parameters and previous computed values for that particle. If the ComputationType is ParticlePair or ParticlePairNoExclusions, the expression is evaluated once for every other particle in the system and summed to get the final value. In the latter case, the expression may depend on the distance r between the two particles, and on the per-particle parameters and previous computed values for each of them. Append \"1\" to a variable name to indicate the parameter for the particle whose value is being calculated, and \"2\" to indicate the particle it is interacting with.\n",
       "type : ComputationType\n",
       "    the method to use for computing this value\n",
       "\u001b[0;31mFile:\u001b[0m      ~/MyOpt/Miniconda/envs/bifree/lib/python3.7/site-packages/openmm/openmm.py\n",
       "\u001b[0;31mType:\u001b[0m      method\n"
      ]
     },
     "metadata": {},
     "output_type": "display_data"
    }
   ],
   "source": [
    "implicit.getComputedValueParameters?"
   ]
  },
  {
   "cell_type": "code",
   "execution_count": 7,
   "id": "1400f796-1ee9-4605-9a4a-b8c17c1ecf3a",
   "metadata": {},
   "outputs": [
    {
     "data": {
      "text/plain": [
       "['I',\n",
       " 'select(step(r+sr2-or1), 0.5*(1/L-1/U+0.25*(r-sr2^2/r)*(1/(U^2)-1/(L^2))+0.5*log(L/U)/r), 0);U=r+sr2;L=max(or1, D);D=abs(r-sr2)',\n",
       " 2]"
      ]
     },
     "execution_count": 7,
     "metadata": {},
     "output_type": "execute_result"
    }
   ],
   "source": [
    "implicit.getComputedValueParameters(0)"
   ]
  },
  {
   "cell_type": "code",
   "execution_count": 8,
   "id": "81bae0da-705d-4642-9089-8ba4b2393641",
   "metadata": {},
   "outputs": [
    {
     "data": {
      "text/plain": [
       "['B',\n",
       " '1/(1/or-tanh(0.8*psi+2.909125*psi^3)/radius);psi=I*or; radius=or+offset; offset=0.009',\n",
       " 0]"
      ]
     },
     "execution_count": 8,
     "metadata": {},
     "output_type": "execute_result"
    }
   ],
   "source": [
    "implicit.getComputedValueParameters(1)"
   ]
  },
  {
   "cell_type": "code",
   "execution_count": 22,
   "id": "1d232be4-5428-4dc3-877c-86eff6b09adf",
   "metadata": {},
   "outputs": [
    {
     "data": {
      "text/plain": [
       "\u001b[0;31mSignature:\u001b[0m \u001b[0mimplicit\u001b[0m\u001b[0;34m.\u001b[0m\u001b[0mgetCutoffDistance\u001b[0m\u001b[0;34m(\u001b[0m\u001b[0;34m)\u001b[0m\u001b[0;34m\u001b[0m\u001b[0;34m\u001b[0m\u001b[0m\n",
       "\u001b[0;31mDocstring:\u001b[0m\n",
       "getCutoffDistance(self) -> double\n",
       "Get the cutoff distance (in nm) being used for nonbonded interactions. If the NonbondedMethod in use is NoCutoff, this value will have no effect.\n",
       "\n",
       "Returns\n",
       "-------\n",
       "double\n",
       "    the cutoff distance, measured in nm\n",
       "\u001b[0;31mFile:\u001b[0m      ~/MyOpt/Miniconda/envs/bifree/lib/python3.7/site-packages/openmm/openmm.py\n",
       "\u001b[0;31mType:\u001b[0m      method\n"
      ]
     },
     "metadata": {},
     "output_type": "display_data"
    }
   ],
   "source": [
    "implicit.getCutoffDistance?"
   ]
  },
  {
   "cell_type": "code",
   "execution_count": 9,
   "id": "e003f588-95ef-4609-a560-f61480e94e1b",
   "metadata": {},
   "outputs": [
    {
     "data": {
      "text/plain": [
       "Quantity(value=1.0, unit=nanometer)"
      ]
     },
     "execution_count": 9,
     "metadata": {},
     "output_type": "execute_result"
    }
   ],
   "source": [
    "implicit.getCutoffDistance()"
   ]
  },
  {
   "cell_type": "code",
   "execution_count": 10,
   "id": "50d072bf-8c82-42f8-ae03-ed1278f0995b",
   "metadata": {},
   "outputs": [
    {
     "data": {
      "text/plain": [
       "\u001b[0;31mSignature:\u001b[0m \u001b[0mimplicit\u001b[0m\u001b[0;34m.\u001b[0m\u001b[0mgetEnergyParameterDerivativeName\u001b[0m\u001b[0;34m(\u001b[0m\u001b[0mindex\u001b[0m\u001b[0;34m)\u001b[0m\u001b[0;34m\u001b[0m\u001b[0;34m\u001b[0m\u001b[0m\n",
       "\u001b[0;31mDocstring:\u001b[0m\n",
       "getEnergyParameterDerivativeName(self, index) -> std::string const &\n",
       "Get the name of a global parameter with respect to which this Force should compute the derivative of the energy.\n",
       "\n",
       "Parameters\n",
       "----------\n",
       "index : int\n",
       "    the index of the parameter derivative, between 0 and getNumEnergyParameterDerivatives()\n",
       "\n",
       "Returns\n",
       "-------\n",
       "string\n",
       "    the parameter name\n",
       "\u001b[0;31mFile:\u001b[0m      ~/MyOpt/Miniconda/envs/bifree/lib/python3.7/site-packages/openmm/openmm.py\n",
       "\u001b[0;31mType:\u001b[0m      method\n"
      ]
     },
     "metadata": {},
     "output_type": "display_data"
    }
   ],
   "source": [
    "implicit.getEnergyParameterDerivativeName?"
   ]
  },
  {
   "cell_type": "code",
   "execution_count": 11,
   "id": "421340e6-4ca5-4746-a2fa-7c7997641a6e",
   "metadata": {},
   "outputs": [
    {
     "ename": "OpenMMException",
     "evalue": "Assertion failure at CustomGBForce.cpp:126.  Index out of range",
     "output_type": "error",
     "traceback": [
      "\u001b[0;31m---------------------------------------------------------------------------\u001b[0m",
      "\u001b[0;31mOpenMMException\u001b[0m                           Traceback (most recent call last)",
      "\u001b[0;32m/tmp/ipykernel_11692/1861342374.py\u001b[0m in \u001b[0;36m<module>\u001b[0;34m\u001b[0m\n\u001b[0;32m----> 1\u001b[0;31m \u001b[0mimplicit\u001b[0m\u001b[0;34m.\u001b[0m\u001b[0mgetEnergyParameterDerivativeName\u001b[0m\u001b[0;34m(\u001b[0m\u001b[0;36m0\u001b[0m\u001b[0;34m)\u001b[0m\u001b[0;34m\u001b[0m\u001b[0;34m\u001b[0m\u001b[0m\n\u001b[0m",
      "\u001b[0;32m~/MyOpt/Miniconda/envs/bifree/lib/python3.7/site-packages/openmm/openmm.py\u001b[0m in \u001b[0;36mgetEnergyParameterDerivativeName\u001b[0;34m(self, index)\u001b[0m\n\u001b[1;32m  15113\u001b[0m             \u001b[0mthe\u001b[0m \u001b[0mparameter\u001b[0m \u001b[0mname\u001b[0m\u001b[0;34m\u001b[0m\u001b[0;34m\u001b[0m\u001b[0m\n\u001b[1;32m  15114\u001b[0m         \"\"\"\n\u001b[0;32m> 15115\u001b[0;31m         \u001b[0;32mreturn\u001b[0m \u001b[0m_openmm\u001b[0m\u001b[0;34m.\u001b[0m\u001b[0mCustomGBForce_getEnergyParameterDerivativeName\u001b[0m\u001b[0;34m(\u001b[0m\u001b[0mself\u001b[0m\u001b[0;34m,\u001b[0m \u001b[0mindex\u001b[0m\u001b[0;34m)\u001b[0m\u001b[0;34m\u001b[0m\u001b[0;34m\u001b[0m\u001b[0m\n\u001b[0m\u001b[1;32m  15116\u001b[0m \u001b[0;34m\u001b[0m\u001b[0m\n\u001b[1;32m  15117\u001b[0m     \u001b[0;32mdef\u001b[0m \u001b[0maddParticle\u001b[0m\u001b[0;34m(\u001b[0m\u001b[0mself\u001b[0m\u001b[0;34m,\u001b[0m \u001b[0;34m*\u001b[0m\u001b[0margs\u001b[0m\u001b[0;34m)\u001b[0m\u001b[0;34m:\u001b[0m\u001b[0;34m\u001b[0m\u001b[0;34m\u001b[0m\u001b[0m\n",
      "\u001b[0;31mOpenMMException\u001b[0m: Assertion failure at CustomGBForce.cpp:126.  Index out of range"
     ]
    }
   ],
   "source": [
    "implicit.getEnergyParameterDerivativeName(0)"
   ]
  },
  {
   "cell_type": "code",
   "execution_count": 12,
   "id": "94cb084e-f067-42cc-af1a-1a51353627d9",
   "metadata": {},
   "outputs": [
    {
     "data": {
      "text/plain": [
       "\u001b[0;31mSignature:\u001b[0m \u001b[0mimplicit\u001b[0m\u001b[0;34m.\u001b[0m\u001b[0mgetEnergyTermParameters\u001b[0m\u001b[0;34m(\u001b[0m\u001b[0mindex\u001b[0m\u001b[0;34m)\u001b[0m\u001b[0;34m\u001b[0m\u001b[0;34m\u001b[0m\u001b[0m\n",
       "\u001b[0;31mDocstring:\u001b[0m\n",
       "getEnergyTermParameters(self, index)\n",
       "Get the properties of a term to the energy computation.\n",
       "\n",
       "Parameters\n",
       "----------\n",
       "index : int\n",
       "    the index of the term for which to get parameters\n",
       "\n",
       "Returns\n",
       "-------\n",
       "expression : string\n",
       "    an algebraic expression to evaluate when calculating the energy. If the ComputationType is SingleParticle, the expression is evaluated once for each particle, and may depend on its x, y, and z coordinates, as well as the per-particle parameters and computed values for that particle. If the ComputationType is ParticlePair or ParticlePairNoExclusions, the expression is evaluated once for every pair of particles in the system. In the latter case, the expression may depend on the distance r between the two particles, and on the per-particle parameters and computed values for each of them. Append \"1\" to a variable name to indicate the parameter for the first particle in the pair and \"2\" to indicate the second particle in the pair.\n",
       "type : ComputationType\n",
       "    the method to use for computing this value\n",
       "\u001b[0;31mFile:\u001b[0m      ~/MyOpt/Miniconda/envs/bifree/lib/python3.7/site-packages/openmm/openmm.py\n",
       "\u001b[0;31mType:\u001b[0m      method\n"
      ]
     },
     "metadata": {},
     "output_type": "display_data"
    }
   ],
   "source": [
    "implicit.getEnergyTermParameters?"
   ]
  },
  {
   "cell_type": "code",
   "execution_count": 13,
   "id": "fd6293e6-c1f1-48f4-b775-175140613c90",
   "metadata": {},
   "outputs": [
    {
     "data": {
      "text/plain": [
       "['-0.5*138.935485*(1/soluteDielectric-1/solventDielectric)*charge^2/B; solventDielectric=78.5; soluteDielectric=1; kappa=0; offset=0.008999999999999999',\n",
       " 0]"
      ]
     },
     "execution_count": 13,
     "metadata": {},
     "output_type": "execute_result"
    }
   ],
   "source": [
    "implicit.getEnergyTermParameters(0)"
   ]
  },
  {
   "cell_type": "code",
   "execution_count": 14,
   "id": "1f69bf75-99c6-447a-bd87-89dc8f83e2f4",
   "metadata": {},
   "outputs": [
    {
     "data": {
      "text/plain": [
       "['28.3919551*(radius+0.14)^2*(radius/B)^6; radius=or+offset; solventDielectric=78.5; soluteDielectric=1; kappa=0; offset=0.008999999999999999',\n",
       " 0]"
      ]
     },
     "execution_count": 14,
     "metadata": {},
     "output_type": "execute_result"
    }
   ],
   "source": [
    "implicit.getEnergyTermParameters(1)"
   ]
  },
  {
   "cell_type": "code",
   "execution_count": 15,
   "id": "92ff1785-5646-4a7a-8936-899ef8e97422",
   "metadata": {},
   "outputs": [
    {
     "data": {
      "text/plain": [
       "['-138.935485*(1/soluteDielectric-1/solventDielectric)*charge1*charge2/f;f=sqrt(r^2+B1*B2*exp(-r^2/(4*B1*B2))); solventDielectric=78.5; soluteDielectric=1; kappa=0; offset=0.008999999999999999',\n",
       " 2]"
      ]
     },
     "execution_count": 15,
     "metadata": {},
     "output_type": "execute_result"
    }
   ],
   "source": [
    "implicit.getEnergyTermParameters(2)"
   ]
  },
  {
   "cell_type": "code",
   "execution_count": 16,
   "id": "0e85564b-9783-4e50-b8cd-205670335a4c",
   "metadata": {},
   "outputs": [
    {
     "data": {
      "text/plain": [
       "\u001b[0;31mSignature:\u001b[0m \u001b[0mimplicit\u001b[0m\u001b[0;34m.\u001b[0m\u001b[0mgetExclusionParticles\u001b[0m\u001b[0;34m(\u001b[0m\u001b[0mindex\u001b[0m\u001b[0;34m)\u001b[0m\u001b[0;34m\u001b[0m\u001b[0;34m\u001b[0m\u001b[0m\n",
       "\u001b[0;31mDocstring:\u001b[0m\n",
       "getExclusionParticles(self, index)\n",
       "Get the particles in a pair whose interaction should be excluded.\n",
       "\n",
       "Parameters\n",
       "----------\n",
       "index : int\n",
       "    the index of the exclusion for which to get particle indices\n",
       "\n",
       "Returns\n",
       "-------\n",
       "particle1 : int\n",
       "    the index of the first particle in the pair\n",
       "particle2 : int\n",
       "    the index of the second particle in the pair\n",
       "\u001b[0;31mFile:\u001b[0m      ~/MyOpt/Miniconda/envs/bifree/lib/python3.7/site-packages/openmm/openmm.py\n",
       "\u001b[0;31mType:\u001b[0m      method\n"
      ]
     },
     "metadata": {},
     "output_type": "display_data"
    }
   ],
   "source": [
    "implicit.getExclusionParticles?"
   ]
  },
  {
   "cell_type": "code",
   "execution_count": 17,
   "id": "587d6e53-3103-4879-887f-c1817da511f4",
   "metadata": {},
   "outputs": [
    {
     "data": {
      "text/plain": [
       "\u001b[0;31mSignature:\u001b[0m \u001b[0mimplicit\u001b[0m\u001b[0;34m.\u001b[0m\u001b[0mgetForceGroup\u001b[0m\u001b[0;34m(\u001b[0m\u001b[0;34m)\u001b[0m\u001b[0;34m\u001b[0m\u001b[0;34m\u001b[0m\u001b[0m\n",
       "\u001b[0;31mDocstring:\u001b[0m\n",
       "getForceGroup(self) -> int\n",
       "Get the force group this Force belongs to.\n",
       "\u001b[0;31mFile:\u001b[0m      ~/MyOpt/Miniconda/envs/bifree/lib/python3.7/site-packages/openmm/openmm.py\n",
       "\u001b[0;31mType:\u001b[0m      method\n"
      ]
     },
     "metadata": {},
     "output_type": "display_data"
    }
   ],
   "source": [
    "implicit.getForceGroup?"
   ]
  },
  {
   "cell_type": "code",
   "execution_count": 18,
   "id": "1111a076-04d9-4de8-a8e1-774bcbcddb47",
   "metadata": {},
   "outputs": [
    {
     "data": {
      "text/plain": [
       "0"
      ]
     },
     "execution_count": 18,
     "metadata": {},
     "output_type": "execute_result"
    }
   ],
   "source": [
    "implicit.getForceGroup()"
   ]
  },
  {
   "cell_type": "code",
   "execution_count": 19,
   "id": "e53a6054-17fa-4e85-8392-dc4ceb532ca2",
   "metadata": {},
   "outputs": [
    {
     "data": {
      "text/plain": [
       "\u001b[0;31mSignature:\u001b[0m \u001b[0mimplicit\u001b[0m\u001b[0;34m.\u001b[0m\u001b[0mgetFunctionParameters\u001b[0m\u001b[0;34m(\u001b[0m\u001b[0mindex\u001b[0m\u001b[0;34m)\u001b[0m\u001b[0;34m\u001b[0m\u001b[0;34m\u001b[0m\u001b[0m\n",
       "\u001b[0;31mDocstring:\u001b[0m\n",
       "getFunctionParameters(self, index)\n",
       "Get the parameters for a tabulated function that may appear in expressions.\n",
       "\n",
       " @deprecated This method exists only for backward compatibility. Use getTabulatedFunctionParameters() instead. If the specified function is not a Continuous1DFunction, this throws an exception.\n",
       "\u001b[0;31mFile:\u001b[0m      ~/MyOpt/Miniconda/envs/bifree/lib/python3.7/site-packages/openmm/openmm.py\n",
       "\u001b[0;31mType:\u001b[0m      method\n"
      ]
     },
     "metadata": {},
     "output_type": "display_data"
    }
   ],
   "source": [
    "implicit.getFunctionParameters?"
   ]
  },
  {
   "cell_type": "code",
   "execution_count": 23,
   "id": "a44e75d2-bc11-4cb9-a609-7f2eee3416f2",
   "metadata": {},
   "outputs": [
    {
     "data": {
      "text/plain": [
       "\u001b[0;31mSignature:\u001b[0m \u001b[0mimplicit\u001b[0m\u001b[0;34m.\u001b[0m\u001b[0mgetGlobalParameterDefaultValue\u001b[0m\u001b[0;34m(\u001b[0m\u001b[0mindex\u001b[0m\u001b[0;34m)\u001b[0m\u001b[0;34m\u001b[0m\u001b[0;34m\u001b[0m\u001b[0m\n",
       "\u001b[0;31mDocstring:\u001b[0m\n",
       "getGlobalParameterDefaultValue(self, index) -> double\n",
       "Get the default value of a global parameter.\n",
       "\n",
       "Parameters\n",
       "----------\n",
       "index : int\n",
       "    the index of the parameter for which to get the default value\n",
       "\n",
       "Returns\n",
       "-------\n",
       "double\n",
       "    the parameter default value\n",
       "\u001b[0;31mFile:\u001b[0m      ~/MyOpt/Miniconda/envs/bifree/lib/python3.7/site-packages/openmm/openmm.py\n",
       "\u001b[0;31mType:\u001b[0m      method\n"
      ]
     },
     "metadata": {},
     "output_type": "display_data"
    }
   ],
   "source": [
    "implicit.getGlobalParameterDefaultValue?"
   ]
  },
  {
   "cell_type": "code",
   "execution_count": 29,
   "id": "245f62c8-8b32-4044-80cd-8b14c3c76e46",
   "metadata": {},
   "outputs": [
    {
     "ename": "OpenMMException",
     "evalue": "Assertion failure at CustomGBForce.cpp:107.  Index out of range",
     "output_type": "error",
     "traceback": [
      "\u001b[0;31m---------------------------------------------------------------------------\u001b[0m",
      "\u001b[0;31mOpenMMException\u001b[0m                           Traceback (most recent call last)",
      "\u001b[0;32m/tmp/ipykernel_11692/345444216.py\u001b[0m in \u001b[0;36m<module>\u001b[0;34m\u001b[0m\n\u001b[0;32m----> 1\u001b[0;31m \u001b[0mimplicit\u001b[0m\u001b[0;34m.\u001b[0m\u001b[0mgetGlobalParameterDefaultValue\u001b[0m\u001b[0;34m(\u001b[0m\u001b[0;36m0\u001b[0m\u001b[0;34m)\u001b[0m\u001b[0;34m\u001b[0m\u001b[0;34m\u001b[0m\u001b[0m\n\u001b[0m",
      "\u001b[0;32m~/MyOpt/Miniconda/envs/bifree/lib/python3.7/site-packages/openmm/openmm.py\u001b[0m in \u001b[0;36mgetGlobalParameterDefaultValue\u001b[0;34m(self, index)\u001b[0m\n\u001b[1;32m  15070\u001b[0m             \u001b[0mthe\u001b[0m \u001b[0mparameter\u001b[0m \u001b[0mdefault\u001b[0m \u001b[0mvalue\u001b[0m\u001b[0;34m\u001b[0m\u001b[0;34m\u001b[0m\u001b[0m\n\u001b[1;32m  15071\u001b[0m         \"\"\"\n\u001b[0;32m> 15072\u001b[0;31m         \u001b[0;32mreturn\u001b[0m \u001b[0m_openmm\u001b[0m\u001b[0;34m.\u001b[0m\u001b[0mCustomGBForce_getGlobalParameterDefaultValue\u001b[0m\u001b[0;34m(\u001b[0m\u001b[0mself\u001b[0m\u001b[0;34m,\u001b[0m \u001b[0mindex\u001b[0m\u001b[0;34m)\u001b[0m\u001b[0;34m\u001b[0m\u001b[0;34m\u001b[0m\u001b[0m\n\u001b[0m\u001b[1;32m  15073\u001b[0m \u001b[0;34m\u001b[0m\u001b[0m\n\u001b[1;32m  15074\u001b[0m     \u001b[0;32mdef\u001b[0m \u001b[0msetGlobalParameterDefaultValue\u001b[0m\u001b[0;34m(\u001b[0m\u001b[0mself\u001b[0m\u001b[0;34m,\u001b[0m \u001b[0mindex\u001b[0m\u001b[0;34m,\u001b[0m \u001b[0mdefaultValue\u001b[0m\u001b[0;34m)\u001b[0m\u001b[0;34m:\u001b[0m\u001b[0;34m\u001b[0m\u001b[0;34m\u001b[0m\u001b[0m\n",
      "\u001b[0;31mOpenMMException\u001b[0m: Assertion failure at CustomGBForce.cpp:107.  Index out of range"
     ]
    }
   ],
   "source": [
    "implicit.getGlobalParameterDefaultValue(0)"
   ]
  },
  {
   "cell_type": "code",
   "execution_count": 30,
   "id": "bdd1c1f6-84ad-4b1b-ad5e-93fc033b9b9f",
   "metadata": {},
   "outputs": [
    {
     "data": {
      "text/plain": [
       "\u001b[0;31mSignature:\u001b[0m \u001b[0mimplicit\u001b[0m\u001b[0;34m.\u001b[0m\u001b[0mgetGlobalParameterName\u001b[0m\u001b[0;34m(\u001b[0m\u001b[0mindex\u001b[0m\u001b[0;34m)\u001b[0m\u001b[0;34m\u001b[0m\u001b[0;34m\u001b[0m\u001b[0m\n",
       "\u001b[0;31mDocstring:\u001b[0m\n",
       "getGlobalParameterName(self, index) -> std::string const &\n",
       "Get the name of a global parameter.\n",
       "\n",
       "Parameters\n",
       "----------\n",
       "index : int\n",
       "    the index of the parameter for which to get the name\n",
       "\n",
       "Returns\n",
       "-------\n",
       "string\n",
       "    the parameter name\n",
       "\u001b[0;31mFile:\u001b[0m      ~/MyOpt/Miniconda/envs/bifree/lib/python3.7/site-packages/openmm/openmm.py\n",
       "\u001b[0;31mType:\u001b[0m      method\n"
      ]
     },
     "metadata": {},
     "output_type": "display_data"
    }
   ],
   "source": [
    "implicit.getGlobalParameterName?"
   ]
  },
  {
   "cell_type": "code",
   "execution_count": 89,
   "id": "d8a03447-2f9a-41cb-8da2-790e55b85237",
   "metadata": {},
   "outputs": [
    {
     "ename": "TypeError",
     "evalue": "getGlobalParameterDefaultValue() missing 1 required positional argument: 'index'",
     "output_type": "error",
     "traceback": [
      "\u001b[0;31m---------------------------------------------------------------------------\u001b[0m",
      "\u001b[0;31mTypeError\u001b[0m                                 Traceback (most recent call last)",
      "\u001b[0;32m/tmp/ipykernel_11692/125920812.py\u001b[0m in \u001b[0;36m<module>\u001b[0;34m\u001b[0m\n\u001b[0;32m----> 1\u001b[0;31m \u001b[0mimplicit\u001b[0m\u001b[0;34m.\u001b[0m\u001b[0mgetGlobalParameterDefaultValue\u001b[0m\u001b[0;34m(\u001b[0m\u001b[0;34m)\u001b[0m\u001b[0;34m\u001b[0m\u001b[0;34m\u001b[0m\u001b[0m\n\u001b[0m",
      "\u001b[0;31mTypeError\u001b[0m: getGlobalParameterDefaultValue() missing 1 required positional argument: 'index'"
     ]
    }
   ],
   "source": [
    "implicit.getGlobalParameterDefaultValue()"
   ]
  },
  {
   "cell_type": "code",
   "execution_count": 32,
   "id": "6a0bf433-f4af-47ba-9d4f-96bf45441342",
   "metadata": {},
   "outputs": [
    {
     "data": {
      "text/plain": [
       "\u001b[0;31mSignature:\u001b[0m \u001b[0mimplicit\u001b[0m\u001b[0;34m.\u001b[0m\u001b[0mgetName\u001b[0m\u001b[0;34m(\u001b[0m\u001b[0;34m)\u001b[0m\u001b[0;34m\u001b[0m\u001b[0;34m\u001b[0m\u001b[0m\n",
       "\u001b[0;31mDocstring:\u001b[0m\n",
       "getName(self) -> std::string const &\n",
       "Get the name of this Force. This is an arbitrary, user modifiable identifier. By default it equals the class name, but you can change it to anything useful.\n",
       "\u001b[0;31mFile:\u001b[0m      ~/MyOpt/Miniconda/envs/bifree/lib/python3.7/site-packages/openmm/openmm.py\n",
       "\u001b[0;31mType:\u001b[0m      method\n"
      ]
     },
     "metadata": {},
     "output_type": "display_data"
    }
   ],
   "source": [
    "implicit.getName?"
   ]
  },
  {
   "cell_type": "code",
   "execution_count": 33,
   "id": "5e6c97a5-47d9-4163-92fb-a6fba2155ee1",
   "metadata": {},
   "outputs": [
    {
     "data": {
      "text/plain": [
       "'CustomGBForce'"
      ]
     },
     "execution_count": 33,
     "metadata": {},
     "output_type": "execute_result"
    }
   ],
   "source": [
    "implicit.getName()"
   ]
  },
  {
   "cell_type": "code",
   "execution_count": 34,
   "id": "1f03e4bb-056d-448d-96e5-cfba91e19b09",
   "metadata": {},
   "outputs": [
    {
     "data": {
      "text/plain": [
       "\u001b[0;31mSignature:\u001b[0m \u001b[0mimplicit\u001b[0m\u001b[0;34m.\u001b[0m\u001b[0mgetNonbondedMethod\u001b[0m\u001b[0;34m(\u001b[0m\u001b[0;34m)\u001b[0m\u001b[0;34m\u001b[0m\u001b[0;34m\u001b[0m\u001b[0m\n",
       "\u001b[0;31mDocstring:\u001b[0m\n",
       "getNonbondedMethod(self) -> OpenMM::CustomGBForce::NonbondedMethod\n",
       "Get the method used for handling long range nonbonded interactions.\n",
       "\u001b[0;31mFile:\u001b[0m      ~/MyOpt/Miniconda/envs/bifree/lib/python3.7/site-packages/openmm/openmm.py\n",
       "\u001b[0;31mType:\u001b[0m      method\n"
      ]
     },
     "metadata": {},
     "output_type": "display_data"
    }
   ],
   "source": [
    "implicit.getNonbondedMethod?"
   ]
  },
  {
   "cell_type": "code",
   "execution_count": 35,
   "id": "20389992-b1c5-4f1f-9bfb-3e25fa2eedc3",
   "metadata": {},
   "outputs": [
    {
     "data": {
      "text/plain": [
       "0"
      ]
     },
     "execution_count": 35,
     "metadata": {},
     "output_type": "execute_result"
    }
   ],
   "source": [
    "implicit.getNonbondedMethod()"
   ]
  },
  {
   "cell_type": "code",
   "execution_count": 36,
   "id": "ddbc80d8-05dc-4e2b-a53e-a2bd8a8d5a2d",
   "metadata": {},
   "outputs": [
    {
     "data": {
      "text/plain": [
       "\u001b[0;31mSignature:\u001b[0m \u001b[0mimplicit\u001b[0m\u001b[0;34m.\u001b[0m\u001b[0mgetNumComputedValues\u001b[0m\u001b[0;34m(\u001b[0m\u001b[0;34m)\u001b[0m\u001b[0;34m\u001b[0m\u001b[0;34m\u001b[0m\u001b[0m\n",
       "\u001b[0;31mDocstring:\u001b[0m\n",
       "getNumComputedValues(self) -> int\n",
       "Get the number of per-particle computed values the interaction depends on.\n",
       "\u001b[0;31mFile:\u001b[0m      ~/MyOpt/Miniconda/envs/bifree/lib/python3.7/site-packages/openmm/openmm.py\n",
       "\u001b[0;31mType:\u001b[0m      method\n"
      ]
     },
     "metadata": {},
     "output_type": "display_data"
    }
   ],
   "source": [
    "implicit.getNumComputedValues?"
   ]
  },
  {
   "cell_type": "code",
   "execution_count": 37,
   "id": "b9e5833e-18a5-452d-88a5-8ea4c1cc2a37",
   "metadata": {},
   "outputs": [
    {
     "data": {
      "text/plain": [
       "2"
      ]
     },
     "execution_count": 37,
     "metadata": {},
     "output_type": "execute_result"
    }
   ],
   "source": [
    "implicit.getNumComputedValues()"
   ]
  },
  {
   "cell_type": "code",
   "execution_count": 38,
   "id": "1bcbef90-8023-4e03-aaf1-24339655b87e",
   "metadata": {},
   "outputs": [
    {
     "data": {
      "text/plain": [
       "\u001b[0;31mSignature:\u001b[0m \u001b[0mimplicit\u001b[0m\u001b[0;34m.\u001b[0m\u001b[0mgetNumEnergyParameterDerivatives\u001b[0m\u001b[0;34m(\u001b[0m\u001b[0;34m)\u001b[0m\u001b[0;34m\u001b[0m\u001b[0;34m\u001b[0m\u001b[0m\n",
       "\u001b[0;31mDocstring:\u001b[0m\n",
       "getNumEnergyParameterDerivatives(self) -> int\n",
       "Get the number of global parameters with respect to which the derivative of the energy should be computed.\n",
       "\u001b[0;31mFile:\u001b[0m      ~/MyOpt/Miniconda/envs/bifree/lib/python3.7/site-packages/openmm/openmm.py\n",
       "\u001b[0;31mType:\u001b[0m      method\n"
      ]
     },
     "metadata": {},
     "output_type": "display_data"
    }
   ],
   "source": [
    "implicit.getNumEnergyParameterDerivatives?"
   ]
  },
  {
   "cell_type": "code",
   "execution_count": 40,
   "id": "7adcf356-674b-461e-84a9-0fb80d3f3e94",
   "metadata": {},
   "outputs": [
    {
     "data": {
      "text/plain": [
       "0"
      ]
     },
     "execution_count": 40,
     "metadata": {},
     "output_type": "execute_result"
    }
   ],
   "source": [
    "implicit.getNumEnergyParameterDerivatives()"
   ]
  },
  {
   "cell_type": "code",
   "execution_count": 41,
   "id": "7a81d878-f479-42bd-9c56-2df0f4cfdebf",
   "metadata": {},
   "outputs": [
    {
     "data": {
      "text/plain": [
       "\u001b[0;31mSignature:\u001b[0m \u001b[0mimplicit\u001b[0m\u001b[0;34m.\u001b[0m\u001b[0mgetNumEnergyTerms\u001b[0m\u001b[0;34m(\u001b[0m\u001b[0;34m)\u001b[0m\u001b[0;34m\u001b[0m\u001b[0;34m\u001b[0m\u001b[0m\n",
       "\u001b[0;31mDocstring:\u001b[0m\n",
       "getNumEnergyTerms(self) -> int\n",
       "Get the number of terms in the energy computation.\n",
       "\u001b[0;31mFile:\u001b[0m      ~/MyOpt/Miniconda/envs/bifree/lib/python3.7/site-packages/openmm/openmm.py\n",
       "\u001b[0;31mType:\u001b[0m      method\n"
      ]
     },
     "metadata": {},
     "output_type": "display_data"
    }
   ],
   "source": [
    "implicit.getNumEnergyTerms?"
   ]
  },
  {
   "cell_type": "code",
   "execution_count": 42,
   "id": "cb314a35-cdcd-4330-af5d-9ad406d7ea76",
   "metadata": {},
   "outputs": [
    {
     "data": {
      "text/plain": [
       "3"
      ]
     },
     "execution_count": 42,
     "metadata": {},
     "output_type": "execute_result"
    }
   ],
   "source": [
    "implicit.getNumEnergyTerms()"
   ]
  },
  {
   "cell_type": "code",
   "execution_count": 43,
   "id": "32c9f9d3-7d43-4170-887f-51ef0fe8bdda",
   "metadata": {},
   "outputs": [
    {
     "data": {
      "text/plain": [
       "\u001b[0;31mSignature:\u001b[0m \u001b[0mimplicit\u001b[0m\u001b[0;34m.\u001b[0m\u001b[0mgetNumExclusions\u001b[0m\u001b[0;34m(\u001b[0m\u001b[0;34m)\u001b[0m\u001b[0;34m\u001b[0m\u001b[0;34m\u001b[0m\u001b[0m\n",
       "\u001b[0;31mDocstring:\u001b[0m\n",
       "getNumExclusions(self) -> int\n",
       "Get the number of particle pairs whose interactions should be excluded.\n",
       "\u001b[0;31mFile:\u001b[0m      ~/MyOpt/Miniconda/envs/bifree/lib/python3.7/site-packages/openmm/openmm.py\n",
       "\u001b[0;31mType:\u001b[0m      method\n"
      ]
     },
     "metadata": {},
     "output_type": "display_data"
    }
   ],
   "source": [
    "implicit.getNumExclusions?"
   ]
  },
  {
   "cell_type": "code",
   "execution_count": 44,
   "id": "e2a1ac84-3a5d-4d1e-9638-684e3a75599b",
   "metadata": {},
   "outputs": [
    {
     "data": {
      "text/plain": [
       "0"
      ]
     },
     "execution_count": 44,
     "metadata": {},
     "output_type": "execute_result"
    }
   ],
   "source": [
    "implicit.getNumExclusions()"
   ]
  },
  {
   "cell_type": "code",
   "execution_count": 45,
   "id": "eb04488b-abca-4b59-985a-b9bea9f7e77e",
   "metadata": {},
   "outputs": [
    {
     "data": {
      "text/plain": [
       "\u001b[0;31mSignature:\u001b[0m \u001b[0mimplicit\u001b[0m\u001b[0;34m.\u001b[0m\u001b[0mgetNumFunctions\u001b[0m\u001b[0;34m(\u001b[0m\u001b[0;34m)\u001b[0m\u001b[0;34m\u001b[0m\u001b[0;34m\u001b[0m\u001b[0m\n",
       "\u001b[0;31mDocstring:\u001b[0m\n",
       "getNumFunctions(self) -> int\n",
       "Get the number of tabulated functions that have been defined.\n",
       "\n",
       " @deprecated This method exists only for backward compatibility. Use getNumTabulatedFunctions() instead.\n",
       "\u001b[0;31mFile:\u001b[0m      ~/MyOpt/Miniconda/envs/bifree/lib/python3.7/site-packages/openmm/openmm.py\n",
       "\u001b[0;31mType:\u001b[0m      method\n"
      ]
     },
     "metadata": {},
     "output_type": "display_data"
    }
   ],
   "source": [
    "implicit.getNumFunctions?"
   ]
  },
  {
   "cell_type": "code",
   "execution_count": 46,
   "id": "f16b9274-8b8c-43f5-8481-e56dbaac8cd0",
   "metadata": {},
   "outputs": [
    {
     "data": {
      "text/plain": [
       "0"
      ]
     },
     "execution_count": 46,
     "metadata": {},
     "output_type": "execute_result"
    }
   ],
   "source": [
    "implicit.getNumFunctions()"
   ]
  },
  {
   "cell_type": "code",
   "execution_count": 47,
   "id": "c43d9144-b09d-4191-a772-32c2919d5491",
   "metadata": {},
   "outputs": [
    {
     "data": {
      "text/plain": [
       "\u001b[0;31mSignature:\u001b[0m \u001b[0mimplicit\u001b[0m\u001b[0;34m.\u001b[0m\u001b[0mgetNumGlobalParameters\u001b[0m\u001b[0;34m(\u001b[0m\u001b[0;34m)\u001b[0m\u001b[0;34m\u001b[0m\u001b[0;34m\u001b[0m\u001b[0m\n",
       "\u001b[0;31mDocstring:\u001b[0m\n",
       "getNumGlobalParameters(self) -> int\n",
       "Get the number of global parameters that the interaction depends on.\n",
       "\u001b[0;31mFile:\u001b[0m      ~/MyOpt/Miniconda/envs/bifree/lib/python3.7/site-packages/openmm/openmm.py\n",
       "\u001b[0;31mType:\u001b[0m      method\n"
      ]
     },
     "metadata": {},
     "output_type": "display_data"
    }
   ],
   "source": [
    "implicit.getNumGlobalParameters?"
   ]
  },
  {
   "cell_type": "code",
   "execution_count": 48,
   "id": "cc4c5a74-c9bd-458e-8acd-87330675d86b",
   "metadata": {},
   "outputs": [
    {
     "data": {
      "text/plain": [
       "0"
      ]
     },
     "execution_count": 48,
     "metadata": {},
     "output_type": "execute_result"
    }
   ],
   "source": [
    "implicit.getNumGlobalParameters()"
   ]
  },
  {
   "cell_type": "code",
   "execution_count": 49,
   "id": "1d8ea99d-0c08-42f8-a411-006c408e00de",
   "metadata": {},
   "outputs": [
    {
     "data": {
      "text/plain": [
       "\u001b[0;31mSignature:\u001b[0m \u001b[0mimplicit\u001b[0m\u001b[0;34m.\u001b[0m\u001b[0mgetNumParticles\u001b[0m\u001b[0;34m(\u001b[0m\u001b[0;34m)\u001b[0m\u001b[0;34m\u001b[0m\u001b[0;34m\u001b[0m\u001b[0m\n",
       "\u001b[0;31mDocstring:\u001b[0m\n",
       "getNumParticles(self) -> int\n",
       "Get the number of particles for which force field parameters have been defined.\n",
       "\u001b[0;31mFile:\u001b[0m      ~/MyOpt/Miniconda/envs/bifree/lib/python3.7/site-packages/openmm/openmm.py\n",
       "\u001b[0;31mType:\u001b[0m      method\n"
      ]
     },
     "metadata": {},
     "output_type": "display_data"
    }
   ],
   "source": [
    "implicit.getNumParticles?"
   ]
  },
  {
   "cell_type": "code",
   "execution_count": 50,
   "id": "5a65402f-f4ba-4002-b90f-4ea449e3681a",
   "metadata": {},
   "outputs": [
    {
     "data": {
      "text/plain": [
       "22"
      ]
     },
     "execution_count": 50,
     "metadata": {},
     "output_type": "execute_result"
    }
   ],
   "source": [
    "implicit.getNumParticles()"
   ]
  },
  {
   "cell_type": "code",
   "execution_count": 51,
   "id": "51e1f4be-1526-457f-a607-a3bb483c6aa8",
   "metadata": {},
   "outputs": [
    {
     "data": {
      "text/plain": [
       "\u001b[0;31mSignature:\u001b[0m \u001b[0mimplicit\u001b[0m\u001b[0;34m.\u001b[0m\u001b[0mgetNumPerParticleParameters\u001b[0m\u001b[0;34m(\u001b[0m\u001b[0;34m)\u001b[0m\u001b[0;34m\u001b[0m\u001b[0;34m\u001b[0m\u001b[0m\n",
       "\u001b[0;31mDocstring:\u001b[0m\n",
       "getNumPerParticleParameters(self) -> int\n",
       "Get the number of per-particle parameters that the interaction depends on.\n",
       "\u001b[0;31mFile:\u001b[0m      ~/MyOpt/Miniconda/envs/bifree/lib/python3.7/site-packages/openmm/openmm.py\n",
       "\u001b[0;31mType:\u001b[0m      method\n"
      ]
     },
     "metadata": {},
     "output_type": "display_data"
    }
   ],
   "source": [
    "implicit.getNumPerParticleParameters?"
   ]
  },
  {
   "cell_type": "code",
   "execution_count": 52,
   "id": "3466da72-d43d-421f-a62e-c93c41c8b3be",
   "metadata": {},
   "outputs": [
    {
     "data": {
      "text/plain": [
       "3"
      ]
     },
     "execution_count": 52,
     "metadata": {},
     "output_type": "execute_result"
    }
   ],
   "source": [
    "implicit.getNumPerParticleParameters()"
   ]
  },
  {
   "cell_type": "code",
   "execution_count": 53,
   "id": "cc6964b7-a803-4f28-8495-d27c2cb45c86",
   "metadata": {},
   "outputs": [
    {
     "data": {
      "text/plain": [
       "\u001b[0;31mSignature:\u001b[0m \u001b[0mimplicit\u001b[0m\u001b[0;34m.\u001b[0m\u001b[0mgetNumTabulatedFunctions\u001b[0m\u001b[0;34m(\u001b[0m\u001b[0;34m)\u001b[0m\u001b[0;34m\u001b[0m\u001b[0;34m\u001b[0m\u001b[0m\n",
       "\u001b[0;31mDocstring:\u001b[0m\n",
       "getNumTabulatedFunctions(self) -> int\n",
       "Get the number of tabulated functions that have been defined.\n",
       "\u001b[0;31mFile:\u001b[0m      ~/MyOpt/Miniconda/envs/bifree/lib/python3.7/site-packages/openmm/openmm.py\n",
       "\u001b[0;31mType:\u001b[0m      method\n"
      ]
     },
     "metadata": {},
     "output_type": "display_data"
    }
   ],
   "source": [
    "implicit.getNumTabulatedFunctions?"
   ]
  },
  {
   "cell_type": "code",
   "execution_count": 54,
   "id": "d159be63-505c-49cd-9720-8da96d8af528",
   "metadata": {},
   "outputs": [
    {
     "data": {
      "text/plain": [
       "0"
      ]
     },
     "execution_count": 54,
     "metadata": {},
     "output_type": "execute_result"
    }
   ],
   "source": [
    "implicit.getNumTabulatedFunctions()"
   ]
  },
  {
   "cell_type": "code",
   "execution_count": 55,
   "id": "abb063c1-c372-4f64-b51b-f117f57cb834",
   "metadata": {},
   "outputs": [
    {
     "data": {
      "text/plain": [
       "\u001b[0;31mSignature:\u001b[0m \u001b[0mimplicit\u001b[0m\u001b[0;34m.\u001b[0m\u001b[0mgetParticleParameters\u001b[0m\u001b[0;34m(\u001b[0m\u001b[0mindex\u001b[0m\u001b[0;34m)\u001b[0m\u001b[0;34m\u001b[0m\u001b[0;34m\u001b[0m\u001b[0m\n",
       "\u001b[0;31mDocstring:\u001b[0m\n",
       "getParticleParameters(self, index)\n",
       "Get the nonbonded force parameters for a particle.\n",
       "\n",
       "Parameters\n",
       "----------\n",
       "index : int\n",
       "    the index of the particle for which to get parameters\n",
       "\n",
       "Returns\n",
       "-------\n",
       "parameters : vector< double >\n",
       "    the list of parameters for the specified particle\n",
       "\u001b[0;31mFile:\u001b[0m      ~/MyOpt/Miniconda/envs/bifree/lib/python3.7/site-packages/openmm/openmm.py\n",
       "\u001b[0;31mType:\u001b[0m      method\n"
      ]
     },
     "metadata": {},
     "output_type": "display_data"
    }
   ],
   "source": [
    "implicit.getParticleParameters?"
   ]
  },
  {
   "cell_type": "code",
   "execution_count": 66,
   "id": "7bef61d1-8870-4393-9129-5f42cfe72acc",
   "metadata": {},
   "outputs": [
    {
     "data": {
      "text/plain": [
       "(0.1123, 0.111, 0.09435)"
      ]
     },
     "execution_count": 66,
     "metadata": {},
     "output_type": "execute_result"
    }
   ],
   "source": [
    "implicit.getParticleParameters(0)"
   ]
  },
  {
   "cell_type": "code",
   "execution_count": 65,
   "id": "11db8b61-7a7c-4d45-b6dd-22fd8762f326",
   "metadata": {},
   "outputs": [
    {
     "name": "stdout",
     "output_type": "stream",
     "text": [
      "(0.1123, 0.111, 0.09435)\n",
      "(-0.3662, 0.16099999999999998, 0.11591999999999998)\n",
      "(0.1123, 0.111, 0.09435)\n",
      "(0.1123, 0.111, 0.09435)\n",
      "(0.5972000021951126, 0.16099999999999998, 0.11591999999999998)\n",
      "(-0.5679000016463344, 0.141, 0.11984999999999998)\n",
      "(-0.4157, 0.146, 0.11534)\n",
      "(0.27190000000000003, 0.12100000000000001, 0.10285000000000001)\n",
      "(0.033699999999999994, 0.16099999999999998, 0.11591999999999998)\n",
      "(0.0823, 0.111, 0.09435)\n",
      "(-0.1825, 0.16099999999999998, 0.11591999999999998)\n",
      "(0.06029999999999999, 0.111, 0.09435)\n",
      "(0.06029999999999999, 0.111, 0.09435)\n",
      "(0.06029999999999999, 0.111, 0.09435)\n",
      "(0.5973000005487781, 0.16099999999999998, 0.11591999999999998)\n",
      "(-0.5679000016463344, 0.141, 0.11984999999999998)\n",
      "(-0.4157, 0.146, 0.11534)\n",
      "(0.27190000000000003, 0.12100000000000001, 0.10285000000000001)\n",
      "(-0.149, 0.16099999999999998, 0.11591999999999998)\n",
      "(0.0976, 0.111, 0.09435)\n",
      "(0.0976, 0.111, 0.09435)\n",
      "(0.0976, 0.111, 0.09435)\n"
     ]
    }
   ],
   "source": [
    "for ii in range(implicit.getNumParticles()):\n",
    "    print(implicit.getParticleParameters(ii))"
   ]
  },
  {
   "cell_type": "code",
   "execution_count": 67,
   "id": "5d13bf8e-f5ff-4107-af17-760c07afa4ee",
   "metadata": {},
   "outputs": [
    {
     "data": {
      "text/plain": [
       "\u001b[0;31mSignature:\u001b[0m \u001b[0mimplicit\u001b[0m\u001b[0;34m.\u001b[0m\u001b[0mgetPerParticleParameterName\u001b[0m\u001b[0;34m(\u001b[0m\u001b[0mindex\u001b[0m\u001b[0;34m)\u001b[0m\u001b[0;34m\u001b[0m\u001b[0;34m\u001b[0m\u001b[0m\n",
       "\u001b[0;31mDocstring:\u001b[0m\n",
       "getPerParticleParameterName(self, index) -> std::string const &\n",
       "Get the name of a per-particle parameter.\n",
       "\n",
       "Parameters\n",
       "----------\n",
       "index : int\n",
       "    the index of the parameter for which to get the name\n",
       "\n",
       "Returns\n",
       "-------\n",
       "string\n",
       "    the parameter name\n",
       "\u001b[0;31mFile:\u001b[0m      ~/MyOpt/Miniconda/envs/bifree/lib/python3.7/site-packages/openmm/openmm.py\n",
       "\u001b[0;31mType:\u001b[0m      method\n"
      ]
     },
     "metadata": {},
     "output_type": "display_data"
    }
   ],
   "source": [
    "implicit.getPerParticleParameterName?"
   ]
  },
  {
   "cell_type": "code",
   "execution_count": 68,
   "id": "41120fbb-650c-4ee1-84d1-542445d22525",
   "metadata": {},
   "outputs": [
    {
     "data": {
      "text/plain": [
       "'charge'"
      ]
     },
     "execution_count": 68,
     "metadata": {},
     "output_type": "execute_result"
    }
   ],
   "source": [
    "implicit.getPerParticleParameterName(0)"
   ]
  },
  {
   "cell_type": "code",
   "execution_count": 69,
   "id": "08a15e13-9357-4e35-9e53-9901c5c07606",
   "metadata": {},
   "outputs": [
    {
     "name": "stdout",
     "output_type": "stream",
     "text": [
      "charge\n",
      "or\n",
      "sr\n"
     ]
    }
   ],
   "source": [
    "for uu in range(implicit.getNumPerParticleParameters()):\n",
    "    print(implicit.getPerParticleParameterName(uu))"
   ]
  },
  {
   "cell_type": "code",
   "execution_count": 70,
   "id": "f037b002-9301-4dd0-941f-9786119ae1fe",
   "metadata": {},
   "outputs": [
    {
     "data": {
      "text/plain": [
       "\u001b[0;31mSignature:\u001b[0m \u001b[0mimplicit\u001b[0m\u001b[0;34m.\u001b[0m\u001b[0mgetTabulatedFunction\u001b[0m\u001b[0;34m(\u001b[0m\u001b[0;34m*\u001b[0m\u001b[0margs\u001b[0m\u001b[0;34m)\u001b[0m\u001b[0;34m\u001b[0m\u001b[0;34m\u001b[0m\u001b[0m\n",
       "\u001b[0;31mDocstring:\u001b[0m\n",
       "getTabulatedFunction(self, index) -> TabulatedFunction\n",
       "getTabulatedFunction(self, index) -> TabulatedFunction\n",
       "Get a reference to a tabulated function that may appear in expressions.\n",
       "\n",
       "Parameters\n",
       "----------\n",
       "index : int\n",
       "    the index of the function to get\n",
       "\n",
       "Returns\n",
       "-------\n",
       "TabulatedFunction\n",
       "    the TabulatedFunction object defining the function\n",
       "\u001b[0;31mFile:\u001b[0m      ~/MyOpt/Miniconda/envs/bifree/lib/python3.7/site-packages/openmm/openmm.py\n",
       "\u001b[0;31mType:\u001b[0m      method\n"
      ]
     },
     "metadata": {},
     "output_type": "display_data"
    }
   ],
   "source": [
    "implicit.getTabulatedFunction?"
   ]
  },
  {
   "cell_type": "code",
   "execution_count": 71,
   "id": "48fedde8-f416-4f83-9ced-5a3de9eb0010",
   "metadata": {},
   "outputs": [
    {
     "ename": "OpenMMException",
     "evalue": "Assertion failure at CustomGBForce.cpp:208.  Index out of range",
     "output_type": "error",
     "traceback": [
      "\u001b[0;31m---------------------------------------------------------------------------\u001b[0m",
      "\u001b[0;31mOpenMMException\u001b[0m                           Traceback (most recent call last)",
      "\u001b[0;32m/tmp/ipykernel_11692/1823062764.py\u001b[0m in \u001b[0;36m<module>\u001b[0;34m\u001b[0m\n\u001b[0;32m----> 1\u001b[0;31m \u001b[0mimplicit\u001b[0m\u001b[0;34m.\u001b[0m\u001b[0mgetTabulatedFunction\u001b[0m\u001b[0;34m(\u001b[0m\u001b[0;36m0\u001b[0m\u001b[0;34m)\u001b[0m\u001b[0;34m\u001b[0m\u001b[0;34m\u001b[0m\u001b[0m\n\u001b[0m",
      "\u001b[0;32m~/MyOpt/Miniconda/envs/bifree/lib/python3.7/site-packages/openmm/openmm.py\u001b[0m in \u001b[0;36mgetTabulatedFunction\u001b[0;34m(self, *args)\u001b[0m\n\u001b[1;32m  15369\u001b[0m             \u001b[0mthe\u001b[0m \u001b[0mTabulatedFunction\u001b[0m \u001b[0mobject\u001b[0m \u001b[0mdefining\u001b[0m \u001b[0mthe\u001b[0m \u001b[0mfunction\u001b[0m\u001b[0;34m\u001b[0m\u001b[0;34m\u001b[0m\u001b[0m\n\u001b[1;32m  15370\u001b[0m         \"\"\"\n\u001b[0;32m> 15371\u001b[0;31m         \u001b[0;32mreturn\u001b[0m \u001b[0m_openmm\u001b[0m\u001b[0;34m.\u001b[0m\u001b[0mCustomGBForce_getTabulatedFunction\u001b[0m\u001b[0;34m(\u001b[0m\u001b[0mself\u001b[0m\u001b[0;34m,\u001b[0m \u001b[0;34m*\u001b[0m\u001b[0margs\u001b[0m\u001b[0;34m)\u001b[0m\u001b[0;34m\u001b[0m\u001b[0;34m\u001b[0m\u001b[0m\n\u001b[0m\u001b[1;32m  15372\u001b[0m \u001b[0;34m\u001b[0m\u001b[0m\n\u001b[1;32m  15373\u001b[0m     \u001b[0;32mdef\u001b[0m \u001b[0mgetTabulatedFunctionName\u001b[0m\u001b[0;34m(\u001b[0m\u001b[0mself\u001b[0m\u001b[0;34m,\u001b[0m \u001b[0mindex\u001b[0m\u001b[0;34m)\u001b[0m\u001b[0;34m:\u001b[0m\u001b[0;34m\u001b[0m\u001b[0;34m\u001b[0m\u001b[0m\n",
      "\u001b[0;31mOpenMMException\u001b[0m: Assertion failure at CustomGBForce.cpp:208.  Index out of range"
     ]
    }
   ],
   "source": [
    "implicit.getTabulatedFunction(0)"
   ]
  },
  {
   "cell_type": "code",
   "execution_count": 93,
   "id": "ad345293-489c-47e6-832b-aaeca0bd6f3a",
   "metadata": {},
   "outputs": [
    {
     "ename": "OpenMMException",
     "evalue": "Assertion failure at CustomGBForce.cpp:213.  Index out of range",
     "output_type": "error",
     "traceback": [
      "\u001b[0;31m---------------------------------------------------------------------------\u001b[0m",
      "\u001b[0;31mOpenMMException\u001b[0m                           Traceback (most recent call last)",
      "\u001b[0;32m/tmp/ipykernel_11692/1204138742.py\u001b[0m in \u001b[0;36m<module>\u001b[0;34m\u001b[0m\n\u001b[0;32m----> 1\u001b[0;31m \u001b[0mimplicit\u001b[0m\u001b[0;34m.\u001b[0m\u001b[0mgetTabulatedFunctionName\u001b[0m\u001b[0;34m(\u001b[0m\u001b[0;36m2\u001b[0m\u001b[0;34m)\u001b[0m\u001b[0;34m\u001b[0m\u001b[0;34m\u001b[0m\u001b[0m\n\u001b[0m",
      "\u001b[0;32m~/MyOpt/Miniconda/envs/bifree/lib/python3.7/site-packages/openmm/openmm.py\u001b[0m in \u001b[0;36mgetTabulatedFunctionName\u001b[0;34m(self, index)\u001b[0m\n\u001b[1;32m  15386\u001b[0m             \u001b[0mthe\u001b[0m \u001b[0mname\u001b[0m \u001b[0mof\u001b[0m \u001b[0mthe\u001b[0m \u001b[0mfunction\u001b[0m \u001b[0;32mas\u001b[0m \u001b[0mit\u001b[0m \u001b[0mappears\u001b[0m \u001b[0;32min\u001b[0m \u001b[0mexpressions\u001b[0m\u001b[0;34m\u001b[0m\u001b[0;34m\u001b[0m\u001b[0m\n\u001b[1;32m  15387\u001b[0m         \"\"\"\n\u001b[0;32m> 15388\u001b[0;31m         \u001b[0;32mreturn\u001b[0m \u001b[0m_openmm\u001b[0m\u001b[0;34m.\u001b[0m\u001b[0mCustomGBForce_getTabulatedFunctionName\u001b[0m\u001b[0;34m(\u001b[0m\u001b[0mself\u001b[0m\u001b[0;34m,\u001b[0m \u001b[0mindex\u001b[0m\u001b[0;34m)\u001b[0m\u001b[0;34m\u001b[0m\u001b[0;34m\u001b[0m\u001b[0m\n\u001b[0m\u001b[1;32m  15389\u001b[0m \u001b[0;34m\u001b[0m\u001b[0m\n\u001b[1;32m  15390\u001b[0m     \u001b[0;32mdef\u001b[0m \u001b[0maddFunction\u001b[0m\u001b[0;34m(\u001b[0m\u001b[0mself\u001b[0m\u001b[0;34m,\u001b[0m \u001b[0mname\u001b[0m\u001b[0;34m,\u001b[0m \u001b[0mvalues\u001b[0m\u001b[0;34m,\u001b[0m \u001b[0mmin\u001b[0m\u001b[0;34m,\u001b[0m \u001b[0mmax\u001b[0m\u001b[0;34m)\u001b[0m\u001b[0;34m:\u001b[0m\u001b[0;34m\u001b[0m\u001b[0;34m\u001b[0m\u001b[0m\n",
      "\u001b[0;31mOpenMMException\u001b[0m: Assertion failure at CustomGBForce.cpp:213.  Index out of range"
     ]
    }
   ],
   "source": [
    "implicit.getTabulatedFunctionName(2)"
   ]
  },
  {
   "cell_type": "code",
   "execution_count": 94,
   "id": "356c471c-2cd6-4c64-b005-9b6d3f341397",
   "metadata": {},
   "outputs": [
    {
     "data": {
      "text/plain": [
       "3"
      ]
     },
     "execution_count": 94,
     "metadata": {},
     "output_type": "execute_result"
    }
   ],
   "source": [
    "implicit.get"
   ]
  },
  {
   "cell_type": "code",
   "execution_count": 74,
   "id": "95306a8c-788d-42bf-bc56-2d50c12d25b6",
   "metadata": {},
   "outputs": [
    {
     "ename": "OpenMMException",
     "evalue": "Assertion failure at CustomGBForce.cpp:213.  Index out of range",
     "output_type": "error",
     "traceback": [
      "\u001b[0;31m---------------------------------------------------------------------------\u001b[0m",
      "\u001b[0;31mOpenMMException\u001b[0m                           Traceback (most recent call last)",
      "\u001b[0;32m/tmp/ipykernel_11692/2125885285.py\u001b[0m in \u001b[0;36m<module>\u001b[0;34m\u001b[0m\n\u001b[0;32m----> 1\u001b[0;31m \u001b[0mimplicit\u001b[0m\u001b[0;34m.\u001b[0m\u001b[0mgetTabulatedFunctionName\u001b[0m\u001b[0;34m(\u001b[0m\u001b[0;36m0\u001b[0m\u001b[0;34m)\u001b[0m\u001b[0;34m\u001b[0m\u001b[0;34m\u001b[0m\u001b[0m\n\u001b[0m",
      "\u001b[0;32m~/MyOpt/Miniconda/envs/bifree/lib/python3.7/site-packages/openmm/openmm.py\u001b[0m in \u001b[0;36mgetTabulatedFunctionName\u001b[0;34m(self, index)\u001b[0m\n\u001b[1;32m  15386\u001b[0m             \u001b[0mthe\u001b[0m \u001b[0mname\u001b[0m \u001b[0mof\u001b[0m \u001b[0mthe\u001b[0m \u001b[0mfunction\u001b[0m \u001b[0;32mas\u001b[0m \u001b[0mit\u001b[0m \u001b[0mappears\u001b[0m \u001b[0;32min\u001b[0m \u001b[0mexpressions\u001b[0m\u001b[0;34m\u001b[0m\u001b[0;34m\u001b[0m\u001b[0m\n\u001b[1;32m  15387\u001b[0m         \"\"\"\n\u001b[0;32m> 15388\u001b[0;31m         \u001b[0;32mreturn\u001b[0m \u001b[0m_openmm\u001b[0m\u001b[0;34m.\u001b[0m\u001b[0mCustomGBForce_getTabulatedFunctionName\u001b[0m\u001b[0;34m(\u001b[0m\u001b[0mself\u001b[0m\u001b[0;34m,\u001b[0m \u001b[0mindex\u001b[0m\u001b[0;34m)\u001b[0m\u001b[0;34m\u001b[0m\u001b[0;34m\u001b[0m\u001b[0m\n\u001b[0m\u001b[1;32m  15389\u001b[0m \u001b[0;34m\u001b[0m\u001b[0m\n\u001b[1;32m  15390\u001b[0m     \u001b[0;32mdef\u001b[0m \u001b[0maddFunction\u001b[0m\u001b[0;34m(\u001b[0m\u001b[0mself\u001b[0m\u001b[0;34m,\u001b[0m \u001b[0mname\u001b[0m\u001b[0;34m,\u001b[0m \u001b[0mvalues\u001b[0m\u001b[0;34m,\u001b[0m \u001b[0mmin\u001b[0m\u001b[0;34m,\u001b[0m \u001b[0mmax\u001b[0m\u001b[0;34m)\u001b[0m\u001b[0;34m:\u001b[0m\u001b[0;34m\u001b[0m\u001b[0;34m\u001b[0m\u001b[0m\n",
      "\u001b[0;31mOpenMMException\u001b[0m: Assertion failure at CustomGBForce.cpp:213.  Index out of range"
     ]
    }
   ],
   "source": [
    "implicit.getTabulatedFunctionName(0)"
   ]
  },
  {
   "cell_type": "code",
   "execution_count": null,
   "id": "ddebb24e-b24a-4904-b02d-edae6cedff52",
   "metadata": {},
   "outputs": [],
   "source": []
  }
 ],
 "metadata": {
  "kernelspec": {
   "display_name": "Python 3 (ipykernel)",
   "language": "python",
   "name": "python3"
  },
  "language_info": {
   "codemirror_mode": {
    "name": "ipython",
    "version": 3
   },
   "file_extension": ".py",
   "mimetype": "text/x-python",
   "name": "python",
   "nbconvert_exporter": "python",
   "pygments_lexer": "ipython3",
   "version": "3.7.12"
  }
 },
 "nbformat": 4,
 "nbformat_minor": 5
}
