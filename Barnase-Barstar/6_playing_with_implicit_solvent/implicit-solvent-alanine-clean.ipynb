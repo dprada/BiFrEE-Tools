{
 "cells": [
  {
   "cell_type": "code",
   "execution_count": 1,
   "id": "074101a2-b83f-47d5-82d0-bdbb8e1da46c",
   "metadata": {},
   "outputs": [
    {
     "data": {
      "application/vnd.jupyter.widget-view+json": {
       "model_id": "1619789a1e2046a4acce9936f55dddd4",
       "version_major": 2,
       "version_minor": 0
      },
      "text/plain": []
     },
     "metadata": {},
     "output_type": "display_data"
    },
    {
     "name": "stderr",
     "output_type": "stream",
     "text": [
      "Warning: importing 'simtk.openmm' is deprecated.  Import 'openmm' instead.\n",
      "Warning on use of the timeseries module: If the inherent timescales of the system are long compared to those being analyzed, this statistical inefficiency may be an underestimate.  The estimate presumes the use of many statistically independent samples.  Tests should be performed to assess whether this condition is satisfied.   Be cautious in the interpretation of the data.\n"
     ]
    }
   ],
   "source": [
    "import os\n",
    "\n",
    "import openmm as mm\n",
    "from openmm.app import *\n",
    "from openmm import unit\n",
    "from openmm import app\n",
    "from pdbfixer import PDBFixer\n",
    "import mdtraj as md\n",
    "import nglview as nv\n",
    "import requests\n",
    "import numpy as np\n",
    "from math import sqrt\n",
    "from openmmtools import testsystems"
   ]
  },
  {
   "cell_type": "code",
   "execution_count": 2,
   "id": "7598091a-1a04-4b93-88e9-9853f98a0120",
   "metadata": {},
   "outputs": [],
   "source": [
    "alanine_implicit = testsystems.AlanineDipeptideImplicit(constraints=HBonds)"
   ]
  },
  {
   "cell_type": "code",
   "execution_count": 3,
   "id": "a93ecc48-a8cb-43ce-a071-77dfc7326f0e",
   "metadata": {},
   "outputs": [],
   "source": [
    "system = alanine_implicit.system"
   ]
  },
  {
   "cell_type": "code",
   "execution_count": 4,
   "id": "29e6571d-4b76-499d-9316-15f452acea83",
   "metadata": {},
   "outputs": [
    {
     "data": {
      "text/plain": [
       "<Topology; 1 chains, 3 residues, 22 atoms, 21 bonds>"
      ]
     },
     "execution_count": 4,
     "metadata": {},
     "output_type": "execute_result"
    }
   ],
   "source": [
    "topology = alanine_implicit.topology\n",
    "topology"
   ]
  },
  {
   "cell_type": "code",
   "execution_count": 5,
   "id": "58559758-5f31-4464-8d04-31ee2c4e3432",
   "metadata": {},
   "outputs": [
    {
     "data": {
      "text/plain": [
       "[]"
      ]
     },
     "execution_count": 5,
     "metadata": {},
     "output_type": "execute_result"
    }
   ],
   "source": [
    "properties = alanine_implicit.analytical_properties\n",
    "properties"
   ]
  },
  {
   "cell_type": "code",
   "execution_count": 6,
   "id": "b34916b9-efbf-4efb-90ad-e43093cb69c8",
   "metadata": {},
   "outputs": [
    {
     "data": {
      "text/plain": [
       "<openmm.openmm.CustomGBForce; proxy of <Swig Object of type 'OpenMM::CustomGBForce *' at 0x7f22b2112180> >"
      ]
     },
     "execution_count": 6,
     "metadata": {},
     "output_type": "execute_result"
    }
   ],
   "source": [
    "implicit = system.getForce(4)\n",
    "implicit"
   ]
  },
  {
   "cell_type": "code",
   "execution_count": 7,
   "id": "1400f796-1ee9-4605-9a4a-b8c17c1ecf3a",
   "metadata": {},
   "outputs": [
    {
     "data": {
      "text/plain": [
       "['I',\n",
       " 'select(step(r+sr2-or1), 0.5*(1/L-1/U+0.25*(r-sr2^2/r)*(1/(U^2)-1/(L^2))+0.5*log(L/U)/r), 0);U=r+sr2;L=max(or1, D);D=abs(r-sr2)',\n",
       " 2]"
      ]
     },
     "execution_count": 7,
     "metadata": {},
     "output_type": "execute_result"
    }
   ],
   "source": [
    "implicit.getComputedValueParameters(0)"
   ]
  },
  {
   "cell_type": "code",
   "execution_count": 8,
   "id": "81bae0da-705d-4642-9089-8ba4b2393641",
   "metadata": {},
   "outputs": [
    {
     "data": {
      "text/plain": [
       "['B',\n",
       " '1/(1/or-tanh(0.8*psi+2.909125*psi^3)/radius);psi=I*or; radius=or+offset; offset=0.009',\n",
       " 0]"
      ]
     },
     "execution_count": 8,
     "metadata": {},
     "output_type": "execute_result"
    }
   ],
   "source": [
    "implicit.getComputedValueParameters(1)"
   ]
  },
  {
   "cell_type": "code",
   "execution_count": 9,
   "id": "e003f588-95ef-4609-a560-f61480e94e1b",
   "metadata": {},
   "outputs": [
    {
     "data": {
      "text/plain": [
       "Quantity(value=1.0, unit=nanometer)"
      ]
     },
     "execution_count": 9,
     "metadata": {},
     "output_type": "execute_result"
    }
   ],
   "source": [
    "implicit.getCutoffDistance()"
   ]
  },
  {
   "cell_type": "code",
   "execution_count": 10,
   "id": "50d072bf-8c82-42f8-ae03-ed1278f0995b",
   "metadata": {},
   "outputs": [
    {
     "data": {
      "text/plain": [
       "\u001b[0;31mSignature:\u001b[0m \u001b[0mimplicit\u001b[0m\u001b[0;34m.\u001b[0m\u001b[0mgetEnergyParameterDerivativeName\u001b[0m\u001b[0;34m(\u001b[0m\u001b[0mindex\u001b[0m\u001b[0;34m)\u001b[0m\u001b[0;34m\u001b[0m\u001b[0;34m\u001b[0m\u001b[0m\n",
       "\u001b[0;31mDocstring:\u001b[0m\n",
       "getEnergyParameterDerivativeName(self, index) -> std::string const &\n",
       "Get the name of a global parameter with respect to which this Force should compute the derivative of the energy.\n",
       "\n",
       "Parameters\n",
       "----------\n",
       "index : int\n",
       "    the index of the parameter derivative, between 0 and getNumEnergyParameterDerivatives()\n",
       "\n",
       "Returns\n",
       "-------\n",
       "string\n",
       "    the parameter name\n",
       "\u001b[0;31mFile:\u001b[0m      ~/MyOpt/Miniconda/envs/bifree/lib/python3.7/site-packages/openmm/openmm.py\n",
       "\u001b[0;31mType:\u001b[0m      method\n"
      ]
     },
     "metadata": {},
     "output_type": "display_data"
    }
   ],
   "source": [
    "implicit.getEnergyParameterDerivativeName?"
   ]
  },
  {
   "cell_type": "code",
   "execution_count": 11,
   "id": "421340e6-4ca5-4746-a2fa-7c7997641a6e",
   "metadata": {},
   "outputs": [
    {
     "ename": "OpenMMException",
     "evalue": "Assertion failure at CustomGBForce.cpp:126.  Index out of range",
     "output_type": "error",
     "traceback": [
      "\u001b[0;31m---------------------------------------------------------------------------\u001b[0m",
      "\u001b[0;31mOpenMMException\u001b[0m                           Traceback (most recent call last)",
      "\u001b[0;32m/tmp/ipykernel_4289/1861342374.py\u001b[0m in \u001b[0;36m<module>\u001b[0;34m\u001b[0m\n\u001b[0;32m----> 1\u001b[0;31m \u001b[0mimplicit\u001b[0m\u001b[0;34m.\u001b[0m\u001b[0mgetEnergyParameterDerivativeName\u001b[0m\u001b[0;34m(\u001b[0m\u001b[0;36m0\u001b[0m\u001b[0;34m)\u001b[0m\u001b[0;34m\u001b[0m\u001b[0;34m\u001b[0m\u001b[0m\n\u001b[0m",
      "\u001b[0;32m~/MyOpt/Miniconda/envs/bifree/lib/python3.7/site-packages/openmm/openmm.py\u001b[0m in \u001b[0;36mgetEnergyParameterDerivativeName\u001b[0;34m(self, index)\u001b[0m\n\u001b[1;32m  15113\u001b[0m             \u001b[0mthe\u001b[0m \u001b[0mparameter\u001b[0m \u001b[0mname\u001b[0m\u001b[0;34m\u001b[0m\u001b[0;34m\u001b[0m\u001b[0m\n\u001b[1;32m  15114\u001b[0m         \"\"\"\n\u001b[0;32m> 15115\u001b[0;31m         \u001b[0;32mreturn\u001b[0m \u001b[0m_openmm\u001b[0m\u001b[0;34m.\u001b[0m\u001b[0mCustomGBForce_getEnergyParameterDerivativeName\u001b[0m\u001b[0;34m(\u001b[0m\u001b[0mself\u001b[0m\u001b[0;34m,\u001b[0m \u001b[0mindex\u001b[0m\u001b[0;34m)\u001b[0m\u001b[0;34m\u001b[0m\u001b[0;34m\u001b[0m\u001b[0m\n\u001b[0m\u001b[1;32m  15116\u001b[0m \u001b[0;34m\u001b[0m\u001b[0m\n\u001b[1;32m  15117\u001b[0m     \u001b[0;32mdef\u001b[0m \u001b[0maddParticle\u001b[0m\u001b[0;34m(\u001b[0m\u001b[0mself\u001b[0m\u001b[0;34m,\u001b[0m \u001b[0;34m*\u001b[0m\u001b[0margs\u001b[0m\u001b[0;34m)\u001b[0m\u001b[0;34m:\u001b[0m\u001b[0;34m\u001b[0m\u001b[0;34m\u001b[0m\u001b[0m\n",
      "\u001b[0;31mOpenMMException\u001b[0m: Assertion failure at CustomGBForce.cpp:126.  Index out of range"
     ]
    }
   ],
   "source": [
    "implicit.getEnergyParameterDerivativeName(0)"
   ]
  },
  {
   "cell_type": "code",
   "execution_count": 12,
   "id": "94cb084e-f067-42cc-af1a-1a51353627d9",
   "metadata": {},
   "outputs": [
    {
     "data": {
      "text/plain": [
       "\u001b[0;31mSignature:\u001b[0m \u001b[0mimplicit\u001b[0m\u001b[0;34m.\u001b[0m\u001b[0mgetEnergyTermParameters\u001b[0m\u001b[0;34m(\u001b[0m\u001b[0mindex\u001b[0m\u001b[0;34m)\u001b[0m\u001b[0;34m\u001b[0m\u001b[0;34m\u001b[0m\u001b[0m\n",
       "\u001b[0;31mDocstring:\u001b[0m\n",
       "getEnergyTermParameters(self, index)\n",
       "Get the properties of a term to the energy computation.\n",
       "\n",
       "Parameters\n",
       "----------\n",
       "index : int\n",
       "    the index of the term for which to get parameters\n",
       "\n",
       "Returns\n",
       "-------\n",
       "expression : string\n",
       "    an algebraic expression to evaluate when calculating the energy. If the ComputationType is SingleParticle, the expression is evaluated once for each particle, and may depend on its x, y, and z coordinates, as well as the per-particle parameters and computed values for that particle. If the ComputationType is ParticlePair or ParticlePairNoExclusions, the expression is evaluated once for every pair of particles in the system. In the latter case, the expression may depend on the distance r between the two particles, and on the per-particle parameters and computed values for each of them. Append \"1\" to a variable name to indicate the parameter for the first particle in the pair and \"2\" to indicate the second particle in the pair.\n",
       "type : ComputationType\n",
       "    the method to use for computing this value\n",
       "\u001b[0;31mFile:\u001b[0m      ~/MyOpt/Miniconda/envs/bifree/lib/python3.7/site-packages/openmm/openmm.py\n",
       "\u001b[0;31mType:\u001b[0m      method\n"
      ]
     },
     "metadata": {},
     "output_type": "display_data"
    }
   ],
   "source": [
    "implicit.getEnergyTermParameters?"
   ]
  },
  {
   "cell_type": "code",
   "execution_count": 13,
   "id": "fd6293e6-c1f1-48f4-b775-175140613c90",
   "metadata": {},
   "outputs": [
    {
     "data": {
      "text/plain": [
       "['-0.5*138.935485*(1/soluteDielectric-1/solventDielectric)*charge^2/B; solventDielectric=78.5; soluteDielectric=1; kappa=0; offset=0.008999999999999999',\n",
       " 0]"
      ]
     },
     "execution_count": 13,
     "metadata": {},
     "output_type": "execute_result"
    }
   ],
   "source": [
    "implicit.getEnergyTermParameters(0)"
   ]
  },
  {
   "cell_type": "code",
   "execution_count": 14,
   "id": "1f69bf75-99c6-447a-bd87-89dc8f83e2f4",
   "metadata": {},
   "outputs": [
    {
     "data": {
      "text/plain": [
       "['28.3919551*(radius+0.14)^2*(radius/B)^6; radius=or+offset; solventDielectric=78.5; soluteDielectric=1; kappa=0; offset=0.008999999999999999',\n",
       " 0]"
      ]
     },
     "execution_count": 14,
     "metadata": {},
     "output_type": "execute_result"
    }
   ],
   "source": [
    "implicit.getEnergyTermParameters(1)"
   ]
  },
  {
   "cell_type": "code",
   "execution_count": 15,
   "id": "92ff1785-5646-4a7a-8936-899ef8e97422",
   "metadata": {},
   "outputs": [
    {
     "data": {
      "text/plain": [
       "['-138.935485*(1/soluteDielectric-1/solventDielectric)*charge1*charge2/f;f=sqrt(r^2+B1*B2*exp(-r^2/(4*B1*B2))); solventDielectric=78.5; soluteDielectric=1; kappa=0; offset=0.008999999999999999',\n",
       " 2]"
      ]
     },
     "execution_count": 15,
     "metadata": {},
     "output_type": "execute_result"
    }
   ],
   "source": [
    "implicit.getEnergyTermParameters(2)"
   ]
  },
  {
   "cell_type": "code",
   "execution_count": 16,
   "id": "0e85564b-9783-4e50-b8cd-205670335a4c",
   "metadata": {},
   "outputs": [
    {
     "data": {
      "text/plain": [
       "\u001b[0;31mSignature:\u001b[0m \u001b[0mimplicit\u001b[0m\u001b[0;34m.\u001b[0m\u001b[0mgetExclusionParticles\u001b[0m\u001b[0;34m(\u001b[0m\u001b[0mindex\u001b[0m\u001b[0;34m)\u001b[0m\u001b[0;34m\u001b[0m\u001b[0;34m\u001b[0m\u001b[0m\n",
       "\u001b[0;31mDocstring:\u001b[0m\n",
       "getExclusionParticles(self, index)\n",
       "Get the particles in a pair whose interaction should be excluded.\n",
       "\n",
       "Parameters\n",
       "----------\n",
       "index : int\n",
       "    the index of the exclusion for which to get particle indices\n",
       "\n",
       "Returns\n",
       "-------\n",
       "particle1 : int\n",
       "    the index of the first particle in the pair\n",
       "particle2 : int\n",
       "    the index of the second particle in the pair\n",
       "\u001b[0;31mFile:\u001b[0m      ~/MyOpt/Miniconda/envs/bifree/lib/python3.7/site-packages/openmm/openmm.py\n",
       "\u001b[0;31mType:\u001b[0m      method\n"
      ]
     },
     "metadata": {},
     "output_type": "display_data"
    }
   ],
   "source": [
    "implicit.getExclusionParticles?"
   ]
  },
  {
   "cell_type": "code",
   "execution_count": 17,
   "id": "587d6e53-3103-4879-887f-c1817da511f4",
   "metadata": {},
   "outputs": [
    {
     "data": {
      "text/plain": [
       "\u001b[0;31mSignature:\u001b[0m \u001b[0mimplicit\u001b[0m\u001b[0;34m.\u001b[0m\u001b[0mgetForceGroup\u001b[0m\u001b[0;34m(\u001b[0m\u001b[0;34m)\u001b[0m\u001b[0;34m\u001b[0m\u001b[0;34m\u001b[0m\u001b[0m\n",
       "\u001b[0;31mDocstring:\u001b[0m\n",
       "getForceGroup(self) -> int\n",
       "Get the force group this Force belongs to.\n",
       "\u001b[0;31mFile:\u001b[0m      ~/MyOpt/Miniconda/envs/bifree/lib/python3.7/site-packages/openmm/openmm.py\n",
       "\u001b[0;31mType:\u001b[0m      method\n"
      ]
     },
     "metadata": {},
     "output_type": "display_data"
    }
   ],
   "source": [
    "implicit.getForceGroup?"
   ]
  },
  {
   "cell_type": "code",
   "execution_count": 18,
   "id": "1111a076-04d9-4de8-a8e1-774bcbcddb47",
   "metadata": {},
   "outputs": [
    {
     "data": {
      "text/plain": [
       "0"
      ]
     },
     "execution_count": 18,
     "metadata": {},
     "output_type": "execute_result"
    }
   ],
   "source": [
    "implicit.getForceGroup()"
   ]
  },
  {
   "cell_type": "code",
   "execution_count": 19,
   "id": "e53a6054-17fa-4e85-8392-dc4ceb532ca2",
   "metadata": {},
   "outputs": [
    {
     "data": {
      "text/plain": [
       "\u001b[0;31mSignature:\u001b[0m \u001b[0mimplicit\u001b[0m\u001b[0;34m.\u001b[0m\u001b[0mgetFunctionParameters\u001b[0m\u001b[0;34m(\u001b[0m\u001b[0mindex\u001b[0m\u001b[0;34m)\u001b[0m\u001b[0;34m\u001b[0m\u001b[0;34m\u001b[0m\u001b[0m\n",
       "\u001b[0;31mDocstring:\u001b[0m\n",
       "getFunctionParameters(self, index)\n",
       "Get the parameters for a tabulated function that may appear in expressions.\n",
       "\n",
       " @deprecated This method exists only for backward compatibility. Use getTabulatedFunctionParameters() instead. If the specified function is not a Continuous1DFunction, this throws an exception.\n",
       "\u001b[0;31mFile:\u001b[0m      ~/MyOpt/Miniconda/envs/bifree/lib/python3.7/site-packages/openmm/openmm.py\n",
       "\u001b[0;31mType:\u001b[0m      method\n"
      ]
     },
     "metadata": {},
     "output_type": "display_data"
    }
   ],
   "source": [
    "implicit.getFunctionParameters?"
   ]
  },
  {
   "cell_type": "code",
   "execution_count": 20,
   "id": "a44e75d2-bc11-4cb9-a609-7f2eee3416f2",
   "metadata": {},
   "outputs": [
    {
     "ename": "OpenMMException",
     "evalue": "Assertion failure at CustomGBForce.cpp:223.  Index out of range",
     "output_type": "error",
     "traceback": [
      "\u001b[0;31m---------------------------------------------------------------------------\u001b[0m",
      "\u001b[0;31mOpenMMException\u001b[0m                           Traceback (most recent call last)",
      "\u001b[0;32m/tmp/ipykernel_4289/3840715441.py\u001b[0m in \u001b[0;36m<module>\u001b[0;34m\u001b[0m\n\u001b[0;32m----> 1\u001b[0;31m \u001b[0mimplicit\u001b[0m\u001b[0;34m.\u001b[0m\u001b[0mgetFunctionParameters\u001b[0m\u001b[0;34m(\u001b[0m\u001b[0;36m0\u001b[0m\u001b[0;34m)\u001b[0m\u001b[0;34m\u001b[0m\u001b[0;34m\u001b[0m\u001b[0m\n\u001b[0m",
      "\u001b[0;32m~/MyOpt/Miniconda/envs/bifree/lib/python3.7/site-packages/openmm/openmm.py\u001b[0m in \u001b[0;36mgetFunctionParameters\u001b[0;34m(self, index)\u001b[0m\n\u001b[1;32m  15404\u001b[0m          \u001b[0;34m@\u001b[0m\u001b[0mdeprecated\u001b[0m \u001b[0mThis\u001b[0m \u001b[0mmethod\u001b[0m \u001b[0mexists\u001b[0m \u001b[0monly\u001b[0m \u001b[0;32mfor\u001b[0m \u001b[0mbackward\u001b[0m \u001b[0mcompatibility\u001b[0m\u001b[0;34m.\u001b[0m \u001b[0mUse\u001b[0m \u001b[0mgetTabulatedFunctionParameters\u001b[0m\u001b[0;34m(\u001b[0m\u001b[0;34m)\u001b[0m \u001b[0minstead\u001b[0m\u001b[0;34m.\u001b[0m \u001b[0mIf\u001b[0m \u001b[0mthe\u001b[0m \u001b[0mspecified\u001b[0m \u001b[0mfunction\u001b[0m \u001b[0;32mis\u001b[0m \u001b[0;32mnot\u001b[0m \u001b[0ma\u001b[0m \u001b[0mContinuous1DFunction\u001b[0m\u001b[0;34m,\u001b[0m \u001b[0mthis\u001b[0m \u001b[0mthrows\u001b[0m \u001b[0man\u001b[0m \u001b[0mexception\u001b[0m\u001b[0;34m.\u001b[0m\u001b[0;34m\u001b[0m\u001b[0;34m\u001b[0m\u001b[0m\n\u001b[1;32m  15405\u001b[0m         \"\"\"\n\u001b[0;32m> 15406\u001b[0;31m         \u001b[0;32mreturn\u001b[0m \u001b[0m_openmm\u001b[0m\u001b[0;34m.\u001b[0m\u001b[0mCustomGBForce_getFunctionParameters\u001b[0m\u001b[0;34m(\u001b[0m\u001b[0mself\u001b[0m\u001b[0;34m,\u001b[0m \u001b[0mindex\u001b[0m\u001b[0;34m)\u001b[0m\u001b[0;34m\u001b[0m\u001b[0;34m\u001b[0m\u001b[0m\n\u001b[0m\u001b[1;32m  15407\u001b[0m \u001b[0;34m\u001b[0m\u001b[0m\n\u001b[1;32m  15408\u001b[0m     \u001b[0;32mdef\u001b[0m \u001b[0msetFunctionParameters\u001b[0m\u001b[0;34m(\u001b[0m\u001b[0mself\u001b[0m\u001b[0;34m,\u001b[0m \u001b[0mindex\u001b[0m\u001b[0;34m,\u001b[0m \u001b[0mname\u001b[0m\u001b[0;34m,\u001b[0m \u001b[0mvalues\u001b[0m\u001b[0;34m,\u001b[0m \u001b[0mmin\u001b[0m\u001b[0;34m,\u001b[0m \u001b[0mmax\u001b[0m\u001b[0;34m)\u001b[0m\u001b[0;34m:\u001b[0m\u001b[0;34m\u001b[0m\u001b[0;34m\u001b[0m\u001b[0m\n",
      "\u001b[0;31mOpenMMException\u001b[0m: Assertion failure at CustomGBForce.cpp:223.  Index out of range"
     ]
    }
   ],
   "source": [
    "implicit.getFunctionParameters(0)"
   ]
  },
  {
   "cell_type": "code",
   "execution_count": null,
   "id": "245f62c8-8b32-4044-80cd-8b14c3c76e46",
   "metadata": {},
   "outputs": [],
   "source": []
  }
 ],
 "metadata": {
  "kernelspec": {
   "display_name": "Python 3 (ipykernel)",
   "language": "python",
   "name": "python3"
  },
  "language_info": {
   "codemirror_mode": {
    "name": "ipython",
    "version": 3
   },
   "file_extension": ".py",
   "mimetype": "text/x-python",
   "name": "python",
   "nbconvert_exporter": "python",
   "pygments_lexer": "ipython3",
   "version": "3.7.12"
  }
 },
 "nbformat": 4,
 "nbformat_minor": 5
}
