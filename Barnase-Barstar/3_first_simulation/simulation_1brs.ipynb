{
 "cells": [
  {
   "cell_type": "code",
   "execution_count": 1,
   "id": "18906596-6c0e-434f-b339-e401fbcb383d",
   "metadata": {},
   "outputs": [
    {
     "data": {
      "application/vnd.jupyter.widget-view+json": {
       "model_id": "b1d4a2b93b004ceda730d893f898b497",
       "version_major": 2,
       "version_minor": 0
      },
      "text/plain": []
     },
     "metadata": {},
     "output_type": "display_data"
    }
   ],
   "source": [
    "import os\n",
    "\n",
    "import openmm as mm\n",
    "from openmm.app import *\n",
    "from openmm import unit\n",
    "from openmm import app\n",
    "from pdbfixer import PDBFixer\n",
    "import mdtraj as md\n",
    "import nglview as nv\n",
    "import requests\n",
    "import numpy as np\n",
    "from math import sqrt\n",
    "import itertools"
   ]
  },
  {
   "cell_type": "markdown",
   "id": "1b689ecf-cfef-41bd-b9a0-f0658b5d05e6",
   "metadata": {
    "tags": []
   },
   "source": [
    "# Barnase-Barstar Simulation"
   ]
  },
  {
   "cell_type": "markdown",
   "id": "8bbbdfcb-24cd-4b39-8973-71a434c06914",
   "metadata": {
    "jp-MarkdownHeadingCollapsed": true,
    "tags": []
   },
   "source": [
    "## System Analysis"
   ]
  },
  {
   "cell_type": "code",
   "execution_count": 2,
   "id": "9648320d-dbc7-4174-a73a-bf5c037c5bb9",
   "metadata": {},
   "outputs": [],
   "source": [
    "# Function to download PDB files\n",
    "\n",
    "def fetch_pdb(pdb_id, download_path=\"./\"):\n",
    "\n",
    "        url = 'http://files.rcsb.org/download/{}.pdb'.format(pdb_id)\n",
    "        try:\n",
    "            res = requests.get(url, allow_redirects=True)\n",
    "        except:\n",
    "            print(\"Could not fetch pdb from {}\".format(url))\n",
    "            return \n",
    "        \n",
    "        file_path = os.path.join(download_path, pdb_id + \".pdb\")\n",
    "        with open(file_path, \"wb\") as f:\n",
    "            f.write(res.content)"
   ]
  },
  {
   "cell_type": "code",
   "execution_count": 3,
   "id": "63f29b8b-1dd9-457c-b364-e4b87147cd4f",
   "metadata": {},
   "outputs": [],
   "source": [
    "# Just write the PDB id in order to download the pdb file\n",
    "\n",
    "fetch_pdb(\"1brs\")"
   ]
  },
  {
   "cell_type": "code",
   "execution_count": 4,
   "id": "cdfeb4fb-2ea5-4ad5-bd24-1bbced98b4c7",
   "metadata": {},
   "outputs": [],
   "source": [
    "# Load pdb with MDTraj\n",
    "\n",
    "brs = md.load('1brs.pdb')"
   ]
  },
  {
   "cell_type": "code",
   "execution_count": 5,
   "id": "871fb1ed-255f-40a0-93b1-6728f5f29e04",
   "metadata": {},
   "outputs": [],
   "source": [
    "# Remove water molecules\n",
    "\n",
    "brs = brs.remove_solvent()"
   ]
  },
  {
   "cell_type": "code",
   "execution_count": 6,
   "id": "055e4db1-2c9e-484d-90f2-92be4b57191b",
   "metadata": {},
   "outputs": [
    {
     "data": {
      "text/plain": [
       "<mdtraj.Topology with 6 chains, 588 residues, 4638 atoms, 4740 bonds at 0x7f0ccc920df0>"
      ]
     },
     "execution_count": 6,
     "metadata": {},
     "output_type": "execute_result"
    }
   ],
   "source": [
    "brs.topology"
   ]
  },
  {
   "cell_type": "code",
   "execution_count": 7,
   "id": "df598b8d-306d-45b4-8981-f65f2da4f659",
   "metadata": {},
   "outputs": [],
   "source": [
    "# Barnase's chains\n",
    "\n",
    "atoms_in_chain_A = brs.topology.select(\"chainid == 0\")\n",
    "atoms_in_chain_B = brs.topology.select(\"chainid == 1\")\n",
    "atoms_in_chain_C = brs.topology.select(\"chainid == 2\")"
   ]
  },
  {
   "cell_type": "code",
   "execution_count": 8,
   "id": "5daf3e41-6cf0-4746-89be-3d74513ffc12",
   "metadata": {},
   "outputs": [],
   "source": [
    "# Barstar's chains\n",
    "\n",
    "atoms_in_chain_D = brs.topology.select(\"chainid == 3\")\n",
    "atoms_in_chain_E = brs.topology.select(\"chainid == 4\")\n",
    "atoms_in_chain_F = brs.topology.select(\"chainid == 5\")"
   ]
  },
  {
   "cell_type": "code",
   "execution_count": 9,
   "id": "fd26cdea-940b-4636-ab5c-6c82d26f24dd",
   "metadata": {},
   "outputs": [],
   "source": [
    "# Barnase's chain's atoms\n",
    "\n",
    "barnase_A = brs.atom_slice(atoms_in_chain_A)\n",
    "barnase_B = brs.atom_slice(atoms_in_chain_B)\n",
    "barnase_C = brs.atom_slice(atoms_in_chain_C)"
   ]
  },
  {
   "cell_type": "code",
   "execution_count": 10,
   "id": "20432d05-4050-4a07-918b-17da37fdd538",
   "metadata": {},
   "outputs": [],
   "source": [
    "# Barstar's chain's atoms\n",
    "\n",
    "barstar_D = brs.atom_slice(atoms_in_chain_D)\n",
    "barstar_E = brs.atom_slice(atoms_in_chain_E)\n",
    "barstar_F = brs.atom_slice(atoms_in_chain_F)"
   ]
  },
  {
   "cell_type": "code",
   "execution_count": 11,
   "id": "7de356a1-834f-4582-b6bd-31fb212879ef",
   "metadata": {},
   "outputs": [
    {
     "name": "stdout",
     "output_type": "stream",
     "text": [
      "Barnase has 864 atoms and 108 residues in A\n",
      "Barnase has 878 atoms and 110 residues in B\n",
      "Barnase has 839 atoms and 108 residues in C\n"
     ]
    }
   ],
   "source": [
    "print(f'Barnase has {barnase_A.n_atoms} atoms and {barnase_A.n_residues} residues in A')\n",
    "print(f'Barnase has {barnase_B.n_atoms} atoms and {barnase_B.n_residues} residues in B')\n",
    "print(f'Barnase has {barnase_C.n_atoms} atoms and {barnase_C.n_residues} residues in C')"
   ]
  },
  {
   "cell_type": "code",
   "execution_count": 12,
   "id": "e443f7b7-4392-4b61-9ef1-5b9182ce58dd",
   "metadata": {},
   "outputs": [
    {
     "name": "stdout",
     "output_type": "stream",
     "text": [
      "Barstar has 693 atoms and 87 residues in D\n",
      "Barstar has 665 atoms and 86 residues in E\n",
      "Barstar has 699 atoms and 89 residues in F\n"
     ]
    }
   ],
   "source": [
    "print(f'Barstar has {barstar_D.n_atoms} atoms and {barstar_D.n_residues} residues in D')\n",
    "print(f'Barstar has {barstar_E.n_atoms} atoms and {barstar_E.n_residues} residues in E')\n",
    "print(f'Barstar has {barstar_F.n_atoms} atoms and {barstar_F.n_residues} residues in F')"
   ]
  },
  {
   "cell_type": "markdown",
   "id": "a88d0d85-e4e9-47f6-abb8-6c1b79e8bf14",
   "metadata": {},
   "source": [
    "<div class=\"alert alert-info\">\n",
    "<strong>NOTE:</strong> We conclude chain B and F will be optimal to work.\n",
    "</div>\n"
   ]
  },
  {
   "cell_type": "code",
   "execution_count": 13,
   "id": "e0b83838-af35-454b-a439-47125d5b555e",
   "metadata": {},
   "outputs": [
    {
     "data": {
      "application/vnd.jupyter.widget-view+json": {
       "model_id": "bd8afc4604b54c38b306098a4a2aa248",
       "version_major": 2,
       "version_minor": 0
      },
      "text/plain": [
       "NGLWidget()"
      ]
     },
     "metadata": {},
     "output_type": "display_data"
    }
   ],
   "source": [
    "view = nv.show_mdtraj(brs)\n",
    "view"
   ]
  },
  {
   "cell_type": "markdown",
   "id": "7d545758-0026-44c5-9e87-f95aafce193b",
   "metadata": {},
   "source": [
    "<div class=\"alert alert-info\">\n",
    "<strong>NOTE:</strong> Superpose F with E.\n",
    "</div>"
   ]
  },
  {
   "cell_type": "markdown",
   "id": "a252e660-a016-4801-a7ea-72c304753b9f",
   "metadata": {
    "tags": []
   },
   "source": [
    "## System Preparation"
   ]
  },
  {
   "cell_type": "code",
   "execution_count": 14,
   "id": "355ade7d-d9dc-4855-a259-3fbe5892ff94",
   "metadata": {},
   "outputs": [
    {
     "data": {
      "text/plain": [
       "array([3275, 3284, 3289, 3296, 3304, 3312, 3316, 3325, 3334, 3342, 3349,\n",
       "       3355, 3363, 3369, 3377, 3385, 3395, 3400, 3407, 3415, 3424, 3433,\n",
       "       3442, 3450, 3455, 3463, 3470, 3479, 3491, 3503, 3507, 3516, 3524,\n",
       "       3532, 3540, 3545, 3553, 3567, 3575, 3580, 3588, 3595, 3599, 3613,\n",
       "       3620, 3629, 3641, 3648, 3656, 3663, 3671, 3680, 3694, 3701, 3710,\n",
       "       3721, 3730, 3735, 3741, 3746, 3751, 3756, 3763, 3767, 3772, 3781,\n",
       "       3787, 3794, 3802, 3811, 3818, 3829, 3840, 3849, 3854, 3863, 3868,\n",
       "       3877, 3881, 3886, 3894, 3902, 3909, 3917, 3925, 3933])"
      ]
     },
     "execution_count": 14,
     "metadata": {},
     "output_type": "execute_result"
    }
   ],
   "source": [
    "ca_in_chain_E = brs.topology.select(\"chainid == 4 and name CA\")\n",
    "ca_in_chain_E"
   ]
  },
  {
   "cell_type": "code",
   "execution_count": 15,
   "id": "f0ea4942-5802-4ee3-b6c8-2459e3514d2f",
   "metadata": {},
   "outputs": [
    {
     "data": {
      "text/plain": [
       "array([3940, 3949, 3958, 3963, 3970, 3978, 3986, 3990, 3999, 4008, 4016,\n",
       "       4027, 4033, 4041, 4047, 4055, 4063, 4073, 4082, 4089, 4097, 4106,\n",
       "       4112, 4121, 4129, 4134, 4142, 4149, 4154, 4166, 4178, 4182, 4191,\n",
       "       4199, 4207, 4215, 4220, 4228, 4242, 4250, 4255, 4263, 4270, 4274,\n",
       "       4288, 4295, 4300, 4312, 4319, 4327, 4334, 4342, 4351, 4365, 4376,\n",
       "       4385, 4396, 4405, 4414, 4420, 4429, 4438, 4446, 4453, 4458, 4463,\n",
       "       4467, 4472, 4481, 4487, 4494, 4502, 4511, 4518, 4529, 4540, 4549,\n",
       "       4554, 4563, 4568, 4577, 4581, 4586, 4594, 4602, 4609, 4617, 4625,\n",
       "       4633])"
      ]
     },
     "execution_count": 15,
     "metadata": {},
     "output_type": "execute_result"
    }
   ],
   "source": [
    "ca_in_chain_F = brs.topology.select(\"chainid == 5 and name CA\")\n",
    "ca_in_chain_F"
   ]
  },
  {
   "cell_type": "code",
   "execution_count": 16,
   "id": "b1d51132-4a1e-483b-b0dd-cb23b69174f8",
   "metadata": {},
   "outputs": [],
   "source": [
    "chain_E = brs.atom_slice(ca_in_chain_E)\n",
    "chain_F = brs.atom_slice(ca_in_chain_F)"
   ]
  },
  {
   "cell_type": "code",
   "execution_count": 17,
   "id": "060eb50e-61d4-430d-8c45-53b4030d0ebb",
   "metadata": {},
   "outputs": [],
   "source": [
    "ca_name_in_E = []\n",
    "for atom in chain_E.topology.atoms_by_name('CA'):\n",
    "    ca_name_in_E.append(str(atom))"
   ]
  },
  {
   "cell_type": "code",
   "execution_count": 18,
   "id": "ce916bc3-e6ef-4c68-a3f9-671f6473d534",
   "metadata": {},
   "outputs": [],
   "source": [
    "ca_name_in_F = []\n",
    "for atom in chain_F.topology.atoms_by_name('CA'):\n",
    "    ca_name_in_F.append(str(atom))"
   ]
  },
  {
   "cell_type": "code",
   "execution_count": 19,
   "id": "14178f0f-b2b7-44d0-be52-83f99f8d71c7",
   "metadata": {},
   "outputs": [
    {
     "data": {
      "text/plain": [
       "89"
      ]
     },
     "execution_count": 19,
     "metadata": {},
     "output_type": "execute_result"
    }
   ],
   "source": [
    "index = []\n",
    "\n",
    "for x in ca_name_in_F:    #Lista grande\n",
    "    for y in ca_name_in_E:    #Lista pequeña\n",
    "        if x in y:\n",
    "            index.append(True)\n",
    "            break\n",
    "    else:\n",
    "        index.append(False)\n",
    "            \n",
    "len(index)"
   ]
  },
  {
   "cell_type": "code",
   "execution_count": 20,
   "id": "bd68ead2-e253-47f7-92e5-307ca862d884",
   "metadata": {},
   "outputs": [
    {
     "name": "stdout",
     "output_type": "stream",
     "text": [
      "[False, True, True, True, True, True, True, True, True, True, True, True, True, True, True, True, True, True, True, True, True, True, True, True, True, True, True, True, True, True, True, True, True, True, True, True, True, True, True, True, True, True, True, True, True, True, True, True, True, True, True, True, True, True, True, True, True, True, True, True, True, True, True, False, False, True, True, True, True, True, True, True, True, True, True, True, True, True, True, True, True, True, True, True, True, True, True, True, True]\n"
     ]
    }
   ],
   "source": [
    "print(index)"
   ]
  },
  {
   "cell_type": "code",
   "execution_count": 21,
   "id": "5a9078ed-9fdf-408a-80ed-e9099474019c",
   "metadata": {},
   "outputs": [],
   "source": [
    "ca_in_chain_G = []\n",
    "\n",
    "for uu in range(len(index)):\n",
    "    if index[uu] == True:\n",
    "        ca_in_chain_G.append(ca_in_chain_F[uu])\n",
    "        \n",
    "ca_in_chain_G = np.array(ca_in_chain_G)"
   ]
  },
  {
   "cell_type": "code",
   "execution_count": 22,
   "id": "12639eb1-9543-42b4-a552-201f53cff7a7",
   "metadata": {},
   "outputs": [
    {
     "data": {
      "text/plain": [
       "array([3949, 3958, 3963, 3970, 3978, 3986, 3990, 3999, 4008, 4016, 4027,\n",
       "       4033, 4041, 4047, 4055, 4063, 4073, 4082, 4089, 4097, 4106, 4112,\n",
       "       4121, 4129, 4134, 4142, 4149, 4154, 4166, 4178, 4182, 4191, 4199,\n",
       "       4207, 4215, 4220, 4228, 4242, 4250, 4255, 4263, 4270, 4274, 4288,\n",
       "       4295, 4300, 4312, 4319, 4327, 4334, 4342, 4351, 4365, 4376, 4385,\n",
       "       4396, 4405, 4414, 4420, 4429, 4438, 4446, 4463, 4467, 4472, 4481,\n",
       "       4487, 4494, 4502, 4511, 4518, 4529, 4540, 4549, 4554, 4563, 4568,\n",
       "       4577, 4581, 4586, 4594, 4602, 4609, 4617, 4625, 4633])"
      ]
     },
     "execution_count": 22,
     "metadata": {},
     "output_type": "execute_result"
    }
   ],
   "source": [
    "ca_in_chain_G"
   ]
  },
  {
   "cell_type": "code",
   "execution_count": 23,
   "id": "401fa3ce-5af2-47f6-8c98-05ff93adf267",
   "metadata": {},
   "outputs": [
    {
     "data": {
      "text/plain": [
       "<mdtraj.Trajectory with 1 frames, 86 atoms, 86 residues, and unitcells at 0x7f0cc1e53eb0>"
      ]
     },
     "execution_count": 23,
     "metadata": {},
     "output_type": "execute_result"
    }
   ],
   "source": [
    "traj_E = brs.atom_slice(ca_in_chain_E)\n",
    "traj_E"
   ]
  },
  {
   "cell_type": "code",
   "execution_count": 24,
   "id": "76f2b340-077f-49c0-af34-faf3feebf654",
   "metadata": {},
   "outputs": [
    {
     "data": {
      "text/plain": [
       "<mdtraj.Trajectory with 1 frames, 86 atoms, 86 residues, and unitcells at 0x7f0cc1e5e310>"
      ]
     },
     "execution_count": 24,
     "metadata": {},
     "output_type": "execute_result"
    }
   ],
   "source": [
    "traj_F = brs.atom_slice(ca_in_chain_G)\n",
    "traj_F"
   ]
  },
  {
   "cell_type": "code",
   "execution_count": 25,
   "id": "c20d49f7-8ee6-45db-ba10-f730147d222b",
   "metadata": {},
   "outputs": [],
   "source": [
    "brstr_to_B = md.Trajectory.superpose(traj_F, traj_E, frame=0)"
   ]
  },
  {
   "cell_type": "code",
   "execution_count": 26,
   "id": "a8d44cd3-58b2-4f7c-9d47-7c6d9f6d9b42",
   "metadata": {},
   "outputs": [
    {
     "data": {
      "application/vnd.jupyter.widget-view+json": {
       "model_id": "425125ec6e6e4e63bf0f1b7f28d28084",
       "version_major": 2,
       "version_minor": 0
      },
      "text/plain": [
       "NGLWidget()"
      ]
     },
     "metadata": {},
     "output_type": "display_data"
    }
   ],
   "source": [
    "pp = nv.show_mdtraj(brstr_to_B)\n",
    "pp"
   ]
  },
  {
   "cell_type": "code",
   "execution_count": 27,
   "id": "f55ec07d-2343-41e8-8683-1dc4142d4813",
   "metadata": {},
   "outputs": [
    {
     "data": {
      "application/vnd.jupyter.widget-view+json": {
       "model_id": "158b5d9ad02d484e9307ce6e8db23f03",
       "version_major": 2,
       "version_minor": 0
      },
      "text/plain": [
       "NGLWidget()"
      ]
     },
     "metadata": {},
     "output_type": "display_data"
    }
   ],
   "source": [
    "qq = nv.show_mdtraj(barnase_B)\n",
    "qq"
   ]
  },
  {
   "cell_type": "code",
   "execution_count": 28,
   "id": "25da516e-25d2-424f-bd58-c1747aaa8ddd",
   "metadata": {},
   "outputs": [],
   "source": [
    "brns_brstr = barnase_B.stack(brstr_to_B)"
   ]
  },
  {
   "cell_type": "code",
   "execution_count": 29,
   "id": "b47162fc-2ffe-4370-aa6f-119e0cd42133",
   "metadata": {},
   "outputs": [
    {
     "data": {
      "application/vnd.jupyter.widget-view+json": {
       "model_id": "93f2719039b24ea081daba34d6782416",
       "version_major": 2,
       "version_minor": 0
      },
      "text/plain": [
       "NGLWidget()"
      ]
     },
     "metadata": {},
     "output_type": "display_data"
    }
   ],
   "source": [
    "uu = nv.show_mdtraj(brns_brstr)\n",
    "uu"
   ]
  },
  {
   "cell_type": "code",
   "execution_count": 30,
   "id": "ca0aa7fd-d191-486e-a10a-312c8c3a9c21",
   "metadata": {},
   "outputs": [],
   "source": [
    "brns_brstr.save_pdb('brns_brstr.pdb')"
   ]
  },
  {
   "cell_type": "code",
   "execution_count": 31,
   "id": "a65ceac9-2e6e-44c4-99b9-65bbb08111b5",
   "metadata": {},
   "outputs": [
    {
     "name": "stdout",
     "output_type": "stream",
     "text": [
      "Help on function save_pdb in module mdtraj.core.trajectory:\n",
      "\n",
      "save_pdb(self, filename, force_overwrite=True, bfactors=None)\n",
      "    Save trajectory to RCSB PDB format\n",
      "    \n",
      "    Parameters\n",
      "    ----------\n",
      "    filename : path-like\n",
      "        filesystem path in which to save the trajectory\n",
      "    force_overwrite : bool, default=True\n",
      "        Overwrite anything that exists at filename, if its already there\n",
      "    bfactors : array_like, default=None, shape=(n_frames, n_atoms) or (n_atoms,)\n",
      "        Save bfactors with pdb file. If the array is two dimensional it should\n",
      "        contain a bfactor for each atom in each frame of the trajectory.\n",
      "        Otherwise, the same bfactor will be saved in each frame.\n",
      "\n"
     ]
    }
   ],
   "source": [
    "help(md.Trajectory.save_pdb)"
   ]
  },
  {
   "cell_type": "code",
   "execution_count": 32,
   "id": "cec35ded-7200-47e5-82c5-5d23f5e9c399",
   "metadata": {
    "scrolled": true,
    "tags": []
   },
   "outputs": [
    {
     "name": "stdout",
     "output_type": "stream",
     "text": [
      "Help on class PDBFixer in module pdbfixer.pdbfixer:\n",
      "\n",
      "class PDBFixer(builtins.object)\n",
      " |  PDBFixer(filename=None, pdbfile=None, pdbxfile=None, url=None, pdbid=None)\n",
      " |  \n",
      " |  PDBFixer implements many tools for fixing problems in PDB and PDBx/mmCIF files.\n",
      " |  \n",
      " |  Methods defined here:\n",
      " |  \n",
      " |  __init__(self, filename=None, pdbfile=None, pdbxfile=None, url=None, pdbid=None)\n",
      " |      Create a new PDBFixer instance to fix problems in a PDB or PDBx/mmCIF file.\n",
      " |      \n",
      " |      Parameters\n",
      " |      ----------\n",
      " |      filename : str, optional, default=None\n",
      " |          The name of the file to read.  The format is determined automatically based on the filename extension, or if\n",
      " |          that is ambiguous, by looking at the file content.\n",
      " |      pdbfile : file, optional, default=None\n",
      " |          A file-like object from which the PDB file is to be read.\n",
      " |          The file is not closed after reading.\n",
      " |      pdbxfile : file, optional, default=None\n",
      " |          A file-like object from which the PDBx/mmCIF file is to be read.\n",
      " |          The file is not closed after reading.\n",
      " |      url : str, optional, default=None\n",
      " |          A URL specifying the internet location from which the file contents should be retrieved.  The format is\n",
      " |          determined automatically by looking for a filename extension in the URL, or if that is ambiguous, by looking\n",
      " |          at the file content.\n",
      " |      pdbid : str, optional, default=None\n",
      " |          A four-letter PDB code specifying the structure to be retrieved from the RCSB.\n",
      " |      \n",
      " |      Notes\n",
      " |      -----\n",
      " |      Only one of structure, filename, pdbfile, pdbxfile, url, or pdbid may be specified or an exception will be thrown.\n",
      " |      \n",
      " |      Examples\n",
      " |      --------\n",
      " |      \n",
      " |      Start from a filename.\n",
      " |      \n",
      " |      >>> filename = resource_filename('pdbfixer', 'tests/data/test.pdb')\n",
      " |      >>> fixer = PDBFixer(filename=filename)\n",
      " |      \n",
      " |      Start from a file object.\n",
      " |      \n",
      " |      >>> with open(filename) as f:\n",
      " |      ...     fixer = PDBFixer(pdbfile=f)\n",
      " |      \n",
      " |      Start from a URL.\n",
      " |      \n",
      " |      >>> fixer = PDBFixer(url='http://www.rcsb.org/pdb/files/1VII.pdb')\n",
      " |      \n",
      " |      Start from a PDB code.\n",
      " |      \n",
      " |      >>> fixer = PDBFixer(pdbid='1VII')\n",
      " |  \n",
      " |  addMembrane(self, lipidType='POPC', membraneCenterZ=Quantity(value=0, unit=nanometer), minimumPadding=Quantity(value=1, unit=nanometer), positiveIon='Na+', negativeIon='Cl-', ionicStrength=Quantity(value=0, unit=molar))\n",
      " |      Add a lipid membrane to the structure.\n",
      " |      \n",
      " |      This method adds both lipids and water, so you should call either addSolvent() or addMembrane(),\n",
      " |      but not both.  See Modeller.addMembrane() for more details.\n",
      " |      \n",
      " |      Parameters\n",
      " |      ----------\n",
      " |      lipidType : string='POPC'\n",
      " |          the type of lipid to use.  Supported values are 'POPC', 'POPE', 'DLPC', 'DLPE', 'DMPC', 'DOPC', and 'DPPC'.\n",
      " |      membraneCenterZ: distance=0*nanometer\n",
      " |          the position along the Z axis of the center of the membrane\n",
      " |      minimumPadding : distance=1*nanometer\n",
      " |          the padding distance to use\n",
      " |      positiveIon : str, optional, default='Na+'\n",
      " |          The type of positive ion to add.  Allowed values are 'Cs+', 'K+', 'Li+', 'Na+', and 'Rb+'.\n",
      " |      negativeIon : str, optional, default='Cl-'\n",
      " |          The type of negative ion to add.  Allowed values are 'Cl-', 'Br-', 'F-', and 'I-'.\n",
      " |      ionicStrength : openmm.unit.Quantity with units compatible with molar, optional, default=0*molar\n",
      " |          The total concentration of ions (both positive and negative) to add.  This does not include ions that are added to neutralize the system.\n",
      " |  \n",
      " |  addMissingAtoms(self, seed=None)\n",
      " |      Add all missing heavy atoms, as specified by the missingAtoms, missingTerminals, and missingResidues fields.\n",
      " |      \n",
      " |      Parameters\n",
      " |      ----------\n",
      " |      seed : int\n",
      " |          Integer to set the random seed number of the integrator used in the minimization of the\n",
      " |          coordinates of the newly-added atoms.\n",
      " |      \n",
      " |      Notes\n",
      " |      -----\n",
      " |      You must already have called findMissingAtoms() to have identified atoms to be added.\n",
      " |      \n",
      " |      Examples\n",
      " |      --------\n",
      " |      \n",
      " |      Find missing heavy atoms in Abl kinase structure.\n",
      " |      \n",
      " |      >>> fixer = PDBFixer(pdbid='2F4J')\n",
      " |      >>> fixer.findMissingResidues()\n",
      " |      >>> fixer.findMissingAtoms()\n",
      " |      >>> fixer.addMissingAtoms()\n",
      " |  \n",
      " |  addMissingHydrogens(self, pH=7.0)\n",
      " |      Add missing hydrogen atoms to the structure.\n",
      " |      \n",
      " |      Parameters\n",
      " |      ----------\n",
      " |      pH : float, optional, default=7.0\n",
      " |          The pH based on which to select hydrogens.\n",
      " |      \n",
      " |      Notes\n",
      " |      -----\n",
      " |      No extensive electrostatic analysis is performed; only default residue pKas are used.\n",
      " |      \n",
      " |      Examples\n",
      " |      --------\n",
      " |      \n",
      " |      Examples\n",
      " |      --------\n",
      " |      \n",
      " |      Add missing hydrogens appropriate for pH 8.\n",
      " |      \n",
      " |      >>> fixer = PDBFixer(pdbid='1VII')\n",
      " |      >>> fixer.addMissingHydrogens(pH=8.0)\n",
      " |  \n",
      " |  addSolvent(self, boxSize=None, padding=None, boxVectors=None, positiveIon='Na+', negativeIon='Cl-', ionicStrength=Quantity(value=0, unit=molar))\n",
      " |      Add a solvent box surrounding the structure.\n",
      " |      \n",
      " |      Parameters\n",
      " |      ----------\n",
      " |      boxSize : openmm.Vec3, optional, default=None\n",
      " |          The size of the box to fill with water.  If specified, padding and boxVectors must not be specified.\n",
      " |      padding : openmm.unit.Quantity compatible with nanometers, optional, default=None\n",
      " |          Padding around macromolecule for filling box with water.  If specified, boxSize and boxVectors must not be specified.\n",
      " |      boxVectors : 3-tuple of openmm.Vec3, optional, default=None\n",
      " |          Three vectors specifying the geometry of the box. If specified, padding and boxSize must not be specified.\n",
      " |      positiveIon : str, optional, default='Na+'\n",
      " |          The type of positive ion to add.  Allowed values are 'Cs+', 'K+', 'Li+', 'Na+', and 'Rb+'.\n",
      " |      negativeIon : str, optional, default='Cl-'\n",
      " |          The type of negative ion to add.  Allowed values are 'Cl-', 'Br-', 'F-', and 'I-'.\n",
      " |      ionicStrength : openmm.unit.Quantity with units compatible with molar, optional, default=0*molar\n",
      " |          The total concentration of ions (both positive and negative) to add.  This does not include ions that are added to neutralize the system.\n",
      " |      \n",
      " |      Examples\n",
      " |      --------\n",
      " |      \n",
      " |      Add missing residues, heavy atoms, and hydrogens, and then solvate with 10 A padding.\n",
      " |      \n",
      " |      >>> fixer = PDBFixer(pdbid='1VII')\n",
      " |      >>> fixer.findMissingResidues()\n",
      " |      >>> fixer.findMissingAtoms()\n",
      " |      >>> fixer.addMissingAtoms()\n",
      " |      >>> fixer.addMissingHydrogens(pH=8.0)\n",
      " |      >>> fixer.addSolvent(padding=10*unit.angstrom, ionicStrength=0.050*unit.molar)\n",
      " |  \n",
      " |  applyMutations(self, mutations, chain_id)\n",
      " |      Apply a list of amino acid substitutions to make a mutant protein.\n",
      " |      \n",
      " |      Parameters\n",
      " |      ----------\n",
      " |      mutations : list of strings\n",
      " |          Each string must include the resName (original), index,\n",
      " |          and resName (target).  For example, ALA-133-GLY will mutate\n",
      " |          alanine 133 to glycine.\n",
      " |      chain_id : str\n",
      " |          String based chain ID of the single chain you wish to mutate.\n",
      " |      \n",
      " |      Notes\n",
      " |      -----\n",
      " |      \n",
      " |      We require three letter codes to avoid possible ambiguitities.\n",
      " |      We can't guarantee that the resulting model is a good one; for\n",
      " |      significant changes in sequence, you should probably be using\n",
      " |      a standalone homology modelling tool.\n",
      " |      \n",
      " |      Examples\n",
      " |      --------\n",
      " |      \n",
      " |      Find nonstandard residues.\n",
      " |      \n",
      " |      >>> fixer = PDBFixer(pdbid='1VII')\n",
      " |      >>> fixer.applyMutations([\"ALA-57-GLY\"], \"A\")\n",
      " |      >>> fixer.findMissingResidues()\n",
      " |      >>> fixer.findMissingAtoms()\n",
      " |      >>> fixer.addMissingAtoms()\n",
      " |      >>> fixer.addMissingHydrogens(7.0)\n",
      " |  \n",
      " |  findMissingAtoms(self)\n",
      " |      Find heavy atoms that are missing from the structure.\n",
      " |      \n",
      " |      The results are stored into two fields: missingAtoms and missingTerminals.  Each of these is a dict whose keys\n",
      " |      are Residue objects and whose values are lists of atom names.  missingAtoms contains standard atoms that should\n",
      " |      be present in any residue of that type.  missingTerminals contains terminal atoms that should be present at the\n",
      " |      start or end of a chain.\n",
      " |      \n",
      " |      Notes\n",
      " |      -----\n",
      " |      You must have first called findMissingResidues().\n",
      " |      \n",
      " |      Examples\n",
      " |      --------\n",
      " |      \n",
      " |      Find missing heavy atoms in Abl kinase structure.\n",
      " |      \n",
      " |      >>> fixer = PDBFixer(pdbid='2F4J')\n",
      " |      >>> fixer.findMissingResidues()\n",
      " |      >>> fixer.findMissingAtoms()\n",
      " |      >>> # Retrieve missing atoms.\n",
      " |      >>> missingAtoms = fixer.missingAtoms\n",
      " |      >>> # Retrieve missing terminal atoms.\n",
      " |      >>> missingTerminals = fixer.missingTerminals\n",
      " |  \n",
      " |  findMissingResidues(self)\n",
      " |      Find residues that are missing from the structure.\n",
      " |      \n",
      " |      The results are stored into the missingResidues field, which is a dict.  Each key is a tuple consisting of\n",
      " |      the index of a chain, and the residue index within that chain at which new residues should be inserted.\n",
      " |      The corresponding value is a list of the names of residues to insert there.\n",
      " |      \n",
      " |      Examples\n",
      " |      --------\n",
      " |      \n",
      " |      >>> fixer = PDBFixer(pdbid='1VII')\n",
      " |      >>> fixer.findMissingResidues()\n",
      " |      >>> missing_residues = fixer.missingResidues\n",
      " |  \n",
      " |  findNonstandardResidues(self)\n",
      " |      Identify non-standard residues found in the structure, and select standard residues to replace them with.\n",
      " |      \n",
      " |      The results are stored into the nonstandardResidues field, which is a map of Residue objects to the names\n",
      " |      of suggested replacement residues.\n",
      " |      \n",
      " |      Examples\n",
      " |      --------\n",
      " |      \n",
      " |      Find nonstandard residues.\n",
      " |      \n",
      " |      >>> fixer = PDBFixer(pdbid='1YRI')\n",
      " |      >>> fixer.findNonstandardResidues()\n",
      " |      >>> nonstandard_residues = fixer.nonstandardResidues\n",
      " |  \n",
      " |  removeChains(self, chainIndices=None, chainIds=None)\n",
      " |      Remove a set of chains from the structure.\n",
      " |      \n",
      " |      Parameters\n",
      " |      ----------\n",
      " |      chainIndices : list of int, optional, default=None\n",
      " |          List of indices of chains to remove.\n",
      " |      chainIds : list of str, optional, default=None\n",
      " |          List of chain ids of chains to remove.\n",
      " |      \n",
      " |      Examples\n",
      " |      --------\n",
      " |      \n",
      " |      Load a PDB file with two chains and eliminate the second chain.\n",
      " |      \n",
      " |      >>> fixer = PDBFixer(pdbid='4J7F')\n",
      " |      >>> fixer.removeChains(chainIndices=[1])\n",
      " |      \n",
      " |      Load a PDB file with two chains and eliminate chains named 'B' and 'D'.\n",
      " |      \n",
      " |      >>> fixer = PDBFixer(pdbid='4J7F')\n",
      " |      >>> fixer.removeChains(chainIds=['B','D'])\n",
      " |  \n",
      " |  removeHeterogens(self, keepWater=True)\n",
      " |      Remove all heterogens from the structure.\n",
      " |      \n",
      " |      Parameters\n",
      " |      ----------\n",
      " |      keepWater : bool, optional, default=True\n",
      " |          If True, water molecules will not be removed.\n",
      " |      \n",
      " |      Examples\n",
      " |      --------\n",
      " |      \n",
      " |      Remove heterogens in Abl structure complexed with imatinib.\n",
      " |      \n",
      " |      >>> fixer = PDBFixer(pdbid='2F4J')\n",
      " |      >>> fixer.removeHeterogens(keepWater=False)\n",
      " |  \n",
      " |  replaceNonstandardResidues(self)\n",
      " |      Replace every residue listed in the nonstandardResidues field with the specified standard residue.\n",
      " |      \n",
      " |      Notes\n",
      " |      -----\n",
      " |      You must have first called findNonstandardResidues() to identify nonstandard residues.\n",
      " |      \n",
      " |      Examples\n",
      " |      --------\n",
      " |      \n",
      " |      Find and replace nonstandard residues using replacement templates stored in the 'templates' field of PDBFixer object.\n",
      " |      \n",
      " |      >>> fixer = PDBFixer(pdbid='1YRI')\n",
      " |      >>> fixer.findNonstandardResidues()\n",
      " |      >>> fixer.replaceNonstandardResidues()\n",
      " |  \n",
      " |  ----------------------------------------------------------------------\n",
      " |  Data descriptors defined here:\n",
      " |  \n",
      " |  __dict__\n",
      " |      dictionary for instance variables (if defined)\n",
      " |  \n",
      " |  __weakref__\n",
      " |      list of weak references to the object (if defined)\n",
      "\n"
     ]
    }
   ],
   "source": [
    "help(PDBFixer)"
   ]
  },
  {
   "cell_type": "code",
   "execution_count": 33,
   "id": "e9e51673-143a-4afe-a296-5af71e7d0b19",
   "metadata": {},
   "outputs": [],
   "source": [
    "fixer = PDBFixer(filename='brns_brstr.pdb')"
   ]
  },
  {
   "cell_type": "code",
   "execution_count": 34,
   "id": "1dfa6c59-bb6c-48da-b5dd-3811bf526353",
   "metadata": {},
   "outputs": [
    {
     "data": {
      "text/plain": [
       "<Topology; 2 chains, 196 residues, 964 atoms, 899 bonds>"
      ]
     },
     "execution_count": 34,
     "metadata": {},
     "output_type": "execute_result"
    }
   ],
   "source": [
    "fixer.topology"
   ]
  },
  {
   "cell_type": "code",
   "execution_count": 35,
   "id": "842a7441-e52b-4617-9282-52153665c705",
   "metadata": {},
   "outputs": [
    {
     "name": "stderr",
     "output_type": "stream",
     "text": [
      "Warning: importing 'simtk.openmm' is deprecated.  Import 'openmm' instead.\n"
     ]
    },
    {
     "name": "stdout",
     "output_type": "stream",
     "text": [
      "0 missing residues\n",
      "0 non standard residues\n",
      "86 missing atoms\n",
      "1 missing terminals\n"
     ]
    }
   ],
   "source": [
    "fixer.findMissingResidues()\n",
    "missing_residues = fixer.missingResidues\n",
    "print(f\"{len(missing_residues)} missing residues\")\n",
    "\n",
    "fixer.findNonstandardResidues()\n",
    "nonstandard_residues = fixer.nonstandardResidues\n",
    "print(f\"{len(nonstandard_residues)} non standard residues\")\n",
    "\n",
    "fixer.findMissingAtoms()\n",
    "missing_atoms = fixer.missingAtoms\n",
    "missing_terminals = fixer.missingTerminals\n",
    "print(f\"{len(missing_atoms)} missing atoms\")\n",
    "print(f\"{len(missing_terminals)} missing terminals\")\n",
    "\n",
    "if len(nonstandard_residues)>0:\n",
    "    fixer.replaceNonstandardResidues()\n",
    "\n",
    "if len(missing_atoms)>0:\n",
    "    fixer.addMissingAtoms()"
   ]
  },
  {
   "cell_type": "code",
   "execution_count": 36,
   "id": "7873e035-aa3f-460f-bb94-bc0e277bcfe5",
   "metadata": {},
   "outputs": [],
   "source": [
    "forcefield = app.ForceField('amber14-all.xml', 'amber14/tip3p.xml')"
   ]
  },
  {
   "cell_type": "code",
   "execution_count": 37,
   "id": "688b8b07-c656-44e9-966c-82f7b88cb045",
   "metadata": {},
   "outputs": [],
   "source": [
    "modeller = app.Modeller(fixer.topology, fixer.positions)\n",
    "pH = 7.2\n",
    "residues_protonated = modeller.addHydrogens(forcefield=forcefield, pH=pH)"
   ]
  },
  {
   "cell_type": "code",
   "execution_count": 38,
   "id": "5ae95e63-7f24-460d-9eae-bd092e5b5e87",
   "metadata": {},
   "outputs": [],
   "source": [
    "system = forcefield.createSystem(modeller.topology, nonbondedMethod=app.NoCutoff)\n",
    "\n",
    "charge = 0.0 * unit.elementary_charge\n",
    "for force_index in range(system.getNumForces()):\n",
    "    force = system.getForce(force_index)\n",
    "    if isinstance(force, mm.NonbondedForce):\n",
    "        for index in range(system.getNumParticles()):\n",
    "            charge+=force.getParticleParameters(int(index))[0]\n",
    "\n",
    "charge = np.round(charge._value)*charge.unit"
   ]
  },
  {
   "cell_type": "code",
   "execution_count": 39,
   "id": "9fa33a57-54c2-4dfd-b032-45164e093b56",
   "metadata": {},
   "outputs": [
    {
     "data": {
      "text/plain": [
       "Quantity(value=-4.0, unit=elementary charge)"
      ]
     },
     "execution_count": 39,
     "metadata": {},
     "output_type": "execute_result"
    }
   ],
   "source": [
    "charge"
   ]
  },
  {
   "cell_type": "code",
   "execution_count": 40,
   "id": "80b98d8a-bb06-4405-b911-66e5c9353511",
   "metadata": {},
   "outputs": [],
   "source": [
    "app.PDBFile.writeFile(modeller.topology, modeller.positions, open('brs_full.pdb', 'w'))"
   ]
  },
  {
   "cell_type": "code",
   "execution_count": 41,
   "id": "f23005e6-381e-4d00-b2bb-5bd3b2a1c198",
   "metadata": {},
   "outputs": [
    {
     "data": {
      "application/vnd.jupyter.widget-view+json": {
       "model_id": "c8968a5a7ef545d0a4d5e29bc48745e0",
       "version_major": 2,
       "version_minor": 0
      },
      "text/plain": [
       "NGLWidget()"
      ]
     },
     "metadata": {},
     "output_type": "display_data"
    }
   ],
   "source": [
    "uu = md.load(\"brs_full.pdb\")\n",
    "view = nv.show_mdtraj(uu)\n",
    "view"
   ]
  },
  {
   "cell_type": "code",
   "execution_count": 42,
   "id": "39d8c4ca-1fe1-4b1a-ba73-6ae3f5fa734a",
   "metadata": {},
   "outputs": [],
   "source": [
    "# Solvate system\n",
    "\n",
    "pdb = app.PDBFile('brs_full.pdb')\n",
    "forcefield = app.ForceField('amber14-all.xml', 'amber14/tip3p.xml')\n",
    "modeller = app.Modeller(pdb.topology, pdb.positions)"
   ]
  },
  {
   "cell_type": "code",
   "execution_count": 43,
   "id": "1a8aaf75-733f-4434-80fe-3314d736416d",
   "metadata": {},
   "outputs": [],
   "source": [
    "geompadding = 1.4 * unit.nanometers\n",
    "maxSize = max(max((pos[i] for pos in pdb.positions))-min((pos[i] for pos in pdb.positions)) for i in range(3))\n",
    "vectors = mm.Vec3(1,0,0), mm.Vec3(1/3,2*sqrt(2)/3,0), mm.Vec3(-1/3,sqrt(2)/3,sqrt(6)/3)\n",
    "boxVectors = [(maxSize+geompadding)*v for v in vectors]"
   ]
  },
  {
   "cell_type": "code",
   "execution_count": 44,
   "id": "ba4a5f5c-2bc3-4fed-89be-367e44a6d649",
   "metadata": {},
   "outputs": [],
   "source": [
    "modeller.addSolvent(forcefield, model='tip3p', boxVectors=boxVectors)"
   ]
  },
  {
   "cell_type": "code",
   "execution_count": 45,
   "id": "c278e6e5-83c1-4dc8-b556-e5585d3a0007",
   "metadata": {},
   "outputs": [],
   "source": [
    "app.PDBFile.writeFile(modeller.topology, modeller.positions, open('brns-solv.pdb', 'w'))"
   ]
  },
  {
   "cell_type": "code",
   "execution_count": 46,
   "id": "01d8ce56-e3cd-442c-8a5f-18612b7de27e",
   "metadata": {
    "tags": []
   },
   "outputs": [
    {
     "data": {
      "application/vnd.jupyter.widget-view+json": {
       "model_id": "1605d001155d45fbb028f347e40a436f",
       "version_major": 2,
       "version_minor": 0
      },
      "text/plain": [
       "NGLWidget()"
      ]
     },
     "metadata": {},
     "output_type": "display_data"
    }
   ],
   "source": [
    "uu = md.load_pdb('brns-solv.pdb')\n",
    "view = nv.show_mdtraj(uu)\n",
    "view.add_licorice(selection='water')\n",
    "view"
   ]
  },
  {
   "cell_type": "markdown",
   "id": "4247910b-4485-49a8-b87a-5368a9c092bf",
   "metadata": {
    "tags": []
   },
   "source": [
    "## System Minimization"
   ]
  },
  {
   "cell_type": "code",
   "execution_count": null,
   "id": "4c78629e-7a4f-4cef-9ec5-bd97746c4221",
   "metadata": {},
   "outputs": [],
   "source": []
  }
 ],
 "metadata": {
  "kernelspec": {
   "display_name": "Python 3 (ipykernel)",
   "language": "python",
   "name": "python3"
  },
  "language_info": {
   "codemirror_mode": {
    "name": "ipython",
    "version": 3
   },
   "file_extension": ".py",
   "mimetype": "text/x-python",
   "name": "python",
   "nbconvert_exporter": "python",
   "pygments_lexer": "ipython3",
   "version": "3.9.10"
  }
 },
 "nbformat": 4,
 "nbformat_minor": 5
}
