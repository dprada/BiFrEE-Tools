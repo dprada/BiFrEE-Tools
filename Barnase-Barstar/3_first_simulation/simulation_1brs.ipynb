{
 "cells": [
  {
   "cell_type": "code",
   "execution_count": 1,
   "id": "18906596-6c0e-434f-b339-e401fbcb383d",
   "metadata": {},
   "outputs": [
    {
     "data": {
      "application/vnd.jupyter.widget-view+json": {
       "model_id": "bc29e6c157de4de78679be1875f29f8b",
       "version_major": 2,
       "version_minor": 0
      },
      "text/plain": []
     },
     "metadata": {},
     "output_type": "display_data"
    }
   ],
   "source": [
    "import os\n",
    "\n",
    "import openmm as mm\n",
    "from openmm.app import *\n",
    "from openmm import unit\n",
    "from openmm import app\n",
    "from pdbfixer import PDBFixer\n",
    "import mdtraj as md\n",
    "import nglview as nv\n",
    "import requests\n",
    "import numpy as np\n",
    "from math import sqrt\n",
    "from tqdm import tqdm\n",
    "import matplotlib.pyplot as plt"
   ]
  },
  {
   "cell_type": "markdown",
   "id": "1b689ecf-cfef-41bd-b9a0-f0658b5d05e6",
   "metadata": {
    "tags": []
   },
   "source": [
    "# Barnase-Barstar Simulation"
   ]
  },
  {
   "cell_type": "markdown",
   "id": "8bbbdfcb-24cd-4b39-8973-71a434c06914",
   "metadata": {
    "tags": []
   },
   "source": [
    "## System Analysis"
   ]
  },
  {
   "cell_type": "code",
   "execution_count": 2,
   "id": "9648320d-dbc7-4174-a73a-bf5c037c5bb9",
   "metadata": {},
   "outputs": [],
   "source": [
    "# Function to download PDB files\n",
    "\n",
    "def fetch_pdb(pdb_id, download_path=\"./\"):\n",
    "\n",
    "        url = 'http://files.rcsb.org/download/{}.pdb'.format(pdb_id)\n",
    "        try:\n",
    "            res = requests.get(url, allow_redirects=True)\n",
    "        except:\n",
    "            print(\"Could not fetch pdb from {}\".format(url))\n",
    "            return \n",
    "        \n",
    "        file_path = os.path.join(download_path, pdb_id + \".pdb\")\n",
    "        with open(file_path, \"wb\") as f:\n",
    "            f.write(res.content)"
   ]
  },
  {
   "cell_type": "code",
   "execution_count": 3,
   "id": "63f29b8b-1dd9-457c-b364-e4b87147cd4f",
   "metadata": {},
   "outputs": [],
   "source": [
    "# Just write the PDB id in order to download the pdb file\n",
    "\n",
    "fetch_pdb(\"1brs\")"
   ]
  },
  {
   "cell_type": "code",
   "execution_count": 4,
   "id": "cdfeb4fb-2ea5-4ad5-bd24-1bbced98b4c7",
   "metadata": {},
   "outputs": [],
   "source": [
    "# Load pdb with MDTraj\n",
    "\n",
    "brs = md.load('1brs.pdb')"
   ]
  },
  {
   "cell_type": "code",
   "execution_count": 5,
   "id": "871fb1ed-255f-40a0-93b1-6728f5f29e04",
   "metadata": {},
   "outputs": [],
   "source": [
    "# Remove water molecules\n",
    "\n",
    "brs = brs.remove_solvent()"
   ]
  },
  {
   "cell_type": "code",
   "execution_count": 6,
   "id": "055e4db1-2c9e-484d-90f2-92be4b57191b",
   "metadata": {},
   "outputs": [
    {
     "data": {
      "text/plain": [
       "<mdtraj.Topology with 6 chains, 588 residues, 4638 atoms, 4740 bonds at 0x7fe425f43850>"
      ]
     },
     "execution_count": 6,
     "metadata": {},
     "output_type": "execute_result"
    }
   ],
   "source": [
    "brs.topology"
   ]
  },
  {
   "cell_type": "code",
   "execution_count": 7,
   "id": "df598b8d-306d-45b4-8981-f65f2da4f659",
   "metadata": {},
   "outputs": [],
   "source": [
    "# Barnase's chains\n",
    "\n",
    "atoms_in_chain_A = brs.topology.select(\"chainid == 0\")\n",
    "atoms_in_chain_B = brs.topology.select(\"chainid == 1\")\n",
    "atoms_in_chain_C = brs.topology.select(\"chainid == 2\")"
   ]
  },
  {
   "cell_type": "code",
   "execution_count": 8,
   "id": "5daf3e41-6cf0-4746-89be-3d74513ffc12",
   "metadata": {},
   "outputs": [],
   "source": [
    "# Barstar's chains\n",
    "\n",
    "atoms_in_chain_D = brs.topology.select(\"chainid == 3\")\n",
    "atoms_in_chain_E = brs.topology.select(\"chainid == 4\")\n",
    "atoms_in_chain_F = brs.topology.select(\"chainid == 5\")"
   ]
  },
  {
   "cell_type": "code",
   "execution_count": 9,
   "id": "fd26cdea-940b-4636-ab5c-6c82d26f24dd",
   "metadata": {},
   "outputs": [],
   "source": [
    "# Barnase's chain's atoms\n",
    "\n",
    "barnase_A = brs.atom_slice(atoms_in_chain_A)\n",
    "barnase_B = brs.atom_slice(atoms_in_chain_B)\n",
    "barnase_C = brs.atom_slice(atoms_in_chain_C)"
   ]
  },
  {
   "cell_type": "code",
   "execution_count": 10,
   "id": "20432d05-4050-4a07-918b-17da37fdd538",
   "metadata": {},
   "outputs": [],
   "source": [
    "# Barstar's chain's atoms\n",
    "\n",
    "barstar_D = brs.atom_slice(atoms_in_chain_D)\n",
    "barstar_E = brs.atom_slice(atoms_in_chain_E)\n",
    "barstar_F = brs.atom_slice(atoms_in_chain_F)"
   ]
  },
  {
   "cell_type": "code",
   "execution_count": 11,
   "id": "7de356a1-834f-4582-b6bd-31fb212879ef",
   "metadata": {},
   "outputs": [
    {
     "name": "stdout",
     "output_type": "stream",
     "text": [
      "Barnase has 864 atoms and 108 residues in A\n",
      "Barnase has 878 atoms and 110 residues in B\n",
      "Barnase has 839 atoms and 108 residues in C\n"
     ]
    }
   ],
   "source": [
    "print(f'Barnase has {barnase_A.n_atoms} atoms and {barnase_A.n_residues} residues in A')\n",
    "print(f'Barnase has {barnase_B.n_atoms} atoms and {barnase_B.n_residues} residues in B')\n",
    "print(f'Barnase has {barnase_C.n_atoms} atoms and {barnase_C.n_residues} residues in C')"
   ]
  },
  {
   "cell_type": "code",
   "execution_count": 12,
   "id": "e443f7b7-4392-4b61-9ef1-5b9182ce58dd",
   "metadata": {},
   "outputs": [
    {
     "name": "stdout",
     "output_type": "stream",
     "text": [
      "Barstar has 693 atoms and 87 residues in D\n",
      "Barstar has 665 atoms and 86 residues in E\n",
      "Barstar has 699 atoms and 89 residues in F\n"
     ]
    }
   ],
   "source": [
    "print(f'Barstar has {barstar_D.n_atoms} atoms and {barstar_D.n_residues} residues in D')\n",
    "print(f'Barstar has {barstar_E.n_atoms} atoms and {barstar_E.n_residues} residues in E')\n",
    "print(f'Barstar has {barstar_F.n_atoms} atoms and {barstar_F.n_residues} residues in F')"
   ]
  },
  {
   "cell_type": "markdown",
   "id": "a88d0d85-e4e9-47f6-abb8-6c1b79e8bf14",
   "metadata": {},
   "source": [
    "<div class=\"alert alert-info\">\n",
    "<strong>NOTE:</strong> We conclude chain B and F will be optimal to work.\n",
    "</div>\n"
   ]
  },
  {
   "cell_type": "code",
   "execution_count": 13,
   "id": "e0b83838-af35-454b-a439-47125d5b555e",
   "metadata": {
    "tags": []
   },
   "outputs": [
    {
     "data": {
      "application/vnd.jupyter.widget-view+json": {
       "model_id": "1926f2f34d8f4cbb8fa3da3a8d2c3f57",
       "version_major": 2,
       "version_minor": 0
      },
      "text/plain": [
       "NGLWidget()"
      ]
     },
     "metadata": {},
     "output_type": "display_data"
    }
   ],
   "source": [
    "view = nv.show_mdtraj(brs)\n",
    "view"
   ]
  },
  {
   "cell_type": "markdown",
   "id": "7d545758-0026-44c5-9e87-f95aafce193b",
   "metadata": {},
   "source": [
    "<div class=\"alert alert-info\">\n",
    "<strong>NOTE:</strong> Superpose F with E.\n",
    "</div>"
   ]
  },
  {
   "cell_type": "markdown",
   "id": "a252e660-a016-4801-a7ea-72c304753b9f",
   "metadata": {
    "tags": []
   },
   "source": [
    "## System Preparation"
   ]
  },
  {
   "cell_type": "code",
   "execution_count": 14,
   "id": "355ade7d-d9dc-4855-a259-3fbe5892ff94",
   "metadata": {},
   "outputs": [],
   "source": [
    "ca_in_chain_E = brs.topology.select(\"chainid == 4 and name CA\")\n",
    "ca_in_chain_F = brs.topology.select(\"chainid == 5 and name CA\")"
   ]
  },
  {
   "cell_type": "code",
   "execution_count": 15,
   "id": "b1d51132-4a1e-483b-b0dd-cb23b69174f8",
   "metadata": {},
   "outputs": [],
   "source": [
    "chain_E = brs.atom_slice(ca_in_chain_E)\n",
    "chain_F = brs.atom_slice(ca_in_chain_F)"
   ]
  },
  {
   "cell_type": "code",
   "execution_count": 16,
   "id": "060eb50e-61d4-430d-8c45-53b4030d0ebb",
   "metadata": {},
   "outputs": [],
   "source": [
    "ca_name_in_E = []\n",
    "for atom in chain_E.topology.atoms_by_name('CA'):\n",
    "    ca_name_in_E.append(str(atom))"
   ]
  },
  {
   "cell_type": "code",
   "execution_count": 17,
   "id": "ce916bc3-e6ef-4c68-a3f9-671f6473d534",
   "metadata": {},
   "outputs": [],
   "source": [
    "ca_name_in_F = []\n",
    "for atom in chain_F.topology.atoms_by_name('CA'):\n",
    "    ca_name_in_F.append(str(atom))"
   ]
  },
  {
   "cell_type": "code",
   "execution_count": 18,
   "id": "14178f0f-b2b7-44d0-be52-83f99f8d71c7",
   "metadata": {},
   "outputs": [],
   "source": [
    "index = []\n",
    "\n",
    "for x in ca_name_in_F:    #Lista grande\n",
    "    for y in ca_name_in_E:    #Lista pequeña\n",
    "        if x in y:\n",
    "            index.append(True)\n",
    "            break\n",
    "    else:\n",
    "        index.append(False)"
   ]
  },
  {
   "cell_type": "code",
   "execution_count": 19,
   "id": "5a9078ed-9fdf-408a-80ed-e9099474019c",
   "metadata": {},
   "outputs": [],
   "source": [
    "ca_in_chain_G = []\n",
    "\n",
    "for uu in range(len(index)):\n",
    "    if index[uu] == True:\n",
    "        ca_in_chain_G.append(ca_in_chain_F[uu])\n",
    "        \n",
    "ca_in_chain_G = np.array(ca_in_chain_G)"
   ]
  },
  {
   "cell_type": "code",
   "execution_count": 20,
   "id": "401fa3ce-5af2-47f6-8c98-05ff93adf267",
   "metadata": {},
   "outputs": [
    {
     "data": {
      "text/plain": [
       "<mdtraj.Trajectory with 1 frames, 86 atoms, 86 residues, and unitcells at 0x7fe4263e8090>"
      ]
     },
     "execution_count": 20,
     "metadata": {},
     "output_type": "execute_result"
    }
   ],
   "source": [
    "traj_E = brs.atom_slice(ca_in_chain_E)\n",
    "traj_E"
   ]
  },
  {
   "cell_type": "code",
   "execution_count": 21,
   "id": "76f2b340-077f-49c0-af34-faf3feebf654",
   "metadata": {},
   "outputs": [
    {
     "data": {
      "text/plain": [
       "<mdtraj.Trajectory with 1 frames, 86 atoms, 86 residues, and unitcells at 0x7fe4263faa90>"
      ]
     },
     "execution_count": 21,
     "metadata": {},
     "output_type": "execute_result"
    }
   ],
   "source": [
    "traj_F = brs.atom_slice(ca_in_chain_G)\n",
    "traj_F"
   ]
  },
  {
   "cell_type": "code",
   "execution_count": 22,
   "id": "c20d49f7-8ee6-45db-ba10-f730147d222b",
   "metadata": {},
   "outputs": [],
   "source": [
    "brstr_to_B = md.Trajectory.superpose(traj_F, traj_E, frame=0)"
   ]
  },
  {
   "cell_type": "code",
   "execution_count": 23,
   "id": "a8d44cd3-58b2-4f7c-9d47-7c6d9f6d9b42",
   "metadata": {
    "tags": []
   },
   "outputs": [
    {
     "data": {
      "application/vnd.jupyter.widget-view+json": {
       "model_id": "fc4fcee42cf94452bc02564420512ac2",
       "version_major": 2,
       "version_minor": 0
      },
      "text/plain": [
       "NGLWidget()"
      ]
     },
     "metadata": {},
     "output_type": "display_data"
    }
   ],
   "source": [
    "pp = nv.show_mdtraj(brstr_to_B)\n",
    "pp"
   ]
  },
  {
   "cell_type": "code",
   "execution_count": 24,
   "id": "f55ec07d-2343-41e8-8683-1dc4142d4813",
   "metadata": {
    "tags": []
   },
   "outputs": [
    {
     "data": {
      "application/vnd.jupyter.widget-view+json": {
       "model_id": "873859aa45a440488fca893ab210457e",
       "version_major": 2,
       "version_minor": 0
      },
      "text/plain": [
       "NGLWidget()"
      ]
     },
     "metadata": {},
     "output_type": "display_data"
    }
   ],
   "source": [
    "qq = nv.show_mdtraj(barnase_B)\n",
    "qq"
   ]
  },
  {
   "cell_type": "code",
   "execution_count": 25,
   "id": "25da516e-25d2-424f-bd58-c1747aaa8ddd",
   "metadata": {},
   "outputs": [],
   "source": [
    "brns_brstr = barnase_B.stack(brstr_to_B)"
   ]
  },
  {
   "cell_type": "code",
   "execution_count": 26,
   "id": "b47162fc-2ffe-4370-aa6f-119e0cd42133",
   "metadata": {
    "tags": []
   },
   "outputs": [
    {
     "data": {
      "application/vnd.jupyter.widget-view+json": {
       "model_id": "feec35a70cfb4872b9080bbf1f7119ff",
       "version_major": 2,
       "version_minor": 0
      },
      "text/plain": [
       "NGLWidget()"
      ]
     },
     "metadata": {},
     "output_type": "display_data"
    }
   ],
   "source": [
    "uu = nv.show_mdtraj(brns_brstr)\n",
    "uu"
   ]
  },
  {
   "cell_type": "code",
   "execution_count": 27,
   "id": "ca0aa7fd-d191-486e-a10a-312c8c3a9c21",
   "metadata": {},
   "outputs": [],
   "source": [
    "brns_brstr.save_pdb('brs.pdb')"
   ]
  },
  {
   "cell_type": "code",
   "execution_count": 28,
   "id": "e9e51673-143a-4afe-a296-5af71e7d0b19",
   "metadata": {},
   "outputs": [],
   "source": [
    "fixer = PDBFixer(filename='brs.pdb')"
   ]
  },
  {
   "cell_type": "code",
   "execution_count": 29,
   "id": "1dfa6c59-bb6c-48da-b5dd-3811bf526353",
   "metadata": {},
   "outputs": [
    {
     "data": {
      "text/plain": [
       "<Topology; 2 chains, 196 residues, 964 atoms, 899 bonds>"
      ]
     },
     "execution_count": 29,
     "metadata": {},
     "output_type": "execute_result"
    }
   ],
   "source": [
    "fixer.topology"
   ]
  },
  {
   "cell_type": "code",
   "execution_count": 30,
   "id": "842a7441-e52b-4617-9282-52153665c705",
   "metadata": {},
   "outputs": [
    {
     "name": "stderr",
     "output_type": "stream",
     "text": [
      "Warning: importing 'simtk.openmm' is deprecated.  Import 'openmm' instead.\n"
     ]
    },
    {
     "name": "stdout",
     "output_type": "stream",
     "text": [
      "0 missing residues\n",
      "0 non standard residues\n",
      "86 missing atoms\n",
      "1 missing terminals\n"
     ]
    }
   ],
   "source": [
    "fixer.findMissingResidues()\n",
    "missing_residues = fixer.missingResidues\n",
    "print(f\"{len(missing_residues)} missing residues\")\n",
    "\n",
    "fixer.findNonstandardResidues()\n",
    "nonstandard_residues = fixer.nonstandardResidues\n",
    "print(f\"{len(nonstandard_residues)} non standard residues\")\n",
    "\n",
    "fixer.findMissingAtoms()\n",
    "missing_atoms = fixer.missingAtoms\n",
    "missing_terminals = fixer.missingTerminals\n",
    "print(f\"{len(missing_atoms)} missing atoms\")\n",
    "print(f\"{len(missing_terminals)} missing terminals\")\n",
    "\n",
    "if len(nonstandard_residues)>0:\n",
    "    fixer.replaceNonstandardResidues()\n",
    "\n",
    "if len(missing_atoms)>0:\n",
    "    fixer.addMissingAtoms()"
   ]
  },
  {
   "cell_type": "code",
   "execution_count": 31,
   "id": "7873e035-aa3f-460f-bb94-bc0e277bcfe5",
   "metadata": {},
   "outputs": [],
   "source": [
    "forcefield = app.ForceField('amber14-all.xml', 'amber14/tip3p.xml')"
   ]
  },
  {
   "cell_type": "code",
   "execution_count": 32,
   "id": "688b8b07-c656-44e9-966c-82f7b88cb045",
   "metadata": {},
   "outputs": [],
   "source": [
    "modeller = app.Modeller(fixer.topology, fixer.positions)\n",
    "pH = 7.2\n",
    "residues_protonated = modeller.addHydrogens(forcefield=forcefield, pH=pH)"
   ]
  },
  {
   "cell_type": "code",
   "execution_count": 33,
   "id": "5ae95e63-7f24-460d-9eae-bd092e5b5e87",
   "metadata": {},
   "outputs": [],
   "source": [
    "system = forcefield.createSystem(modeller.topology, nonbondedMethod=app.NoCutoff)\n",
    "\n",
    "charge = 0.0 * unit.elementary_charge\n",
    "for force_index in range(system.getNumForces()):\n",
    "    force = system.getForce(force_index)\n",
    "    if isinstance(force, mm.NonbondedForce):\n",
    "        for index in range(system.getNumParticles()):\n",
    "            charge+=force.getParticleParameters(int(index))[0]\n",
    "\n",
    "charge = np.round(charge._value)*charge.unit"
   ]
  },
  {
   "cell_type": "code",
   "execution_count": 34,
   "id": "9fa33a57-54c2-4dfd-b032-45164e093b56",
   "metadata": {},
   "outputs": [
    {
     "data": {
      "text/plain": [
       "Quantity(value=-4.0, unit=elementary charge)"
      ]
     },
     "execution_count": 34,
     "metadata": {},
     "output_type": "execute_result"
    }
   ],
   "source": [
    "charge"
   ]
  },
  {
   "cell_type": "code",
   "execution_count": 35,
   "id": "80b98d8a-bb06-4405-b911-66e5c9353511",
   "metadata": {},
   "outputs": [],
   "source": [
    "app.PDBFile.writeFile(modeller.topology, modeller.positions, open('brs_full.pdb', 'w'))"
   ]
  },
  {
   "cell_type": "code",
   "execution_count": 36,
   "id": "f23005e6-381e-4d00-b2bb-5bd3b2a1c198",
   "metadata": {
    "tags": []
   },
   "outputs": [
    {
     "data": {
      "application/vnd.jupyter.widget-view+json": {
       "model_id": "bdaed2056a244d58a9a9c0eed0d71874",
       "version_major": 2,
       "version_minor": 0
      },
      "text/plain": [
       "NGLWidget()"
      ]
     },
     "metadata": {},
     "output_type": "display_data"
    }
   ],
   "source": [
    "uu = md.load(\"brs_full.pdb\")\n",
    "view = nv.show_mdtraj(uu)\n",
    "view"
   ]
  },
  {
   "cell_type": "code",
   "execution_count": 37,
   "id": "39d8c4ca-1fe1-4b1a-ba73-6ae3f5fa734a",
   "metadata": {},
   "outputs": [],
   "source": [
    "# Solvate system\n",
    "\n",
    "pdb = app.PDBFile('brs_full.pdb')\n",
    "forcefield = app.ForceField('amber14-all.xml', 'amber14/tip3p.xml')\n",
    "modeller = app.Modeller(pdb.topology, pdb.positions)"
   ]
  },
  {
   "cell_type": "code",
   "execution_count": 38,
   "id": "1a8aaf75-733f-4434-80fe-3314d736416d",
   "metadata": {},
   "outputs": [],
   "source": [
    "geompadding = 1.4 * unit.nanometers\n",
    "maxSize = max(max((pos[i] for pos in pdb.positions))-min((pos[i] for pos in pdb.positions)) for i in range(3))\n",
    "vectors = mm.Vec3(1,0,0), mm.Vec3(1/3,2*sqrt(2)/3,0), mm.Vec3(-1/3,sqrt(2)/3,sqrt(6)/3)\n",
    "boxVectors = [(maxSize+geompadding)*v for v in vectors]"
   ]
  },
  {
   "cell_type": "code",
   "execution_count": 39,
   "id": "ba4a5f5c-2bc3-4fed-89be-367e44a6d649",
   "metadata": {},
   "outputs": [],
   "source": [
    "modeller.addSolvent(forcefield, model='tip3p', boxVectors=boxVectors)"
   ]
  },
  {
   "cell_type": "code",
   "execution_count": 40,
   "id": "c278e6e5-83c1-4dc8-b556-e5585d3a0007",
   "metadata": {},
   "outputs": [],
   "source": [
    "app.PDBFile.writeFile(modeller.topology, modeller.positions, open('brs_solv.pdb', 'w'))"
   ]
  },
  {
   "cell_type": "code",
   "execution_count": 41,
   "id": "01d8ce56-e3cd-442c-8a5f-18612b7de27e",
   "metadata": {
    "tags": []
   },
   "outputs": [
    {
     "data": {
      "application/vnd.jupyter.widget-view+json": {
       "model_id": "a34c7b811abe4bbfa46335fdb43614c2",
       "version_major": 2,
       "version_minor": 0
      },
      "text/plain": [
       "NGLWidget()"
      ]
     },
     "metadata": {},
     "output_type": "display_data"
    }
   ],
   "source": [
    "uu = md.load_pdb('brs_solv.pdb')\n",
    "view = nv.show_mdtraj(uu)\n",
    "view.add_licorice(selection='water')\n",
    "view"
   ]
  },
  {
   "cell_type": "markdown",
   "id": "4247910b-4485-49a8-b87a-5368a9c092bf",
   "metadata": {
    "tags": []
   },
   "source": [
    "## System Minimization"
   ]
  },
  {
   "cell_type": "code",
   "execution_count": 42,
   "id": "4c78629e-7a4f-4cef-9ec5-bd97746c4221",
   "metadata": {},
   "outputs": [],
   "source": [
    "pdb = PDBFile('brs_solv.pdb') # Sistema Solvatado"
   ]
  },
  {
   "cell_type": "code",
   "execution_count": 43,
   "id": "c1950912-6254-4c50-b20d-1a8377b274cb",
   "metadata": {},
   "outputs": [],
   "source": [
    "pdb_v = PDBFile('brs_full.pdb') #Sistema Vacio"
   ]
  },
  {
   "cell_type": "code",
   "execution_count": 44,
   "id": "33fa9bc3-9e88-4065-93a4-41ad97826671",
   "metadata": {},
   "outputs": [
    {
     "ename": "FileNotFoundError",
     "evalue": "[Errno 2] No such file or directory: 'brs_a.pdb'",
     "output_type": "error",
     "traceback": [
      "\u001b[0;31m---------------------------------------------------------------------------\u001b[0m",
      "\u001b[0;31mFileNotFoundError\u001b[0m                         Traceback (most recent call last)",
      "\u001b[0;32m/tmp/ipykernel_38442/3672021164.py\u001b[0m in \u001b[0;36m<module>\u001b[0;34m\u001b[0m\n\u001b[0;32m----> 1\u001b[0;31m \u001b[0mpdb_a\u001b[0m \u001b[0;34m=\u001b[0m \u001b[0mPDBFile\u001b[0m\u001b[0;34m(\u001b[0m\u001b[0;34m'brs_a.pdb'\u001b[0m\u001b[0;34m)\u001b[0m\u001b[0;34m\u001b[0m\u001b[0;34m\u001b[0m\u001b[0m\n\u001b[0m\u001b[1;32m      2\u001b[0m \u001b[0mpdb_b\u001b[0m \u001b[0;34m=\u001b[0m \u001b[0mPDBFile\u001b[0m\u001b[0;34m(\u001b[0m\u001b[0;34m'brs_b.pdb'\u001b[0m\u001b[0;34m)\u001b[0m\u001b[0;34m\u001b[0m\u001b[0;34m\u001b[0m\u001b[0m\n",
      "\u001b[0;32m~/MyOpt/Miniconda/envs/bifree/lib/python3.7/site-packages/openmm/app/pdbfile.py\u001b[0m in \u001b[0;36m__init__\u001b[0;34m(self, file, extraParticleIdentifier)\u001b[0m\n\u001b[1;32m     91\u001b[0m             \u001b[0mown_handle\u001b[0m \u001b[0;34m=\u001b[0m \u001b[0;32mFalse\u001b[0m\u001b[0;34m\u001b[0m\u001b[0;34m\u001b[0m\u001b[0m\n\u001b[1;32m     92\u001b[0m             \u001b[0;32mif\u001b[0m \u001b[0misinstance\u001b[0m\u001b[0;34m(\u001b[0m\u001b[0mfile\u001b[0m\u001b[0;34m,\u001b[0m \u001b[0mstr\u001b[0m\u001b[0;34m)\u001b[0m\u001b[0;34m:\u001b[0m\u001b[0;34m\u001b[0m\u001b[0;34m\u001b[0m\u001b[0m\n\u001b[0;32m---> 93\u001b[0;31m                 \u001b[0minputfile\u001b[0m \u001b[0;34m=\u001b[0m \u001b[0mopen\u001b[0m\u001b[0;34m(\u001b[0m\u001b[0mfile\u001b[0m\u001b[0;34m)\u001b[0m\u001b[0;34m\u001b[0m\u001b[0;34m\u001b[0m\u001b[0m\n\u001b[0m\u001b[1;32m     94\u001b[0m                 \u001b[0mown_handle\u001b[0m \u001b[0;34m=\u001b[0m \u001b[0;32mTrue\u001b[0m\u001b[0;34m\u001b[0m\u001b[0;34m\u001b[0m\u001b[0m\n\u001b[1;32m     95\u001b[0m             \u001b[0mpdb\u001b[0m \u001b[0;34m=\u001b[0m \u001b[0mPdbStructure\u001b[0m\u001b[0;34m(\u001b[0m\u001b[0minputfile\u001b[0m\u001b[0;34m,\u001b[0m \u001b[0mload_all_models\u001b[0m\u001b[0;34m=\u001b[0m\u001b[0;32mTrue\u001b[0m\u001b[0;34m,\u001b[0m \u001b[0mextraParticleIdentifier\u001b[0m\u001b[0;34m=\u001b[0m\u001b[0mextraParticleIdentifier\u001b[0m\u001b[0;34m)\u001b[0m\u001b[0;34m\u001b[0m\u001b[0;34m\u001b[0m\u001b[0m\n",
      "\u001b[0;31mFileNotFoundError\u001b[0m: [Errno 2] No such file or directory: 'brs_a.pdb'"
     ]
    }
   ],
   "source": [
    "pdb_a = PDBFile('brs_a.pdb')\n",
    "pdb_b = PDBFile('brs_b.pdb')"
   ]
  },
  {
   "cell_type": "code",
   "execution_count": null,
   "id": "62e268b4-8fed-4af4-bc8c-2caa1b816087",
   "metadata": {},
   "outputs": [],
   "source": [
    "forcefield = ForceField('amber14-all.xml', 'amber14/tip3p.xml')"
   ]
  },
  {
   "cell_type": "code",
   "execution_count": null,
   "id": "5750f6db-212b-44bf-a071-02f61a98e703",
   "metadata": {},
   "outputs": [],
   "source": [
    "system = forcefield.createSystem(pdb.topology, nonbondedMethod=PME, nonbondedCutoff=1.2*unit.nanometer, switchDistance=0.9*unit.nanometer, constraints=HBonds)"
   ]
  },
  {
   "cell_type": "code",
   "execution_count": null,
   "id": "9128a468-7d05-461a-b938-42a5a3ea01e9",
   "metadata": {},
   "outputs": [],
   "source": [
    "system_v = forcefield.createSystem(pdb_v.topology, constraints=HBonds)"
   ]
  },
  {
   "cell_type": "code",
   "execution_count": null,
   "id": "39c8ae15-34ec-4e82-8372-a1db247da99f",
   "metadata": {},
   "outputs": [],
   "source": [
    "system_a = forcefield.createSystem(pdb_a.topology, constraints=HBonds)\n",
    "system_b = forcefield.createSystem(pdb_b.topology, constraints=HBonds)"
   ]
  },
  {
   "cell_type": "code",
   "execution_count": null,
   "id": "8463746b-3fc1-4035-a839-98f36fd3fe7a",
   "metadata": {},
   "outputs": [],
   "source": [
    "n_particles  = pdb.topology.getNumAtoms()\n",
    "nv_particles = pdb_v.topology.getNumAtoms()\n",
    "na_particles = pdb_a.topology.getNumAtoms()\n",
    "nb_particles = pdb_b.topology.getNumAtoms()"
   ]
  },
  {
   "cell_type": "code",
   "execution_count": null,
   "id": "e3646b04-7c16-476d-b64c-e5998422c259",
   "metadata": {},
   "outputs": [],
   "source": [
    "# Definición del estado termodinámico y el integrador, para sistema solvatado\n",
    "\n",
    "step_size   = 0.002*unit.picoseconds\n",
    "temperature = 300*unit.kelvin\n",
    "friction    = 1.0/unit.picosecond # Damping para la dinámica de Langevin\n",
    "\n",
    "integrator = mm.LangevinIntegrator(temperature, friction, step_size)"
   ]
  },
  {
   "cell_type": "code",
   "execution_count": null,
   "id": "dbcf8aa2-d3ae-45c2-89d1-e041e77f1bb3",
   "metadata": {},
   "outputs": [],
   "source": [
    "# Definición del estado termodinámico y el integrador, para sistema vacio\n",
    "\n",
    "step_size_v   = 0.002*unit.picoseconds\n",
    "temperature_v = 0.0*unit.kelvin\n",
    "friction_v    = 0.0/unit.picosecond # Damping para la dinámica de Langevin\n",
    "\n",
    "integrator_v = mm.LangevinIntegrator(temperature_v, friction_v, step_size_v)"
   ]
  },
  {
   "cell_type": "code",
   "execution_count": null,
   "id": "5873cc3b-7354-42ec-b4ca-b754666e0dac",
   "metadata": {},
   "outputs": [],
   "source": [
    "# Definición del estado termodinámico y el integrador, para sistema A\n",
    "\n",
    "step_size_a   = 0.002*unit.picoseconds\n",
    "temperature_a = 0.0*unit.kelvin\n",
    "friction_a    = 0.0/unit.picosecond # Damping para la dinámica de Langevin\n",
    "\n",
    "integrator_a = mm.LangevinIntegrator(temperature_a, friction_a, step_size_a)"
   ]
  },
  {
   "cell_type": "code",
   "execution_count": null,
   "id": "a4632e25-a11f-40b1-ad92-495a653a91e3",
   "metadata": {},
   "outputs": [],
   "source": [
    "# Definición del estado termodinámico y el integrador, para sistema B\n",
    "\n",
    "step_size_b   = 0.002*unit.picoseconds\n",
    "temperature_b = 0.0*unit.kelvin\n",
    "friction_b    = 0.0/unit.picosecond # Damping para la dinámica de Langevin\n",
    "\n",
    "integrator_b = mm.LangevinIntegrator(temperature_b, friction_b, step_size_b)"
   ]
  },
  {
   "cell_type": "code",
   "execution_count": null,
   "id": "8d5f6a21-e964-4966-9f20-2af9b5947bef",
   "metadata": {},
   "outputs": [],
   "source": [
    "# Creación de la plataforma.\n",
    "\n",
    "platform_name = 'CUDA'\n",
    "platform      = mm.Platform.getPlatformByName(platform_name)\n",
    "platform_v    = mm.Platform.getPlatformByName(platform_name)\n",
    "platform_a    = mm.Platform.getPlatformByName(platform_name)\n",
    "platform_b    = mm.Platform.getPlatformByName(platform_name)"
   ]
  },
  {
   "cell_type": "code",
   "execution_count": null,
   "id": "9f3288d9-7a9e-41cd-bcad-f49f21d047e8",
   "metadata": {
    "tags": []
   },
   "outputs": [],
   "source": [
    "simulation = Simulation(pdb.topology, system, integrator, platform)"
   ]
  },
  {
   "cell_type": "code",
   "execution_count": null,
   "id": "8cbc3494-3460-4854-ae86-c130f95b65c4",
   "metadata": {},
   "outputs": [],
   "source": [
    "# Creación del objeto simulacion del sistema en vacio\n",
    "\n",
    "simulation_v = Simulation(pdb_v.topology, system_v, integrator_v, platform_v)"
   ]
  },
  {
   "cell_type": "code",
   "execution_count": null,
   "id": "4b5a20d8-e8da-4abb-8e6b-65a522d9a506",
   "metadata": {},
   "outputs": [],
   "source": [
    "# Creación del objeto simulacion de sistemas A y B\n",
    "\n",
    "simulation_a = Simulation(pdb_a.topology, system_a, integrator_a, platform_a)\n",
    "simulation_b = Simulation(pdb_b.topology, system_b, integrator_b, platform_b)"
   ]
  },
  {
   "cell_type": "code",
   "execution_count": null,
   "id": "ff402669-0c3b-425c-adc6-5a251bba1c08",
   "metadata": {},
   "outputs": [],
   "source": [
    "# Condiciones iniciales\n",
    "\n",
    "simulation.context.setPositions(pdb.positions)\n",
    "simulation_v.context.setPositions(pdb_v.positions)\n",
    "simulation_a.context.setPositions(pdb_a.positions)\n",
    "simulation_b.context.setPositions(pdb_b.positions)"
   ]
  },
  {
   "cell_type": "code",
   "execution_count": null,
   "id": "9d47cba9-bc58-4da0-bcb9-72a5de3d2e82",
   "metadata": {},
   "outputs": [],
   "source": [
    "# Minimizacion del sistema\n",
    "\n",
    "simulation.minimizeEnergy()"
   ]
  },
  {
   "cell_type": "code",
   "execution_count": null,
   "id": "d3465d92-e107-44b4-aa2f-920e21101337",
   "metadata": {},
   "outputs": [],
   "source": [
    "# Parámetros de la simulación.\n",
    "\n",
    "simulation_time = 0.1*unit.nanosecond\n",
    "saving_time     = 10.0*unit.picoseconds"
   ]
  },
  {
   "cell_type": "code",
   "execution_count": null,
   "id": "2850fcaa-c988-4c47-af0d-508965e0876c",
   "metadata": {},
   "outputs": [],
   "source": [
    "n_steps_per_period = int(saving_time/step_size) # número de pasos entre frame de guardado\n",
    "n_periods          = int(simulation_time/saving_time) # número de frames guardados"
   ]
  },
  {
   "cell_type": "code",
   "execution_count": null,
   "id": "74be3f72-9b42-4987-b33a-1dce342bbfb9",
   "metadata": {},
   "outputs": [],
   "source": [
    "# Creación de arrays reporteros del tiempo, la posición y la velocidad.\n",
    "\n",
    "times                  = np.zeros([n_periods], np.float32) * unit.picoseconds\n",
    "positions              = np.zeros([n_periods, n_particles, 3], np.float32) * unit.angstroms\n",
    "pos_aux                = np.zeros([nv_particles,3], np.float32) * unit.angstroms\n",
    "pos_aux_a              = np.zeros([na_particles,3], np.float32) * unit.angstroms\n",
    "pos_aux_b              = np.zeros([nb_particles,3], np.float32) * unit.angstroms\n",
    "potential_energies     = np.zeros([n_periods], np.float32) * unit.kilocalories_per_mole\n",
    "potential_energies_v   = np.zeros([n_periods], np.float32) * unit.kilocalories_per_mole\n",
    "potential_energies_a   = np.zeros([n_periods], np.float32) * unit.kilocalories_per_mole\n",
    "potential_energies_b   = np.zeros([n_periods], np.float32) * unit.kilocalories_per_mole"
   ]
  },
  {
   "cell_type": "code",
   "execution_count": null,
   "id": "63be774b-1f7f-4817-8470-81eb3178e25f",
   "metadata": {},
   "outputs": [],
   "source": [
    "# Almacenamiento en reporteros de las condiciones iniciales para tiempo 0\n",
    "\n",
    "state                   = simulation.context.getState(getPositions=True, getEnergy=True)\n",
    "\n",
    "times[0]                = state.getTime()\n",
    "positions[0]            = state.getPositions()\n",
    "potential_energies[0]   = state.getPotentialEnergy()"
   ]
  },
  {
   "cell_type": "code",
   "execution_count": null,
   "id": "90978ad6-ac6d-4506-88a9-862bce6937a3",
   "metadata": {},
   "outputs": [],
   "source": [
    "# Ejecuto el bucle sobre el número de periodos que vamos a simular\n",
    "\n",
    "for ii in tqdm(range(1, n_periods)):\n",
    "    simulation.context.getIntegrator().step(n_steps_per_period)\n",
    "    state                    = simulation.context.getState(getPositions=True, getEnergy=True)\n",
    "    times[ii]                = state.getTime()\n",
    "    positions[ii]            = state.getPositions()\n",
    "    potential_energies[ii]   = state.getPotentialEnergy()\n",
    "    \n",
    "    for tt in range(nv_particles):\n",
    "        pos_aux[tt]          = state.getPositions()[tt]\n",
    "        \n",
    "    simulation_v.context.setPositions(pos_aux)\n",
    "    \n",
    "    state_v                  = simulation_v.context.getState(getEnergy=True)\n",
    "    potential_energies_v[ii] = state_v.getPotentialEnergy()\n",
    "    \n",
    "    for uu in range(na_particles):\n",
    "        pos_aux_a[uu]        = state.getPositions()[uu]\n",
    "        \n",
    "    simulation_a.context.setPositions(pos_aux_a)\n",
    "    \n",
    "    state_a                  = simulation_a.context.getState(getEnergy=True)\n",
    "    potential_energies_a[ii] = state_a.getPotentialEnergy()\n",
    "    \n",
    "    for oo in range(nb_particles):\n",
    "        pos_aux_b[oo]        = state.getPositions()[na_particles+oo]\n",
    "        \n",
    "    simulation_b.context.setPositions(pos_aux_b)\n",
    "    \n",
    "    state_b                  = simulation_b.context.getState(getEnergy=True)\n",
    "    potential_energies_b[ii] = state_b.getPotentialEnergy()"
   ]
  },
  {
   "cell_type": "code",
   "execution_count": null,
   "id": "77bc2586-4d0d-4128-8d6b-057e41253328",
   "metadata": {},
   "outputs": [],
   "source": [
    "plt.rcParams['figure.figsize'] = 18, 10\n",
    "\n",
    "#plt.plot(times, potential_energies, 'k')\n",
    "plt.plot(times, potential_energies_v, 'b')\n",
    "plt.plot(times, potential_energies_a, 'g')\n",
    "plt.plot(times, potential_energies_b, 'r')\n",
    "plt.ylabel('U ({})'.format(potential_energies.unit))\n",
    "plt.xlabel('time ({})'.format(saving_time.unit))"
   ]
  },
  {
   "cell_type": "code",
   "execution_count": null,
   "id": "a1c1b4c8-cbb3-42f9-9952-9f4ac7ce1686",
   "metadata": {},
   "outputs": [],
   "source": [
    "potential_energies_a[1]+potential_energies_b[1]"
   ]
  },
  {
   "cell_type": "code",
   "execution_count": null,
   "id": "2e229890-6567-4dc9-a73e-00ef5bae16ac",
   "metadata": {},
   "outputs": [],
   "source": [
    "potential_energies_v[1]"
   ]
  },
  {
   "cell_type": "code",
   "execution_count": null,
   "id": "a0f9ff4c-6891-4c11-b001-e4b6f7fca284",
   "metadata": {},
   "outputs": [],
   "source": []
  }
 ],
 "metadata": {
  "kernelspec": {
   "display_name": "Python 3 (ipykernel)",
   "language": "python",
   "name": "python3"
  },
  "language_info": {
   "codemirror_mode": {
    "name": "ipython",
    "version": 3
   },
   "file_extension": ".py",
   "mimetype": "text/x-python",
   "name": "python",
   "nbconvert_exporter": "python",
   "pygments_lexer": "ipython3",
   "version": "3.7.12"
  }
 },
 "nbformat": 4,
 "nbformat_minor": 5
}
