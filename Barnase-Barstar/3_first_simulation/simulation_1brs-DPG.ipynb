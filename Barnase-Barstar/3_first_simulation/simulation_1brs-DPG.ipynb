{
 "cells": [
  {
   "cell_type": "code",
   "execution_count": 1,
   "id": "18906596-6c0e-434f-b339-e401fbcb383d",
   "metadata": {},
   "outputs": [
    {
     "data": {
      "application/vnd.jupyter.widget-view+json": {
       "model_id": "550586bf5aef442fa360ffffb979f0c3",
       "version_major": 2,
       "version_minor": 0
      },
      "text/plain": []
     },
     "metadata": {},
     "output_type": "display_data"
    }
   ],
   "source": [
    "import os\n",
    "\n",
    "import openmm as mm\n",
    "from openmm.app import *\n",
    "from openmm import unit\n",
    "from openmm import app\n",
    "from pdbfixer import PDBFixer\n",
    "import mdtraj as md\n",
    "import nglview as nv\n",
    "import requests\n",
    "import numpy as np\n",
    "from math import sqrt\n",
    "from tqdm import tqdm\n",
    "import matplotlib.pyplot as plt"
   ]
  },
  {
   "cell_type": "markdown",
   "id": "1b689ecf-cfef-41bd-b9a0-f0658b5d05e6",
   "metadata": {
    "tags": []
   },
   "source": [
    "# Barnase-Barstar Simulation"
   ]
  },
  {
   "cell_type": "markdown",
   "id": "8bbbdfcb-24cd-4b39-8973-71a434c06914",
   "metadata": {
    "tags": []
   },
   "source": [
    "## System Analysis"
   ]
  },
  {
   "cell_type": "code",
   "execution_count": 2,
   "id": "9648320d-dbc7-4174-a73a-bf5c037c5bb9",
   "metadata": {},
   "outputs": [],
   "source": [
    "# Function to download PDB files\n",
    "\n",
    "def fetch_pdb(pdb_id, download_path=\"./\"):\n",
    "\n",
    "        url = 'http://files.rcsb.org/download/{}.pdb'.format(pdb_id)\n",
    "        try:\n",
    "            res = requests.get(url, allow_redirects=True)\n",
    "        except:\n",
    "            print(\"Could not fetch pdb from {}\".format(url))\n",
    "            return \n",
    "        \n",
    "        file_path = os.path.join(download_path, pdb_id + \".pdb\")\n",
    "        with open(file_path, \"wb\") as f:\n",
    "            f.write(res.content)"
   ]
  },
  {
   "cell_type": "code",
   "execution_count": 3,
   "id": "63f29b8b-1dd9-457c-b364-e4b87147cd4f",
   "metadata": {},
   "outputs": [],
   "source": [
    "# Just write the PDB id in order to download the pdb file\n",
    "\n",
    "fetch_pdb(\"1brs\")"
   ]
  },
  {
   "cell_type": "code",
   "execution_count": 4,
   "id": "cdfeb4fb-2ea5-4ad5-bd24-1bbced98b4c7",
   "metadata": {},
   "outputs": [],
   "source": [
    "# Load pdb with MDTraj\n",
    "\n",
    "brs = md.load('1brs.pdb')"
   ]
  },
  {
   "cell_type": "code",
   "execution_count": 5,
   "id": "871fb1ed-255f-40a0-93b1-6728f5f29e04",
   "metadata": {},
   "outputs": [],
   "source": [
    "# Remove water molecules\n",
    "\n",
    "brs = brs.remove_solvent()"
   ]
  },
  {
   "cell_type": "code",
   "execution_count": 6,
   "id": "df598b8d-306d-45b4-8981-f65f2da4f659",
   "metadata": {},
   "outputs": [],
   "source": [
    "# Barnase's chains\n",
    "\n",
    "atoms_in_chain_A = brs.topology.select(\"chainid == 0\")\n",
    "atoms_in_chain_B = brs.topology.select(\"chainid == 1\")\n",
    "atoms_in_chain_C = brs.topology.select(\"chainid == 2\")"
   ]
  },
  {
   "cell_type": "code",
   "execution_count": 7,
   "id": "5daf3e41-6cf0-4746-89be-3d74513ffc12",
   "metadata": {},
   "outputs": [],
   "source": [
    "# Barstar's chains\n",
    "\n",
    "atoms_in_chain_D = brs.topology.select(\"chainid == 3\")\n",
    "atoms_in_chain_E = brs.topology.select(\"chainid == 4\")\n",
    "atoms_in_chain_F = brs.topology.select(\"chainid == 5\")"
   ]
  },
  {
   "cell_type": "code",
   "execution_count": 8,
   "id": "fd26cdea-940b-4636-ab5c-6c82d26f24dd",
   "metadata": {},
   "outputs": [],
   "source": [
    "# Barnase's chain's atoms\n",
    "\n",
    "barnase_A = brs.atom_slice(atoms_in_chain_A)\n",
    "barnase_B = brs.atom_slice(atoms_in_chain_B)\n",
    "barnase_C = brs.atom_slice(atoms_in_chain_C)"
   ]
  },
  {
   "cell_type": "code",
   "execution_count": 9,
   "id": "20432d05-4050-4a07-918b-17da37fdd538",
   "metadata": {},
   "outputs": [],
   "source": [
    "# Barstar's chain's atoms\n",
    "\n",
    "barstar_D = brs.atom_slice(atoms_in_chain_D)\n",
    "barstar_E = brs.atom_slice(atoms_in_chain_E)\n",
    "barstar_F = brs.atom_slice(atoms_in_chain_F)"
   ]
  },
  {
   "cell_type": "markdown",
   "id": "a88d0d85-e4e9-47f6-abb8-6c1b79e8bf14",
   "metadata": {},
   "source": [
    "<div class=\"alert alert-info\">\n",
    "<strong>NOTE:</strong> We now that chain B and F will be optimal to work.\n",
    "</div>\n"
   ]
  },
  {
   "cell_type": "code",
   "execution_count": 10,
   "id": "e0b83838-af35-454b-a439-47125d5b555e",
   "metadata": {
    "tags": []
   },
   "outputs": [
    {
     "data": {
      "application/vnd.jupyter.widget-view+json": {
       "model_id": "110f4ac609bd46be8f5e2de724f2a1e3",
       "version_major": 2,
       "version_minor": 0
      },
      "text/plain": [
       "NGLWidget()"
      ]
     },
     "metadata": {},
     "output_type": "display_data"
    }
   ],
   "source": [
    "view = nv.show_mdtraj(brs)\n",
    "view"
   ]
  },
  {
   "cell_type": "markdown",
   "id": "7d545758-0026-44c5-9e87-f95aafce193b",
   "metadata": {},
   "source": [
    "<div class=\"alert alert-info\">\n",
    "<strong>NOTE:</strong> Superpose F with E.\n",
    "</div>"
   ]
  },
  {
   "cell_type": "markdown",
   "id": "a252e660-a016-4801-a7ea-72c304753b9f",
   "metadata": {
    "tags": []
   },
   "source": [
    "## System Preparation"
   ]
  },
  {
   "cell_type": "code",
   "execution_count": 50,
   "id": "060eb50e-61d4-430d-8c45-53b4030d0ebb",
   "metadata": {},
   "outputs": [
    {
     "name": "stdout",
     "output_type": "stream",
     "text": [
      "LYS2-CA is 1 in E and 10 in F\n",
      "ALA3-CA is 10 in E and 19 in F\n",
      "VAL4-CA is 15 in E and 24 in F\n",
      "ILE5-CA is 22 in E and 31 in F\n",
      "ASN6-CA is 30 in E and 39 in F\n",
      "GLY7-CA is 38 in E and 47 in F\n",
      "GLU8-CA is 42 in E and 51 in F\n",
      "GLN9-CA is 51 in E and 60 in F\n",
      "ILE10-CA is 60 in E and 69 in F\n",
      "ARG11-CA is 68 in E and 77 in F\n",
      "SER12-CA is 75 in E and 88 in F\n",
      "ILE13-CA is 81 in E and 94 in F\n",
      "SER14-CA is 89 in E and 102 in F\n",
      "ASP15-CA is 95 in E and 108 in F\n",
      "LEU16-CA is 103 in E and 116 in F\n",
      "HIS17-CA is 111 in E and 124 in F\n",
      "GLN18-CA is 121 in E and 134 in F\n",
      "THR19-CA is 126 in E and 143 in F\n",
      "LEU20-CA is 133 in E and 150 in F\n",
      "LYS21-CA is 141 in E and 158 in F\n",
      "LYS22-CA is 150 in E and 167 in F\n",
      "GLU23-CA is 159 in E and 173 in F\n",
      "LEU24-CA is 168 in E and 182 in F\n",
      "ALA25-CA is 176 in E and 190 in F\n",
      "LEU26-CA is 181 in E and 195 in F\n",
      "PRO27-CA is 189 in E and 203 in F\n",
      "GLU28-CA is 196 in E and 210 in F\n",
      "TYR29-CA is 205 in E and 215 in F\n",
      "TYR30-CA is 217 in E and 227 in F\n",
      "GLY31-CA is 229 in E and 239 in F\n",
      "GLU32-CA is 233 in E and 243 in F\n",
      "ASN33-CA is 242 in E and 252 in F\n",
      "LEU34-CA is 250 in E and 260 in F\n",
      "ASP35-CA is 258 in E and 268 in F\n",
      "ALA36-CA is 266 in E and 276 in F\n",
      "LEU37-CA is 271 in E and 281 in F\n",
      "TRP38-CA is 279 in E and 289 in F\n",
      "ASP39-CA is 293 in E and 303 in F\n",
      "ALA40-CA is 301 in E and 311 in F\n",
      "LEU41-CA is 306 in E and 316 in F\n",
      "THR42-CA is 314 in E and 324 in F\n",
      "GLY43-CA is 321 in E and 331 in F\n",
      "TRP44-CA is 325 in E and 335 in F\n",
      "VAL45-CA is 339 in E and 349 in F\n",
      "GLU46-CA is 346 in E and 356 in F\n",
      "TYR47-CA is 355 in E and 361 in F\n",
      "PRO48-CA is 367 in E and 373 in F\n",
      "LEU49-CA is 374 in E and 380 in F\n",
      "VAL50-CA is 382 in E and 388 in F\n",
      "LEU51-CA is 389 in E and 395 in F\n",
      "GLU52-CA is 397 in E and 403 in F\n",
      "TRP53-CA is 406 in E and 412 in F\n",
      "ARG54-CA is 420 in E and 426 in F\n",
      "GLN55-CA is 427 in E and 437 in F\n",
      "PHE56-CA is 436 in E and 446 in F\n",
      "GLU57-CA is 447 in E and 457 in F\n",
      "GLN58-CA is 456 in E and 466 in F\n",
      "SER59-CA is 461 in E and 475 in F\n",
      "LYS60-CA is 467 in E and 481 in F\n",
      "GLN61-CA is 472 in E and 490 in F\n",
      "LEU62-CA is 477 in E and 499 in F\n",
      "THR63-CA is 482 in E and 507 in F\n",
      "GLY66-CA is 489 in E and 524 in F\n",
      "ALA67-CA is 493 in E and 528 in F\n",
      "GLU68-CA is 498 in E and 533 in F\n",
      "SER69-CA is 507 in E and 542 in F\n",
      "VAL70-CA is 513 in E and 548 in F\n",
      "LEU71-CA is 520 in E and 555 in F\n",
      "GLN72-CA is 528 in E and 563 in F\n",
      "VAL73-CA is 537 in E and 572 in F\n",
      "PHE74-CA is 544 in E and 579 in F\n",
      "ARG75-CA is 555 in E and 590 in F\n",
      "GLU76-CA is 566 in E and 601 in F\n",
      "ALA77-CA is 575 in E and 610 in F\n",
      "LYS78-CA is 580 in E and 615 in F\n",
      "ALA79-CA is 589 in E and 624 in F\n",
      "GLU80-CA is 594 in E and 629 in F\n",
      "GLY81-CA is 603 in E and 638 in F\n",
      "ALA82-CA is 607 in E and 642 in F\n",
      "ASP83-CA is 612 in E and 647 in F\n",
      "ILE84-CA is 620 in E and 655 in F\n",
      "THR85-CA is 628 in E and 663 in F\n",
      "ILE86-CA is 635 in E and 670 in F\n",
      "ILE87-CA is 643 in E and 678 in F\n",
      "LEU88-CA is 651 in E and 686 in F\n",
      "SER89-CA is 659 in E and 694 in F\n"
     ]
    }
   ],
   "source": [
    "atoms_to_fit_E = []\n",
    "atoms_to_fit_F = []\n",
    "for atom_E in barstar_E.topology.atoms_by_name('CA'):\n",
    "    for atom_F in barstar_F.topology.atoms_by_name('CA'):\n",
    "        if str(atom_E)==str(atom_F):\n",
    "            print(f'{str(atom_E)} is {atom_E.index} in E and {atom_F.index} in F')\n",
    "            atoms_to_fit_E.append(atom_E.index)\n",
    "            atoms_to_fit_F.append(atom_F.index)"
   ]
  },
  {
   "cell_type": "code",
   "execution_count": 52,
   "id": "c20d49f7-8ee6-45db-ba10-f730147d222b",
   "metadata": {},
   "outputs": [],
   "source": [
    "barstar_F_over_E = md.Trajectory.superpose(barstar_F, barstar_E, frame=0, atom_indices=atoms_to_fit_F, ref_atom_indices=atoms_to_fit_E)"
   ]
  },
  {
   "cell_type": "code",
   "execution_count": 53,
   "id": "a8d44cd3-58b2-4f7c-9d47-7c6d9f6d9b42",
   "metadata": {
    "tags": []
   },
   "outputs": [
    {
     "data": {
      "application/vnd.jupyter.widget-view+json": {
       "model_id": "796631403fda48d0a26a102d2aab9553",
       "version_major": 2,
       "version_minor": 0
      },
      "text/plain": [
       "NGLWidget()"
      ]
     },
     "metadata": {},
     "output_type": "display_data"
    }
   ],
   "source": [
    "pp = nv.show_mdtraj(barstar_F_over_E)\n",
    "pp"
   ]
  },
  {
   "cell_type": "code",
   "execution_count": 55,
   "id": "25da516e-25d2-424f-bd58-c1747aaa8ddd",
   "metadata": {},
   "outputs": [],
   "source": [
    "new_barnase_barstar = barnase_B.stack(barstar_F_over_E)"
   ]
  },
  {
   "cell_type": "code",
   "execution_count": 56,
   "id": "b47162fc-2ffe-4370-aa6f-119e0cd42133",
   "metadata": {
    "tags": []
   },
   "outputs": [
    {
     "data": {
      "application/vnd.jupyter.widget-view+json": {
       "model_id": "7cfd770106e04f98aedba149bb319448",
       "version_major": 2,
       "version_minor": 0
      },
      "text/plain": [
       "NGLWidget()"
      ]
     },
     "metadata": {},
     "output_type": "display_data"
    }
   ],
   "source": [
    "uu = nv.show_mdtraj(new_barnase_barstar)\n",
    "uu"
   ]
  },
  {
   "cell_type": "code",
   "execution_count": 57,
   "id": "ca0aa7fd-d191-486e-a10a-312c8c3a9c21",
   "metadata": {},
   "outputs": [],
   "source": [
    "new_barnase_barstar.save_pdb('new_barnase_barstar.pdb')"
   ]
  },
  {
   "cell_type": "code",
   "execution_count": 59,
   "id": "e9e51673-143a-4afe-a296-5af71e7d0b19",
   "metadata": {},
   "outputs": [],
   "source": [
    "fixer = PDBFixer(filename='new_barnase_barstar.pdb')"
   ]
  },
  {
   "cell_type": "code",
   "execution_count": 60,
   "id": "1dfa6c59-bb6c-48da-b5dd-3811bf526353",
   "metadata": {},
   "outputs": [
    {
     "data": {
      "text/plain": [
       "<Topology; 2 chains, 199 residues, 1577 atoms, 1611 bonds>"
      ]
     },
     "execution_count": 60,
     "metadata": {},
     "output_type": "execute_result"
    }
   ],
   "source": [
    "fixer.topology"
   ]
  },
  {
   "cell_type": "code",
   "execution_count": 61,
   "id": "842a7441-e52b-4617-9282-52153665c705",
   "metadata": {},
   "outputs": [
    {
     "name": "stderr",
     "output_type": "stream",
     "text": [
      "Warning: importing 'simtk.openmm' is deprecated.  Import 'openmm' instead.\n"
     ]
    },
    {
     "name": "stdout",
     "output_type": "stream",
     "text": [
      "0 missing residues\n",
      "0 non standard residues\n",
      "6 missing atoms\n",
      "0 missing terminals\n"
     ]
    }
   ],
   "source": [
    "fixer.findMissingResidues()\n",
    "missing_residues = fixer.missingResidues\n",
    "print(f\"{len(missing_residues)} missing residues\")\n",
    "\n",
    "fixer.findNonstandardResidues()\n",
    "nonstandard_residues = fixer.nonstandardResidues\n",
    "print(f\"{len(nonstandard_residues)} non standard residues\")\n",
    "\n",
    "fixer.findMissingAtoms()\n",
    "missing_atoms = fixer.missingAtoms\n",
    "missing_terminals = fixer.missingTerminals\n",
    "print(f\"{len(missing_atoms)} missing atoms\")\n",
    "print(f\"{len(missing_terminals)} missing terminals\")\n",
    "\n",
    "if len(nonstandard_residues)>0:\n",
    "    fixer.replaceNonstandardResidues()\n",
    "\n",
    "if len(missing_atoms)>0:\n",
    "    fixer.addMissingAtoms()"
   ]
  },
  {
   "cell_type": "code",
   "execution_count": 91,
   "id": "7873e035-aa3f-460f-bb94-bc0e277bcfe5",
   "metadata": {},
   "outputs": [],
   "source": [
    "forcefield = app.ForceField('amber14-all.xml', 'amber14/tip3p.xml')"
   ]
  },
  {
   "cell_type": "code",
   "execution_count": 92,
   "id": "688b8b07-c656-44e9-966c-82f7b88cb045",
   "metadata": {},
   "outputs": [],
   "source": [
    "modeller = app.Modeller(fixer.topology, fixer.positions)\n",
    "pH = 7.2\n",
    "residues_protonated = modeller.addHydrogens(forcefield=forcefield, pH=pH)"
   ]
  },
  {
   "cell_type": "code",
   "execution_count": 104,
   "id": "5ae95e63-7f24-460d-9eae-bd092e5b5e87",
   "metadata": {},
   "outputs": [],
   "source": [
    "system = forcefield.createSystem(modeller.topology, nonbondedMethod=app.NoCutoff, constraints=HBonds)"
   ]
  },
  {
   "cell_type": "code",
   "execution_count": 105,
   "id": "69ee617e-292a-46c7-bc55-8b7c5314f44f",
   "metadata": {},
   "outputs": [
    {
     "name": "stdout",
     "output_type": "stream",
     "text": [
      "0\n",
      "0\n",
      "0\n",
      "0\n",
      "0\n"
     ]
    }
   ],
   "source": [
    "for ii in range(system.getNumForces()):\n",
    "    print(system.getForce(ii).getForceGroup())"
   ]
  },
  {
   "cell_type": "code",
   "execution_count": 106,
   "id": "082957e3-82b0-40f3-9aa0-1d5e1a8ea5a5",
   "metadata": {},
   "outputs": [],
   "source": [
    "forcegroups = {}\n",
    "for ii in range(system.getNumForces()):\n",
    "    force = system.getForce(ii)\n",
    "    force.setForceGroup(ii)\n",
    "    forcegroups[force] = ii"
   ]
  },
  {
   "cell_type": "code",
   "execution_count": 107,
   "id": "0531ea50-0390-4b40-a1d0-3899e805acf7",
   "metadata": {},
   "outputs": [
    {
     "name": "stdout",
     "output_type": "stream",
     "text": [
      "0\n",
      "1\n",
      "2\n",
      "3\n",
      "4\n"
     ]
    }
   ],
   "source": [
    "for ii in range(system.getNumForces()):\n",
    "    print(system.getForce(ii).getForceGroup())"
   ]
  },
  {
   "cell_type": "code",
   "execution_count": 108,
   "id": "dbcf8aa2-d3ae-45c2-89d1-e041e77f1bb3",
   "metadata": {},
   "outputs": [],
   "source": [
    "step_size   = 0.002*unit.picoseconds\n",
    "temperature = 0.0*unit.kelvin\n",
    "friction    = 0.0/unit.picosecond # Damping para la dinámica de Langevin\n",
    "\n",
    "integrator = mm.LangevinIntegrator(temperature, friction, step_size)"
   ]
  },
  {
   "cell_type": "code",
   "execution_count": 109,
   "id": "8d5f6a21-e964-4966-9f20-2af9b5947bef",
   "metadata": {},
   "outputs": [],
   "source": [
    "# Creación de la plataforma.\n",
    "\n",
    "platform_name = 'CUDA'\n",
    "platform    = mm.Platform.getPlatformByName(platform_name)"
   ]
  },
  {
   "cell_type": "code",
   "execution_count": 110,
   "id": "8cbc3494-3460-4854-ae86-c130f95b65c4",
   "metadata": {},
   "outputs": [],
   "source": [
    "# Creación del objeto simulacion del sistema en vacio\n",
    "\n",
    "simulation = Simulation(modeller.topology, system, integrator, platform)"
   ]
  },
  {
   "cell_type": "code",
   "execution_count": 111,
   "id": "ff402669-0c3b-425c-adc6-5a251bba1c08",
   "metadata": {},
   "outputs": [],
   "source": [
    "# Condiciones iniciales\n",
    "simulation.context.setPositions(modeller.positions)"
   ]
  },
  {
   "cell_type": "code",
   "execution_count": 112,
   "id": "9d47cba9-bc58-4da0-bcb9-72a5de3d2e82",
   "metadata": {},
   "outputs": [],
   "source": [
    "# Minimizacion del sistema\n",
    "\n",
    "state_pre_minimization = simulation.context.getState(getEnergy=True)\n",
    "simulation.minimizeEnergy()\n",
    "state_post_minimization = simulation.context.getState(getEnergy=True)"
   ]
  },
  {
   "cell_type": "code",
   "execution_count": 113,
   "id": "5e3b01d2-0634-4d3f-aac1-70f2856e5117",
   "metadata": {},
   "outputs": [
    {
     "name": "stdout",
     "output_type": "stream",
     "text": [
      "Energy before minimization: -13231.263671875 kJ/mol\n",
      "Energy after minimization: -25090.421875 kJ/mol\n"
     ]
    }
   ],
   "source": [
    "print('Energy before minimization:', state_pre_minimization.getPotentialEnergy())\n",
    "print('Energy after minimization:', state_post_minimization.getPotentialEnergy())"
   ]
  },
  {
   "cell_type": "code",
   "execution_count": 100,
   "id": "d414bf73-320f-4b14-9789-938df890261c",
   "metadata": {},
   "outputs": [],
   "source": [
    "system = simulation.system"
   ]
  },
  {
   "cell_type": "code",
   "execution_count": 114,
   "id": "43443422-23ac-4b19-958f-6710dd733c4a",
   "metadata": {},
   "outputs": [
    {
     "data": {
      "text/plain": [
       "{<openmm.openmm.HarmonicBondForce; proxy of <Swig Object of type 'OpenMM::HarmonicBondForce *' at 0x7ff431dab7b0> >: 0,\n",
       " <openmm.openmm.HarmonicAngleForce; proxy of <Swig Object of type 'OpenMM::HarmonicAngleForce *' at 0x7ff3dcbdf630> >: 1,\n",
       " <openmm.openmm.NonbondedForce; proxy of <Swig Object of type 'OpenMM::NonbondedForce *' at 0x7ff3dcbdf5d0> >: 2,\n",
       " <openmm.openmm.PeriodicTorsionForce; proxy of <Swig Object of type 'OpenMM::PeriodicTorsionForce *' at 0x7ff3dcbdf2a0> >: 3,\n",
       " <openmm.openmm.CMMotionRemover; proxy of <Swig Object of type 'OpenMM::CMMotionRemover *' at 0x7ff3dcbdf390> >: 4}"
      ]
     },
     "execution_count": 114,
     "metadata": {},
     "output_type": "execute_result"
    }
   ],
   "source": [
    "forcegroups"
   ]
  },
  {
   "cell_type": "code",
   "execution_count": 116,
   "id": "ca2fec5a-d9c0-4e80-b305-c65a876c7551",
   "metadata": {},
   "outputs": [
    {
     "data": {
      "text/plain": [
       "Quantity(value=-25090.421875, unit=kilojoule/mole)"
      ]
     },
     "execution_count": 116,
     "metadata": {},
     "output_type": "execute_result"
    }
   ],
   "source": [
    "simulation.context.getState(getEnergy=True).getPotentialEnergy()"
   ]
  },
  {
   "cell_type": "code",
   "execution_count": 122,
   "id": "69b2fc48-4e04-490e-98c0-885672b6c85c",
   "metadata": {},
   "outputs": [],
   "source": [
    "energies = {}\n",
    "for ff, ii in forcegroups.items():\n",
    "    energies[ff.getName()] = simulation.context.getState(getEnergy=True, groups={ii}).getPotentialEnergy()"
   ]
  },
  {
   "cell_type": "code",
   "execution_count": 123,
   "id": "ecfe9f64-d0a5-42a6-810f-ac13eabba936",
   "metadata": {},
   "outputs": [
    {
     "data": {
      "text/plain": [
       "{'HarmonicBondForce': Quantity(value=410.28607177734375, unit=kilojoule/mole),\n",
       " 'HarmonicAngleForce': Quantity(value=1699.28955078125, unit=kilojoule/mole),\n",
       " 'NonbondedForce': Quantity(value=-36737.25, unit=kilojoule/mole),\n",
       " 'PeriodicTorsionForce': Quantity(value=9537.2509765625, unit=kilojoule/mole),\n",
       " 'CMMotionRemover': Quantity(value=0.0, unit=kilojoule/mole)}"
      ]
     },
     "execution_count": 123,
     "metadata": {},
     "output_type": "execute_result"
    }
   ],
   "source": [
    "energies"
   ]
  },
  {
   "cell_type": "code",
   "execution_count": 125,
   "id": "2cbe63bb-a48b-4acf-8c50-e981aa93e6aa",
   "metadata": {},
   "outputs": [
    {
     "data": {
      "text/plain": [
       "Quantity(value=-25090.423400878906, unit=kilojoule/mole)"
      ]
     },
     "execution_count": 125,
     "metadata": {},
     "output_type": "execute_result"
    }
   ],
   "source": [
    "energies['HarmonicBondForce']+energies['HarmonicAngleForce']+energies['NonbondedForce']+energies['PeriodicTorsionForce']"
   ]
  },
  {
   "cell_type": "code",
   "execution_count": null,
   "id": "0c368ad0-6b43-45db-b2ec-8fdc3f8517c8",
   "metadata": {},
   "outputs": [],
   "source": []
  },
  {
   "cell_type": "code",
   "execution_count": null,
   "id": "28ebef2c-f244-43fd-a678-98b1889811b0",
   "metadata": {},
   "outputs": [],
   "source": []
  },
  {
   "cell_type": "code",
   "execution_count": null,
   "id": "23433567-c0ae-48f4-a0ed-f0310788f498",
   "metadata": {},
   "outputs": [],
   "source": []
  },
  {
   "cell_type": "markdown",
   "id": "1c69069f-5299-42a7-b4c8-a6b55a202681",
   "metadata": {},
   "source": [
    "# Of interest\n",
    "\n",
    "https://github.com/openmm/openmm/issues/1463    \n",
    "https://github.com/openmm/openmm/issues/387    \n",
    "https://github.com/openmm/openmm/issues/2682    \n",
    "https://github.com/openmm/openmm/issues/1830    \n",
    "https://openmm.github.io/openmm-cookbook/dev/notebooks/cookbook/Analyzing%20Energy%20Contributions.html    \n",
    "https://openmm.github.io/openmm-cookbook/dev/notebooks/cookbook/Querying%20Charges%20and%20Other%20Parameters.html    \n",
    "\n",
    "\n",
    "https://github.com/openmm/openmm/issues/3178    \n",
    "https://github.com/openmm/openmm/issues/3169    \n",
    "https://github.com/openmm/openmm/issues/2880    \n",
    "https://github.com/openmm/openmm/issues/2835    \n",
    "https://github.com/openmm/openmm/issues/2682    \n",
    "\n",
    "https://chemrxiv.org/engage/api-gateway/chemrxiv/assets/orp/resource/item/60c758a8567dfe4abcec68b3/original/sbm-open-mm-a-builder-of-structure-based-models-for-open-mm.pdf"
   ]
  }
 ],
 "metadata": {
  "kernelspec": {
   "display_name": "Python 3 (ipykernel)",
   "language": "python",
   "name": "python3"
  },
  "language_info": {
   "codemirror_mode": {
    "name": "ipython",
    "version": 3
   },
   "file_extension": ".py",
   "mimetype": "text/x-python",
   "name": "python",
   "nbconvert_exporter": "python",
   "pygments_lexer": "ipython3",
   "version": "3.7.12"
  }
 },
 "nbformat": 4,
 "nbformat_minor": 5
}
