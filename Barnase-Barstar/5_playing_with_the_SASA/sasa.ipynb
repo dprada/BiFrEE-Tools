{
 "cells": [
  {
   "cell_type": "code",
   "execution_count": 1,
   "id": "f830a82e-67cd-4e66-9b9b-8f453d73282f",
   "metadata": {},
   "outputs": [
    {
     "data": {
      "application/vnd.jupyter.widget-view+json": {
       "model_id": "d41c157b054e4e8a9de6117f99e73d13",
       "version_major": 2,
       "version_minor": 0
      },
      "text/plain": []
     },
     "metadata": {},
     "output_type": "display_data"
    }
   ],
   "source": [
    "import os\n",
    "from copy import deepcopy\n",
    "\n",
    "import mdtraj as md\n",
    "import nglview as nv\n",
    "import numpy as np\n",
    "from math import sqrt\n",
    "import matplotlib.pyplot as plt\n",
    "from nglview.color import _ColorScheme\n",
    "from matplotlib.colors import Normalize, to_hex\n",
    "from matplotlib import cm"
   ]
  },
  {
   "cell_type": "code",
   "execution_count": 2,
   "id": "cebf881d-7311-4ee5-9ded-ee68b244ef7a",
   "metadata": {},
   "outputs": [],
   "source": [
    "tt = md.load_pdb('new_barnase_barstar.pdb')"
   ]
  },
  {
   "cell_type": "code",
   "execution_count": 3,
   "id": "37ead6ca-83ce-4aec-84ae-ab45d5d23e86",
   "metadata": {},
   "outputs": [],
   "source": [
    "residue_labels = {}\n",
    "chain_index_to_id = {0:'A', 1:'B'}\n",
    "\n",
    "for residue in tt.topology.residues:\n",
    "    label = str(residue.resSeq) + ':' + str(chain_index_to_id[residue.chain.index])\n",
    "    residue_labels[residue.index]=label"
   ]
  },
  {
   "cell_type": "code",
   "execution_count": 4,
   "id": "c8f7536b-e7bf-40dc-b1b1-3d87c2dd7582",
   "metadata": {},
   "outputs": [],
   "source": [
    "sasa = md.shrake_rupley(tt, probe_radius=0.15, n_sphere_points=100000, mode='residue')"
   ]
  },
  {
   "cell_type": "code",
   "execution_count": 5,
   "id": "8949f976-2929-4bae-bce3-74c34c37896e",
   "metadata": {},
   "outputs": [],
   "source": [
    "aux = sasa[0]"
   ]
  },
  {
   "cell_type": "code",
   "execution_count": 6,
   "id": "7fbe7138-805f-4b93-8fe9-d4f253f5b48f",
   "metadata": {},
   "outputs": [],
   "source": [
    "vmin = aux.min()\n",
    "vmax = aux.max()\n",
    "\n",
    "norm = Normalize(vmin=vmin,vmax=vmax)"
   ]
  },
  {
   "cell_type": "code",
   "execution_count": 7,
   "id": "d2ce0409-8410-4ce0-8214-879883569981",
   "metadata": {},
   "outputs": [],
   "source": [
    "cmap = cm.get_cmap('Blues')\n",
    "\n",
    "color_code = []\n",
    "\n",
    "for ii,jj in zip(aux, range(len(aux))):\n",
    "        color_code.append([to_hex(cmap(norm(ii))), residue_labels[jj]])"
   ]
  },
  {
   "cell_type": "code",
   "execution_count": 8,
   "id": "394f2615-c43b-4734-adf0-71a6734ef338",
   "metadata": {},
   "outputs": [
    {
     "data": {
      "text/plain": [
       "[['#1d6cb1', '1:A'],\n",
       " ['#08478d', '2:A'],\n",
       " ['#81badb', '3:A'],\n",
       " ['#aed1e7', '4:A'],\n",
       " ['#d8e7f5', '5:A'],\n",
       " ['#9dcae1', '6:A'],\n",
       " ['#d5e5f4', '7:A'],\n",
       " ['#5ca4d0', '8:A'],\n",
       " ['#ddeaf7', '9:A'],\n",
       " ['#f7fbff', '10:A'],\n",
       " ['#f7fbff', '11:A'],\n",
       " ['#92c4de', '12:A'],\n",
       " ['#c7dbef', '13:A'],\n",
       " ['#f7fbff', '14:A'],\n",
       " ['#66abd4', '15:A'],\n",
       " ['#65aad4', '16:A'],\n",
       " ['#2373b6', '17:A'],\n",
       " ['#4d99ca', '18:A'],\n",
       " ['#539ecd', '19:A'],\n",
       " ['#dae8f6', '20:A'],\n",
       " ['#f1f7fd', '21:A'],\n",
       " ['#3c8cc3', '22:A'],\n",
       " ['#f5f9fe', '23:A'],\n",
       " ['#dfebf7', '24:A'],\n",
       " ['#e1edf8', '25:A'],\n",
       " ['#d5e5f4', '26:A'],\n",
       " ['#e3eef9', '27:A'],\n",
       " ['#7fb9da', '28:A'],\n",
       " ['#58a1cf', '29:A'],\n",
       " ['#f7fbff', '30:A'],\n",
       " ['#4d99ca', '31:A'],\n",
       " ['#69add5', '32:A'],\n",
       " ['#519ccc', '33:A'],\n",
       " ['#d3e4f3', '34:A'],\n",
       " ['#e8f1fa', '35:A'],\n",
       " ['#abd0e6', '36:A'],\n",
       " ['#e7f0fa', '37:A'],\n",
       " ['#b8d5ea', '38:A'],\n",
       " ['#2b7bba', '39:A'],\n",
       " ['#e7f0fa', '40:A'],\n",
       " ['#e9f2fa', '41:A'],\n",
       " ['#f5f9fe', '42:A'],\n",
       " ['#d6e5f4', '43:A'],\n",
       " ['#2979b9', '44:A'],\n",
       " ['#cddff1', '45:A'],\n",
       " ['#f3f8fe', '46:A'],\n",
       " ['#5fa6d1', '47:A'],\n",
       " ['#d9e7f5', '48:A'],\n",
       " ['#a6cee4', '49:A'],\n",
       " ['#f5fafe', '50:A'],\n",
       " ['#f3f8fe', '51:A'],\n",
       " ['#f3f8fe', '52:A'],\n",
       " ['#eaf2fb', '53:A'],\n",
       " ['#d3e4f3', '54:A'],\n",
       " ['#82bbdb', '55:A'],\n",
       " ['#ebf3fb', '56:A'],\n",
       " ['#9dcae1', '57:A'],\n",
       " ['#ddeaf7', '58:A'],\n",
       " ['#b2d2e8', '59:A'],\n",
       " ['#87bddc', '60:A'],\n",
       " ['#b2d2e8', '61:A'],\n",
       " ['#63a8d3', '62:A'],\n",
       " ['#f2f8fd', '63:A'],\n",
       " ['#c1d9ed', '64:A'],\n",
       " ['#a5cde3', '65:A'],\n",
       " ['#2676b8', '66:A'],\n",
       " ['#3787c0', '67:A'],\n",
       " ['#87bddc', '68:A'],\n",
       " ['#bfd8ed', '69:A'],\n",
       " ['#9dcae1', '70:A'],\n",
       " ['#edf4fc', '71:A'],\n",
       " ['#64a9d3', '72:A'],\n",
       " ['#f0f6fd', '73:A'],\n",
       " ['#f7fbff', '74:A'],\n",
       " ['#f5fafe', '75:A'],\n",
       " ['#f7fbff', '76:A'],\n",
       " ['#87bddc', '77:A'],\n",
       " ['#edf4fc', '78:A'],\n",
       " ['#4d99ca', '79:A'],\n",
       " ['#8cc0dd', '80:A'],\n",
       " ['#dbe9f6', '81:A'],\n",
       " ['#4695c8', '82:A'],\n",
       " ['#e7f0fa', '83:A'],\n",
       " ['#cee0f2', '84:A'],\n",
       " ['#e2edf8', '85:A'],\n",
       " ['#ddeaf7', '86:A'],\n",
       " ['#f7fbff', '87:A'],\n",
       " ['#f7fbff', '88:A'],\n",
       " ['#f7fbff', '89:A'],\n",
       " ['#e2edf8', '90:A'],\n",
       " ['#f5fafe', '91:A'],\n",
       " ['#aacfe5', '92:A'],\n",
       " ['#92c4de', '93:A'],\n",
       " ['#92c4de', '94:A'],\n",
       " ['#cee0f2', '95:A'],\n",
       " ['#f7fbff', '96:A'],\n",
       " ['#d3e3f3', '97:A'],\n",
       " ['#b3d3e8', '98:A'],\n",
       " ['#f7fbff', '99:A'],\n",
       " ['#82bbdb', '100:A'],\n",
       " ['#ccdff1', '101:A'],\n",
       " ['#f7fbff', '102:A'],\n",
       " ['#f7fbff', '103:A'],\n",
       " ['#7ab6d9', '104:A'],\n",
       " ['#7cb7da', '105:A'],\n",
       " ['#cee0f2', '106:A'],\n",
       " ['#85bcdc', '107:A'],\n",
       " ['#529dcc', '108:A'],\n",
       " ['#caddf0', '109:A'],\n",
       " ['#5fa6d1', '110:A'],\n",
       " ['#4695c8', '1:B'],\n",
       " ['#4191c6', '2:B'],\n",
       " ['#f7fbff', '3:B'],\n",
       " ['#d6e6f4', '4:B'],\n",
       " ['#f7fbff', '5:B'],\n",
       " ['#bdd7ec', '6:B'],\n",
       " ['#f7fbff', '7:B'],\n",
       " ['#7ab6d9', '8:B'],\n",
       " ['#2e7ebc', '9:B'],\n",
       " ['#f3f8fe', '10:B'],\n",
       " ['#08306b', '11:B'],\n",
       " ['#cee0f2', '12:B'],\n",
       " ['#97c6df', '13:B'],\n",
       " ['#a8cee4', '14:B'],\n",
       " ['#b9d6ea', '15:B'],\n",
       " ['#f7fbff', '16:B'],\n",
       " ['#f2f8fd', '17:B'],\n",
       " ['#74b3d8', '18:B'],\n",
       " ['#cee0f2', '19:B'],\n",
       " ['#f7fbff', '20:B'],\n",
       " ['#bad6eb', '21:B'],\n",
       " ['#65aad4', '22:B'],\n",
       " ['#a4cce3', '23:B'],\n",
       " ['#f5fafe', '24:B'],\n",
       " ['#9dcae1', '25:B'],\n",
       " ['#e4eff9', '26:B'],\n",
       " ['#f2f7fd', '27:B'],\n",
       " ['#5fa6d1', '28:B'],\n",
       " ['#a1cbe2', '29:B'],\n",
       " ['#f1f7fd', '30:B'],\n",
       " ['#f5f9fe', '31:B'],\n",
       " ['#9dcae1', '32:B'],\n",
       " ['#f2f7fd', '33:B'],\n",
       " ['#dfecf7', '34:B'],\n",
       " ['#f5f9fe', '35:B'],\n",
       " ['#f7fbff', '36:B'],\n",
       " ['#f7fbff', '37:B'],\n",
       " ['#dceaf6', '38:B'],\n",
       " ['#f4f9fe', '39:B'],\n",
       " ['#f6faff', '40:B'],\n",
       " ['#f3f8fe', '41:B'],\n",
       " ['#e1edf8', '42:B'],\n",
       " ['#f4f9fe', '43:B'],\n",
       " ['#b5d4e9', '44:B'],\n",
       " ['#f0f6fd', '45:B'],\n",
       " ['#d8e7f5', '46:B'],\n",
       " ['#8abfdd', '47:B'],\n",
       " ['#89bedc', '48:B'],\n",
       " ['#f7fbff', '49:B'],\n",
       " ['#c7dcef', '50:B'],\n",
       " ['#f7fbff', '51:B'],\n",
       " ['#dbe9f6', '52:B'],\n",
       " ['#f7fbff', '53:B'],\n",
       " ['#72b2d8', '54:B'],\n",
       " ['#81badb', '55:B'],\n",
       " ['#eaf2fb', '56:B'],\n",
       " ['#3c8cc3', '57:B'],\n",
       " ['#92c4de', '58:B'],\n",
       " ['#f7fbff', '59:B'],\n",
       " ['#8abfdd', '60:B'],\n",
       " ['#2070b4', '61:B'],\n",
       " ['#9cc9e1', '62:B'],\n",
       " ['#e9f2fa', '63:B'],\n",
       " ['#74b3d8', '64:B'],\n",
       " ['#abd0e6', '65:B'],\n",
       " ['#e7f0fa', '66:B'],\n",
       " ['#f7fbff', '67:B'],\n",
       " ['#7db8da', '68:B'],\n",
       " ['#c9ddf0', '69:B'],\n",
       " ['#f7fbff', '70:B'],\n",
       " ['#e4eff9', '71:B'],\n",
       " ['#4a98c9', '72:B'],\n",
       " ['#f4f9fe', '73:B'],\n",
       " ['#f7fbff', '74:B'],\n",
       " ['#084d96', '75:B'],\n",
       " ['#abd0e6', '76:B'],\n",
       " ['#f5f9fe', '77:B'],\n",
       " ['#77b5d9', '78:B'],\n",
       " ['#64a9d3', '79:B'],\n",
       " ['#1865ac', '80:B'],\n",
       " ['#abd0e6', '81:B'],\n",
       " ['#dfecf7', '82:B'],\n",
       " ['#6caed6', '83:B'],\n",
       " ['#f7fbff', '84:B'],\n",
       " ['#a0cbe2', '85:B'],\n",
       " ['#c7dbef', '86:B'],\n",
       " ['#a0cbe2', '87:B'],\n",
       " ['#519ccc', '88:B'],\n",
       " ['#82bbdb', '89:B']]"
      ]
     },
     "execution_count": 8,
     "metadata": {},
     "output_type": "execute_result"
    }
   ],
   "source": [
    "color_code"
   ]
  },
  {
   "cell_type": "code",
   "execution_count": 9,
   "id": "f0ee6013-a07a-47b4-9ed0-3694a33038ad",
   "metadata": {},
   "outputs": [],
   "source": [
    "scheme = _ColorScheme(color_code, label='user')"
   ]
  },
  {
   "cell_type": "code",
   "execution_count": 10,
   "id": "5373e95d-af59-472a-ac4a-ff52c1df0b5e",
   "metadata": {},
   "outputs": [
    {
     "data": {
      "application/vnd.jupyter.widget-view+json": {
       "model_id": "a9b9955f9baa4f198e9e03126ea3b784",
       "version_major": 2,
       "version_minor": 0
      },
      "text/plain": [
       "NGLWidget()"
      ]
     },
     "metadata": {},
     "output_type": "display_data"
    }
   ],
   "source": [
    "view = nv.show_mdtraj(tt)\n",
    "view.clear()\n",
    "view.add_cartoon(selection='protein', color=scheme)\n",
    "view"
   ]
  },
  {
   "cell_type": "code",
   "execution_count": null,
   "id": "fecddcc6-a304-43af-9c37-90689e555bc2",
   "metadata": {},
   "outputs": [],
   "source": []
  }
 ],
 "metadata": {
  "kernelspec": {
   "display_name": "Python 3 (ipykernel)",
   "language": "python",
   "name": "python3"
  },
  "language_info": {
   "codemirror_mode": {
    "name": "ipython",
    "version": 3
   },
   "file_extension": ".py",
   "mimetype": "text/x-python",
   "name": "python",
   "nbconvert_exporter": "python",
   "pygments_lexer": "ipython3",
   "version": "3.7.12"
  }
 },
 "nbformat": 4,
 "nbformat_minor": 5
}
