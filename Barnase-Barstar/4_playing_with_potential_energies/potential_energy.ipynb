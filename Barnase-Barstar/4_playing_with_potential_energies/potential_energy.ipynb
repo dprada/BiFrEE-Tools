{
 "cells": [
  {
   "cell_type": "code",
   "execution_count": 1,
   "id": "18906596-6c0e-434f-b339-e401fbcb383d",
   "metadata": {},
   "outputs": [
    {
     "data": {
      "application/vnd.jupyter.widget-view+json": {
       "model_id": "9227c98598af46db9ace33814ae8a55a",
       "version_major": 2,
       "version_minor": 0
      },
      "text/plain": []
     },
     "metadata": {},
     "output_type": "display_data"
    }
   ],
   "source": [
    "import os\n",
    "from copy import deepcopy\n",
    "\n",
    "import openmm as mm\n",
    "from openmm import unit\n",
    "from openmm import app\n",
    "from pdbfixer import PDBFixer\n",
    "import mdtraj as md\n",
    "import nglview as nv\n",
    "import requests\n",
    "import numpy as np\n",
    "from math import sqrt\n",
    "from tqdm import tqdm\n",
    "import matplotlib.pyplot as plt"
   ]
  },
  {
   "cell_type": "markdown",
   "id": "1b689ecf-cfef-41bd-b9a0-f0658b5d05e6",
   "metadata": {
    "tags": []
   },
   "source": [
    "# Playing with the potential energy"
   ]
  },
  {
   "cell_type": "markdown",
   "id": "8bbbdfcb-24cd-4b39-8973-71a434c06914",
   "metadata": {
    "tags": []
   },
   "source": [
    "## Building the Barnase-Barstar complex"
   ]
  },
  {
   "cell_type": "code",
   "execution_count": 2,
   "id": "9648320d-dbc7-4174-a73a-bf5c037c5bb9",
   "metadata": {},
   "outputs": [],
   "source": [
    "# Function to download PDB files\n",
    "\n",
    "def fetch_pdb(pdb_id, download_path=\"./\"):\n",
    "\n",
    "        url = 'http://files.rcsb.org/download/{}.pdb'.format(pdb_id)\n",
    "        try:\n",
    "            res = requests.get(url, allow_redirects=True)\n",
    "        except:\n",
    "            print(\"Could not fetch pdb from {}\".format(url))\n",
    "            return \n",
    "        \n",
    "        file_path = os.path.join(download_path, pdb_id + \".pdb\")\n",
    "        with open(file_path, \"wb\") as f:\n",
    "            f.write(res.content)"
   ]
  },
  {
   "cell_type": "code",
   "execution_count": 3,
   "id": "63f29b8b-1dd9-457c-b364-e4b87147cd4f",
   "metadata": {},
   "outputs": [],
   "source": [
    "# Just write the PDB id in order to download the pdb file\n",
    "\n",
    "fetch_pdb(\"1brs\")"
   ]
  },
  {
   "cell_type": "code",
   "execution_count": 4,
   "id": "cdfeb4fb-2ea5-4ad5-bd24-1bbced98b4c7",
   "metadata": {},
   "outputs": [],
   "source": [
    "# Load pdb with MDTraj\n",
    "\n",
    "brs = md.load('1brs.pdb')"
   ]
  },
  {
   "cell_type": "code",
   "execution_count": 5,
   "id": "871fb1ed-255f-40a0-93b1-6728f5f29e04",
   "metadata": {},
   "outputs": [],
   "source": [
    "# Remove water molecules\n",
    "\n",
    "brs = brs.remove_solvent()"
   ]
  },
  {
   "cell_type": "code",
   "execution_count": 6,
   "id": "df598b8d-306d-45b4-8981-f65f2da4f659",
   "metadata": {},
   "outputs": [],
   "source": [
    "# Barnase's chains\n",
    "\n",
    "atoms_in_chain_A = brs.topology.select(\"chainid == 0\")\n",
    "atoms_in_chain_B = brs.topology.select(\"chainid == 1\")\n",
    "atoms_in_chain_C = brs.topology.select(\"chainid == 2\")"
   ]
  },
  {
   "cell_type": "code",
   "execution_count": 7,
   "id": "5daf3e41-6cf0-4746-89be-3d74513ffc12",
   "metadata": {},
   "outputs": [],
   "source": [
    "# Barstar's chains\n",
    "\n",
    "atoms_in_chain_D = brs.topology.select(\"chainid == 3\")\n",
    "atoms_in_chain_E = brs.topology.select(\"chainid == 4\")\n",
    "atoms_in_chain_F = brs.topology.select(\"chainid == 5\")"
   ]
  },
  {
   "cell_type": "code",
   "execution_count": 8,
   "id": "fd26cdea-940b-4636-ab5c-6c82d26f24dd",
   "metadata": {},
   "outputs": [],
   "source": [
    "# Barnase's chain's atoms\n",
    "\n",
    "barnase_A = brs.atom_slice(atoms_in_chain_A)\n",
    "barnase_B = brs.atom_slice(atoms_in_chain_B)\n",
    "barnase_C = brs.atom_slice(atoms_in_chain_C)"
   ]
  },
  {
   "cell_type": "code",
   "execution_count": 9,
   "id": "20432d05-4050-4a07-918b-17da37fdd538",
   "metadata": {},
   "outputs": [],
   "source": [
    "# Barstar's chain's atoms\n",
    "\n",
    "barstar_D = brs.atom_slice(atoms_in_chain_D)\n",
    "barstar_E = brs.atom_slice(atoms_in_chain_E)\n",
    "barstar_F = brs.atom_slice(atoms_in_chain_F)"
   ]
  },
  {
   "cell_type": "markdown",
   "id": "a88d0d85-e4e9-47f6-abb8-6c1b79e8bf14",
   "metadata": {},
   "source": [
    "Let's work with barnase B and barstar F since they are the most complete monomers. Given that barstar E is the bound to barnase B, barstar F needs to be fitted over E to have the complex B-F:"
   ]
  },
  {
   "cell_type": "code",
   "execution_count": 10,
   "id": "060eb50e-61d4-430d-8c45-53b4030d0ebb",
   "metadata": {},
   "outputs": [],
   "source": [
    "atoms_to_fit_E = []\n",
    "atoms_to_fit_F = []\n",
    "for atom_E in barstar_E.topology.atoms_by_name('CA'):\n",
    "    for atom_F in barstar_F.topology.atoms_by_name('CA'):\n",
    "        if str(atom_E)==str(atom_F):\n",
    "            #print(f'{str(atom_E)} is {atom_E.index} in E and {atom_F.index} in F')\n",
    "            atoms_to_fit_E.append(atom_E.index)\n",
    "            atoms_to_fit_F.append(atom_F.index)"
   ]
  },
  {
   "cell_type": "code",
   "execution_count": 11,
   "id": "c20d49f7-8ee6-45db-ba10-f730147d222b",
   "metadata": {},
   "outputs": [],
   "source": [
    "barstar_F_over_E = md.Trajectory.superpose(barstar_F, barstar_E, frame=0, atom_indices=atoms_to_fit_F, ref_atom_indices=atoms_to_fit_E)"
   ]
  },
  {
   "cell_type": "code",
   "execution_count": 12,
   "id": "25da516e-25d2-424f-bd58-c1747aaa8ddd",
   "metadata": {},
   "outputs": [],
   "source": [
    "new_barnase_barstar = barnase_B.stack(barstar_F_over_E)"
   ]
  },
  {
   "cell_type": "code",
   "execution_count": 13,
   "id": "b47162fc-2ffe-4370-aa6f-119e0cd42133",
   "metadata": {
    "tags": []
   },
   "outputs": [
    {
     "data": {
      "application/vnd.jupyter.widget-view+json": {
       "model_id": "cc9d8afde5524d74bb50d29b3b739ceb",
       "version_major": 2,
       "version_minor": 0
      },
      "text/plain": [
       "NGLWidget()"
      ]
     },
     "metadata": {},
     "output_type": "display_data"
    }
   ],
   "source": [
    "view = nv.show_mdtraj(new_barnase_barstar)\n",
    "view"
   ]
  },
  {
   "cell_type": "code",
   "execution_count": 14,
   "id": "ca0aa7fd-d191-486e-a10a-312c8c3a9c21",
   "metadata": {},
   "outputs": [],
   "source": [
    "new_barnase_barstar.save_pdb('new_barnase_barstar.pdb')"
   ]
  },
  {
   "cell_type": "code",
   "execution_count": 15,
   "id": "e9e51673-143a-4afe-a296-5af71e7d0b19",
   "metadata": {},
   "outputs": [],
   "source": [
    "fixer = PDBFixer(filename='new_barnase_barstar.pdb')"
   ]
  },
  {
   "cell_type": "code",
   "execution_count": 16,
   "id": "842a7441-e52b-4617-9282-52153665c705",
   "metadata": {},
   "outputs": [
    {
     "name": "stderr",
     "output_type": "stream",
     "text": [
      "Warning: importing 'simtk.openmm' is deprecated.  Import 'openmm' instead.\n"
     ]
    },
    {
     "name": "stdout",
     "output_type": "stream",
     "text": [
      "0 missing residues\n",
      "0 non standard residues\n",
      "6 missing atoms\n",
      "0 missing terminals\n"
     ]
    }
   ],
   "source": [
    "fixer.findMissingResidues()\n",
    "missing_residues = fixer.missingResidues\n",
    "print(f\"{len(missing_residues)} missing residues\")\n",
    "\n",
    "fixer.findNonstandardResidues()\n",
    "nonstandard_residues = fixer.nonstandardResidues\n",
    "print(f\"{len(nonstandard_residues)} non standard residues\")\n",
    "\n",
    "fixer.findMissingAtoms()\n",
    "missing_atoms = fixer.missingAtoms\n",
    "missing_terminals = fixer.missingTerminals\n",
    "print(f\"{len(missing_atoms)} missing atoms\")\n",
    "print(f\"{len(missing_terminals)} missing terminals\")\n",
    "\n",
    "if len(nonstandard_residues)>0:\n",
    "    fixer.replaceNonstandardResidues()\n",
    "\n",
    "if len(missing_atoms)>0:\n",
    "    fixer.addMissingAtoms()"
   ]
  },
  {
   "cell_type": "code",
   "execution_count": 17,
   "id": "7873e035-aa3f-460f-bb94-bc0e277bcfe5",
   "metadata": {},
   "outputs": [],
   "source": [
    "forcefield = app.ForceField('amber14-all.xml', 'amber14/tip3p.xml')"
   ]
  },
  {
   "cell_type": "code",
   "execution_count": 18,
   "id": "688b8b07-c656-44e9-966c-82f7b88cb045",
   "metadata": {},
   "outputs": [],
   "source": [
    "modeller = app.Modeller(fixer.topology, fixer.positions)\n",
    "pH = 7.2\n",
    "residues_protonated = modeller.addHydrogens(forcefield=forcefield, pH=pH)"
   ]
  },
  {
   "cell_type": "code",
   "execution_count": 19,
   "id": "5ae95e63-7f24-460d-9eae-bd092e5b5e87",
   "metadata": {},
   "outputs": [],
   "source": [
    "system = forcefield.createSystem(modeller.topology, nonbondedMethod=app.NoCutoff, constraints=app.HBonds)"
   ]
  },
  {
   "cell_type": "code",
   "execution_count": 20,
   "id": "69ee617e-292a-46c7-bc55-8b7c5314f44f",
   "metadata": {},
   "outputs": [
    {
     "name": "stdout",
     "output_type": "stream",
     "text": [
      "HarmonicBondForce was in force group 0 and it is now in group 0\n",
      "HarmonicAngleForce was in force group 0 and it is now in group 1\n",
      "NonbondedForce was in force group 0 and it is now in group 2\n",
      "PeriodicTorsionForce was in force group 0 and it is now in group 3\n",
      "CMMotionRemover was in force group 0 and it is now in group 4\n"
     ]
    }
   ],
   "source": [
    "# We need to define force groups to be able to calculate the different energy terms \n",
    "\n",
    "forcegroups = {}\n",
    "for ii in range(system.getNumForces()):\n",
    "    force = system.getForce(ii)\n",
    "    print(f'{force.getName()} was in force group {force.getForceGroup()} and it is now in group {ii}')\n",
    "    force.setForceGroup(ii)\n",
    "    forcegroups[force] = ii"
   ]
  },
  {
   "cell_type": "code",
   "execution_count": 21,
   "id": "dbcf8aa2-d3ae-45c2-89d1-e041e77f1bb3",
   "metadata": {},
   "outputs": [],
   "source": [
    "# A simulation object is needed\n",
    "\n",
    "## Integrator\n",
    "step_size   = 0.002*unit.picoseconds\n",
    "temperature = 0.0*unit.kelvin\n",
    "friction    = 0.0/unit.picosecond # Damping para la dinámica de Langevin\n",
    "\n",
    "integrator = mm.LangevinIntegrator(temperature, friction, step_size)\n",
    "\n",
    "## Platform\n",
    "platform_name = 'CPU'\n",
    "platform    = mm.Platform.getPlatformByName(platform_name)"
   ]
  },
  {
   "cell_type": "code",
   "execution_count": 22,
   "id": "8cbc3494-3460-4854-ae86-c130f95b65c4",
   "metadata": {},
   "outputs": [],
   "source": [
    "# Creación del objeto context del sistema en vacio\n",
    "\n",
    "context = mm.Context(system, integrator, platform)"
   ]
  },
  {
   "cell_type": "code",
   "execution_count": 23,
   "id": "ff402669-0c3b-425c-adc6-5a251bba1c08",
   "metadata": {},
   "outputs": [],
   "source": [
    "# Condiciones iniciales\n",
    "context.setPositions(modeller.positions)"
   ]
  },
  {
   "cell_type": "code",
   "execution_count": 24,
   "id": "9d47cba9-bc58-4da0-bcb9-72a5de3d2e82",
   "metadata": {},
   "outputs": [],
   "source": [
    "# Minimizacion del sistema\n",
    "\n",
    "state_pre_minimization = context.getState(getEnergy=True)\n",
    "mm.LocalEnergyMinimizer_minimize(context)\n",
    "state_post_minimization = context.getState(getEnergy=True)"
   ]
  },
  {
   "cell_type": "code",
   "execution_count": 25,
   "id": "5e3b01d2-0634-4d3f-aac1-70f2856e5117",
   "metadata": {},
   "outputs": [
    {
     "name": "stdout",
     "output_type": "stream",
     "text": [
      "Energy before minimization: -13298.469521243596 kJ/mol\n",
      "Energy after minimization: -24997.509341596022 kJ/mol\n"
     ]
    }
   ],
   "source": [
    "print('Energy before minimization:', state_pre_minimization.getPotentialEnergy())\n",
    "print('Energy after minimization:', state_post_minimization.getPotentialEnergy())"
   ]
  },
  {
   "cell_type": "code",
   "execution_count": 26,
   "id": "69b2fc48-4e04-490e-98c0-885672b6c85c",
   "metadata": {},
   "outputs": [],
   "source": [
    "energies = {}\n",
    "for ff, ii in forcegroups.items():\n",
    "    energies[ff.getName()] = context.getState(getEnergy=True, groups={ii}).getPotentialEnergy()"
   ]
  },
  {
   "cell_type": "code",
   "execution_count": 27,
   "id": "0c368ad0-6b43-45db-b2ec-8fdc3f8517c8",
   "metadata": {},
   "outputs": [
    {
     "name": "stdout",
     "output_type": "stream",
     "text": [
      "HarmonicBondForce 412.43904571880404 kJ/mol\n",
      "HarmonicAngleForce 1692.1235454847406 kJ/mol\n",
      "NonbondedForce -36629.51595539581 kJ/mol\n",
      "PeriodicTorsionForce 9527.444022596237 kJ/mol\n",
      "CMMotionRemover 0.0 kJ/mol\n"
     ]
    }
   ],
   "source": [
    "for ii,jj in energies.items():\n",
    "    print(ii,jj)"
   ]
  },
  {
   "cell_type": "code",
   "execution_count": 28,
   "id": "2cbe63bb-a48b-4acf-8c50-e981aa93e6aa",
   "metadata": {},
   "outputs": [
    {
     "data": {
      "text/plain": [
       "Quantity(value=-24997.509341596022, unit=kilojoule/mole)"
      ]
     },
     "execution_count": 28,
     "metadata": {},
     "output_type": "execute_result"
    }
   ],
   "source": [
    "energies['HarmonicBondForce']+energies['HarmonicAngleForce']+energies['NonbondedForce']+energies['PeriodicTorsionForce']"
   ]
  },
  {
   "cell_type": "markdown",
   "id": "9c5b9c52-f657-4434-b606-8688859089d7",
   "metadata": {},
   "source": [
    "- We should work on how to decompose de NonbondedForce: LJ contribution (VdW) and Coulomb contribution. "
   ]
  },
  {
   "cell_type": "code",
   "execution_count": 29,
   "id": "23433567-c0ae-48f4-a0ed-f0310788f498",
   "metadata": {},
   "outputs": [],
   "source": [
    "non_bonded_force = None\n",
    "for ii in range(system.getNumForces()):\n",
    "    force = system.getForce(ii)\n",
    "    if force.getName() == 'NonbondedForce':\n",
    "        non_bonded_force = force"
   ]
  },
  {
   "cell_type": "code",
   "execution_count": 30,
   "id": "9d44ee8a-1c7b-40cc-b53d-a90f466c5f4d",
   "metadata": {},
   "outputs": [
    {
     "data": {
      "text/plain": [
       "'NonbondedForce'"
      ]
     },
     "execution_count": 30,
     "metadata": {},
     "output_type": "execute_result"
    }
   ],
   "source": [
    "non_bonded_force.getName()"
   ]
  },
  {
   "cell_type": "code",
   "execution_count": 31,
   "id": "606e526e-0c09-4a22-bdc7-4f726404d61b",
   "metadata": {},
   "outputs": [
    {
     "data": {
      "text/plain": [
       "3159"
      ]
     },
     "execution_count": 31,
     "metadata": {},
     "output_type": "execute_result"
    }
   ],
   "source": [
    "non_bonded_force.getNumParticles()"
   ]
  },
  {
   "cell_type": "code",
   "execution_count": 32,
   "id": "e43082ba-1bb8-4504-90ed-1b30f44dfc19",
   "metadata": {},
   "outputs": [
    {
     "data": {
      "text/plain": [
       "17259"
      ]
     },
     "execution_count": 32,
     "metadata": {},
     "output_type": "execute_result"
    }
   ],
   "source": [
    "non_bonded_force.getNumExceptions()"
   ]
  },
  {
   "cell_type": "code",
   "execution_count": 33,
   "id": "84a2a088-e7d7-47e8-b362-c19c8951e6c6",
   "metadata": {},
   "outputs": [],
   "source": [
    "original_particle_parameters = {}\n",
    "for ii in range(non_bonded_force.getNumParticles()):\n",
    "    charge, sigma, epsilon = non_bonded_force.getParticleParameters(ii)\n",
    "    original_particle_parameters[ii] = {'charge': charge, 'sigma': sigma, 'epsilon':epsilon}\n",
    "\n",
    "original_exception_parameters = {}\n",
    "for ii in range(non_bonded_force.getNumExceptions()):\n",
    "    particle1, particle2, chargeProd, sigma, epsilon = non_bonded_force.getExceptionParameters(ii)\n",
    "    original_exception_parameters[ii] = {'particle1': particle1, 'particle2': particle2, 'chargeProd': chargeProd,\n",
    "                                     'sigma': sigma, 'epsilon': epsilon}"
   ]
  },
  {
   "cell_type": "code",
   "execution_count": 34,
   "id": "bde665ba-21e8-4b19-a2f0-58537dd67ccb",
   "metadata": {},
   "outputs": [],
   "source": [
    "residues_per_chain={}\n",
    "atoms_per_residue={}\n",
    "for chain in modeller.topology.chains():\n",
    "    aux_residue_indices = []\n",
    "    for residue in chain.residues():\n",
    "        aux_atom_indices = []\n",
    "        aux_residue_indices.append(residue.index)\n",
    "        for atom in residue.atoms():\n",
    "            aux_atom_indices.append(atom.index)\n",
    "        atoms_per_residue[residue.index]=aux_atom_indices\n",
    "    residues_per_chain[chain.index]=aux_residue_indices"
   ]
  },
  {
   "cell_type": "code",
   "execution_count": 35,
   "id": "70e31c7b-0a1f-4b26-a067-8612eddce085",
   "metadata": {},
   "outputs": [],
   "source": [
    "Total_non_bonded_potential_energy = context.getState(getEnergy=True, groups={2}).getPotentialEnergy()"
   ]
  },
  {
   "cell_type": "code",
   "execution_count": 36,
   "id": "d504dc46-e31d-410b-86cd-ac854f74b34e",
   "metadata": {},
   "outputs": [
    {
     "data": {
      "text/plain": [
       "Quantity(value=-36629.51595539581, unit=kilojoule/mole)"
      ]
     },
     "execution_count": 36,
     "metadata": {},
     "output_type": "execute_result"
    }
   ],
   "source": [
    "Total_non_bonded_potential_energy"
   ]
  },
  {
   "cell_type": "code",
   "execution_count": 37,
   "id": "287ffa1f-35e0-4352-9a21-9629b12df212",
   "metadata": {},
   "outputs": [
    {
     "data": {
      "text/plain": [
       "{'charge': Quantity(value=0.1414, unit=elementary charge),\n",
       " 'sigma': Quantity(value=0.3249998523775958, unit=nanometer),\n",
       " 'epsilon': Quantity(value=0.7112800000000001, unit=kilojoule/mole)}"
      ]
     },
     "execution_count": 37,
     "metadata": {},
     "output_type": "execute_result"
    }
   ],
   "source": [
    "original_particle_parameters[0]"
   ]
  },
  {
   "cell_type": "code",
   "execution_count": 38,
   "id": "fc8af13c-4843-4831-9283-b29d20c9a387",
   "metadata": {},
   "outputs": [],
   "source": [
    "residues_in = residues_per_chain[0]\n",
    "atoms_in = []\n",
    "for residue_index in residues_in:\n",
    "    atoms_in += atoms_per_residue[residue_index]"
   ]
  },
  {
   "cell_type": "markdown",
   "id": "ff57a1eb-6e49-4051-ad8a-822417ae5f92",
   "metadata": {},
   "source": [
    "Let's compute the energy terms of the system when all charges and epsilons have been set to zero:"
   ]
  },
  {
   "cell_type": "code",
   "execution_count": 70,
   "id": "51f9683c-abbb-45c3-9285-2cdf37287796",
   "metadata": {},
   "outputs": [
    {
     "ename": "OpenMMException",
     "evalue": "updateParametersInContext: The number of non-excluded exceptions has changed",
     "output_type": "error",
     "traceback": [
      "\u001b[0;31m---------------------------------------------------------------------------\u001b[0m",
      "\u001b[0;31mOpenMMException\u001b[0m                           Traceback (most recent call last)",
      "\u001b[0;32m/tmp/ipykernel_4061641/1622578998.py\u001b[0m in \u001b[0;36m<module>\u001b[0;34m\u001b[0m\n\u001b[1;32m      8\u001b[0m                                             0.0 * unit.kilojoule_per_mole)\n\u001b[1;32m      9\u001b[0m \u001b[0;34m\u001b[0m\u001b[0m\n\u001b[0;32m---> 10\u001b[0;31m \u001b[0mnon_bonded_force\u001b[0m\u001b[0;34m.\u001b[0m\u001b[0mupdateParametersInContext\u001b[0m\u001b[0;34m(\u001b[0m\u001b[0mcontext\u001b[0m\u001b[0;34m)\u001b[0m\u001b[0;34m\u001b[0m\u001b[0;34m\u001b[0m\u001b[0m\n\u001b[0m\u001b[1;32m     11\u001b[0m \u001b[0;34m\u001b[0m\u001b[0m\n\u001b[1;32m     12\u001b[0m \u001b[0menergies_zeroed\u001b[0m \u001b[0;34m=\u001b[0m \u001b[0;34m{\u001b[0m\u001b[0;34m}\u001b[0m\u001b[0;34m\u001b[0m\u001b[0;34m\u001b[0m\u001b[0m\n",
      "\u001b[0;32m~/Myopt/miniconda3/envs/bifree-tests/lib/python3.7/site-packages/openmm/openmm.py\u001b[0m in \u001b[0;36mupdateParametersInContext\u001b[0;34m(self, context)\u001b[0m\n\u001b[1;32m   8392\u001b[0m         \u001b[0mThis\u001b[0m \u001b[0mmethod\u001b[0m \u001b[0mhas\u001b[0m \u001b[0mseveral\u001b[0m \u001b[0mlimitations\u001b[0m\u001b[0;34m.\u001b[0m \u001b[0mThe\u001b[0m \u001b[0monly\u001b[0m \u001b[0minformation\u001b[0m \u001b[0mit\u001b[0m \u001b[0mupdates\u001b[0m \u001b[0;32mis\u001b[0m \u001b[0mthe\u001b[0m \u001b[0mparameters\u001b[0m \u001b[0mof\u001b[0m \u001b[0mparticles\u001b[0m \u001b[0;32mand\u001b[0m \u001b[0mexceptions\u001b[0m\u001b[0;34m.\u001b[0m \u001b[0mAll\u001b[0m \u001b[0mother\u001b[0m \u001b[0maspects\u001b[0m \u001b[0mof\u001b[0m \u001b[0mthe\u001b[0m \u001b[0mForce\u001b[0m \u001b[0;34m(\u001b[0m\u001b[0mthe\u001b[0m \u001b[0mnonbonded\u001b[0m \u001b[0mmethod\u001b[0m\u001b[0;34m,\u001b[0m \u001b[0mthe\u001b[0m \u001b[0mcutoff\u001b[0m \u001b[0mdistance\u001b[0m\u001b[0;34m,\u001b[0m \u001b[0metc\u001b[0m\u001b[0;34m.\u001b[0m\u001b[0;34m)\u001b[0m \u001b[0mare\u001b[0m \u001b[0munaffected\u001b[0m \u001b[0;32mand\u001b[0m \u001b[0mcan\u001b[0m \u001b[0monly\u001b[0m \u001b[0mbe\u001b[0m \u001b[0mchanged\u001b[0m \u001b[0mby\u001b[0m \u001b[0mreinitializing\u001b[0m \u001b[0mthe\u001b[0m \u001b[0mContext\u001b[0m\u001b[0;34m.\u001b[0m \u001b[0mFurthermore\u001b[0m\u001b[0;34m,\u001b[0m \u001b[0monly\u001b[0m \u001b[0mthe\u001b[0m \u001b[0mchargeProd\u001b[0m\u001b[0;34m,\u001b[0m \u001b[0msigma\u001b[0m\u001b[0;34m,\u001b[0m \u001b[0;32mand\u001b[0m \u001b[0mepsilon\u001b[0m \u001b[0mvalues\u001b[0m \u001b[0mof\u001b[0m \u001b[0man\u001b[0m \u001b[0mexception\u001b[0m \u001b[0mcan\u001b[0m \u001b[0mbe\u001b[0m \u001b[0mchanged\u001b[0m\u001b[0;34m;\u001b[0m \u001b[0mthe\u001b[0m \u001b[0mpair\u001b[0m \u001b[0mof\u001b[0m \u001b[0mparticles\u001b[0m \u001b[0minvolved\u001b[0m \u001b[0;32min\u001b[0m \u001b[0mthe\u001b[0m \u001b[0mexception\u001b[0m \u001b[0mcannot\u001b[0m \u001b[0mchange\u001b[0m\u001b[0;34m.\u001b[0m \u001b[0mFinally\u001b[0m\u001b[0;34m,\u001b[0m \u001b[0mthis\u001b[0m \u001b[0mmethod\u001b[0m \u001b[0mcannot\u001b[0m \u001b[0mbe\u001b[0m \u001b[0mused\u001b[0m \u001b[0mto\u001b[0m \u001b[0madd\u001b[0m \u001b[0mnew\u001b[0m \u001b[0mparticles\u001b[0m \u001b[0;32mor\u001b[0m \u001b[0mexceptions\u001b[0m\u001b[0;34m,\u001b[0m \u001b[0monly\u001b[0m \u001b[0mto\u001b[0m \u001b[0mchange\u001b[0m \u001b[0mthe\u001b[0m \u001b[0mparameters\u001b[0m \u001b[0mof\u001b[0m \u001b[0mexisting\u001b[0m \u001b[0mones\u001b[0m\u001b[0;34m.\u001b[0m\u001b[0;34m\u001b[0m\u001b[0;34m\u001b[0m\u001b[0m\n\u001b[1;32m   8393\u001b[0m         \"\"\"\n\u001b[0;32m-> 8394\u001b[0;31m         \u001b[0;32mreturn\u001b[0m \u001b[0m_openmm\u001b[0m\u001b[0;34m.\u001b[0m\u001b[0mNonbondedForce_updateParametersInContext\u001b[0m\u001b[0;34m(\u001b[0m\u001b[0mself\u001b[0m\u001b[0;34m,\u001b[0m \u001b[0mcontext\u001b[0m\u001b[0;34m)\u001b[0m\u001b[0;34m\u001b[0m\u001b[0;34m\u001b[0m\u001b[0m\n\u001b[0m\u001b[1;32m   8395\u001b[0m \u001b[0;34m\u001b[0m\u001b[0m\n\u001b[1;32m   8396\u001b[0m     \u001b[0;32mdef\u001b[0m \u001b[0musesPeriodicBoundaryConditions\u001b[0m\u001b[0;34m(\u001b[0m\u001b[0mself\u001b[0m\u001b[0;34m)\u001b[0m\u001b[0;34m:\u001b[0m\u001b[0;34m\u001b[0m\u001b[0;34m\u001b[0m\u001b[0m\n",
      "\u001b[0;31mOpenMMException\u001b[0m: updateParametersInContext: The number of non-excluded exceptions has changed"
     ]
    }
   ],
   "source": [
    "for ii, parameters in original_particle_parameters.items():\n",
    "    non_bonded_force.setParticleParameters(ii, 0.0 * unit.elementary_charge, parameters['sigma'],\n",
    "                                           0.0 * unit.kilojoule_per_mole)\n",
    "\n",
    "for ii, parameters in original_exception_parameters.items():\n",
    "    non_bonded_force.setExceptionParameters(ii, parameters['particle1'], parameters['particle2'],\n",
    "                                            0.000000001 * unit.elementary_charge **2, parameters['sigma'],\n",
    "                                            0.0 * unit.kilojoule_per_mole)\n",
    "    \n",
    "non_bonded_force.updateParametersInContext(context)\n",
    "\n",
    "energies_zeroed = {}\n",
    "for ff, ii in forcegroups.items():\n",
    "    energies_zeroed[ff.getName()] = context.getState(getEnergy=True, groups={ii}).getPotentialEnergy()\n",
    "\n",
    "for ii,jj in energies_zeroed.items():\n",
    "    print(ii,jj)"
   ]
  },
  {
   "cell_type": "code",
   "execution_count": 53,
   "id": "1ed041f3-241a-4b5f-84a0-9c7223692857",
   "metadata": {},
   "outputs": [
    {
     "data": {
      "text/plain": [
       "{'particle1': 1,\n",
       " 'particle2': 5,\n",
       " 'chargeProd': Quantity(value=0.014794441666666667, unit=elementary charge**2),\n",
       " 'sigma': Quantity(value=0.1514527820838577, unit=nanometer),\n",
       " 'epsilon': Quantity(value=0.032844399999999996, unit=kilojoule/mole)}"
      ]
     },
     "execution_count": 53,
     "metadata": {},
     "output_type": "execute_result"
    }
   ],
   "source": [
    "original_exception_parameters[11]"
   ]
  },
  {
   "cell_type": "code",
   "execution_count": 68,
   "id": "b095c647-7f6b-4807-a87f-3c6821a36f7c",
   "metadata": {},
   "outputs": [],
   "source": [
    "non_bonded_force.setExceptionParameters(11, 1, 5,\n",
    "                                        0.000000001 * unit.elementary_charge **2, 0.1 * unit.nanometer, 0.0 * unit.kilojoule_per_mole)"
   ]
  },
  {
   "cell_type": "code",
   "execution_count": 69,
   "id": "c8fdd9b7-5cd5-4f29-9007-2d9ecc422bfc",
   "metadata": {},
   "outputs": [
    {
     "name": "stdout",
     "output_type": "stream",
     "text": [
      "HarmonicBondForce 412.43904571880404 kJ/mol\n",
      "HarmonicAngleForce 1692.1235454847406 kJ/mol\n",
      "NonbondedForce 37677.480324850025 kJ/mol\n",
      "PeriodicTorsionForce 9527.444022596237 kJ/mol\n",
      "CMMotionRemover 0.0 kJ/mol\n"
     ]
    }
   ],
   "source": [
    "non_bonded_force.updateParametersInContext(context)\n",
    "\n",
    "energies_zeroed = {}\n",
    "for ff, ii in forcegroups.items():\n",
    "    energies_zeroed[ff.getName()] = context.getState(getEnergy=True, groups={ii}).getPotentialEnergy()\n",
    "\n",
    "for ii,jj in energies_zeroed.items():\n",
    "    print(ii,jj)"
   ]
  },
  {
   "cell_type": "markdown",
   "id": "1c69069f-5299-42a7-b4c8-a6b55a202681",
   "metadata": {},
   "source": [
    "# Of interest\n",
    "\n",
    "https://github.com/openmm/openmm/issues/1463    \n",
    "https://github.com/openmm/openmm/issues/387    \n",
    "https://github.com/openmm/openmm/issues/2682    \n",
    "https://github.com/openmm/openmm/issues/1830    \n",
    "https://openmm.github.io/openmm-cookbook/dev/notebooks/cookbook/Analyzing%20Energy%20Contributions.html    \n",
    "https://openmm.github.io/openmm-cookbook/dev/notebooks/cookbook/Querying%20Charges%20and%20Other%20Parameters.html    \n",
    "\n",
    "\n",
    "https://github.com/openmm/openmm/issues/3178    \n",
    "https://github.com/openmm/openmm/issues/3169    \n",
    "https://github.com/openmm/openmm/issues/2880    \n",
    "https://github.com/openmm/openmm/issues/2835    \n",
    "https://github.com/openmm/openmm/issues/2682    \n",
    "\n",
    "https://chemrxiv.org/engage/api-gateway/chemrxiv/assets/orp/resource/item/60c758a8567dfe4abcec68b3/original/sbm-open-mm-a-builder-of-structure-based-models-for-open-mm.pdf"
   ]
  },
  {
   "cell_type": "code",
   "execution_count": null,
   "id": "47016a5b-5fd6-43fd-afaa-cdb8dc9c78a0",
   "metadata": {},
   "outputs": [],
   "source": []
  }
 ],
 "metadata": {
  "kernelspec": {
   "display_name": "Python 3 (ipykernel)",
   "language": "python",
   "name": "python3"
  },
  "language_info": {
   "codemirror_mode": {
    "name": "ipython",
    "version": 3
   },
   "file_extension": ".py",
   "mimetype": "text/x-python",
   "name": "python",
   "nbconvert_exporter": "python",
   "pygments_lexer": "ipython3",
   "version": "3.7.12"
  }
 },
 "nbformat": 4,
 "nbformat_minor": 5
}
