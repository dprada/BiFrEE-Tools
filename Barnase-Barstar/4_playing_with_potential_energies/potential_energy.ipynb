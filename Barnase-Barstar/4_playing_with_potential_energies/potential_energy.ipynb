{
 "cells": [
  {
   "cell_type": "code",
   "execution_count": 1,
   "id": "18906596-6c0e-434f-b339-e401fbcb383d",
   "metadata": {},
   "outputs": [
    {
     "data": {
      "application/vnd.jupyter.widget-view+json": {
       "model_id": "80dc8e911d2f466aa861757ce0522eb4",
       "version_major": 2,
       "version_minor": 0
      },
      "text/plain": []
     },
     "metadata": {},
     "output_type": "display_data"
    }
   ],
   "source": [
    "import os\n",
    "from copy import deepcopy\n",
    "\n",
    "import openmm as mm\n",
    "from openmm import unit\n",
    "from openmm import app\n",
    "from pdbfixer import PDBFixer\n",
    "import mdtraj as md\n",
    "import nglview as nv\n",
    "import requests\n",
    "import numpy as np\n",
    "from math import sqrt\n",
    "from tqdm import tqdm\n",
    "import matplotlib.pyplot as plt"
   ]
  },
  {
   "cell_type": "markdown",
   "id": "1b689ecf-cfef-41bd-b9a0-f0658b5d05e6",
   "metadata": {
    "tags": []
   },
   "source": [
    "# Playing with the potential energy"
   ]
  },
  {
   "cell_type": "markdown",
   "id": "8bbbdfcb-24cd-4b39-8973-71a434c06914",
   "metadata": {
    "tags": []
   },
   "source": [
    "## Building the Barnase-Barstar complex"
   ]
  },
  {
   "cell_type": "code",
   "execution_count": 2,
   "id": "9648320d-dbc7-4174-a73a-bf5c037c5bb9",
   "metadata": {},
   "outputs": [],
   "source": [
    "# Function to download PDB files\n",
    "\n",
    "def fetch_pdb(pdb_id, download_path=\"./\"):\n",
    "\n",
    "        url = 'http://files.rcsb.org/download/{}.pdb'.format(pdb_id)\n",
    "        try:\n",
    "            res = requests.get(url, allow_redirects=True)\n",
    "        except:\n",
    "            print(\"Could not fetch pdb from {}\".format(url))\n",
    "            return \n",
    "        \n",
    "        file_path = os.path.join(download_path, pdb_id + \".pdb\")\n",
    "        with open(file_path, \"wb\") as f:\n",
    "            f.write(res.content)"
   ]
  },
  {
   "cell_type": "code",
   "execution_count": 3,
   "id": "63f29b8b-1dd9-457c-b364-e4b87147cd4f",
   "metadata": {},
   "outputs": [],
   "source": [
    "# Just write the PDB id in order to download the pdb file\n",
    "\n",
    "fetch_pdb(\"1brs\")"
   ]
  },
  {
   "cell_type": "code",
   "execution_count": 4,
   "id": "cdfeb4fb-2ea5-4ad5-bd24-1bbced98b4c7",
   "metadata": {},
   "outputs": [],
   "source": [
    "# Load pdb with MDTraj\n",
    "\n",
    "brs = md.load('1brs.pdb')"
   ]
  },
  {
   "cell_type": "code",
   "execution_count": 5,
   "id": "871fb1ed-255f-40a0-93b1-6728f5f29e04",
   "metadata": {},
   "outputs": [],
   "source": [
    "# Remove water molecules\n",
    "\n",
    "brs = brs.remove_solvent()"
   ]
  },
  {
   "cell_type": "code",
   "execution_count": 6,
   "id": "df598b8d-306d-45b4-8981-f65f2da4f659",
   "metadata": {},
   "outputs": [],
   "source": [
    "# Barnase's chains\n",
    "\n",
    "atoms_in_chain_A = brs.topology.select(\"chainid == 0\")\n",
    "atoms_in_chain_B = brs.topology.select(\"chainid == 1\")\n",
    "atoms_in_chain_C = brs.topology.select(\"chainid == 2\")"
   ]
  },
  {
   "cell_type": "code",
   "execution_count": 7,
   "id": "5daf3e41-6cf0-4746-89be-3d74513ffc12",
   "metadata": {},
   "outputs": [],
   "source": [
    "# Barstar's chains\n",
    "\n",
    "atoms_in_chain_D = brs.topology.select(\"chainid == 3\")\n",
    "atoms_in_chain_E = brs.topology.select(\"chainid == 4\")\n",
    "atoms_in_chain_F = brs.topology.select(\"chainid == 5\")"
   ]
  },
  {
   "cell_type": "code",
   "execution_count": 8,
   "id": "fd26cdea-940b-4636-ab5c-6c82d26f24dd",
   "metadata": {},
   "outputs": [],
   "source": [
    "# Barnase's chain's atoms\n",
    "\n",
    "barnase_A = brs.atom_slice(atoms_in_chain_A)\n",
    "barnase_B = brs.atom_slice(atoms_in_chain_B)\n",
    "barnase_C = brs.atom_slice(atoms_in_chain_C)"
   ]
  },
  {
   "cell_type": "code",
   "execution_count": 9,
   "id": "20432d05-4050-4a07-918b-17da37fdd538",
   "metadata": {},
   "outputs": [],
   "source": [
    "# Barstar's chain's atoms\n",
    "\n",
    "barstar_D = brs.atom_slice(atoms_in_chain_D)\n",
    "barstar_E = brs.atom_slice(atoms_in_chain_E)\n",
    "barstar_F = brs.atom_slice(atoms_in_chain_F)"
   ]
  },
  {
   "cell_type": "markdown",
   "id": "a88d0d85-e4e9-47f6-abb8-6c1b79e8bf14",
   "metadata": {},
   "source": [
    "Let's work with barnase B and barstar F since they are the most complete monomers. Given that barstar E is the bound to barnase B, barstar F needs to be fitted over E to have the complex B-F:"
   ]
  },
  {
   "cell_type": "code",
   "execution_count": 10,
   "id": "060eb50e-61d4-430d-8c45-53b4030d0ebb",
   "metadata": {},
   "outputs": [],
   "source": [
    "atoms_to_fit_E = []\n",
    "atoms_to_fit_F = []\n",
    "for atom_E in barstar_E.topology.atoms_by_name('CA'):\n",
    "    for atom_F in barstar_F.topology.atoms_by_name('CA'):\n",
    "        if str(atom_E)==str(atom_F):\n",
    "            #print(f'{str(atom_E)} is {atom_E.index} in E and {atom_F.index} in F')\n",
    "            atoms_to_fit_E.append(atom_E.index)\n",
    "            atoms_to_fit_F.append(atom_F.index)"
   ]
  },
  {
   "cell_type": "code",
   "execution_count": 11,
   "id": "c20d49f7-8ee6-45db-ba10-f730147d222b",
   "metadata": {},
   "outputs": [],
   "source": [
    "barstar_F_over_E = md.Trajectory.superpose(barstar_F, barstar_E, frame=0, atom_indices=atoms_to_fit_F, ref_atom_indices=atoms_to_fit_E)"
   ]
  },
  {
   "cell_type": "code",
   "execution_count": 12,
   "id": "25da516e-25d2-424f-bd58-c1747aaa8ddd",
   "metadata": {},
   "outputs": [],
   "source": [
    "new_barnase_barstar = barnase_B.stack(barstar_F_over_E)"
   ]
  },
  {
   "cell_type": "code",
   "execution_count": 13,
   "id": "b47162fc-2ffe-4370-aa6f-119e0cd42133",
   "metadata": {
    "tags": []
   },
   "outputs": [
    {
     "data": {
      "application/vnd.jupyter.widget-view+json": {
       "model_id": "b2adc2420c154d3ab7b1a37d1987f1fb",
       "version_major": 2,
       "version_minor": 0
      },
      "text/plain": [
       "NGLWidget()"
      ]
     },
     "metadata": {},
     "output_type": "display_data"
    }
   ],
   "source": [
    "view = nv.show_mdtraj(new_barnase_barstar)\n",
    "view"
   ]
  },
  {
   "cell_type": "code",
   "execution_count": 14,
   "id": "ca0aa7fd-d191-486e-a10a-312c8c3a9c21",
   "metadata": {},
   "outputs": [],
   "source": [
    "new_barnase_barstar.save_pdb('new_barnase_barstar.pdb')"
   ]
  },
  {
   "cell_type": "code",
   "execution_count": 15,
   "id": "e9e51673-143a-4afe-a296-5af71e7d0b19",
   "metadata": {},
   "outputs": [],
   "source": [
    "fixer = PDBFixer(filename='new_barnase_barstar.pdb')"
   ]
  },
  {
   "cell_type": "code",
   "execution_count": 16,
   "id": "842a7441-e52b-4617-9282-52153665c705",
   "metadata": {},
   "outputs": [
    {
     "name": "stdout",
     "output_type": "stream",
     "text": [
      "0 missing residues\n",
      "0 non standard residues\n",
      "6 missing atoms\n",
      "0 missing terminals\n"
     ]
    },
    {
     "name": "stderr",
     "output_type": "stream",
     "text": [
      "Warning: importing 'simtk.openmm' is deprecated.  Import 'openmm' instead.\n"
     ]
    }
   ],
   "source": [
    "fixer.findMissingResidues()\n",
    "missing_residues = fixer.missingResidues\n",
    "print(f\"{len(missing_residues)} missing residues\")\n",
    "\n",
    "fixer.findNonstandardResidues()\n",
    "nonstandard_residues = fixer.nonstandardResidues\n",
    "print(f\"{len(nonstandard_residues)} non standard residues\")\n",
    "\n",
    "fixer.findMissingAtoms()\n",
    "missing_atoms = fixer.missingAtoms\n",
    "missing_terminals = fixer.missingTerminals\n",
    "print(f\"{len(missing_atoms)} missing atoms\")\n",
    "print(f\"{len(missing_terminals)} missing terminals\")\n",
    "\n",
    "if len(nonstandard_residues)>0:\n",
    "    fixer.replaceNonstandardResidues()\n",
    "\n",
    "if len(missing_atoms)>0:\n",
    "    fixer.addMissingAtoms()"
   ]
  },
  {
   "cell_type": "code",
   "execution_count": 17,
   "id": "7873e035-aa3f-460f-bb94-bc0e277bcfe5",
   "metadata": {},
   "outputs": [],
   "source": [
    "forcefield = app.ForceField('amber14-all.xml', 'amber14/tip3p.xml')"
   ]
  },
  {
   "cell_type": "code",
   "execution_count": 18,
   "id": "688b8b07-c656-44e9-966c-82f7b88cb045",
   "metadata": {},
   "outputs": [],
   "source": [
    "modeller = app.Modeller(fixer.topology, fixer.positions)\n",
    "pH = 7.2\n",
    "residues_protonated = modeller.addHydrogens(forcefield=forcefield, pH=pH)"
   ]
  },
  {
   "cell_type": "code",
   "execution_count": 19,
   "id": "5ae95e63-7f24-460d-9eae-bd092e5b5e87",
   "metadata": {},
   "outputs": [],
   "source": [
    "system = forcefield.createSystem(modeller.topology, nonbondedMethod=app.NoCutoff, constraints=app.HBonds)"
   ]
  },
  {
   "cell_type": "code",
   "execution_count": 20,
   "id": "69ee617e-292a-46c7-bc55-8b7c5314f44f",
   "metadata": {},
   "outputs": [
    {
     "name": "stdout",
     "output_type": "stream",
     "text": [
      "HarmonicBondForce was in force group 0 and it is now in group 0\n",
      "HarmonicAngleForce was in force group 0 and it is now in group 1\n",
      "NonbondedForce was in force group 0 and it is now in group 2\n",
      "PeriodicTorsionForce was in force group 0 and it is now in group 3\n",
      "CMMotionRemover was in force group 0 and it is now in group 4\n"
     ]
    }
   ],
   "source": [
    "# We need to define force groups to be able to calculate the different energy terms \n",
    "\n",
    "forcegroups = {}\n",
    "for ii in range(system.getNumForces()):\n",
    "    force = system.getForce(ii)\n",
    "    print(f'{force.getName()} was in force group {force.getForceGroup()} and it is now in group {ii}')\n",
    "    force.setForceGroup(ii)\n",
    "    forcegroups[force] = ii"
   ]
  },
  {
   "cell_type": "code",
   "execution_count": 24,
   "id": "dbcf8aa2-d3ae-45c2-89d1-e041e77f1bb3",
   "metadata": {},
   "outputs": [],
   "source": [
    "# A simulation object is needed\n",
    "\n",
    "## Integrator\n",
    "step_size   = 0.002*unit.picoseconds\n",
    "temperature = 0.0*unit.kelvin\n",
    "friction    = 0.0/unit.picosecond # Damping para la dinámica de Langevin\n",
    "\n",
    "integrator = mm.LangevinIntegrator(temperature, friction, step_size)\n",
    "\n",
    "## Platform\n",
    "platform_name = 'CUDA'\n",
    "platform    = mm.Platform.getPlatformByName(platform_name)"
   ]
  },
  {
   "cell_type": "code",
   "execution_count": 25,
   "id": "8cbc3494-3460-4854-ae86-c130f95b65c4",
   "metadata": {},
   "outputs": [],
   "source": [
    "# Creación del objeto context del sistema en vacio\n",
    "context = mm.Context(system, integrator, platform)"
   ]
  },
  {
   "cell_type": "code",
   "execution_count": 26,
   "id": "ff402669-0c3b-425c-adc6-5a251bba1c08",
   "metadata": {},
   "outputs": [],
   "source": [
    "# Condiciones iniciales\n",
    "context.setPositions(modeller.positions)"
   ]
  },
  {
   "cell_type": "code",
   "execution_count": 27,
   "id": "9d47cba9-bc58-4da0-bcb9-72a5de3d2e82",
   "metadata": {},
   "outputs": [],
   "source": [
    "# Minimizacion del sistema\n",
    "state_pre_minimization = context.getState(getEnergy=True)\n",
    "mm.LocalEnergyMinimizer_minimize(context)\n",
    "state_post_minimization = context.getState(getEnergy=True)"
   ]
  },
  {
   "cell_type": "code",
   "execution_count": 28,
   "id": "5e3b01d2-0634-4d3f-aac1-70f2856e5117",
   "metadata": {},
   "outputs": [
    {
     "name": "stdout",
     "output_type": "stream",
     "text": [
      "Energy before minimization: -13157.89453125 kJ/mol\n",
      "Energy after minimization: -25002.3125 kJ/mol\n"
     ]
    }
   ],
   "source": [
    "print('Energy before minimization:', state_pre_minimization.getPotentialEnergy())\n",
    "print('Energy after minimization:', state_post_minimization.getPotentialEnergy())"
   ]
  },
  {
   "cell_type": "code",
   "execution_count": 68,
   "id": "bde665ba-21e8-4b19-a2f0-58537dd67ccb",
   "metadata": {},
   "outputs": [],
   "source": [
    "residues_per_chain={}\n",
    "atoms_per_chain={}\n",
    "atoms_per_residue={}\n",
    "for chain in modeller.topology.chains():\n",
    "    atoms_per_chain[chain.index]=[]\n",
    "    residues_per_chain[chain.index]=[]\n",
    "    for residue in chain.residues():\n",
    "        residues_per_chain[chain.index].append(residue.index)\n",
    "        atoms_per_residue[residue.index]=[]\n",
    "        for atom in residue.atoms():\n",
    "            atoms_per_residue[residue.index].append(atom.index)\n",
    "            atoms_per_chain[chain.index].append(atom.index)"
   ]
  },
  {
   "cell_type": "code",
   "execution_count": 30,
   "id": "69b2fc48-4e04-490e-98c0-885672b6c85c",
   "metadata": {},
   "outputs": [],
   "source": [
    "energies = {}\n",
    "for ff, ii in forcegroups.items():\n",
    "    energies[ff.getName()] = context.getState(getEnergy=True, groups={ii}).getPotentialEnergy()"
   ]
  },
  {
   "cell_type": "code",
   "execution_count": 31,
   "id": "0c368ad0-6b43-45db-b2ec-8fdc3f8517c8",
   "metadata": {},
   "outputs": [
    {
     "name": "stdout",
     "output_type": "stream",
     "text": [
      "HarmonicBondForce 410.74688720703125 kJ/mol\n",
      "HarmonicAngleForce 1697.7552490234375 kJ/mol\n",
      "NonbondedForce -36628.328125 kJ/mol\n",
      "PeriodicTorsionForce 9517.5146484375 kJ/mol\n",
      "CMMotionRemover 0.0 kJ/mol\n"
     ]
    }
   ],
   "source": [
    "for ii,jj in energies.items():\n",
    "    print(ii,jj)"
   ]
  },
  {
   "cell_type": "code",
   "execution_count": 32,
   "id": "2cbe63bb-a48b-4acf-8c50-e981aa93e6aa",
   "metadata": {},
   "outputs": [
    {
     "data": {
      "text/plain": [
       "Quantity(value=-25002.31134033203, unit=kilojoule/mole)"
      ]
     },
     "execution_count": 32,
     "metadata": {},
     "output_type": "execute_result"
    }
   ],
   "source": [
    "energies['HarmonicBondForce']+energies['HarmonicAngleForce']+energies['NonbondedForce']+energies['PeriodicTorsionForce']"
   ]
  },
  {
   "cell_type": "markdown",
   "id": "9c5b9c52-f657-4434-b606-8688859089d7",
   "metadata": {},
   "source": [
    "- We should work on how to decompose de NonbondedForce: LJ contribution (VdW) and Coulomb contribution. "
   ]
  },
  {
   "cell_type": "code",
   "execution_count": 33,
   "id": "23433567-c0ae-48f4-a0ed-f0310788f498",
   "metadata": {},
   "outputs": [],
   "source": [
    "non_bonded_force = None\n",
    "for ii in range(system.getNumForces()):\n",
    "    force = system.getForce(ii)\n",
    "    if force.getName() == 'NonbondedForce':\n",
    "        non_bonded_force = force"
   ]
  },
  {
   "cell_type": "code",
   "execution_count": 36,
   "id": "84a2a088-e7d7-47e8-b362-c19c8951e6c6",
   "metadata": {},
   "outputs": [],
   "source": [
    "original_particle_parameters = {}\n",
    "for ii in range(non_bonded_force.getNumParticles()):\n",
    "    charge, sigma, epsilon = non_bonded_force.getParticleParameters(ii)\n",
    "    original_particle_parameters[ii] = {'charge': charge, 'sigma': sigma, 'epsilon':epsilon}\n",
    "\n",
    "original_exception_parameters = {}\n",
    "for ii in range(non_bonded_force.getNumExceptions()):\n",
    "    particle1, particle2, chargeProd, sigma, epsilon = non_bonded_force.getExceptionParameters(ii)\n",
    "    original_exception_parameters[ii] = {'particle1': particle1, 'particle2': particle2, 'chargeProd': chargeProd,\n",
    "                                     'sigma': sigma, 'epsilon': epsilon}"
   ]
  },
  {
   "cell_type": "markdown",
   "id": "ff57a1eb-6e49-4051-ad8a-822417ae5f92",
   "metadata": {},
   "source": [
    "Let's compute the energy terms of the system when all charges and epsilons have been set to zero:"
   ]
  },
  {
   "cell_type": "code",
   "execution_count": 42,
   "id": "89d57341-20f2-497e-b8b9-dcd99eb034cd",
   "metadata": {},
   "outputs": [],
   "source": [
    "def get_non_bonded_energy(atoms_in, non_bonded_force, context):\n",
    "    \n",
    "    for ii, parameters in original_particle_parameters.items():\n",
    "        \n",
    "        charge = parameters['charge']\n",
    "        sigma = parameters['sigma']\n",
    "        epsilon = parameters['epsilon']\n",
    "        \n",
    "        if ii not in atoms_in:\n",
    "            charge = 0.0 * unit.elementary_charge\n",
    "            epsilon = 0.0 * unit.kilojoule_per_mole\n",
    "\n",
    "        non_bonded_force.setParticleParameters(ii, charge, sigma, epsilon)\n",
    "\n",
    "    for ii, parameters in original_exception_parameters.items():\n",
    "        \n",
    "        particle1 = parameters['particle1']\n",
    "        particle2 = parameters['particle2']\n",
    "        chargeProd = parameters['chargeProd']\n",
    "        sigma = parameters['sigma']\n",
    "        epsilon = parameters['epsilon']\n",
    "        \n",
    "        if (particle1 not in atoms_in) and (particle2 not in atoms_in):\n",
    "            epsilon = 0.0 * unit.kilojoule_per_mole\n",
    "            if chargeProd != 0.0 * unit.elementary_charge**2:\n",
    "                chargeProd = 0.0000000000001 * unit.elementary_charge **2\n",
    "\n",
    "        non_bonded_force.setExceptionParameters(ii, particle1, particle2, chargeProd,\n",
    "                                                sigma, epsilon)\n",
    "        \n",
    "    non_bonded_force.updateParametersInContext(context)\n",
    "\n",
    "    energy = context.getState(getEnergy=True, groups={2}).getPotentialEnergy()\n",
    "\n",
    "    return energy"
   ]
  },
  {
   "cell_type": "code",
   "execution_count": 72,
   "id": "710cc8e8-2fdc-47f9-9a8e-1cafe59c9d70",
   "metadata": {},
   "outputs": [],
   "source": [
    "no_atoms = []\n",
    "atoms_chain0 = atoms_per_chain[0]\n",
    "atoms_chain1 = atoms_per_chain[1]\n",
    "all_atoms = atoms_chain0 + atoms_chain1\n",
    "    \n",
    "no_atoms_energy = get_non_bonded_energy(no_atoms, non_bonded_force, context)\n",
    "chain0_energy = get_non_bonded_energy(atoms_chain0, non_bonded_force, context)\n",
    "chain1_energy = get_non_bonded_energy(atoms_chain1, non_bonded_force, context)\n",
    "all_energy = get_non_bonded_energy(all_atoms, non_bonded_force, context)"
   ]
  },
  {
   "cell_type": "code",
   "execution_count": 73,
   "id": "5c2ba9a2-6dda-4742-8da2-0f89e561d7f8",
   "metadata": {},
   "outputs": [
    {
     "name": "stdout",
     "output_type": "stream",
     "text": [
      "Non bonded energy term with no atoms: 3.909928238954308e-07 kJ/mol\n",
      "Non bonded energy term with chain 0 atoms: -19280.14453125 kJ/mol\n",
      "Non bonded energy term with chain 1 atoms: -14094.1884765625 kJ/mol\n",
      "Non bonded energy term with all atoms: -36628.328125 kJ/mol\n"
     ]
    }
   ],
   "source": [
    "print(f'Non bonded energy term with no atoms: {no_atoms_energy}')\n",
    "print(f'Non bonded energy term with chain 0 atoms: {chain0_energy}')\n",
    "print(f'Non bonded energy term with chain 1 atoms: {chain1_energy}')\n",
    "print(f'Non bonded energy term with all atoms: {all_energy}')"
   ]
  },
  {
   "cell_type": "code",
   "execution_count": 74,
   "id": "31e55ab6-9c72-4ec8-b678-3d73a1b60a11",
   "metadata": {},
   "outputs": [
    {
     "name": "stdout",
     "output_type": "stream",
     "text": [
      "Non bonded energy term for chain 0 vs chain 1: -3253.9951171875 kJ/mol\n"
     ]
    }
   ],
   "source": [
    "print(f'Non bonded energy term for chain 0 vs chain 1: {all_energy-chain0_energy-chain1_energy}')"
   ]
  },
  {
   "cell_type": "code",
   "execution_count": 75,
   "id": "a839e1df-7565-40a1-8c1e-54b76968e13c",
   "metadata": {},
   "outputs": [
    {
     "name": "stderr",
     "output_type": "stream",
     "text": [
      "100%|█████████████████████████████████████████████████████████████| 199/199 [02:02<00:00,  1.63it/s]\n"
     ]
    }
   ],
   "source": [
    "energy_per_residue={}\n",
    "\n",
    "for residue_index, atoms in tqdm(atoms_per_residue.items()):\n",
    "    energy_per_residue[residue_index]=get_non_bonded_energy(atoms, non_bonded_force, context)"
   ]
  },
  {
   "cell_type": "code",
   "execution_count": 76,
   "id": "ad27ed50-757e-41ba-b4f2-a38e945d2741",
   "metadata": {},
   "outputs": [
    {
     "name": "stderr",
     "output_type": "stream",
     "text": [
      "100%|█████████████████████████████████████████████████████████████| 110/110 [01:46<00:00,  1.04it/s]\n",
      "100%|███████████████████████████████████████████████████████████████| 89/89 [01:32<00:00,  1.04s/it]\n"
     ]
    }
   ],
   "source": [
    "energy_interfase_per_residue={}\n",
    "\n",
    "for residue_index_0 in tqdm(residues_per_chain[0]):\n",
    "    atoms_0 = atoms_per_residue[residue_index_0]\n",
    "    aux_energy = get_non_bonded_energy(atoms_0+atoms_per_chain[1], non_bonded_force, context)\n",
    "    energy_interfase_per_residue[residue_index_0]=aux_energy-energy_per_residue[residue_index_0]-chain1_energy\n",
    "\n",
    "for residue_index_1 in tqdm(residues_per_chain[1]):\n",
    "    atoms_1 = atoms_per_residue[residue_index_1]\n",
    "    aux_energy = get_non_bonded_energy(atoms_1+atoms_per_chain[0], non_bonded_force, context)\n",
    "    energy_interfase_per_residue[residue_index_1]=aux_energy-energy_per_residue[residue_index_1]-chain0_energy\n"
   ]
  },
  {
   "cell_type": "code",
   "execution_count": 81,
   "id": "3883b254-7b65-4e6f-a409-7aa091c3125d",
   "metadata": {},
   "outputs": [
    {
     "data": {
      "text/plain": [
       "Quantity(value=-3254.078502856195, unit=kilojoule/mole)"
      ]
     },
     "execution_count": 81,
     "metadata": {},
     "output_type": "execute_result"
    }
   ],
   "source": [
    "np.sum(list(energy_interfase_per_residue.values()))/2.0"
   ]
  },
  {
   "cell_type": "code",
   "execution_count": 129,
   "id": "c2fca2dd-4f4c-4940-bd16-33f2f7ce0c20",
   "metadata": {},
   "outputs": [
    {
     "data": {
      "text/plain": [
       "{0: Quantity(value=-308.1665725708008, unit=kilojoule/mole),\n",
       " 1: Quantity(value=13.050323486328125, unit=kilojoule/mole),\n",
       " 2: Quantity(value=-7.03173828125, unit=kilojoule/mole),\n",
       " 3: Quantity(value=4.804962158203125, unit=kilojoule/mole),\n",
       " 4: Quantity(value=-3.7353363037109375, unit=kilojoule/mole),\n",
       " 5: Quantity(value=1.455810546875, unit=kilojoule/mole),\n",
       " 6: Quantity(value=-1.6517333984375, unit=kilojoule/mole),\n",
       " 7: Quantity(value=311.4040832519531, unit=kilojoule/mole),\n",
       " 8: Quantity(value=-3.507171630859375, unit=kilojoule/mole),\n",
       " 9: Quantity(value=-5.208099365234375, unit=kilojoule/mole),\n",
       " 10: Quantity(value=-0.5933837890625, unit=kilojoule/mole),\n",
       " 11: Quantity(value=281.777587890625, unit=kilojoule/mole),\n",
       " 12: Quantity(value=-8.21722412109375, unit=kilojoule/mole),\n",
       " 13: Quantity(value=-6.22637939453125, unit=kilojoule/mole),\n",
       " 14: Quantity(value=-9.625396728515625, unit=kilojoule/mole),\n",
       " 15: Quantity(value=-7.277679443359375, unit=kilojoule/mole),\n",
       " 16: Quantity(value=-3.076751708984375, unit=kilojoule/mole),\n",
       " 17: Quantity(value=2.58343505859375, unit=kilojoule/mole),\n",
       " 18: Quantity(value=-299.6246337890625, unit=kilojoule/mole),\n",
       " 19: Quantity(value=-10.51251220703125, unit=kilojoule/mole),\n",
       " 20: Quantity(value=11.425140380859375, unit=kilojoule/mole),\n",
       " 21: Quantity(value=303.4585266113281, unit=kilojoule/mole),\n",
       " 22: Quantity(value=-6.5056915283203125, unit=kilojoule/mole),\n",
       " 23: Quantity(value=-23.4627685546875, unit=kilojoule/mole),\n",
       " 24: Quantity(value=7.95550537109375, unit=kilojoule/mole),\n",
       " 25: Quantity(value=-15.93670654296875, unit=kilojoule/mole),\n",
       " 26: Quantity(value=-1033.9022216796875, unit=kilojoule/mole),\n",
       " 27: Quantity(value=-18.90673828125, unit=kilojoule/mole),\n",
       " 28: Quantity(value=424.5157165527344, unit=kilojoule/mole),\n",
       " 29: Quantity(value=-20.381134033203125, unit=kilojoule/mole),\n",
       " 30: Quantity(value=-31.868545532226562, unit=kilojoule/mole),\n",
       " 31: Quantity(value=-10.28759765625, unit=kilojoule/mole),\n",
       " 32: Quantity(value=-9.14178466796875, unit=kilojoule/mole),\n",
       " 33: Quantity(value=-6.7169189453125, unit=kilojoule/mole),\n",
       " 34: Quantity(value=-5.314483642578125, unit=kilojoule/mole),\n",
       " 35: Quantity(value=-27.448318481445312, unit=kilojoule/mole),\n",
       " 36: Quantity(value=-43.3504638671875, unit=kilojoule/mole),\n",
       " 37: Quantity(value=-88.17324829101562, unit=kilojoule/mole),\n",
       " 38: Quantity(value=-427.85491943359375, unit=kilojoule/mole),\n",
       " 39: Quantity(value=-14.85369873046875, unit=kilojoule/mole),\n",
       " 40: Quantity(value=12.285797119140625, unit=kilojoule/mole),\n",
       " 41: Quantity(value=-11.993133544921875, unit=kilojoule/mole),\n",
       " 42: Quantity(value=-6.0858154296875, unit=kilojoule/mole),\n",
       " 43: Quantity(value=347.41009521484375, unit=kilojoule/mole),\n",
       " 44: Quantity(value=-8.53985595703125, unit=kilojoule/mole),\n",
       " 45: Quantity(value=5.562591552734375, unit=kilojoule/mole),\n",
       " 46: Quantity(value=0.499542236328125, unit=kilojoule/mole),\n",
       " 47: Quantity(value=-6.048309326171875, unit=kilojoule/mole),\n",
       " 48: Quantity(value=-360.2750244140625, unit=kilojoule/mole),\n",
       " 49: Quantity(value=-15.734619140625, unit=kilojoule/mole),\n",
       " 50: Quantity(value=-18.83062744140625, unit=kilojoule/mole),\n",
       " 51: Quantity(value=-11.9622802734375, unit=kilojoule/mole),\n",
       " 52: Quantity(value=-9.15057373046875, unit=kilojoule/mole),\n",
       " 53: Quantity(value=621.0081787109375, unit=kilojoule/mole),\n",
       " 54: Quantity(value=10.4327392578125, unit=kilojoule/mole),\n",
       " 55: Quantity(value=-30.9210205078125, unit=kilojoule/mole),\n",
       " 56: Quantity(value=-49.76617431640625, unit=kilojoule/mole),\n",
       " 57: Quantity(value=-73.47885131835938, unit=kilojoule/mole),\n",
       " 58: Quantity(value=-1130.4862060546875, unit=kilojoule/mole),\n",
       " 59: Quantity(value=429.0344543457031, unit=kilojoule/mole),\n",
       " 60: Quantity(value=-21.229248046875, unit=kilojoule/mole),\n",
       " 61: Quantity(value=-558.2525024414062, unit=kilojoule/mole),\n",
       " 62: Quantity(value=2.119171142578125, unit=kilojoule/mole),\n",
       " 63: Quantity(value=2.430206298828125, unit=kilojoule/mole),\n",
       " 64: Quantity(value=-10.64923095703125, unit=kilojoule/mole),\n",
       " 65: Quantity(value=-327.1514892578125, unit=kilojoule/mole),\n",
       " 66: Quantity(value=-3.985595703125, unit=kilojoule/mole),\n",
       " 67: Quantity(value=-7.659423828125, unit=kilojoule/mole),\n",
       " 68: Quantity(value=-371.3984680175781, unit=kilojoule/mole),\n",
       " 69: Quantity(value=-25.46697998046875, unit=kilojoule/mole),\n",
       " 70: Quantity(value=-0.07989501953125, unit=kilojoule/mole),\n",
       " 71: Quantity(value=-491.3236083984375, unit=kilojoule/mole),\n",
       " 72: Quantity(value=760.926025390625, unit=kilojoule/mole),\n",
       " 73: Quantity(value=-4.289794921875, unit=kilojoule/mole),\n",
       " 74: Quantity(value=637.9801330566406, unit=kilojoule/mole),\n",
       " 75: Quantity(value=13.350250244140625, unit=kilojoule/mole),\n",
       " 76: Quantity(value=-15.56663529574871, unit=kilojoule/mole),\n",
       " 77: Quantity(value=-16.20947265625, unit=kilojoule/mole),\n",
       " 78: Quantity(value=-10.58868408203125, unit=kilojoule/mole),\n",
       " 79: Quantity(value=-5.49871826171875, unit=kilojoule/mole),\n",
       " 80: Quantity(value=11.47174072265625, unit=kilojoule/mole),\n",
       " 81: Quantity(value=-32.985321044921875, unit=kilojoule/mole),\n",
       " 82: Quantity(value=-998.9558715820312, unit=kilojoule/mole),\n",
       " 83: Quantity(value=19.2977294921875, unit=kilojoule/mole),\n",
       " 84: Quantity(value=-5.816375732421875, unit=kilojoule/mole),\n",
       " 85: Quantity(value=469.8766174316406, unit=kilojoule/mole),\n",
       " 86: Quantity(value=-818.4600219726562, unit=kilojoule/mole),\n",
       " 87: Quantity(value=15.03448486328125, unit=kilojoule/mole),\n",
       " 88: Quantity(value=-14.705047607421875, unit=kilojoule/mole),\n",
       " 89: Quantity(value=7.622283935546875, unit=kilojoule/mole),\n",
       " 90: Quantity(value=-5.844879150390625, unit=kilojoule/mole),\n",
       " 91: Quantity(value=-1.558837890625, unit=kilojoule/mole),\n",
       " 92: Quantity(value=343.80828857421875, unit=kilojoule/mole),\n",
       " 93: Quantity(value=-2.81585693359375, unit=kilojoule/mole),\n",
       " 94: Quantity(value=7.437744140625, unit=kilojoule/mole),\n",
       " 95: Quantity(value=-7.352569580078125, unit=kilojoule/mole),\n",
       " 96: Quantity(value=-1.43939208984375, unit=kilojoule/mole),\n",
       " 97: Quantity(value=-388.577880859375, unit=kilojoule/mole),\n",
       " 98: Quantity(value=6.5736083984375, unit=kilojoule/mole),\n",
       " 99: Quantity(value=-8.72357177734375, unit=kilojoule/mole),\n",
       " 100: Quantity(value=446.9656982421875, unit=kilojoule/mole),\n",
       " 101: Quantity(value=-43.70050048828125, unit=kilojoule/mole),\n",
       " 102: Quantity(value=-15.74249267578125, unit=kilojoule/mole),\n",
       " 103: Quantity(value=-60.424102783203125, unit=kilojoule/mole),\n",
       " 104: Quantity(value=5.267120361328125, unit=kilojoule/mole),\n",
       " 105: Quantity(value=-11.80621337890625, unit=kilojoule/mole),\n",
       " 106: Quantity(value=1.816650390625, unit=kilojoule/mole),\n",
       " 107: Quantity(value=-329.9705810546875, unit=kilojoule/mole),\n",
       " 108: Quantity(value=-7.341400146484375, unit=kilojoule/mole),\n",
       " 109: Quantity(value=22.6976318359375, unit=kilojoule/mole),\n",
       " 110: Quantity(value=346.12103271484375, unit=kilojoule/mole),\n",
       " 111: Quantity(value=122.72979736328125, unit=kilojoule/mole),\n",
       " 112: Quantity(value=-0.12176513671875, unit=kilojoule/mole),\n",
       " 113: Quantity(value=-2.03485107421875, unit=kilojoule/mole),\n",
       " 114: Quantity(value=0.10595703125, unit=kilojoule/mole),\n",
       " 115: Quantity(value=-1.825469970703125, unit=kilojoule/mole),\n",
       " 116: Quantity(value=0.683563232421875, unit=kilojoule/mole),\n",
       " 117: Quantity(value=-97.3587646484375, unit=kilojoule/mole),\n",
       " 118: Quantity(value=0.8983154296875, unit=kilojoule/mole),\n",
       " 119: Quantity(value=2.120697021484375, unit=kilojoule/mole),\n",
       " 120: Quantity(value=96.2781982421875, unit=kilojoule/mole),\n",
       " 121: Quantity(value=-1.570220947265625, unit=kilojoule/mole),\n",
       " 122: Quantity(value=-3.997894287109375, unit=kilojoule/mole),\n",
       " 123: Quantity(value=-3.258514404296875, unit=kilojoule/mole),\n",
       " 124: Quantity(value=-111.1815185546875, unit=kilojoule/mole),\n",
       " 125: Quantity(value=-2.35443115234375, unit=kilojoule/mole),\n",
       " 126: Quantity(value=6.017608642578125, unit=kilojoule/mole),\n",
       " 127: Quantity(value=2.647064208984375, unit=kilojoule/mole),\n",
       " 128: Quantity(value=1.931732177734375, unit=kilojoule/mole),\n",
       " 129: Quantity(value=-1.32568359375, unit=kilojoule/mole),\n",
       " 130: Quantity(value=147.4786376953125, unit=kilojoule/mole),\n",
       " 131: Quantity(value=122.8619384765625, unit=kilojoule/mole),\n",
       " 132: Quantity(value=-133.97967529296875, unit=kilojoule/mole),\n",
       " 133: Quantity(value=-4.84454345703125, unit=kilojoule/mole),\n",
       " 134: Quantity(value=-10.48876953125, unit=kilojoule/mole),\n",
       " 135: Quantity(value=8.24530029296875, unit=kilojoule/mole),\n",
       " 136: Quantity(value=-6.00048828125, unit=kilojoule/mole),\n",
       " 137: Quantity(value=-147.32449340820312, unit=kilojoule/mole),\n",
       " 138: Quantity(value=-42.870025634765625, unit=kilojoule/mole),\n",
       " 139: Quantity(value=-1.67803955078125, unit=kilojoule/mole),\n",
       " 140: Quantity(value=-46.184967041015625, unit=kilojoule/mole),\n",
       " 141: Quantity(value=-144.66009521484375, unit=kilojoule/mole),\n",
       " 142: Quantity(value=-82.61241173744202, unit=kilojoule/mole),\n",
       " 143: Quantity(value=-83.87152099609375, unit=kilojoule/mole),\n",
       " 144: Quantity(value=-651.4368286132812, unit=kilojoule/mole),\n",
       " 145: Quantity(value=-49.0135498046875, unit=kilojoule/mole),\n",
       " 146: Quantity(value=-13.343231201171875, unit=kilojoule/mole),\n",
       " 147: Quantity(value=-91.856201171875, unit=kilojoule/mole),\n",
       " 148: Quantity(value=-816.0382690429688, unit=kilojoule/mole),\n",
       " 149: Quantity(value=-15.511962890625, unit=kilojoule/mole),\n",
       " 150: Quantity(value=4.305572509765625, unit=kilojoule/mole),\n",
       " 151: Quantity(value=-60.7655029296875, unit=kilojoule/mole),\n",
       " 152: Quantity(value=-49.60345458984375, unit=kilojoule/mole),\n",
       " 153: Quantity(value=-69.05133056640625, unit=kilojoule/mole),\n",
       " 154: Quantity(value=-59.77294921875, unit=kilojoule/mole),\n",
       " 155: Quantity(value=-198.33181762695312, unit=kilojoule/mole),\n",
       " 156: Quantity(value=-11.047393798828125, unit=kilojoule/mole),\n",
       " 157: Quantity(value=-0.520751953125, unit=kilojoule/mole),\n",
       " 158: Quantity(value=-0.4130859375, unit=kilojoule/mole),\n",
       " 159: Quantity(value=0.380859375, unit=kilojoule/mole),\n",
       " 160: Quantity(value=3.2943115234375, unit=kilojoule/mole),\n",
       " 161: Quantity(value=-114.09902954101562, unit=kilojoule/mole),\n",
       " 162: Quantity(value=-1.19775390625, unit=kilojoule/mole),\n",
       " 163: Quantity(value=104.45477294921875, unit=kilojoule/mole),\n",
       " 164: Quantity(value=0.11005401611328125, unit=kilojoule/mole),\n",
       " 165: Quantity(value=0.27105712890625, unit=kilojoule/mole),\n",
       " 166: Quantity(value=-126.60693359375, unit=kilojoule/mole),\n",
       " 167: Quantity(value=-0.5385894775390625, unit=kilojoule/mole),\n",
       " 168: Quantity(value=-0.1405029296875, unit=kilojoule/mole),\n",
       " 169: Quantity(value=138.169677734375, unit=kilojoule/mole),\n",
       " 170: Quantity(value=1.394622802734375, unit=kilojoule/mole),\n",
       " 171: Quantity(value=-0.49761962890625, unit=kilojoule/mole),\n",
       " 172: Quantity(value=-3.70111083984375, unit=kilojoule/mole),\n",
       " 173: Quantity(value=-120.53717041015625, unit=kilojoule/mole),\n",
       " 174: Quantity(value=-5.947837829589844, unit=kilojoule/mole),\n",
       " 175: Quantity(value=-8.04376220703125, unit=kilojoule/mole),\n",
       " 176: Quantity(value=-6.8946533203125, unit=kilojoule/mole),\n",
       " 177: Quantity(value=-182.968017578125, unit=kilojoule/mole),\n",
       " 178: Quantity(value=-23.3197021484375, unit=kilojoule/mole),\n",
       " 179: Quantity(value=-16.76739501953125, unit=kilojoule/mole),\n",
       " 180: Quantity(value=-8.10247802734375, unit=kilojoule/mole),\n",
       " 181: Quantity(value=18.421005249023438, unit=kilojoule/mole),\n",
       " 182: Quantity(value=-18.6368408203125, unit=kilojoule/mole),\n",
       " 183: Quantity(value=-6.99639892578125, unit=kilojoule/mole),\n",
       " 184: Quantity(value=225.52008056640625, unit=kilojoule/mole),\n",
       " 185: Quantity(value=-531.6520385742188, unit=kilojoule/mole),\n",
       " 186: Quantity(value=4.58538818359375, unit=kilojoule/mole),\n",
       " 187: Quantity(value=186.2984619140625, unit=kilojoule/mole),\n",
       " 188: Quantity(value=11.647125244140625, unit=kilojoule/mole),\n",
       " 189: Quantity(value=-348.96685791015625, unit=kilojoule/mole),\n",
       " 190: Quantity(value=4.740966796875, unit=kilojoule/mole),\n",
       " 191: Quantity(value=1.59893798828125, unit=kilojoule/mole),\n",
       " 192: Quantity(value=-168.73556518554688, unit=kilojoule/mole),\n",
       " 193: Quantity(value=0.673126220703125, unit=kilojoule/mole),\n",
       " 194: Quantity(value=2.2344970703125, unit=kilojoule/mole),\n",
       " 195: Quantity(value=3.30474853515625, unit=kilojoule/mole),\n",
       " 196: Quantity(value=-3.193115234375, unit=kilojoule/mole),\n",
       " 197: Quantity(value=1.4019775390625, unit=kilojoule/mole),\n",
       " 198: Quantity(value=-111.22711181640625, unit=kilojoule/mole)}"
      ]
     },
     "execution_count": 129,
     "metadata": {},
     "output_type": "execute_result"
    }
   ],
   "source": [
    "energy_interfase_per_residue"
   ]
  },
  {
   "cell_type": "code",
   "execution_count": 132,
   "id": "4ce342c7-e06f-4a4d-a08f-a78d0e0f1600",
   "metadata": {},
   "outputs": [],
   "source": [
    "aux = [ii._value for ii in energy_interfase_per_residue.values()]\n",
    "aux = np.array(aux)\n",
    "max_abs_val = max(abs(aux.min()), abs(aux.max()))\n",
    "\n",
    "from nglview.color import _ColorScheme\n",
    "from matplotlib.colors import Normalize, to_hex\n",
    "from matplotlib import cm\n",
    "cmap = cm.get_cmap('RdYlBu_r')\n",
    "vmin = -max_abs_val\n",
    "vmax = max_abs_val\n",
    "\n",
    "norm = Normalize(vmin=vmin,vmax=vmax)\n",
    "scheme = _ColorScheme([[to_hex(cmap(norm(ii))), str(jj)] for ii,jj in zip(aux, range(len(aux)))], label='user')"
   ]
  },
  {
   "cell_type": "code",
   "execution_count": 133,
   "id": "5fc7ba6f-768e-4f2c-b162-9df973eaaf6c",
   "metadata": {},
   "outputs": [
    {
     "data": {
      "text/plain": [
       "{'data': [['#cdeaf3', '0'],\n",
       "  ['#fffdbc', '1'],\n",
       "  ['#feffc0', '2'],\n",
       "  ['#fffebe', '3'],\n",
       "  ['#feffc0', '4'],\n",
       "  ['#fffebe', '5'],\n",
       "  ['#feffc0', '6'],\n",
       "  ['#fecc7e', '7'],\n",
       "  ['#feffc0', '8'],\n",
       "  ['#feffc0', '9'],\n",
       "  ['#feffc0', '10'],\n",
       "  ['#fed485', '11'],\n",
       "  ['#feffc0', '12'],\n",
       "  ['#feffc0', '13'],\n",
       "  ['#fdfec2', '14'],\n",
       "  ['#feffc0', '15'],\n",
       "  ['#feffc0', '16'],\n",
       "  ['#fffebe', '17'],\n",
       "  ['#cfebf3', '18'],\n",
       "  ['#fdfec2', '19'],\n",
       "  ['#fffdbc', '20'],\n",
       "  ['#fece7f', '21'],\n",
       "  ['#feffc0', '22'],\n",
       "  ['#fcfec5', '23'],\n",
       "  ['#fffebe', '24'],\n",
       "  ['#fdfec2', '25'],\n",
       "  ['#394fa1', '26'],\n",
       "  ['#fcfec5', '27'],\n",
       "  ['#fdb366', '28'],\n",
       "  ['#fcfec5', '29'],\n",
       "  ['#fbfdc7', '30'],\n",
       "  ['#fdfec2', '31'],\n",
       "  ['#fdfec2', '32'],\n",
       "  ['#feffc0', '33'],\n",
       "  ['#feffc0', '34'],\n",
       "  ['#fbfdc7', '35'],\n",
       "  ['#fafdc9', '36'],\n",
       "  ['#f3fbd4', '37'],\n",
       "  ['#b0dcea', '38'],\n",
       "  ['#fdfec2', '39'],\n",
       "  ['#fffdbc', '40'],\n",
       "  ['#fdfec2', '41'],\n",
       "  ['#feffc0', '42'],\n",
       "  ['#fdc576', '43'],\n",
       "  ['#feffc0', '44'],\n",
       "  ['#fffebe', '45'],\n",
       "  ['#fffebe', '46'],\n",
       "  ['#feffc0', '47'],\n",
       "  ['#c1e4ef', '48'],\n",
       "  ['#fdfec2', '49'],\n",
       "  ['#fcfec5', '50'],\n",
       "  ['#fdfec2', '51'],\n",
       "  ['#fdfec2', '52'],\n",
       "  ['#f67c4a', '53'],\n",
       "  ['#fffdbc', '54'],\n",
       "  ['#fbfdc7', '55'],\n",
       "  ['#f8fccb', '56'],\n",
       "  ['#f5fbd2', '57'],\n",
       "  ['#313695', '58'],\n",
       "  ['#fdb366', '59'],\n",
       "  ['#fcfec5', '60'],\n",
       "  ['#90c3dd', '61'],\n",
       "  ['#fffebe', '62'],\n",
       "  ['#fffebe', '63'],\n",
       "  ['#fdfec2', '64'],\n",
       "  ['#c7e7f1', '65'],\n",
       "  ['#feffc0', '66'],\n",
       "  ['#feffc0', '67'],\n",
       "  ['#bde2ee', '68'],\n",
       "  ['#fcfec5', '69'],\n",
       "  ['#feffc0', '70'],\n",
       "  ['#a1d1e5', '71'],\n",
       "  ['#e95538', '72'],\n",
       "  ['#feffc0', '73'],\n",
       "  ['#f57748', '74'],\n",
       "  ['#fffdbc', '75'],\n",
       "  ['#fdfec2', '76'],\n",
       "  ['#fdfec2', '77'],\n",
       "  ['#fdfec2', '78'],\n",
       "  ['#feffc0', '79'],\n",
       "  ['#fffdbc', '80'],\n",
       "  ['#fbfdc7', '81'],\n",
       "  ['#3c59a6', '82'],\n",
       "  ['#fffcba', '83'],\n",
       "  ['#feffc0', '84'],\n",
       "  ['#fca85e', '85'],\n",
       "  ['#578abf', '86'],\n",
       "  ['#fffdbc', '87'],\n",
       "  ['#fdfec2', '88'],\n",
       "  ['#fffebe', '89'],\n",
       "  ['#feffc0', '90'],\n",
       "  ['#feffc0', '91'],\n",
       "  ['#fdc778', '92'],\n",
       "  ['#feffc0', '93'],\n",
       "  ['#fffebe', '94'],\n",
       "  ['#feffc0', '95'],\n",
       "  ['#feffc0', '96'],\n",
       "  ['#bbe1ed', '97'],\n",
       "  ['#fffebe', '98'],\n",
       "  ['#feffc0', '99'],\n",
       "  ['#fdaf62', '100'],\n",
       "  ['#fafdc9', '101'],\n",
       "  ['#fdfec2', '102'],\n",
       "  ['#f7fcce', '103'],\n",
       "  ['#fffebe', '104'],\n",
       "  ['#fdfec2', '105'],\n",
       "  ['#fffebe', '106'],\n",
       "  ['#c7e7f1', '107'],\n",
       "  ['#feffc0', '108'],\n",
       "  ['#fffcba', '109'],\n",
       "  ['#fdc576', '110'],\n",
       "  ['#feefa6', '111'],\n",
       "  ['#feffc0', '112'],\n",
       "  ['#feffc0', '113'],\n",
       "  ['#fffebe', '114'],\n",
       "  ['#feffc0', '115'],\n",
       "  ['#fffebe', '116'],\n",
       "  ['#f1fad9', '117'],\n",
       "  ['#fffebe', '118'],\n",
       "  ['#fffebe', '119'],\n",
       "  ['#fff2ac', '120'],\n",
       "  ['#feffc0', '121'],\n",
       "  ['#feffc0', '122'],\n",
       "  ['#feffc0', '123'],\n",
       "  ['#f0f9db', '124'],\n",
       "  ['#feffc0', '125'],\n",
       "  ['#fffebe', '126'],\n",
       "  ['#fffebe', '127'],\n",
       "  ['#fffebe', '128'],\n",
       "  ['#feffc0', '129'],\n",
       "  ['#feeba1', '130'],\n",
       "  ['#feefa6', '131'],\n",
       "  ['#ecf8e2', '132'],\n",
       "  ['#feffc0', '133'],\n",
       "  ['#fdfec2', '134'],\n",
       "  ['#fffebe', '135'],\n",
       "  ['#feffc0', '136'],\n",
       "  ['#ebf7e4', '137'],\n",
       "  ['#fafdc9', '138'],\n",
       "  ['#feffc0', '139'],\n",
       "  ['#f8fccb', '140'],\n",
       "  ['#ebf7e4', '141'],\n",
       "  ['#f3fbd4', '142'],\n",
       "  ['#f3fbd4', '143'],\n",
       "  ['#7ab2d4', '144'],\n",
       "  ['#f8fccb', '145'],\n",
       "  ['#fdfec2', '146'],\n",
       "  ['#f2fad6', '147'],\n",
       "  ['#578abf', '148'],\n",
       "  ['#fdfec2', '149'],\n",
       "  ['#fffebe', '150'],\n",
       "  ['#f7fcce', '151'],\n",
       "  ['#f8fccb', '152'],\n",
       "  ['#f6fbd0', '153'],\n",
       "  ['#f7fcce', '154'],\n",
       "  ['#e4f4f1', '155'],\n",
       "  ['#fdfec2', '156'],\n",
       "  ['#feffc0', '157'],\n",
       "  ['#feffc0', '158'],\n",
       "  ['#fffebe', '159'],\n",
       "  ['#fffebe', '160'],\n",
       "  ['#f0f9db', '161'],\n",
       "  ['#feffc0', '162'],\n",
       "  ['#fff1aa', '163'],\n",
       "  ['#fffebe', '164'],\n",
       "  ['#fffebe', '165'],\n",
       "  ['#edf8df', '166'],\n",
       "  ['#feffc0', '167'],\n",
       "  ['#feffc0', '168'],\n",
       "  ['#feeca2', '169'],\n",
       "  ['#fffebe', '170'],\n",
       "  ['#feffc0', '171'],\n",
       "  ['#feffc0', '172'],\n",
       "  ['#eff9dd', '173'],\n",
       "  ['#feffc0', '174'],\n",
       "  ['#feffc0', '175'],\n",
       "  ['#feffc0', '176'],\n",
       "  ['#e6f5ed', '177'],\n",
       "  ['#fcfec5', '178'],\n",
       "  ['#fdfec2', '179'],\n",
       "  ['#feffc0', '180'],\n",
       "  ['#fffcba', '181'],\n",
       "  ['#fcfec5', '182'],\n",
       "  ['#feffc0', '183'],\n",
       "  ['#fee090', '184'],\n",
       "  ['#97c9e0', '185'],\n",
       "  ['#fffebe', '186'],\n",
       "  ['#fee597', '187'],\n",
       "  ['#fffdbc', '188'],\n",
       "  ['#c3e5f0', '189'],\n",
       "  ['#fffebe', '190'],\n",
       "  ['#fffebe', '191'],\n",
       "  ['#e7f6eb', '192'],\n",
       "  ['#fffebe', '193'],\n",
       "  ['#fffebe', '194'],\n",
       "  ['#fffebe', '195'],\n",
       "  ['#feffc0', '196'],\n",
       "  ['#fffebe', '197'],\n",
       "  ['#f0f9db', '198']],\n",
       " 'label': 'user_user'}"
      ]
     },
     "execution_count": 133,
     "metadata": {},
     "output_type": "execute_result"
    }
   ],
   "source": [
    "scheme.data"
   ]
  },
  {
   "cell_type": "code",
   "execution_count": null,
   "id": "521d1add-2138-44a8-912c-09d5acce9f78",
   "metadata": {},
   "outputs": [],
   "source": []
  },
  {
   "cell_type": "code",
   "execution_count": 134,
   "id": "33abff11-9cdb-4e5a-b15d-fbe562abe7d8",
   "metadata": {},
   "outputs": [
    {
     "data": {
      "application/vnd.jupyter.widget-view+json": {
       "model_id": "987f077efa1a432faf56943fa4552b87",
       "version_major": 2,
       "version_minor": 0
      },
      "text/plain": [
       "NGLWidget()"
      ]
     },
     "metadata": {},
     "output_type": "display_data"
    }
   ],
   "source": [
    "view = nv.show_mdtraj(new_barnase_barstar)\n",
    "view.clear()\n",
    "view.add_cartoon(selection='all', color=scheme)\n",
    "view"
   ]
  },
  {
   "cell_type": "code",
   "execution_count": 62,
   "id": "789a1150-0319-4b08-b4a7-152116c3104b",
   "metadata": {},
   "outputs": [
    {
     "name": "stderr",
     "output_type": "stream",
     "text": [
      "  5%|██▊                                                          | 5/110 [04:34<1:36:06, 54.92s/it]\n"
     ]
    },
    {
     "ename": "KeyboardInterrupt",
     "evalue": "",
     "output_type": "error",
     "traceback": [
      "\u001b[0;31m---------------------------------------------------------------------------\u001b[0m",
      "\u001b[0;31mKeyboardInterrupt\u001b[0m                         Traceback (most recent call last)",
      "\u001b[0;32m/tmp/ipykernel_7112/3446755035.py\u001b[0m in \u001b[0;36m<module>\u001b[0;34m\u001b[0m\n\u001b[1;32m      6\u001b[0m         \u001b[0matoms_1\u001b[0m \u001b[0;34m=\u001b[0m \u001b[0matoms_per_residue\u001b[0m\u001b[0;34m[\u001b[0m\u001b[0mresidue_index_1\u001b[0m\u001b[0;34m]\u001b[0m\u001b[0;34m\u001b[0m\u001b[0;34m\u001b[0m\u001b[0m\n\u001b[1;32m      7\u001b[0m         \u001b[0matoms_pair\u001b[0m \u001b[0;34m=\u001b[0m \u001b[0matoms_0\u001b[0m\u001b[0;34m+\u001b[0m\u001b[0matoms_1\u001b[0m\u001b[0;34m\u001b[0m\u001b[0;34m\u001b[0m\u001b[0m\n\u001b[0;32m----> 8\u001b[0;31m         \u001b[0maux_energy\u001b[0m \u001b[0;34m=\u001b[0m \u001b[0mget_non_bonded_energy\u001b[0m\u001b[0;34m(\u001b[0m\u001b[0matoms_pair\u001b[0m\u001b[0;34m,\u001b[0m \u001b[0mnon_bonded_force\u001b[0m\u001b[0;34m,\u001b[0m \u001b[0mcontext\u001b[0m\u001b[0;34m)\u001b[0m\u001b[0;34m\u001b[0m\u001b[0;34m\u001b[0m\u001b[0m\n\u001b[0m\u001b[1;32m      9\u001b[0m         \u001b[0mcrossed_energies\u001b[0m\u001b[0;34m[\u001b[0m\u001b[0mresidue_index_0\u001b[0m\u001b[0;34m]\u001b[0m\u001b[0;34m[\u001b[0m\u001b[0mresidue_index_1\u001b[0m\u001b[0;34m]\u001b[0m\u001b[0;34m=\u001b[0m\u001b[0maux_energy\u001b[0m\u001b[0;34m-\u001b[0m\u001b[0menergy_per_residue\u001b[0m\u001b[0;34m[\u001b[0m\u001b[0mresidue_index_0\u001b[0m\u001b[0;34m]\u001b[0m\u001b[0;34m-\u001b[0m\u001b[0menergy_per_residue\u001b[0m\u001b[0;34m[\u001b[0m\u001b[0mresidue_index_1\u001b[0m\u001b[0;34m]\u001b[0m\u001b[0;34m\u001b[0m\u001b[0;34m\u001b[0m\u001b[0m\n",
      "\u001b[0;32m/tmp/ipykernel_7112/2549056602.py\u001b[0m in \u001b[0;36mget_non_bonded_energy\u001b[0;34m(atoms_in, non_bonded_force, context)\u001b[0m\n\u001b[1;32m     27\u001b[0m \u001b[0;34m\u001b[0m\u001b[0m\n\u001b[1;32m     28\u001b[0m         non_bonded_force.setExceptionParameters(ii, particle1, particle2, chargeProd,\n\u001b[0;32m---> 29\u001b[0;31m                                                 sigma, epsilon)\n\u001b[0m\u001b[1;32m     30\u001b[0m \u001b[0;34m\u001b[0m\u001b[0m\n\u001b[1;32m     31\u001b[0m     \u001b[0mnon_bonded_force\u001b[0m\u001b[0;34m.\u001b[0m\u001b[0mupdateParametersInContext\u001b[0m\u001b[0;34m(\u001b[0m\u001b[0mcontext\u001b[0m\u001b[0;34m)\u001b[0m\u001b[0;34m\u001b[0m\u001b[0;34m\u001b[0m\u001b[0m\n",
      "\u001b[0;32m~/MyMachine/locals/miniconda/envs/bifree-tests/lib/python3.7/site-packages/openmm/openmm.py\u001b[0m in \u001b[0;36msetExceptionParameters\u001b[0;34m(self, index, particle1, particle2, chargeProd, sigma, epsilon)\u001b[0m\n\u001b[1;32m   8093\u001b[0m \u001b[0;34m\u001b[0m\u001b[0m\n\u001b[1;32m   8094\u001b[0m         \u001b[0;32mif\u001b[0m \u001b[0munit\u001b[0m\u001b[0;34m.\u001b[0m\u001b[0mis_quantity\u001b[0m\u001b[0;34m(\u001b[0m\u001b[0mchargeProd\u001b[0m\u001b[0;34m)\u001b[0m\u001b[0;34m:\u001b[0m\u001b[0;34m\u001b[0m\u001b[0;34m\u001b[0m\u001b[0m\n\u001b[0;32m-> 8095\u001b[0;31m             \u001b[0mchargeProd\u001b[0m \u001b[0;34m=\u001b[0m \u001b[0mchargeProd\u001b[0m\u001b[0;34m.\u001b[0m\u001b[0mvalue_in_unit\u001b[0m\u001b[0;34m(\u001b[0m\u001b[0munit\u001b[0m\u001b[0;34m.\u001b[0m\u001b[0melementary_charge\u001b[0m\u001b[0;34m*\u001b[0m\u001b[0munit\u001b[0m\u001b[0;34m.\u001b[0m\u001b[0melementary_charge\u001b[0m\u001b[0;34m)\u001b[0m\u001b[0;34m\u001b[0m\u001b[0;34m\u001b[0m\u001b[0m\n\u001b[0m\u001b[1;32m   8096\u001b[0m         \u001b[0;32mif\u001b[0m \u001b[0munit\u001b[0m\u001b[0;34m.\u001b[0m\u001b[0mis_quantity\u001b[0m\u001b[0;34m(\u001b[0m\u001b[0msigma\u001b[0m\u001b[0;34m)\u001b[0m\u001b[0;34m:\u001b[0m\u001b[0;34m\u001b[0m\u001b[0;34m\u001b[0m\u001b[0m\n\u001b[1;32m   8097\u001b[0m             \u001b[0msigma\u001b[0m \u001b[0;34m=\u001b[0m \u001b[0msigma\u001b[0m\u001b[0;34m.\u001b[0m\u001b[0mvalue_in_unit\u001b[0m\u001b[0;34m(\u001b[0m\u001b[0munit\u001b[0m\u001b[0;34m.\u001b[0m\u001b[0mnanometer\u001b[0m\u001b[0;34m)\u001b[0m\u001b[0;34m\u001b[0m\u001b[0;34m\u001b[0m\u001b[0m\n",
      "\u001b[0;32m~/MyMachine/locals/miniconda/envs/bifree-tests/lib/python3.7/site-packages/openmm/unit/quantity.py\u001b[0m in \u001b[0;36mvalue_in_unit\u001b[0;34m(self, unit)\u001b[0m\n\u001b[1;32m    621\u001b[0m         \u001b[0mReturns\u001b[0m \u001b[0munderlying\u001b[0m \u001b[0mvalue\u001b[0m\u001b[0;34m,\u001b[0m \u001b[0;32min\u001b[0m \u001b[0mthe\u001b[0m \u001b[0mspecified\u001b[0m \u001b[0munits\u001b[0m\u001b[0;34m.\u001b[0m\u001b[0;34m\u001b[0m\u001b[0;34m\u001b[0m\u001b[0m\n\u001b[1;32m    622\u001b[0m         \"\"\"\n\u001b[0;32m--> 623\u001b[0;31m         \u001b[0mval\u001b[0m \u001b[0;34m=\u001b[0m \u001b[0mself\u001b[0m\u001b[0;34m.\u001b[0m\u001b[0min_units_of\u001b[0m\u001b[0;34m(\u001b[0m\u001b[0munit\u001b[0m\u001b[0;34m)\u001b[0m\u001b[0;34m\u001b[0m\u001b[0;34m\u001b[0m\u001b[0m\n\u001b[0m\u001b[1;32m    624\u001b[0m         \u001b[0;32mif\u001b[0m \u001b[0mis_quantity\u001b[0m\u001b[0;34m(\u001b[0m\u001b[0mval\u001b[0m\u001b[0;34m)\u001b[0m\u001b[0;34m:\u001b[0m\u001b[0;34m\u001b[0m\u001b[0;34m\u001b[0m\u001b[0m\n\u001b[1;32m    625\u001b[0m             \u001b[0;32mreturn\u001b[0m \u001b[0mval\u001b[0m\u001b[0;34m.\u001b[0m\u001b[0m_value\u001b[0m\u001b[0;34m\u001b[0m\u001b[0;34m\u001b[0m\u001b[0m\n",
      "\u001b[0;32m~/MyMachine/locals/miniconda/envs/bifree-tests/lib/python3.7/site-packages/openmm/unit/quantity.py\u001b[0m in \u001b[0;36min_units_of\u001b[0;34m(self, other_unit)\u001b[0m\n\u001b[1;32m    659\u001b[0m             \u001b[0;32mraise\u001b[0m \u001b[0mTypeError\u001b[0m\u001b[0;34m(\u001b[0m\u001b[0;34m'Unit \"%s\" is not compatible with Unit \"%s\".'\u001b[0m \u001b[0;34m%\u001b[0m \u001b[0;34m(\u001b[0m\u001b[0mself\u001b[0m\u001b[0;34m.\u001b[0m\u001b[0munit\u001b[0m\u001b[0;34m,\u001b[0m \u001b[0mother_unit\u001b[0m\u001b[0;34m)\u001b[0m\u001b[0;34m)\u001b[0m\u001b[0;34m\u001b[0m\u001b[0;34m\u001b[0m\u001b[0m\n\u001b[1;32m    660\u001b[0m         \u001b[0mf\u001b[0m \u001b[0;34m=\u001b[0m \u001b[0mself\u001b[0m\u001b[0;34m.\u001b[0m\u001b[0munit\u001b[0m\u001b[0;34m.\u001b[0m\u001b[0mconversion_factor_to\u001b[0m\u001b[0;34m(\u001b[0m\u001b[0mother_unit\u001b[0m\u001b[0;34m)\u001b[0m\u001b[0;34m\u001b[0m\u001b[0;34m\u001b[0m\u001b[0m\n\u001b[0;32m--> 661\u001b[0;31m         \u001b[0;32mreturn\u001b[0m \u001b[0mself\u001b[0m\u001b[0;34m.\u001b[0m\u001b[0m_change_units_with_factor\u001b[0m\u001b[0;34m(\u001b[0m\u001b[0mother_unit\u001b[0m\u001b[0;34m,\u001b[0m \u001b[0mf\u001b[0m\u001b[0;34m)\u001b[0m\u001b[0;34m\u001b[0m\u001b[0;34m\u001b[0m\u001b[0m\n\u001b[0m\u001b[1;32m    662\u001b[0m \u001b[0;34m\u001b[0m\u001b[0m\n\u001b[1;32m    663\u001b[0m     \u001b[0;32mdef\u001b[0m \u001b[0m_change_units_with_factor\u001b[0m\u001b[0;34m(\u001b[0m\u001b[0mself\u001b[0m\u001b[0;34m,\u001b[0m \u001b[0mnew_unit\u001b[0m\u001b[0;34m,\u001b[0m \u001b[0mfactor\u001b[0m\u001b[0;34m,\u001b[0m \u001b[0mpost_multiply\u001b[0m\u001b[0;34m=\u001b[0m\u001b[0;32mTrue\u001b[0m\u001b[0;34m)\u001b[0m\u001b[0;34m:\u001b[0m\u001b[0;34m\u001b[0m\u001b[0;34m\u001b[0m\u001b[0m\n",
      "\u001b[0;32m~/MyMachine/locals/miniconda/envs/bifree-tests/lib/python3.7/site-packages/openmm/unit/quantity.py\u001b[0m in \u001b[0;36m_change_units_with_factor\u001b[0;34m(self, new_unit, factor, post_multiply)\u001b[0m\n\u001b[1;32m    671\u001b[0m         \u001b[0;32mif\u001b[0m \u001b[0mfactor_is_identity\u001b[0m\u001b[0;34m:\u001b[0m\u001b[0;34m\u001b[0m\u001b[0;34m\u001b[0m\u001b[0m\n\u001b[1;32m    672\u001b[0m             \u001b[0;31m# No multiplication required\u001b[0m\u001b[0;34m\u001b[0m\u001b[0;34m\u001b[0m\u001b[0;34m\u001b[0m\u001b[0m\n\u001b[0;32m--> 673\u001b[0;31m             \u001b[0mresult\u001b[0m \u001b[0;34m=\u001b[0m \u001b[0mQuantity\u001b[0m\u001b[0;34m(\u001b[0m\u001b[0mcopy\u001b[0m\u001b[0;34m.\u001b[0m\u001b[0mdeepcopy\u001b[0m\u001b[0;34m(\u001b[0m\u001b[0mself\u001b[0m\u001b[0;34m.\u001b[0m\u001b[0m_value\u001b[0m\u001b[0;34m)\u001b[0m\u001b[0;34m,\u001b[0m \u001b[0mnew_unit\u001b[0m\u001b[0;34m)\u001b[0m\u001b[0;34m\u001b[0m\u001b[0;34m\u001b[0m\u001b[0m\n\u001b[0m\u001b[1;32m    674\u001b[0m         \u001b[0;32melse\u001b[0m\u001b[0;34m:\u001b[0m\u001b[0;34m\u001b[0m\u001b[0;34m\u001b[0m\u001b[0m\n\u001b[1;32m    675\u001b[0m             \u001b[0;32mtry\u001b[0m\u001b[0;34m:\u001b[0m\u001b[0;34m\u001b[0m\u001b[0;34m\u001b[0m\u001b[0m\n",
      "\u001b[0;32m~/MyMachine/locals/miniconda/envs/bifree-tests/lib/python3.7/copy.py\u001b[0m in \u001b[0;36mdeepcopy\u001b[0;34m(x, memo, _nil)\u001b[0m\n\u001b[1;32m    130\u001b[0m \u001b[0;32mdel\u001b[0m \u001b[0md\u001b[0m\u001b[0;34m,\u001b[0m \u001b[0mt\u001b[0m\u001b[0;34m\u001b[0m\u001b[0;34m\u001b[0m\u001b[0m\n\u001b[1;32m    131\u001b[0m \u001b[0;34m\u001b[0m\u001b[0m\n\u001b[0;32m--> 132\u001b[0;31m \u001b[0;32mdef\u001b[0m \u001b[0mdeepcopy\u001b[0m\u001b[0;34m(\u001b[0m\u001b[0mx\u001b[0m\u001b[0;34m,\u001b[0m \u001b[0mmemo\u001b[0m\u001b[0;34m=\u001b[0m\u001b[0;32mNone\u001b[0m\u001b[0;34m,\u001b[0m \u001b[0m_nil\u001b[0m\u001b[0;34m=\u001b[0m\u001b[0;34m[\u001b[0m\u001b[0;34m]\u001b[0m\u001b[0;34m)\u001b[0m\u001b[0;34m:\u001b[0m\u001b[0;34m\u001b[0m\u001b[0;34m\u001b[0m\u001b[0m\n\u001b[0m\u001b[1;32m    133\u001b[0m     \"\"\"Deep copy operation on arbitrary Python objects.\n\u001b[1;32m    134\u001b[0m \u001b[0;34m\u001b[0m\u001b[0m\n",
      "\u001b[0;31mKeyboardInterrupt\u001b[0m: "
     ]
    }
   ],
   "source": [
    "crossed_energies={}\n",
    "for residue_index_0 in tqdm(residues_per_chain[0]):\n",
    "    crossed_energies[residue_index_0]={}\n",
    "    atoms_0 = atoms_per_residue[residue_index_0]\n",
    "    for residue_index_1 in residues_per_chain[1]:\n",
    "        atoms_1 = atoms_per_residue[residue_index_1]\n",
    "        atoms_pair = atoms_0+atoms_1\n",
    "        aux_energy = get_non_bonded_energy(atoms_pair, non_bonded_force, context)\n",
    "        crossed_energies[residue_index_0][residue_index_1]=aux_energy-energy_per_residue[residue_index_0]-energy_per_residue[residue_index_1]"
   ]
  },
  {
   "cell_type": "code",
   "execution_count": 63,
   "id": "20fb170f-4dd8-42f9-a950-04b755c59b03",
   "metadata": {},
   "outputs": [
    {
     "data": {
      "text/plain": [
       "{110: Quantity(value=90.97820281982422, unit=kilojoule/mole),\n",
       " 111: Quantity(value=34.23235321044922, unit=kilojoule/mole),\n",
       " 112: Quantity(value=0.08483123779296875, unit=kilojoule/mole),\n",
       " 113: Quantity(value=-0.41168975830078125, unit=kilojoule/mole),\n",
       " 114: Quantity(value=0.12279510498046875, unit=kilojoule/mole),\n",
       " 115: Quantity(value=-0.5396194458007812, unit=kilojoule/mole),\n",
       " 116: Quantity(value=0.03258514404296875, unit=kilojoule/mole),\n",
       " 117: Quantity(value=-28.64759063720703, unit=kilojoule/mole),\n",
       " 118: Quantity(value=-0.16040802001953125, unit=kilojoule/mole),\n",
       " 119: Quantity(value=0.49202728271484375, unit=kilojoule/mole),\n",
       " 120: Quantity(value=28.841697692871094, unit=kilojoule/mole),\n",
       " 121: Quantity(value=-0.29206085205078125, unit=kilojoule/mole),\n",
       " 122: Quantity(value=-0.42447662353515625, unit=kilojoule/mole),\n",
       " 123: Quantity(value=-0.7099075317382812, unit=kilojoule/mole),\n",
       " 124: Quantity(value=-32.90668487548828, unit=kilojoule/mole),\n",
       " 125: Quantity(value=-0.32880401611328125, unit=kilojoule/mole),\n",
       " 126: Quantity(value=0.18569183349609375, unit=kilojoule/mole),\n",
       " 127: Quantity(value=0.32381439208984375, unit=kilojoule/mole),\n",
       " 128: Quantity(value=-0.11710357666015625, unit=kilojoule/mole),\n",
       " 129: Quantity(value=-0.40918731689453125, unit=kilojoule/mole),\n",
       " 130: Quantity(value=44.92662811279297, unit=kilojoule/mole),\n",
       " 131: Quantity(value=35.86852264404297, unit=kilojoule/mole),\n",
       " 132: Quantity(value=-37.74231719970703, unit=kilojoule/mole),\n",
       " 133: Quantity(value=-0.6879348754882812, unit=kilojoule/mole),\n",
       " 134: Quantity(value=-1.4104385375976562, unit=kilojoule/mole),\n",
       " 135: Quantity(value=1.0142440795898438, unit=kilojoule/mole),\n",
       " 136: Quantity(value=1.0519332885742188, unit=kilojoule/mole),\n",
       " 137: Quantity(value=-53.333412170410156, unit=kilojoule/mole),\n",
       " 138: Quantity(value=-0.37729644775390625, unit=kilojoule/mole),\n",
       " 139: Quantity(value=1.4752731323242188, unit=kilojoule/mole),\n",
       " 140: Quantity(value=0.8561630249023438, unit=kilojoule/mole),\n",
       " 141: Quantity(value=-41.20288848876953, unit=kilojoule/mole),\n",
       " 142: Quantity(value=-0.8601915836334229, unit=kilojoule/mole),\n",
       " 143: Quantity(value=-0.7853775024414062, unit=kilojoule/mole),\n",
       " 144: Quantity(value=-50.49359893798828, unit=kilojoule/mole),\n",
       " 145: Quantity(value=-1.1982498168945312, unit=kilojoule/mole),\n",
       " 146: Quantity(value=-1.0515518188476562, unit=kilojoule/mole),\n",
       " 147: Quantity(value=0.30980682373046875, unit=kilojoule/mole),\n",
       " 148: Quantity(value=-70.8464126586914, unit=kilojoule/mole),\n",
       " 149: Quantity(value=-1.1687088012695312, unit=kilojoule/mole),\n",
       " 150: Quantity(value=-1.0318984985351562, unit=kilojoule/mole),\n",
       " 151: Quantity(value=-2.7443618774414062, unit=kilojoule/mole),\n",
       " 152: Quantity(value=-1.5517654418945312, unit=kilojoule/mole),\n",
       " 153: Quantity(value=-2.0643997192382812, unit=kilojoule/mole),\n",
       " 154: Quantity(value=-2.0882949829101562, unit=kilojoule/mole),\n",
       " 155: Quantity(value=-46.72809600830078, unit=kilojoule/mole),\n",
       " 156: Quantity(value=-0.9361343383789062, unit=kilojoule/mole),\n",
       " 157: Quantity(value=-0.25428009033203125, unit=kilojoule/mole),\n",
       " 158: Quantity(value=0.11278533935546875, unit=kilojoule/mole),\n",
       " 159: Quantity(value=0.01116180419921875, unit=kilojoule/mole),\n",
       " 160: Quantity(value=0.31737518310546875, unit=kilojoule/mole),\n",
       " 161: Quantity(value=-32.419227600097656, unit=kilojoule/mole),\n",
       " 162: Quantity(value=-0.13086700439453125, unit=kilojoule/mole),\n",
       " 163: Quantity(value=30.62523651123047, unit=kilojoule/mole),\n",
       " 164: Quantity(value=-0.107666015625, unit=kilojoule/mole),\n",
       " 165: Quantity(value=-0.01258087158203125, unit=kilojoule/mole),\n",
       " 166: Quantity(value=-29.85950469970703, unit=kilojoule/mole),\n",
       " 167: Quantity(value=-0.22905731201171875, unit=kilojoule/mole),\n",
       " 168: Quantity(value=-0.21009063720703125, unit=kilojoule/mole),\n",
       " 169: Quantity(value=30.86138153076172, unit=kilojoule/mole),\n",
       " 170: Quantity(value=0.15276336669921875, unit=kilojoule/mole),\n",
       " 171: Quantity(value=-0.26517486572265625, unit=kilojoule/mole),\n",
       " 172: Quantity(value=-0.49637603759765625, unit=kilojoule/mole),\n",
       " 173: Quantity(value=-29.98584747314453, unit=kilojoule/mole),\n",
       " 174: Quantity(value=-0.23095703125, unit=kilojoule/mole),\n",
       " 175: Quantity(value=-0.5447158813476562, unit=kilojoule/mole),\n",
       " 176: Quantity(value=-0.6106033325195312, unit=kilojoule/mole),\n",
       " 177: Quantity(value=-34.36200714111328, unit=kilojoule/mole),\n",
       " 178: Quantity(value=-0.6148147583007812, unit=kilojoule/mole),\n",
       " 179: Quantity(value=-0.7536697387695312, unit=kilojoule/mole),\n",
       " 180: Quantity(value=-0.6376419067382812, unit=kilojoule/mole),\n",
       " 181: Quantity(value=0.43460845947265625, unit=kilojoule/mole),\n",
       " 182: Quantity(value=-0.5203018188476562, unit=kilojoule/mole),\n",
       " 183: Quantity(value=-0.6672439575195312, unit=kilojoule/mole),\n",
       " 184: Quantity(value=36.57744598388672, unit=kilojoule/mole),\n",
       " 185: Quantity(value=-44.170753479003906, unit=kilojoule/mole),\n",
       " 186: Quantity(value=-0.5952835083007812, unit=kilojoule/mole),\n",
       " 187: Quantity(value=41.23479461669922, unit=kilojoule/mole),\n",
       " 188: Quantity(value=-0.06662750244140625, unit=kilojoule/mole),\n",
       " 189: Quantity(value=-57.72547149658203, unit=kilojoule/mole),\n",
       " 190: Quantity(value=-0.11325836181640625, unit=kilojoule/mole),\n",
       " 191: Quantity(value=1.0412521362304688, unit=kilojoule/mole),\n",
       " 192: Quantity(value=-42.530494689941406, unit=kilojoule/mole),\n",
       " 193: Quantity(value=0.15077972412109375, unit=kilojoule/mole),\n",
       " 194: Quantity(value=0.32036590576171875, unit=kilojoule/mole),\n",
       " 195: Quantity(value=0.27819061279296875, unit=kilojoule/mole),\n",
       " 196: Quantity(value=-0.38852691650390625, unit=kilojoule/mole),\n",
       " 197: Quantity(value=0.08202362060546875, unit=kilojoule/mole),\n",
       " 198: Quantity(value=-29.410072326660156, unit=kilojoule/mole)}"
      ]
     },
     "execution_count": 63,
     "metadata": {},
     "output_type": "execute_result"
    }
   ],
   "source": []
  },
  {
   "cell_type": "markdown",
   "id": "1c69069f-5299-42a7-b4c8-a6b55a202681",
   "metadata": {},
   "source": [
    "# Of interest\n",
    "\n",
    "https://github.com/openmm/openmm/issues/1463    \n",
    "https://github.com/openmm/openmm/issues/387    \n",
    "https://github.com/openmm/openmm/issues/2682    \n",
    "https://github.com/openmm/openmm/issues/1830    \n",
    "https://openmm.github.io/openmm-cookbook/dev/notebooks/cookbook/Analyzing%20Energy%20Contributions.html    \n",
    "https://openmm.github.io/openmm-cookbook/dev/notebooks/cookbook/Querying%20Charges%20and%20Other%20Parameters.html    \n",
    "\n",
    "\n",
    "https://github.com/openmm/openmm/issues/3178    \n",
    "https://github.com/openmm/openmm/issues/3169    \n",
    "https://github.com/openmm/openmm/issues/2880    \n",
    "https://github.com/openmm/openmm/issues/2835    \n",
    "https://github.com/openmm/openmm/issues/2682    \n",
    "\n",
    "https://chemrxiv.org/engage/api-gateway/chemrxiv/assets/orp/resource/item/60c758a8567dfe4abcec68b3/original/sbm-open-mm-a-builder-of-structure-based-models-for-open-mm.pdf"
   ]
  },
  {
   "cell_type": "code",
   "execution_count": null,
   "id": "47016a5b-5fd6-43fd-afaa-cdb8dc9c78a0",
   "metadata": {},
   "outputs": [],
   "source": []
  }
 ],
 "metadata": {
  "kernelspec": {
   "display_name": "Python 3 (ipykernel)",
   "language": "python",
   "name": "python3"
  },
  "language_info": {
   "codemirror_mode": {
    "name": "ipython",
    "version": 3
   },
   "file_extension": ".py",
   "mimetype": "text/x-python",
   "name": "python",
   "nbconvert_exporter": "python",
   "pygments_lexer": "ipython3",
   "version": "3.7.12"
  }
 },
 "nbformat": 4,
 "nbformat_minor": 5
}
