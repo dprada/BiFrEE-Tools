{
 "cells": [
  {
   "cell_type": "code",
   "execution_count": 1,
   "id": "2cd9f476",
   "metadata": {},
   "outputs": [
    {
     "data": {
      "application/vnd.jupyter.widget-view+json": {
       "model_id": "3869b1ddf76244ac80e44feb87a04932",
       "version_major": 2,
       "version_minor": 0
      },
      "text/plain": []
     },
     "metadata": {},
     "output_type": "display_data"
    }
   ],
   "source": [
    "import os\n",
    "\n",
    "from pdbfixer import PDBFixer\n",
    "import openmm as mm\n",
    "from openmm import unit\n",
    "from openmm import app\n",
    "import nglview as nv"
   ]
  },
  {
   "cell_type": "markdown",
   "id": "4fea48e3-d153-4e45-bc97-450aa77445c2",
   "metadata": {},
   "source": [
    "## SER analysis"
   ]
  },
  {
   "cell_type": "markdown",
   "id": "6779dcd7-6831-4693-9c4a-2a39c4875a4b",
   "metadata": {},
   "source": [
    "Let's analyze a particular feature in a SER residue in the Barnase-Barstar complex. As we can see in the PDB, there are two possibles configurations for this SER, labeled as ASER and BSER, despite having the same atoms, is in the positions of these where the difference relies. "
   ]
  },
  {
   "cell_type": "markdown",
   "id": "0f98f14e-187f-4049-9c84-306f37f2ebed",
   "metadata": {},
   "source": [
    "![title](./ser.png)"
   ]
  },
  {
   "cell_type": "markdown",
   "id": "e161a02d-473b-41e6-b5f7-4d4b1294b728",
   "metadata": {},
   "source": [
    "The question is, if we edit the PDB file with pdbfixer, which configuration does the tool will take, ASER or BSER?\n",
    "\n",
    "In the image we can identify the chain id (D) and residue id (14), so let's start isolating it."
   ]
  },
  {
   "cell_type": "code",
   "execution_count": 2,
   "id": "2f0a25cd",
   "metadata": {},
   "outputs": [],
   "source": [
    "fixer = PDBFixer(filename='1brs.pdb')"
   ]
  },
  {
   "cell_type": "code",
   "execution_count": 3,
   "id": "7fadc6ba-05a1-4da0-865b-6dbaf4e82d46",
   "metadata": {},
   "outputs": [
    {
     "data": {
      "text/plain": [
       "<Topology; 12 chains, 1101 residues, 5151 atoms, 4740 bonds>"
      ]
     },
     "execution_count": 3,
     "metadata": {},
     "output_type": "execute_result"
    }
   ],
   "source": [
    "fixer.topology"
   ]
  },
  {
   "cell_type": "code",
   "execution_count": 4,
   "id": "3020301f",
   "metadata": {},
   "outputs": [],
   "source": [
    "bad_chains = []\n",
    "for chain in fixer.topology.chains():\n",
    "    if chain.id != 'D':\n",
    "        bad_chains.append(chain.index)"
   ]
  },
  {
   "cell_type": "code",
   "execution_count": 5,
   "id": "7ab96aea",
   "metadata": {},
   "outputs": [
    {
     "data": {
      "text/plain": [
       "[0, 1, 2, 4, 5, 6, 7, 8, 10, 11]"
      ]
     },
     "execution_count": 5,
     "metadata": {},
     "output_type": "execute_result"
    }
   ],
   "source": [
    "bad_chains"
   ]
  },
  {
   "cell_type": "code",
   "execution_count": 6,
   "id": "b8ad2d25",
   "metadata": {},
   "outputs": [],
   "source": [
    "fixer.removeChains(bad_chains)"
   ]
  },
  {
   "cell_type": "code",
   "execution_count": 7,
   "id": "bb11a94c",
   "metadata": {},
   "outputs": [
    {
     "data": {
      "text/plain": [
       "<Topology; 2 chains, 164 residues, 770 atoms, 706 bonds>"
      ]
     },
     "execution_count": 7,
     "metadata": {},
     "output_type": "execute_result"
    }
   ],
   "source": [
    "fixer.topology"
   ]
  },
  {
   "cell_type": "code",
   "execution_count": 8,
   "id": "82719e46",
   "metadata": {},
   "outputs": [
    {
     "name": "stdout",
     "output_type": "stream",
     "text": [
      "D 0 12 SER\n",
      "D 0 14 SER\n",
      "D 0 59 SER\n",
      "D 0 69 SER\n",
      "D 0 89 SER\n",
      "D 1 12 SER\n",
      "D 1 14 SER\n",
      "D 1 59 SER\n",
      "D 1 69 SER\n",
      "D 1 89 SER\n"
     ]
    }
   ],
   "source": [
    "for chain in fixer.topology.chains():\n",
    "    for residue in fixer.topology.residues():\n",
    "        if residue.name == 'SER':\n",
    "            print(chain.id, chain.index, residue.id, residue.name)"
   ]
  },
  {
   "cell_type": "markdown",
   "id": "8efe76c9-4d9d-4a56-a55c-da1a188cdcd1",
   "metadata": {},
   "source": [
    "With this output we can verify that D chains were obtain."
   ]
  },
  {
   "cell_type": "markdown",
   "id": "97d3ab2e-f7a5-4bd5-b63d-b76d2387c5af",
   "metadata": {},
   "source": [
    "<div class=\"alert alert-info\">\n",
    "<strong>Question:</strong> There was two ways I tried to print serine residues; first, I declared residue in chain.residues(), but this only print one chain, why fixer.topology.residues() show both D chains?\n",
    "</div>"
   ]
  },
  {
   "cell_type": "code",
   "execution_count": 9,
   "id": "cc0ee856",
   "metadata": {
    "tags": []
   },
   "outputs": [
    {
     "name": "stdout",
     "output_type": "stream",
     "text": [
      "0 D 12 SER 2672 N\n",
      "0 D 12 SER 2673 CA\n",
      "0 D 12 SER 2674 C\n",
      "0 D 12 SER 2675 O\n",
      "0 D 12 SER 2676 CB\n",
      "0 D 12 SER 2677 OG\n",
      "0 D 14 SER 2686 N\n",
      "0 D 14 SER 2687 CA\n",
      "0 D 14 SER 2688 C\n",
      "0 D 14 SER 2689 O\n",
      "0 D 14 SER 2690 CB\n",
      "0 D 14 SER 2692 OG\n",
      "0 D 59 SER 3070 N\n",
      "0 D 59 SER 3071 CA\n",
      "0 D 59 SER 3072 C\n",
      "0 D 59 SER 3073 O\n",
      "0 D 59 SER 3074 CB\n",
      "0 D 59 SER 3075 OG\n",
      "0 D 69 SER 3122 N\n",
      "0 D 69 SER 3123 CA\n",
      "0 D 69 SER 3124 C\n",
      "0 D 69 SER 3125 O\n",
      "0 D 69 SER 3126 CB\n",
      "0 D 69 SER 3127 OG\n",
      "0 D 89 SER 3274 N\n",
      "0 D 89 SER 3275 CA\n",
      "0 D 89 SER 3276 C\n",
      "0 D 89 SER 3277 O\n",
      "0 D 89 SER 3278 CB\n",
      "0 D 89 SER 3279 OG\n",
      "1 D 12 SER 2672 N\n",
      "1 D 12 SER 2673 CA\n",
      "1 D 12 SER 2674 C\n",
      "1 D 12 SER 2675 O\n",
      "1 D 12 SER 2676 CB\n",
      "1 D 12 SER 2677 OG\n",
      "1 D 14 SER 2686 N\n",
      "1 D 14 SER 2687 CA\n",
      "1 D 14 SER 2688 C\n",
      "1 D 14 SER 2689 O\n",
      "1 D 14 SER 2690 CB\n",
      "1 D 14 SER 2692 OG\n",
      "1 D 59 SER 3070 N\n",
      "1 D 59 SER 3071 CA\n",
      "1 D 59 SER 3072 C\n",
      "1 D 59 SER 3073 O\n",
      "1 D 59 SER 3074 CB\n",
      "1 D 59 SER 3075 OG\n",
      "1 D 69 SER 3122 N\n",
      "1 D 69 SER 3123 CA\n",
      "1 D 69 SER 3124 C\n",
      "1 D 69 SER 3125 O\n",
      "1 D 69 SER 3126 CB\n",
      "1 D 69 SER 3127 OG\n",
      "1 D 89 SER 3274 N\n",
      "1 D 89 SER 3275 CA\n",
      "1 D 89 SER 3276 C\n",
      "1 D 89 SER 3277 O\n",
      "1 D 89 SER 3278 CB\n",
      "1 D 89 SER 3279 OG\n",
      "Total atomos en SER: 60\n"
     ]
    }
   ],
   "source": [
    "x = 0\n",
    "for chain in fixer.topology.chains():\n",
    "    for residue in fixer.topology.residues():\n",
    "        for atom in residue.atoms():\n",
    "            if residue.name == 'SER':\n",
    "                x = x+1;\n",
    "                print(chain.index, chain.id, residue.id, residue.name, atom.id, atom.name)\n",
    "print(\"Total atomos en SER: \"+ str(x))"
   ]
  },
  {
   "cell_type": "markdown",
   "id": "975fbeae-5523-42c3-976a-9fa30e7c7a12",
   "metadata": {},
   "source": [
    "A traves del residue.id y atom.id se puede confirmar que la configuracion que toma pdbfixer para la SER (14) es la A."
   ]
  },
  {
   "cell_type": "code",
   "execution_count": 10,
   "id": "3204d2a9",
   "metadata": {},
   "outputs": [
    {
     "name": "stdout",
     "output_type": "stream",
     "text": [
      "1 missing residues\n",
      "0 non standard residues\n",
      "3 missing atoms\n",
      "1 missing terminals\n"
     ]
    },
    {
     "name": "stderr",
     "output_type": "stream",
     "text": [
      "Warning: importing 'simtk.openmm' is deprecated.  Import 'openmm' instead.\n"
     ]
    }
   ],
   "source": [
    "fixer.findMissingResidues()\n",
    "missing_residues = fixer.missingResidues\n",
    "print(f\"{len(missing_residues)} missing residues\")\n",
    "\n",
    "fixer.findNonstandardResidues()\n",
    "nonstandard_residues = fixer.nonstandardResidues\n",
    "print(f\"{len(nonstandard_residues)} non standard residues\")\n",
    "\n",
    "fixer.findMissingAtoms()\n",
    "missing_atoms = fixer.missingAtoms\n",
    "missing_terminals = fixer.missingTerminals\n",
    "print(f\"{len(missing_atoms)} missing atoms\")\n",
    "print(f\"{len(missing_terminals)} missing terminals\")\n",
    "\n",
    "if len(nonstandard_residues)>0:\n",
    "    fixer.replaceNonstandardResidues()\n",
    "\n",
    "if len(missing_atoms)>0:\n",
    "    fixer.addMissingAtoms()"
   ]
  },
  {
   "cell_type": "code",
   "execution_count": 11,
   "id": "924b0daa-4f57-483d-8faa-6e37cbe273bd",
   "metadata": {},
   "outputs": [
    {
     "data": {
      "text/plain": [
       "<Topology; 2 chains, 166 residues, 795 atoms, 731 bonds>"
      ]
     },
     "execution_count": 11,
     "metadata": {},
     "output_type": "execute_result"
    }
   ],
   "source": [
    "fixer.topology"
   ]
  },
  {
   "cell_type": "code",
   "execution_count": 12,
   "id": "90190222-fe77-4087-8706-bda53dfca8ce",
   "metadata": {},
   "outputs": [],
   "source": [
    "modeller = app.Modeller(fixer.topology, fixer.positions)\n",
    "app.PDBFile.writeFile(modeller.topology, modeller.positions, open('barnase-ser.pdb', 'w'))"
   ]
  },
  {
   "cell_type": "code",
   "execution_count": 13,
   "id": "ea71f8d0-4f0e-4d97-a3e4-edb6df5004bf",
   "metadata": {},
   "outputs": [
    {
     "name": "stdout",
     "output_type": "stream",
     "text": [
      "0 D 12 SER 88 N\n",
      "0 D 12 SER 89 CA\n",
      "0 D 12 SER 90 C\n",
      "0 D 12 SER 91 O\n",
      "0 D 12 SER 92 CB\n",
      "0 D 12 SER 93 OG\n",
      "0 D 14 SER 102 N\n",
      "0 D 14 SER 103 CA\n",
      "0 D 14 SER 104 C\n",
      "0 D 14 SER 105 O\n",
      "0 D 14 SER 106 CB\n",
      "0 D 14 SER 107 OG\n",
      "0 D 59 SER 486 N\n",
      "0 D 59 SER 487 CA\n",
      "0 D 59 SER 488 C\n",
      "0 D 59 SER 489 O\n",
      "0 D 59 SER 490 CB\n",
      "0 D 59 SER 491 OG\n",
      "0 D 69 SER 560 N\n",
      "0 D 69 SER 561 CA\n",
      "0 D 69 SER 562 C\n",
      "0 D 69 SER 563 O\n",
      "0 D 69 SER 564 CB\n",
      "0 D 69 SER 565 OG\n",
      "0 D 89 SER 712 N\n",
      "0 D 89 SER 713 CA\n",
      "0 D 89 SER 714 C\n",
      "0 D 89 SER 715 O\n",
      "0 D 89 SER 716 CB\n",
      "0 D 89 SER 717 OG\n",
      "0 D 89 SER 718 OXT\n",
      "1 D 12 SER 88 N\n",
      "1 D 12 SER 89 CA\n",
      "1 D 12 SER 90 C\n",
      "1 D 12 SER 91 O\n",
      "1 D 12 SER 92 CB\n",
      "1 D 12 SER 93 OG\n",
      "1 D 14 SER 102 N\n",
      "1 D 14 SER 103 CA\n",
      "1 D 14 SER 104 C\n",
      "1 D 14 SER 105 O\n",
      "1 D 14 SER 106 CB\n",
      "1 D 14 SER 107 OG\n",
      "1 D 59 SER 486 N\n",
      "1 D 59 SER 487 CA\n",
      "1 D 59 SER 488 C\n",
      "1 D 59 SER 489 O\n",
      "1 D 59 SER 490 CB\n",
      "1 D 59 SER 491 OG\n",
      "1 D 69 SER 560 N\n",
      "1 D 69 SER 561 CA\n",
      "1 D 69 SER 562 C\n",
      "1 D 69 SER 563 O\n",
      "1 D 69 SER 564 CB\n",
      "1 D 69 SER 565 OG\n",
      "1 D 89 SER 712 N\n",
      "1 D 89 SER 713 CA\n",
      "1 D 89 SER 714 C\n",
      "1 D 89 SER 715 O\n",
      "1 D 89 SER 716 CB\n",
      "1 D 89 SER 717 OG\n",
      "1 D 89 SER 718 OXT\n",
      "Total atomos en SER: 62\n"
     ]
    }
   ],
   "source": [
    "x = 0\n",
    "for chain in fixer.topology.chains():\n",
    "    for residue in fixer.topology.residues():\n",
    "        for atom in residue.atoms():\n",
    "            if residue.name == 'SER':\n",
    "                x = x+1;\n",
    "                print(chain.index, chain.id, residue.id, residue.name, atom.id, atom.name)\n",
    "print(\"Total atomos en SER: \"+ str(x))"
   ]
  },
  {
   "cell_type": "markdown",
   "id": "10e3c9b0-40e5-40b8-8d27-e641d01e8b92",
   "metadata": {},
   "source": [
    "After editing, it can't be shown if SER maintain the A configuration."
   ]
  }
 ],
 "metadata": {
  "kernelspec": {
   "display_name": "Python 3 (ipykernel)",
   "language": "python",
   "name": "python3"
  },
  "language_info": {
   "codemirror_mode": {
    "name": "ipython",
    "version": 3
   },
   "file_extension": ".py",
   "mimetype": "text/x-python",
   "name": "python",
   "nbconvert_exporter": "python",
   "pygments_lexer": "ipython3",
   "version": "3.9.10"
  }
 },
 "nbformat": 4,
 "nbformat_minor": 5
}
