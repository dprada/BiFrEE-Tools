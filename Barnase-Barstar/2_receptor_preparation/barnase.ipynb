{
 "cells": [
  {
   "cell_type": "code",
   "execution_count": 1,
   "id": "da03e479-b846-42c3-935d-042a22948441",
   "metadata": {},
   "outputs": [
    {
     "data": {
      "application/vnd.jupyter.widget-view+json": {
       "model_id": "218b34cc05eb4fa98782e62ad89e457e",
       "version_major": 2,
       "version_minor": 0
      },
      "text/plain": []
     },
     "metadata": {},
     "output_type": "display_data"
    }
   ],
   "source": [
    "import os\n",
    "\n",
    "from pdbfixer import PDBFixer\n",
    "import openmm as mm\n",
    "from openmm import unit\n",
    "from openmm import app\n",
    "import numpy as np\n",
    "from matplotlib import pyplot as plt\n",
    "import nglview as nv\n",
    "from math import sqrt"
   ]
  },
  {
   "cell_type": "markdown",
   "id": "c01becf1-8db9-478b-a392-faa40aa1a959",
   "metadata": {
    "tags": []
   },
   "source": [
    "# Preparing Barnase "
   ]
  },
  {
   "cell_type": "markdown",
   "id": "905213b8-da1f-420a-a0f6-2ded6aca9f34",
   "metadata": {},
   "source": [
    "## Obtaining best chain"
   ]
  },
  {
   "cell_type": "markdown",
   "id": "bb29d971-0372-4553-9ab2-a910fc78253b",
   "metadata": {},
   "source": [
    "From barnase-barstar pdb previously analyzed, it was identifed that the \"best\" barnase chain contain 110 residues and 878 atoms, so the task is to identify it from the 12 chains in the pdb. "
   ]
  },
  {
   "cell_type": "code",
   "execution_count": 2,
   "id": "5a703bed-5c87-4d7e-8c29-62400958986a",
   "metadata": {},
   "outputs": [],
   "source": [
    "fixer = PDBFixer(filename='1brs.pdb')"
   ]
  },
  {
   "cell_type": "code",
   "execution_count": 3,
   "id": "a9a3f961-c73d-4932-8f03-6c19032d93df",
   "metadata": {},
   "outputs": [
    {
     "data": {
      "text/plain": [
       "<Topology; 12 chains, 1101 residues, 5151 atoms, 4740 bonds>"
      ]
     },
     "execution_count": 3,
     "metadata": {},
     "output_type": "execute_result"
    }
   ],
   "source": [
    "fixer.topology"
   ]
  },
  {
   "cell_type": "code",
   "execution_count": 4,
   "id": "c2d205cd-6fd1-480d-9b06-57ed486a3068",
   "metadata": {},
   "outputs": [],
   "source": [
    "fixer.removeChains([0, 2, 3, 4, 5, 6, 7, 8, 9, 10, 11])"
   ]
  },
  {
   "cell_type": "code",
   "execution_count": 5,
   "id": "44bea85d-8bc0-4d6f-a9ad-eef6eedbae30",
   "metadata": {},
   "outputs": [
    {
     "data": {
      "text/plain": [
       "<Topology; 1 chains, 110 residues, 878 atoms, 899 bonds>"
      ]
     },
     "execution_count": 5,
     "metadata": {},
     "output_type": "execute_result"
    }
   ],
   "source": [
    "fixer.topology"
   ]
  },
  {
   "cell_type": "markdown",
   "id": "19cc3e1d-057d-499c-87bb-096f4d76dadc",
   "metadata": {},
   "source": [
    "Although manually, the barnase chain was identified."
   ]
  },
  {
   "cell_type": "markdown",
   "id": "fab0c2c8-a91e-4a61-b9d8-00baa93b68f9",
   "metadata": {},
   "source": [
    "<div class=\"alert alert-info\">\n",
    "<strong>Question:</strong> Is there a more efficient way to identify the chain were looking for?\n",
    "</div>\n",
    "\n",
    "I don't have an answer now, but there should be a better way. We must keep it in mind. In the future we will try to rewrite these workflows with MolSysMT. This could be a good point to improve the library."
   ]
  },
  {
   "cell_type": "markdown",
   "id": "8436dcfe-ce67-4d2c-9e45-6bc32635cecf",
   "metadata": {},
   "source": [
    "<div class=\"alert alert-info\">\n",
    "<strong>Question:</strong> How call a list in an object in order to print all the residues?\n",
    "</div>"
   ]
  },
  {
   "cell_type": "markdown",
   "id": "ba05eb28-91bb-40af-88f4-e13c52b2e3ec",
   "metadata": {},
   "source": [
    "Do you mean something like the following?"
   ]
  },
  {
   "cell_type": "code",
   "execution_count": 6,
   "id": "f29cd7a9-a1af-46d6-9043-2534dcf51270",
   "metadata": {
    "tags": []
   },
   "outputs": [
    {
     "name": "stdout",
     "output_type": "stream",
     "text": [
      "B 0 1 ALA\n",
      "B 0 11 ALA\n",
      "B 0 30 ALA\n",
      "B 0 32 ALA\n",
      "B 0 37 ALA\n",
      "B 0 43 ALA\n",
      "B 0 46 ALA\n",
      "B 0 74 ALA\n"
     ]
    }
   ],
   "source": [
    "for chain in fixer.topology.chains():\n",
    "    for residue in chain.residues():\n",
    "        if residue.name == 'ALA':\n",
    "            print(chain.id, chain.index, residue.id, residue.name)"
   ]
  },
  {
   "cell_type": "code",
   "execution_count": 7,
   "id": "53c03b15-0ece-4705-9ad3-9ffe5dc67b5b",
   "metadata": {
    "scrolled": true,
    "tags": []
   },
   "outputs": [
    {
     "name": "stdout",
     "output_type": "stream",
     "text": [
      "B 1 ALA\n",
      "B 2 GLN\n",
      "B 3 VAL\n",
      "B 4 ILE\n",
      "B 5 ASN\n",
      "B 6 THR\n",
      "B 7 PHE\n",
      "B 8 ASP\n",
      "B 9 GLY\n",
      "B 10 VAL\n",
      "B 11 ALA\n",
      "B 12 ASP\n",
      "B 13 TYR\n",
      "B 14 LEU\n",
      "B 15 GLN\n",
      "B 16 THR\n",
      "B 17 TYR\n",
      "B 18 HIS\n",
      "B 19 LYS\n",
      "B 20 LEU\n",
      "B 21 PRO\n",
      "B 22 ASP\n",
      "B 23 ASN\n",
      "B 24 TYR\n",
      "B 25 ILE\n",
      "B 26 THR\n",
      "B 27 LYS\n",
      "B 28 SER\n",
      "B 29 GLU\n",
      "B 30 ALA\n",
      "B 31 GLN\n",
      "B 32 ALA\n",
      "B 33 LEU\n",
      "B 34 GLY\n",
      "B 35 TRP\n",
      "B 36 VAL\n",
      "B 37 ALA\n",
      "B 38 SER\n",
      "B 39 LYS\n",
      "B 40 GLY\n",
      "B 41 ASN\n",
      "B 42 LEU\n",
      "B 43 ALA\n",
      "B 44 ASP\n",
      "B 45 VAL\n",
      "B 46 ALA\n",
      "B 47 PRO\n",
      "B 48 GLY\n",
      "B 49 LYS\n",
      "B 50 SER\n",
      "B 51 ILE\n",
      "B 52 GLY\n",
      "B 53 GLY\n",
      "B 54 ASP\n",
      "B 55 ILE\n",
      "B 56 PHE\n",
      "B 57 SER\n",
      "B 58 ASN\n",
      "B 59 ARG\n",
      "B 60 GLU\n",
      "B 61 GLY\n",
      "B 62 LYS\n",
      "B 63 LEU\n",
      "B 64 PRO\n",
      "B 65 GLY\n",
      "B 66 LYS\n",
      "B 67 SER\n",
      "B 68 GLY\n",
      "B 69 ARG\n",
      "B 70 THR\n",
      "B 71 TRP\n",
      "B 72 ARG\n",
      "B 73 GLU\n",
      "B 74 ALA\n",
      "B 75 ASP\n",
      "B 76 ILE\n",
      "B 77 ASN\n",
      "B 78 TYR\n",
      "B 79 THR\n",
      "B 80 SER\n",
      "B 81 GLY\n",
      "B 82 PHE\n",
      "B 83 ARG\n",
      "B 84 ASN\n",
      "B 85 SER\n",
      "B 86 ASP\n",
      "B 87 ARG\n",
      "B 88 ILE\n",
      "B 89 LEU\n",
      "B 90 TYR\n",
      "B 91 SER\n",
      "B 92 SER\n",
      "B 93 ASP\n",
      "B 94 TRP\n",
      "B 95 LEU\n",
      "B 96 ILE\n",
      "B 97 TYR\n",
      "B 98 LYS\n",
      "B 99 THR\n",
      "B 100 THR\n",
      "B 101 ASP\n",
      "B 102 HIS\n",
      "B 103 TYR\n",
      "B 104 GLN\n",
      "B 105 THR\n",
      "B 106 PHE\n",
      "B 107 THR\n",
      "B 108 LYS\n",
      "B 109 ILE\n",
      "B 110 ARG\n"
     ]
    }
   ],
   "source": [
    "for chain in fixer.topology.chains():\n",
    "    for residue in chain.residues():\n",
    "            print(chain.id, residue.id, residue.name)"
   ]
  },
  {
   "cell_type": "markdown",
   "id": "ecdbe463-6503-4b75-b453-b781757080af",
   "metadata": {},
   "source": [
    "I don't know why they did like that. The object 'chains' or 'residues' are iterators and not lists:"
   ]
  },
  {
   "cell_type": "code",
   "execution_count": 8,
   "id": "fae73fb8-85f6-4ba0-9fe6-f6099dd45070",
   "metadata": {},
   "outputs": [
    {
     "data": {
      "text/plain": [
       "method"
      ]
     },
     "execution_count": 8,
     "metadata": {},
     "output_type": "execute_result"
    }
   ],
   "source": [
    "type(fixer.topology.chains)"
   ]
  },
  {
   "cell_type": "code",
   "execution_count": 9,
   "id": "37635b74-18c9-4528-8640-957b3a741497",
   "metadata": {},
   "outputs": [
    {
     "data": {
      "text/plain": [
       "list_iterator"
      ]
     },
     "execution_count": 9,
     "metadata": {},
     "output_type": "execute_result"
    }
   ],
   "source": [
    "type(fixer.topology.chains())"
   ]
  },
  {
   "cell_type": "markdown",
   "id": "bc27e439-fd53-4833-ad03-43b8e0b646df",
   "metadata": {},
   "source": [
    "A list can be created from an iterator, easy:"
   ]
  },
  {
   "cell_type": "code",
   "execution_count": 10,
   "id": "28ebc82b-1dee-41cf-801c-3b5aebdab666",
   "metadata": {},
   "outputs": [],
   "source": [
    "chains = list(fixer.topology.chains())"
   ]
  },
  {
   "cell_type": "code",
   "execution_count": 11,
   "id": "607257fa-7f1f-4013-9348-1e1cc67f1b9a",
   "metadata": {},
   "outputs": [
    {
     "data": {
      "text/plain": [
       "list"
      ]
     },
     "execution_count": 11,
     "metadata": {},
     "output_type": "execute_result"
    }
   ],
   "source": [
    "type(chains)"
   ]
  },
  {
   "cell_type": "code",
   "execution_count": 12,
   "id": "b6ff3c23-4981-4346-b435-f965ac617f91",
   "metadata": {},
   "outputs": [
    {
     "data": {
      "text/plain": [
       "<Chain 0>"
      ]
     },
     "execution_count": 12,
     "metadata": {},
     "output_type": "execute_result"
    }
   ],
   "source": [
    "chains[0]"
   ]
  },
  {
   "cell_type": "markdown",
   "id": "a65ddfb2-80f6-4c5e-91c9-b996c1efbb54",
   "metadata": {},
   "source": [
    "## Editing"
   ]
  },
  {
   "cell_type": "markdown",
   "id": "e066da1b-edbe-437c-9029-a50963623850",
   "metadata": {},
   "source": [
    "Using PDBFixer, we can add residues, atoms and water molecules to our system."
   ]
  },
  {
   "cell_type": "code",
   "execution_count": 13,
   "id": "857bf0c2-6fc2-453f-92c3-ec98f2271fba",
   "metadata": {},
   "outputs": [],
   "source": [
    "fixer = PDBFixer(filename='1brs.pdb')\n",
    "fixer.removeChains([0, 2, 3, 4, 5, 6, 7, 8, 9, 10, 11])"
   ]
  },
  {
   "cell_type": "code",
   "execution_count": 14,
   "id": "f12cc31c-0f48-4d23-8b4c-f5cef9bfe08c",
   "metadata": {},
   "outputs": [
    {
     "name": "stdout",
     "output_type": "stream",
     "text": [
      "0 missing residues\n",
      "0 non standard residues\n",
      "0 missing atoms\n",
      "0 missing terminals\n"
     ]
    }
   ],
   "source": [
    "fixer.findMissingResidues()\n",
    "missing_residues = fixer.missingResidues\n",
    "print(f\"{len(missing_residues)} missing residues\")\n",
    "\n",
    "fixer.findNonstandardResidues()\n",
    "nonstandard_residues = fixer.nonstandardResidues\n",
    "print(f\"{len(nonstandard_residues)} non standard residues\")\n",
    "\n",
    "fixer.findMissingAtoms()\n",
    "missing_atoms = fixer.missingAtoms\n",
    "missing_terminals = fixer.missingTerminals\n",
    "print(f\"{len(missing_atoms)} missing atoms\")\n",
    "print(f\"{len(missing_terminals)} missing terminals\")\n",
    "\n",
    "if len(nonstandard_residues)>0:\n",
    "    fixer.replaceNonstandardResidues()\n",
    "\n",
    "if len(missing_atoms)>0:\n",
    "    fixer.addMissingAtoms()"
   ]
  },
  {
   "cell_type": "markdown",
   "id": "2768a86b-39e3-42f3-a3e9-83e721105996",
   "metadata": {},
   "source": [
    "Let's see how some aminoacids change when different pH is taken to protonate the system:"
   ]
  },
  {
   "cell_type": "code",
   "execution_count": 15,
   "id": "7316354d-c4bc-46c0-88be-6719cb1a1a02",
   "metadata": {},
   "outputs": [],
   "source": [
    "forcefield = app.ForceField('amber14-all.xml', 'amber14/tip3p.xml')"
   ]
  },
  {
   "cell_type": "code",
   "execution_count": 16,
   "id": "16263994-3001-420b-97f5-7038311c3c7a",
   "metadata": {},
   "outputs": [],
   "source": [
    "counter = {'HIP':[], 'HIE':[], 'HID':[]}\n",
    "pHs = np.linspace(1, 14, 20)\n",
    "\n",
    "for pH in pHs:\n",
    "    for residue in counter:\n",
    "        counter[residue].append(0)\n",
    "    modeller = app.Modeller(fixer.topology, fixer.positions)\n",
    "    residues_protonated = modeller.addHydrogens(forcefield=forcefield, pH=pH)\n",
    "    for residue in residues_protonated:\n",
    "        if residue is not None:\n",
    "            counter[residue][-1]+=1"
   ]
  },
  {
   "cell_type": "code",
   "execution_count": 17,
   "id": "cd5b6248-b87d-4079-9401-8a890b892363",
   "metadata": {},
   "outputs": [
    {
     "data": {
      "image/png": "[encoded data removed]",
      "text/plain": [
       "<Figure size 432x288 with 1 Axes>"
      ]
     },
     "metadata": {
      "needs_background": "light"
     },
     "output_type": "display_data"
    }
   ],
   "source": [
    "for residue in counter:\n",
    "    plt.plot(pHs, counter[residue], label=residue)\n",
    "\n",
    "plt.legend()\n",
    "plt.show()"
   ]
  },
  {
   "cell_type": "code",
   "execution_count": 18,
   "id": "9a91bd0f-7e1b-4c15-86ae-0a043934f728",
   "metadata": {},
   "outputs": [
    {
     "name": "stdout",
     "output_type": "stream",
     "text": [
      "0 B\n"
     ]
    }
   ],
   "source": [
    "for ii in fixer.topology.chains():\n",
    "    print(ii.index, ii.id)"
   ]
  },
  {
   "cell_type": "code",
   "execution_count": 19,
   "id": "c1487021-89d5-4aa3-bcad-45090730282f",
   "metadata": {},
   "outputs": [
    {
     "data": {
      "text/plain": [
       "'B'"
      ]
     },
     "execution_count": 19,
     "metadata": {},
     "output_type": "execute_result"
    }
   ],
   "source": [
    "ii.id"
   ]
  },
  {
   "cell_type": "markdown",
   "id": "9cb3addd-645c-4412-871f-293368fb72af",
   "metadata": {},
   "source": [
    "Is the protonated states something stationary along the simulation? The protonation state of certain residues depends on their chemical environment. We have here inferred how the histidine residues are protonated at different pHs. But: will this states change along the simulation? How can we define these states without ions and water molecules? Is the chemical environment of a given residue something that will change in time? If the protonated residues can change their state near pH 7, are we worried? Should we protonate after solvation?\n",
    "\n",
    "We are interested in the interaction between barnase and barstar. Is any of the aminoacids with different possible protonated states in the interface or near?"
   ]
  },
  {
   "cell_type": "markdown",
   "id": "1a9d0ec9-db88-4b17-b413-a6f8cd0dce98",
   "metadata": {},
   "source": [
    "What value of pH should you use? Are you interested in a simulation of the receptor in pure water? in the cytoplasm? in the nucleous? Is the pH different? Is it relevant?"
   ]
  },
  {
   "cell_type": "code",
   "execution_count": 20,
   "id": "12a5aaef-4d04-4ae6-b88c-e0a1ef533a09",
   "metadata": {},
   "outputs": [],
   "source": [
    "modeller = app.Modeller(fixer.topology, fixer.positions)\n",
    "\n",
    "pH = 7.2\n",
    "residues_protonated = modeller.addHydrogens(forcefield=forcefield, pH=pH)"
   ]
  },
  {
   "cell_type": "code",
   "execution_count": 21,
   "id": "b398fe52-fbeb-4db1-b3e5-3876df1817b4",
   "metadata": {},
   "outputs": [
    {
     "data": {
      "text/plain": [
       "['HID', 'HID']"
      ]
     },
     "execution_count": 21,
     "metadata": {},
     "output_type": "execute_result"
    }
   ],
   "source": [
    "[residue_name for residue_name in residues_protonated if residue_name is not None]"
   ]
  },
  {
   "cell_type": "markdown",
   "id": "39e4af49-539d-4089-83c0-7b36f64f2c1a",
   "metadata": {},
   "source": [
    "Let's see the charge of our system."
   ]
  },
  {
   "cell_type": "code",
   "execution_count": 22,
   "id": "6952d89c-66ad-4305-a7ae-81e4c8c4aa41",
   "metadata": {},
   "outputs": [],
   "source": [
    "# Lets create a system with the protein in vacuum (infinite space) to get the charge\n",
    "\n",
    "system = forcefield.createSystem(modeller.topology, nonbondedMethod=app.NoCutoff)\n",
    "\n",
    "charge = 0.0 * unit.elementary_charge\n",
    "for force_index in range(system.getNumForces()):\n",
    "    force = system.getForce(force_index)\n",
    "    if isinstance(force, mm.NonbondedForce):\n",
    "        for index in range(system.getNumParticles()):\n",
    "            charge+=force.getParticleParameters(int(index))[0]\n",
    "\n",
    "charge = np.round(charge._value)*charge.unit"
   ]
  },
  {
   "cell_type": "code",
   "execution_count": 23,
   "id": "1fea2cb3-1eb7-4b31-adc0-b30f33ad6e4c",
   "metadata": {},
   "outputs": [
    {
     "data": {
      "text/plain": [
       "Quantity(value=2.0, unit=elementary charge)"
      ]
     },
     "execution_count": 23,
     "metadata": {},
     "output_type": "execute_result"
    }
   ],
   "source": [
    "charge"
   ]
  },
  {
   "cell_type": "markdown",
   "id": "11a00f05-0ced-48b5-a695-3ec4fd75e82e",
   "metadata": {},
   "source": [
    "What would be then charge of our protein at pH=6.5? What's the pH of the cell cytoplasm? Is the pH homogeneous in the cell? Are there regions with differen pH? What pH should we choose?"
   ]
  },
  {
   "cell_type": "code",
   "execution_count": 24,
   "id": "5d6a2f9a-2fc0-493a-a59b-7d7e24cac999",
   "metadata": {},
   "outputs": [],
   "source": [
    "app.PDBFile.writeFile(modeller.topology, modeller.positions, open('barnase.pdb', 'w'))"
   ]
  },
  {
   "cell_type": "markdown",
   "id": "f5f557bb-b08b-4d37-ab9e-2be590bccd91",
   "metadata": {},
   "source": [
    "## Finishing with Modeller"
   ]
  },
  {
   "cell_type": "markdown",
   "id": "cc62dad0-e600-439e-9158-4e443778bad4",
   "metadata": {},
   "source": [
    "In order to build a system with an specific water model and box shape, Modeller is a great tool."
   ]
  },
  {
   "cell_type": "code",
   "execution_count": 25,
   "id": "310b0453-d6b2-4038-9926-d7c1b03997df",
   "metadata": {},
   "outputs": [],
   "source": [
    "pdb = app.PDBFile('barnase.pdb')"
   ]
  },
  {
   "cell_type": "code",
   "execution_count": 26,
   "id": "727e685d-a261-4ec5-8bad-998585332fca",
   "metadata": {},
   "outputs": [],
   "source": [
    "forcefield = app.ForceField('amber14-all.xml', 'amber14/tip3p.xml')"
   ]
  },
  {
   "cell_type": "code",
   "execution_count": 27,
   "id": "9477dac0-70db-4d98-8c6a-93451a852e58",
   "metadata": {},
   "outputs": [],
   "source": [
    "modeller = app.Modeller(pdb.topology, pdb.positions)"
   ]
  },
  {
   "cell_type": "code",
   "execution_count": 28,
   "id": "67e23b81-ad37-4a4c-adcd-18090b3f1480",
   "metadata": {},
   "outputs": [],
   "source": [
    "modeller.addSolvent(forcefield, model='tip3p')"
   ]
  },
  {
   "cell_type": "code",
   "execution_count": 29,
   "id": "3cf50826-be02-4030-b653-f72e21557943",
   "metadata": {},
   "outputs": [],
   "source": [
    "app.PDBFile.writeFile(modeller.topology, modeller.positions, open('brns-solv.pdb', 'w'))"
   ]
  },
  {
   "cell_type": "markdown",
   "id": "f5693411-5b9e-482c-a8c6-57b33abc31ad",
   "metadata": {},
   "source": [
    "Did we add ions? What's the charge of the solvated system?"
   ]
  },
  {
   "cell_type": "markdown",
   "id": "d9e35266-2010-4b98-b280-e37852765ba5",
   "metadata": {},
   "source": [
    "In the README.md file there were some indications about how barnase had to be solvated. Did you follow them? Is the box a truncated octahedral box with the protein in the center and the limits of the box 14 angstroms away from the protein surface (at least)?"
   ]
  },
  {
   "cell_type": "markdown",
   "id": "1443503c-3e28-4e98-9c4b-ed68b13afaee",
   "metadata": {},
   "source": [
    "Could you show with NGLView the water box?"
   ]
  },
  {
   "cell_type": "code",
   "execution_count": 30,
   "id": "27e852cb-75b7-4e7e-b008-5770dd99d7b1",
   "metadata": {},
   "outputs": [
    {
     "data": {
      "text/plain": [
       "<Topology; 3 chains, 23264 residues, 71185 atoms, 48052 bonds>"
      ]
     },
     "execution_count": 30,
     "metadata": {},
     "output_type": "execute_result"
    }
   ],
   "source": [
    "modeller.topology"
   ]
  },
  {
   "cell_type": "code",
   "execution_count": 31,
   "id": "42b1bc42-7c57-43a0-b37b-b21ec25384b9",
   "metadata": {},
   "outputs": [
    {
     "data": {
      "application/vnd.jupyter.widget-view+json": {
       "model_id": "1ed86caca5ef4560a18c9500695017f4",
       "version_major": 2,
       "version_minor": 0
      },
      "text/plain": [
       "NGLWidget()"
      ]
     },
     "metadata": {},
     "output_type": "display_data"
    }
   ],
   "source": [
    "view = nv.show_file('brns-solv.pdb')\n",
    "view.add_licorice(selection='water')\n",
    "view"
   ]
  },
  {
   "cell_type": "markdown",
   "id": "3d9e0ef7",
   "metadata": {},
   "source": [
    "## Diferent water-boxes"
   ]
  },
  {
   "cell_type": "markdown",
   "id": "931144c2",
   "metadata": {},
   "source": [
    "### Cubic"
   ]
  },
  {
   "cell_type": "code",
   "execution_count": 32,
   "id": "5697b744",
   "metadata": {},
   "outputs": [],
   "source": [
    "pdb = app.PDBFile('barnase.pdb')"
   ]
  },
  {
   "cell_type": "code",
   "execution_count": 33,
   "id": "e247ac74",
   "metadata": {},
   "outputs": [],
   "source": [
    "forcefield = app.ForceField('amber14-all.xml', 'amber14/tip3p.xml')"
   ]
  },
  {
   "cell_type": "code",
   "execution_count": 34,
   "id": "855f82a8",
   "metadata": {},
   "outputs": [],
   "source": [
    "modeller = app.Modeller(pdb.topology, pdb.positions)"
   ]
  },
  {
   "cell_type": "code",
   "execution_count": 35,
   "id": "926fb68a-f83c-468a-ac0c-d867e0d25d58",
   "metadata": {},
   "outputs": [],
   "source": [
    "geompadding = 1.4 * unit.nanometers\n",
    "maxSize = max(max((pos[i] for pos in pdb.positions))-min((pos[i] for pos in pdb.positions)) for i in range(3))\n",
    "vectors = mm.Vec3(1,0,0), mm.Vec3(0,1,0), mm.Vec3(0,0,1)\n",
    "boxVectors = [(maxSize+geompadding)*v for v in vectors]"
   ]
  },
  {
   "cell_type": "code",
   "execution_count": 36,
   "id": "55ac2d7a",
   "metadata": {},
   "outputs": [],
   "source": [
    "modeller.addSolvent(forcefield, model='tip3p', boxVectors=boxVectors)"
   ]
  },
  {
   "cell_type": "code",
   "execution_count": 37,
   "id": "76fb3012-ae54-49c9-b826-e1b4169d0581",
   "metadata": {},
   "outputs": [],
   "source": [
    "app.PDBFile.writeFile(modeller.topology, modeller.positions, open('brns-cubic.pdb', 'w'))"
   ]
  },
  {
   "cell_type": "code",
   "execution_count": 38,
   "id": "aaf67c7c-6eb6-4a2f-9de8-299d117a9f34",
   "metadata": {},
   "outputs": [
    {
     "data": {
      "application/vnd.jupyter.widget-view+json": {
       "model_id": "946c68795d5941a2833d9907464ac6b9",
       "version_major": 2,
       "version_minor": 0
      },
      "text/plain": [
       "NGLWidget()"
      ]
     },
     "metadata": {},
     "output_type": "display_data"
    }
   ],
   "source": [
    "view = nv.show_file('brns-cubic.pdb')\n",
    "view.add_licorice(selection='water')\n",
    "view"
   ]
  },
  {
   "cell_type": "markdown",
   "id": "550e2120",
   "metadata": {},
   "source": [
    "### Truncated Octahedral"
   ]
  },
  {
   "cell_type": "code",
   "execution_count": 39,
   "id": "d3bff577",
   "metadata": {},
   "outputs": [],
   "source": [
    "pdb = app.PDBFile('barnase.pdb')\n",
    "forcefield = app.ForceField('amber14-all.xml', 'amber14/tip3p.xml')\n",
    "modeller = app.Modeller(pdb.topology, pdb.positions)"
   ]
  },
  {
   "cell_type": "code",
   "execution_count": 40,
   "id": "0020e165",
   "metadata": {},
   "outputs": [],
   "source": [
    "geompadding = 1.4 * unit.nanometers\n",
    "maxSize = max(max((pos[i] for pos in pdb.positions))-min((pos[i] for pos in pdb.positions)) for i in range(3))\n",
    "vectors = mm.Vec3(1,0,0), mm.Vec3(1/3,2*sqrt(2)/3,0), mm.Vec3(-1/3,sqrt(2)/3,sqrt(6)/3)\n",
    "boxVectors = [(maxSize+geompadding)*v for v in vectors]"
   ]
  },
  {
   "cell_type": "code",
   "execution_count": 41,
   "id": "08bf3941",
   "metadata": {},
   "outputs": [],
   "source": [
    "modeller.addSolvent(forcefield, model='tip3p', boxVectors=boxVectors)"
   ]
  },
  {
   "cell_type": "code",
   "execution_count": 42,
   "id": "bb075259",
   "metadata": {},
   "outputs": [],
   "source": [
    "app.PDBFile.writeFile(modeller.topology, modeller.positions, open('brns-oct.pdb', 'w'))"
   ]
  },
  {
   "cell_type": "code",
   "execution_count": 43,
   "id": "c3eed75b",
   "metadata": {},
   "outputs": [
    {
     "data": {
      "application/vnd.jupyter.widget-view+json": {
       "model_id": "55b0a7f1dbbc4a109255c2828274f5e7",
       "version_major": 2,
       "version_minor": 0
      },
      "text/plain": [
       "NGLWidget()"
      ]
     },
     "metadata": {},
     "output_type": "display_data"
    }
   ],
   "source": [
    "view = nv.show_file('brns-oct.pdb')\n",
    "view.add_licorice(selection='water')\n",
    "view"
   ]
  },
  {
   "cell_type": "markdown",
   "id": "8a8a62c1",
   "metadata": {},
   "source": [
    "### Rhombic Dodecahedral"
   ]
  },
  {
   "cell_type": "code",
   "execution_count": 44,
   "id": "49cb9277",
   "metadata": {},
   "outputs": [],
   "source": [
    "pdb = app.PDBFile('barnase.pdb')\n",
    "forcefield = app.ForceField('amber14-all.xml', 'amber14/tip3p.xml')\n",
    "modeller = app.Modeller(pdb.topology, pdb.positions)"
   ]
  },
  {
   "cell_type": "code",
   "execution_count": 45,
   "id": "3c87a02c",
   "metadata": {},
   "outputs": [],
   "source": [
    "geompadding = 1.4 * unit.nanometers\n",
    "maxSize = max(max((pos[i] for pos in pdb.positions))-min((pos[i] for pos in pdb.positions)) for i in range(3))\n",
    "vectors = mm.Vec3(1,0,0), mm.Vec3(0,1,0), mm.Vec3(0.5,0.5,sqrt(2)/2)\n",
    "boxVectors = [(maxSize+geompadding)*v for v in vectors]"
   ]
  },
  {
   "cell_type": "code",
   "execution_count": 46,
   "id": "ad396882",
   "metadata": {},
   "outputs": [],
   "source": [
    "modeller.addSolvent(forcefield, model='tip3p', boxVectors=boxVectors)"
   ]
  },
  {
   "cell_type": "code",
   "execution_count": 47,
   "id": "bfac38a3",
   "metadata": {},
   "outputs": [],
   "source": [
    "app.PDBFile.writeFile(modeller.topology, modeller.positions, open('brns-dode.pdb', 'w'))"
   ]
  },
  {
   "cell_type": "code",
   "execution_count": 48,
   "id": "85d20168",
   "metadata": {},
   "outputs": [
    {
     "data": {
      "application/vnd.jupyter.widget-view+json": {
       "model_id": "15528fcf8bf54884a745ee3e81182a7a",
       "version_major": 2,
       "version_minor": 0
      },
      "text/plain": [
       "NGLWidget()"
      ]
     },
     "metadata": {},
     "output_type": "display_data"
    }
   ],
   "source": [
    "view = nv.show_file('brns-dode.pdb')\n",
    "view.add_licorice(selection='water')\n",
    "view"
   ]
  }
 ],
 "metadata": {
  "kernelspec": {
   "display_name": "Python 3 (ipykernel)",
   "language": "python",
   "name": "python3"
  },
  "language_info": {
   "codemirror_mode": {
    "name": "ipython",
    "version": 3
   },
   "file_extension": ".py",
   "mimetype": "text/x-python",
   "name": "python",
   "nbconvert_exporter": "python",
   "pygments_lexer": "ipython3",
   "version": "3.9.10"
  }
 },
 "nbformat": 4,
 "nbformat_minor": 5
}
