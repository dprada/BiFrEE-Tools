{
 "cells": [
  {
   "cell_type": "code",
   "execution_count": 1,
   "id": "da03e479-b846-42c3-935d-042a22948441",
   "metadata": {},
   "outputs": [],
   "source": [
    "import os\n",
    "from openmm.app import *\n",
    "from openmm import *\n",
    "from openmm.unit import *\n",
    "from pdbfixer import PDBFixer"
   ]
  },
  {
   "cell_type": "markdown",
   "id": "c01becf1-8db9-478b-a392-faa40aa1a959",
   "metadata": {},
   "source": [
    "# Preparing Barnase "
   ]
  },
  {
   "cell_type": "markdown",
   "id": "905213b8-da1f-420a-a0f6-2ded6aca9f34",
   "metadata": {},
   "source": [
    "## Obtaining best chain"
   ]
  },
  {
   "cell_type": "markdown",
   "id": "bb29d971-0372-4553-9ab2-a910fc78253b",
   "metadata": {},
   "source": [
    "From barnase-barstar pdb previously analyzed, it was identifed that the \"best\" barnase chain contain 110 residues and 878 atoms, so the task is to identify it from the 12 chains in the pdb. "
   ]
  },
  {
   "cell_type": "code",
   "execution_count": 2,
   "id": "5a703bed-5c87-4d7e-8c29-62400958986a",
   "metadata": {},
   "outputs": [],
   "source": [
    "fixer = PDBFixer(filename='1brs.pdb')"
   ]
  },
  {
   "cell_type": "code",
   "execution_count": 3,
   "id": "a9a3f961-c73d-4932-8f03-6c19032d93df",
   "metadata": {},
   "outputs": [
    {
     "data": {
      "text/plain": [
       "<Topology; 12 chains, 1101 residues, 5149 atoms, 4738 bonds>"
      ]
     },
     "execution_count": 3,
     "metadata": {},
     "output_type": "execute_result"
    }
   ],
   "source": [
    "fixer.topology"
   ]
  },
  {
   "cell_type": "code",
   "execution_count": 4,
   "id": "c2d205cd-6fd1-480d-9b06-57ed486a3068",
   "metadata": {},
   "outputs": [],
   "source": [
    "fixer.removeChains([0, 2, 3, 4, 5, 6, 7, 8, 9, 10, 11])"
   ]
  },
  {
   "cell_type": "code",
   "execution_count": 5,
   "id": "44bea85d-8bc0-4d6f-a9ad-eef6eedbae30",
   "metadata": {},
   "outputs": [
    {
     "data": {
      "text/plain": [
       "<Topology; 1 chains, 110 residues, 878 atoms, 899 bonds>"
      ]
     },
     "execution_count": 5,
     "metadata": {},
     "output_type": "execute_result"
    }
   ],
   "source": [
    "fixer.topology"
   ]
  },
  {
   "cell_type": "markdown",
   "id": "19cc3e1d-057d-499c-87bb-096f4d76dadc",
   "metadata": {},
   "source": [
    "Although manually, the barnase chain was identified."
   ]
  },
  {
   "cell_type": "markdown",
   "id": "fab0c2c8-a91e-4a61-b9d8-00baa93b68f9",
   "metadata": {},
   "source": [
    "<div class=\"alert alert-info\">\n",
    "<strong>Question:</strong> Is there a more efficient way to identify the chain were looking for?\n",
    "</div>"
   ]
  },
  {
   "cell_type": "markdown",
   "id": "8436dcfe-ce67-4d2c-9e45-6bc32635cecf",
   "metadata": {},
   "source": [
    "<div class=\"alert alert-info\">\n",
    "<strong>Question:</strong> How call a list in an object in order to print all the residues?\n",
    "</div>"
   ]
  },
  {
   "cell_type": "markdown",
   "id": "a65ddfb2-80f6-4c5e-91c9-b996c1efbb54",
   "metadata": {},
   "source": [
    "## Editing"
   ]
  },
  {
   "cell_type": "markdown",
   "id": "e066da1b-edbe-437c-9029-a50963623850",
   "metadata": {},
   "source": [
    "Using PDBFixer, we can add residues, atoms and water molecules to our system."
   ]
  },
  {
   "cell_type": "code",
   "execution_count": 6,
   "id": "7d1e3064-ef47-41df-91f1-6c62b6f76769",
   "metadata": {},
   "outputs": [],
   "source": [
    "fixer.findMissingResidues()\n",
    "fixer.findNonstandardResidues()\n",
    "fixer.replaceNonstandardResidues()\n",
    "fixer.findMissingAtoms()\n",
    "fixer.addMissingAtoms()\n",
    "fixer.addMissingHydrogens(7.0)"
   ]
  },
  {
   "cell_type": "code",
   "execution_count": 7,
   "id": "6ef0a127-c947-4b7b-b412-99e76c48e81d",
   "metadata": {},
   "outputs": [
    {
     "data": {
      "text/plain": [
       "<Topology; 1 chains, 110 residues, 1727 atoms, 1748 bonds>"
      ]
     },
     "execution_count": 7,
     "metadata": {},
     "output_type": "execute_result"
    }
   ],
   "source": [
    "fixer.topology"
   ]
  },
  {
   "cell_type": "markdown",
   "id": "dffd6710-dd6a-4435-b787-ad66779201bf",
   "metadata": {},
   "source": [
    "Comparing the number of atoms in the topology, we can be sure that our system has been complemented. If we change the pH there will be more atoms due the extra hydrogens."
   ]
  },
  {
   "cell_type": "code",
   "execution_count": 8,
   "id": "f6f7b0ed-48cb-4b94-ab9a-41504415eca9",
   "metadata": {},
   "outputs": [],
   "source": [
    "PDBFile.writeFile(fixer.topology, fixer.positions, open('barnase.pdb', 'w'))"
   ]
  },
  {
   "cell_type": "markdown",
   "id": "f5f557bb-b08b-4d37-ab9e-2be590bccd91",
   "metadata": {},
   "source": [
    "## Finishing with Modeller"
   ]
  },
  {
   "cell_type": "markdown",
   "id": "cc62dad0-e600-439e-9158-4e443778bad4",
   "metadata": {},
   "source": [
    "In order to build a system with an specific water model and box shape, Modeller is a great tool."
   ]
  },
  {
   "cell_type": "code",
   "execution_count": 9,
   "id": "310b0453-d6b2-4038-9926-d7c1b03997df",
   "metadata": {},
   "outputs": [],
   "source": [
    "pdb = PDBFile('barnase.pdb')"
   ]
  },
  {
   "cell_type": "code",
   "execution_count": 10,
   "id": "727e685d-a261-4ec5-8bad-998585332fca",
   "metadata": {},
   "outputs": [],
   "source": [
    "forcefield = ForceField('amber99sb.xml', 'tip3p.xml')"
   ]
  },
  {
   "cell_type": "code",
   "execution_count": 11,
   "id": "9477dac0-70db-4d98-8c6a-93451a852e58",
   "metadata": {},
   "outputs": [],
   "source": [
    "modeller = Modeller(pdb.topology, pdb.positions)"
   ]
  },
  {
   "cell_type": "code",
   "execution_count": 12,
   "id": "67e23b81-ad37-4a4c-adcd-18090b3f1480",
   "metadata": {},
   "outputs": [],
   "source": [
    "modeller.addSolvent(forcefield, model='tip3p')"
   ]
  },
  {
   "cell_type": "markdown",
   "id": "6ac8a76a-b3e9-4fbd-80cc-e3330b192161",
   "metadata": {},
   "source": [
    "<div class=\"alert alert-warning\">\n",
    "<strong>Task:</strong> Can't determine system's charge.\n",
    "</div>"
   ]
  },
  {
   "cell_type": "code",
   "execution_count": 13,
   "id": "2238426e-831b-47bb-b949-b8b20fa19ee4",
   "metadata": {},
   "outputs": [],
   "source": [
    "charge = modeller.getTopology()"
   ]
  },
  {
   "cell_type": "code",
   "execution_count": 14,
   "id": "e1489271-8df9-4c75-a723-58c9c8f79623",
   "metadata": {},
   "outputs": [
    {
     "data": {
      "text/plain": [
       "<Topology; 3 chains, 23242 residues, 71119 atoms, 48008 bonds>"
      ]
     },
     "execution_count": 14,
     "metadata": {},
     "output_type": "execute_result"
    }
   ],
   "source": [
    "modeller.topology"
   ]
  }
 ],
 "metadata": {
  "kernelspec": {
   "display_name": "Python 3 (ipykernel)",
   "language": "python",
   "name": "python3"
  },
  "language_info": {
   "codemirror_mode": {
    "name": "ipython",
    "version": 3
   },
   "file_extension": ".py",
   "mimetype": "text/x-python",
   "name": "python",
   "nbconvert_exporter": "python",
   "pygments_lexer": "ipython3",
   "version": "3.9.7"
  }
 },
 "nbformat": 4,
 "nbformat_minor": 5
}
