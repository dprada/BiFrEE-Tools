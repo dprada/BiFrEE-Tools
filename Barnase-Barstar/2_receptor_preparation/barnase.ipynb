{
 "cells": [
  {
   "cell_type": "code",
   "execution_count": 1,
   "id": "da03e479-b846-42c3-935d-042a22948441",
   "metadata": {},
   "outputs": [],
   "source": [
    "import os\n",
    "\n",
    "from pdbfixer import PDBFixer\n",
    "import openmm as mm\n",
    "from openmm import unit\n",
    "from openmm import app\n",
    "import numpy as np\n",
    "from matplotlib import pyplot as plt"
   ]
  },
  {
   "cell_type": "markdown",
   "id": "c01becf1-8db9-478b-a392-faa40aa1a959",
   "metadata": {},
   "source": [
    "# Preparing Barnase "
   ]
  },
  {
   "cell_type": "markdown",
   "id": "905213b8-da1f-420a-a0f6-2ded6aca9f34",
   "metadata": {},
   "source": [
    "## Obtaining best chain"
   ]
  },
  {
   "cell_type": "markdown",
   "id": "bb29d971-0372-4553-9ab2-a910fc78253b",
   "metadata": {},
   "source": [
    "From barnase-barstar pdb previously analyzed, it was identifed that the \"best\" barnase chain contain 110 residues and 878 atoms, so the task is to identify it from the 12 chains in the pdb. "
   ]
  },
  {
   "cell_type": "code",
   "execution_count": 2,
   "id": "5a703bed-5c87-4d7e-8c29-62400958986a",
   "metadata": {},
   "outputs": [],
   "source": [
    "fixer = PDBFixer(filename='1brs.pdb')"
   ]
  },
  {
   "cell_type": "code",
   "execution_count": 3,
   "id": "a9a3f961-c73d-4932-8f03-6c19032d93df",
   "metadata": {},
   "outputs": [
    {
     "data": {
      "text/plain": [
       "<Topology; 12 chains, 1101 residues, 5149 atoms, 4738 bonds>"
      ]
     },
     "execution_count": 3,
     "metadata": {},
     "output_type": "execute_result"
    }
   ],
   "source": [
    "fixer.topology"
   ]
  },
  {
   "cell_type": "code",
   "execution_count": 4,
   "id": "c2d205cd-6fd1-480d-9b06-57ed486a3068",
   "metadata": {},
   "outputs": [],
   "source": [
    "fixer.removeChains([0, 2, 3, 4, 5, 6, 7, 8, 9, 10, 11])"
   ]
  },
  {
   "cell_type": "code",
   "execution_count": 5,
   "id": "44bea85d-8bc0-4d6f-a9ad-eef6eedbae30",
   "metadata": {},
   "outputs": [
    {
     "data": {
      "text/plain": [
       "<Topology; 1 chains, 110 residues, 878 atoms, 899 bonds>"
      ]
     },
     "execution_count": 5,
     "metadata": {},
     "output_type": "execute_result"
    }
   ],
   "source": [
    "fixer.topology"
   ]
  },
  {
   "cell_type": "markdown",
   "id": "19cc3e1d-057d-499c-87bb-096f4d76dadc",
   "metadata": {},
   "source": [
    "Although manually, the barnase chain was identified."
   ]
  },
  {
   "cell_type": "markdown",
   "id": "fab0c2c8-a91e-4a61-b9d8-00baa93b68f9",
   "metadata": {},
   "source": [
    "<div class=\"alert alert-info\">\n",
    "<strong>Question:</strong> Is there a more efficient way to identify the chain were looking for?\n",
    "</div>\n",
    "\n",
    "I don't have an answer now, but there should be a better way. We must keep it in mind. In the future we will try to rewrite these workflows with MolSysMT. This could be a good point to improve the library."
   ]
  },
  {
   "cell_type": "markdown",
   "id": "8436dcfe-ce67-4d2c-9e45-6bc32635cecf",
   "metadata": {},
   "source": [
    "<div class=\"alert alert-info\">\n",
    "<strong>Question:</strong> How call a list in an object in order to print all the residues?\n",
    "</div>"
   ]
  },
  {
   "cell_type": "markdown",
   "id": "ba05eb28-91bb-40af-88f4-e13c52b2e3ec",
   "metadata": {},
   "source": [
    "Do you mean something like the following?"
   ]
  },
  {
   "cell_type": "code",
   "execution_count": 6,
   "id": "f29cd7a9-a1af-46d6-9043-2534dcf51270",
   "metadata": {},
   "outputs": [
    {
     "name": "stdout",
     "output_type": "stream",
     "text": [
      "B ALA\n",
      "B GLN\n",
      "B VAL\n",
      "B ILE\n",
      "B ASN\n",
      "B THR\n",
      "B PHE\n",
      "B ASP\n",
      "B GLY\n",
      "B VAL\n",
      "B ALA\n",
      "B ASP\n",
      "B TYR\n",
      "B LEU\n",
      "B GLN\n",
      "B THR\n",
      "B TYR\n",
      "B HIS\n",
      "B LYS\n",
      "B LEU\n",
      "B PRO\n",
      "B ASP\n",
      "B ASN\n",
      "B TYR\n",
      "B ILE\n",
      "B THR\n",
      "B LYS\n",
      "B SER\n",
      "B GLU\n",
      "B ALA\n",
      "B GLN\n",
      "B ALA\n",
      "B LEU\n",
      "B GLY\n",
      "B TRP\n",
      "B VAL\n",
      "B ALA\n",
      "B SER\n",
      "B LYS\n",
      "B GLY\n",
      "B ASN\n",
      "B LEU\n",
      "B ALA\n",
      "B ASP\n",
      "B VAL\n",
      "B ALA\n",
      "B PRO\n",
      "B GLY\n",
      "B LYS\n",
      "B SER\n",
      "B ILE\n",
      "B GLY\n",
      "B GLY\n",
      "B ASP\n",
      "B ILE\n",
      "B PHE\n",
      "B SER\n",
      "B ASN\n",
      "B ARG\n",
      "B GLU\n",
      "B GLY\n",
      "B LYS\n",
      "B LEU\n",
      "B PRO\n",
      "B GLY\n",
      "B LYS\n",
      "B SER\n",
      "B GLY\n",
      "B ARG\n",
      "B THR\n",
      "B TRP\n",
      "B ARG\n",
      "B GLU\n",
      "B ALA\n",
      "B ASP\n",
      "B ILE\n",
      "B ASN\n",
      "B TYR\n",
      "B THR\n",
      "B SER\n",
      "B GLY\n",
      "B PHE\n",
      "B ARG\n",
      "B ASN\n",
      "B SER\n",
      "B ASP\n",
      "B ARG\n",
      "B ILE\n",
      "B LEU\n",
      "B TYR\n",
      "B SER\n",
      "B SER\n",
      "B ASP\n",
      "B TRP\n",
      "B LEU\n",
      "B ILE\n",
      "B TYR\n",
      "B LYS\n",
      "B THR\n",
      "B THR\n",
      "B ASP\n",
      "B HIS\n",
      "B TYR\n",
      "B GLN\n",
      "B THR\n",
      "B PHE\n",
      "B THR\n",
      "B LYS\n",
      "B ILE\n",
      "B ARG\n"
     ]
    }
   ],
   "source": [
    "for chain in fixer.topology.chains():\n",
    "    for residue in chain.residues():\n",
    "        print(chain.id, residue.name)"
   ]
  },
  {
   "cell_type": "markdown",
   "id": "ecdbe463-6503-4b75-b453-b781757080af",
   "metadata": {},
   "source": [
    "I don't know why they did like that. The object 'chains' or 'residues' are iterators and not lists:"
   ]
  },
  {
   "cell_type": "code",
   "execution_count": 7,
   "id": "fae73fb8-85f6-4ba0-9fe6-f6099dd45070",
   "metadata": {},
   "outputs": [
    {
     "data": {
      "text/plain": [
       "method"
      ]
     },
     "execution_count": 7,
     "metadata": {},
     "output_type": "execute_result"
    }
   ],
   "source": [
    "type(fixer.topology.chains)"
   ]
  },
  {
   "cell_type": "code",
   "execution_count": 8,
   "id": "37635b74-18c9-4528-8640-957b3a741497",
   "metadata": {},
   "outputs": [
    {
     "data": {
      "text/plain": [
       "list_iterator"
      ]
     },
     "execution_count": 8,
     "metadata": {},
     "output_type": "execute_result"
    }
   ],
   "source": [
    "type(fixer.topology.chains())"
   ]
  },
  {
   "cell_type": "markdown",
   "id": "bc27e439-fd53-4833-ad03-43b8e0b646df",
   "metadata": {},
   "source": [
    "A list can be created from an iterator, easy:"
   ]
  },
  {
   "cell_type": "code",
   "execution_count": 9,
   "id": "28ebc82b-1dee-41cf-801c-3b5aebdab666",
   "metadata": {},
   "outputs": [],
   "source": [
    "chains = list(fixer.topology.chains())"
   ]
  },
  {
   "cell_type": "code",
   "execution_count": 10,
   "id": "607257fa-7f1f-4013-9348-1e1cc67f1b9a",
   "metadata": {},
   "outputs": [
    {
     "data": {
      "text/plain": [
       "list"
      ]
     },
     "execution_count": 10,
     "metadata": {},
     "output_type": "execute_result"
    }
   ],
   "source": [
    "type(chains)"
   ]
  },
  {
   "cell_type": "code",
   "execution_count": 11,
   "id": "b6ff3c23-4981-4346-b435-f965ac617f91",
   "metadata": {},
   "outputs": [
    {
     "data": {
      "text/plain": [
       "<Chain 0>"
      ]
     },
     "execution_count": 11,
     "metadata": {},
     "output_type": "execute_result"
    }
   ],
   "source": [
    "chains[0]"
   ]
  },
  {
   "cell_type": "markdown",
   "id": "a65ddfb2-80f6-4c5e-91c9-b996c1efbb54",
   "metadata": {},
   "source": [
    "## Editing"
   ]
  },
  {
   "cell_type": "markdown",
   "id": "e066da1b-edbe-437c-9029-a50963623850",
   "metadata": {},
   "source": [
    "Using PDBFixer, we can add residues, atoms and water molecules to our system."
   ]
  },
  {
   "cell_type": "code",
   "execution_count": 12,
   "id": "857bf0c2-6fc2-453f-92c3-ec98f2271fba",
   "metadata": {},
   "outputs": [],
   "source": [
    "fixer = PDBFixer(filename='1brs.pdb')\n",
    "fixer.removeChains([0, 2, 3, 4, 5, 6, 7, 8, 9, 10, 11])"
   ]
  },
  {
   "cell_type": "code",
   "execution_count": 13,
   "id": "f12cc31c-0f48-4d23-8b4c-f5cef9bfe08c",
   "metadata": {},
   "outputs": [
    {
     "name": "stdout",
     "output_type": "stream",
     "text": [
      "0 missing residues\n",
      "0 non standard residues\n",
      "0 missing atoms\n",
      "0 missing terminals\n"
     ]
    }
   ],
   "source": [
    "fixer.findMissingResidues()\n",
    "missing_residues = fixer.missingResidues\n",
    "print(f\"{len(missing_residues)} missing residues\")\n",
    "\n",
    "fixer.findNonstandardResidues()\n",
    "nonstandard_residues = fixer.nonstandardResidues\n",
    "print(f\"{len(nonstandard_residues)} non standard residues\")\n",
    "\n",
    "fixer.findMissingAtoms()\n",
    "missing_atoms = fixer.missingAtoms\n",
    "missing_terminals = fixer.missingTerminals\n",
    "print(f\"{len(missing_atoms)} missing atoms\")\n",
    "print(f\"{len(missing_terminals)} missing terminals\")\n",
    "\n",
    "if len(nonstandard_residues)>0:\n",
    "    fixer.replaceNonstandardResidues()\n",
    "\n",
    "if len(missing_atoms)>0:\n",
    "    fixer.addMissingAtoms()"
   ]
  },
  {
   "cell_type": "markdown",
   "id": "2768a86b-39e3-42f3-a3e9-83e721105996",
   "metadata": {},
   "source": [
    "Let's see how some aminoacids change when different pH is taken to protonate the system:"
   ]
  },
  {
   "cell_type": "code",
   "execution_count": 14,
   "id": "7316354d-c4bc-46c0-88be-6719cb1a1a02",
   "metadata": {},
   "outputs": [],
   "source": [
    "forcefield = app.ForceField('amber14-all.xml', 'amber14/tip3p.xml')"
   ]
  },
  {
   "cell_type": "code",
   "execution_count": 15,
   "id": "16263994-3001-420b-97f5-7038311c3c7a",
   "metadata": {},
   "outputs": [],
   "source": [
    "counter = {'HIP':[], 'HIE':[], 'HID':[]}\n",
    "pHs = np.linspace(1, 14, 20)\n",
    "\n",
    "for pH in pHs:\n",
    "    for residue in counter:\n",
    "        counter[residue].append(0)\n",
    "    modeller = app.Modeller(fixer.topology, fixer.positions)\n",
    "    residues_protonated = modeller.addHydrogens(forcefield=forcefield, pH=pH)\n",
    "    for residue in residues_protonated:\n",
    "        if residue is not None:\n",
    "            counter[residue][-1]+=1"
   ]
  },
  {
   "cell_type": "code",
   "execution_count": 16,
   "id": "cd5b6248-b87d-4079-9401-8a890b892363",
   "metadata": {},
   "outputs": [
    {
     "data": {
      "image/png": "[encoded data removed]",
      "text/plain": [
       "<Figure size 432x288 with 1 Axes>"
      ]
     },
     "metadata": {
      "needs_background": "light"
     },
     "output_type": "display_data"
    }
   ],
   "source": [
    "for residue in counter:\n",
    "    plt.plot(pHs, counter[residue], label=residue)\n",
    "\n",
    "plt.legend()\n",
    "plt.show()"
   ]
  },
  {
   "cell_type": "markdown",
   "id": "9cb3addd-645c-4412-871f-293368fb72af",
   "metadata": {},
   "source": [
    "Is the protonated states something stationary along the simulation? The protonation state of certain residues depends on their chemical environment. We have here inferred how the histidine residues are protonated at different pHs. But: will this states change along the simulation? How can we define these states without ions and water molecules? Is the chemical environment of a given residue something that will change in time? If the protonated residues can change their state near pH 7, are we worried? Should we protonate after solvation?\n",
    "\n",
    "We are interested in the interaction between barnase and barstar. Is any of the aminoacids with different possible protonated states in the interface or near?"
   ]
  },
  {
   "cell_type": "markdown",
   "id": "1a9d0ec9-db88-4b17-b413-a6f8cd0dce98",
   "metadata": {},
   "source": [
    "What value of pH should you use? Are you interested in a simulation of the receptor in pure water? in the cytoplasm? in the nucleous? Is the pH different? Is it relevant?"
   ]
  },
  {
   "cell_type": "code",
   "execution_count": 17,
   "id": "12a5aaef-4d04-4ae6-b88c-e0a1ef533a09",
   "metadata": {},
   "outputs": [],
   "source": [
    "modeller = app.Modeller(fixer.topology, fixer.positions)\n",
    "\n",
    "pH = 7.2\n",
    "residues_protonated = modeller.addHydrogens(forcefield=forcefield, pH=pH)"
   ]
  },
  {
   "cell_type": "code",
   "execution_count": 18,
   "id": "b398fe52-fbeb-4db1-b3e5-3876df1817b4",
   "metadata": {},
   "outputs": [
    {
     "data": {
      "text/plain": [
       "['HID', 'HID']"
      ]
     },
     "execution_count": 18,
     "metadata": {},
     "output_type": "execute_result"
    }
   ],
   "source": [
    "[residue_name for residue_name in residues_protonated if residue_name is not None]"
   ]
  },
  {
   "cell_type": "markdown",
   "id": "39e4af49-539d-4089-83c0-7b36f64f2c1a",
   "metadata": {},
   "source": [
    "Let's see the charge of our system."
   ]
  },
  {
   "cell_type": "code",
   "execution_count": 19,
   "id": "6952d89c-66ad-4305-a7ae-81e4c8c4aa41",
   "metadata": {},
   "outputs": [],
   "source": [
    "# Lets create a system with the protein in vacuum (infinite space) to get the charge\n",
    "\n",
    "system = forcefield.createSystem(modeller.topology, nonbondedMethod=app.NoCutoff)\n",
    "\n",
    "charge = 0.0 * unit.elementary_charge\n",
    "for force_index in range(system.getNumForces()):\n",
    "    force = system.getForce(force_index)\n",
    "    if isinstance(force, mm.NonbondedForce):\n",
    "        for index in range(system.getNumParticles()):\n",
    "            charge+=force.getParticleParameters(int(index))[0]\n",
    "\n",
    "charge = np.round(charge._value)*charge.unit"
   ]
  },
  {
   "cell_type": "code",
   "execution_count": 20,
   "id": "1fea2cb3-1eb7-4b31-adc0-b30f33ad6e4c",
   "metadata": {},
   "outputs": [
    {
     "data": {
      "text/plain": [
       "Quantity(value=2.0, unit=elementary charge)"
      ]
     },
     "execution_count": 20,
     "metadata": {},
     "output_type": "execute_result"
    }
   ],
   "source": [
    "charge"
   ]
  },
  {
   "cell_type": "markdown",
   "id": "11a00f05-0ced-48b5-a695-3ec4fd75e82e",
   "metadata": {},
   "source": [
    "What would be then charge of our protein at pH=6.5? What's the pH of the cell cytoplasm? Is the pH homogeneous in the cell? Are there regions with differen pH? What pH should we choose?"
   ]
  },
  {
   "cell_type": "code",
   "execution_count": 21,
   "id": "5d6a2f9a-2fc0-493a-a59b-7d7e24cac999",
   "metadata": {},
   "outputs": [],
   "source": [
    "app.PDBFile.writeFile(modeller.topology, modeller.positions, open('barnase.pdb', 'w'))"
   ]
  },
  {
   "cell_type": "markdown",
   "id": "f5f557bb-b08b-4d37-ab9e-2be590bccd91",
   "metadata": {},
   "source": [
    "## Finishing with Modeller"
   ]
  },
  {
   "cell_type": "markdown",
   "id": "cc62dad0-e600-439e-9158-4e443778bad4",
   "metadata": {},
   "source": [
    "In order to build a system with an specific water model and box shape, Modeller is a great tool."
   ]
  },
  {
   "cell_type": "code",
   "execution_count": 22,
   "id": "310b0453-d6b2-4038-9926-d7c1b03997df",
   "metadata": {},
   "outputs": [],
   "source": [
    "pdb = app.PDBFile('barnase.pdb')"
   ]
  },
  {
   "cell_type": "code",
   "execution_count": 23,
   "id": "727e685d-a261-4ec5-8bad-998585332fca",
   "metadata": {},
   "outputs": [],
   "source": [
    "forcefield = app.ForceField('amber14-all.xml', 'amber14/tip3p.xml')"
   ]
  },
  {
   "cell_type": "code",
   "execution_count": 24,
   "id": "9477dac0-70db-4d98-8c6a-93451a852e58",
   "metadata": {},
   "outputs": [],
   "source": [
    "modeller = app.Modeller(pdb.topology, pdb.positions)"
   ]
  },
  {
   "cell_type": "code",
   "execution_count": 25,
   "id": "67e23b81-ad37-4a4c-adcd-18090b3f1480",
   "metadata": {},
   "outputs": [],
   "source": [
    "modeller.addSolvent(forcefield, model='tip3p')"
   ]
  },
  {
   "cell_type": "markdown",
   "id": "f5693411-5b9e-482c-a8c6-57b33abc31ad",
   "metadata": {},
   "source": [
    "Did we add ions? What's the charge of the solvated system?"
   ]
  },
  {
   "cell_type": "markdown",
   "id": "d9e35266-2010-4b98-b280-e37852765ba5",
   "metadata": {},
   "source": [
    "In the README.md file there were some indications about how barnase had to be solvated. Did you follow them? Is the box a truncated octahedral box with the protein in the center and the limits of the box 14 angstroms away from the protein surface (at least)?"
   ]
  },
  {
   "cell_type": "markdown",
   "id": "1443503c-3e28-4e98-9c4b-ed68b13afaee",
   "metadata": {},
   "source": [
    "Could you show with NGLView the water box?"
   ]
  },
  {
   "cell_type": "code",
   "execution_count": null,
   "id": "42b1bc42-7c57-43a0-b37b-b21ec25384b9",
   "metadata": {},
   "outputs": [],
   "source": []
  }
 ],
 "metadata": {
  "kernelspec": {
   "display_name": "Python 3 (ipykernel)",
   "language": "python",
   "name": "python3"
  },
  "language_info": {
   "codemirror_mode": {
    "name": "ipython",
    "version": 3
   },
   "file_extension": ".py",
   "mimetype": "text/x-python",
   "name": "python",
   "nbconvert_exporter": "python",
   "pygments_lexer": "ipython3",
   "version": "3.7.12"
  }
 },
 "nbformat": 4,
 "nbformat_minor": 5
}
