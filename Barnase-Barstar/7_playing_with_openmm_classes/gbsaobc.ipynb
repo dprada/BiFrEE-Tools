{
 "cells": [
  {
   "cell_type": "code",
   "execution_count": 1,
   "id": "02e0c562-96ce-43ac-b18f-b8677fda9495",
   "metadata": {},
   "outputs": [
    {
     "data": {
      "application/vnd.jupyter.widget-view+json": {
       "model_id": "4e0ebc59fa7f4014abbb3cf0a8dd08ea",
       "version_major": 2,
       "version_minor": 0
      },
      "text/plain": []
     },
     "metadata": {},
     "output_type": "display_data"
    }
   ],
   "source": [
    "import os\n",
    "\n",
    "import openmm as mm\n",
    "from openmm.app import *\n",
    "from openmm import unit\n",
    "from openmm import app\n",
    "from pdbfixer import PDBFixer\n",
    "import mdtraj as md\n",
    "import nglview as nv\n",
    "import requests\n",
    "import numpy as np\n",
    "from math import sqrt\n",
    "from tqdm import tqdm\n",
    "import matplotlib.pyplot as plt"
   ]
  },
  {
   "cell_type": "code",
   "execution_count": 2,
   "id": "8a0a71d9-3135-44e5-a049-5598d3793095",
   "metadata": {},
   "outputs": [],
   "source": [
    "pdb = PDBFile('brs_full.pdb') #Sistema Vacio"
   ]
  },
  {
   "cell_type": "code",
   "execution_count": 3,
   "id": "388dbdfb-abc5-4aa9-a5a5-35a1b78fe89d",
   "metadata": {},
   "outputs": [],
   "source": [
    "forcefield = ForceField('amber14-all.xml', 'implicit/obc2.xml') #Se indica el solvente implicito"
   ]
  },
  {
   "cell_type": "code",
   "execution_count": 4,
   "id": "bfbb6fb9-dce6-4872-8ba5-22d2522ebe92",
   "metadata": {},
   "outputs": [
    {
     "data": {
      "text/plain": [
       "\u001b[0;31mInit signature:\u001b[0m \u001b[0mmm\u001b[0m\u001b[0;34m.\u001b[0m\u001b[0mGBSAOBCForce\u001b[0m\u001b[0;34m(\u001b[0m\u001b[0;34m*\u001b[0m\u001b[0margs\u001b[0m\u001b[0;34m)\u001b[0m\u001b[0;34m\u001b[0m\u001b[0;34m\u001b[0m\u001b[0m\n",
       "\u001b[0;31mDocstring:\u001b[0m     \n",
       "This class implements an implicit solvation force using the GBSA-OBC model.\n",
       "\n",
       "\n",
       "To use this class, create a GBSAOBCForce object, then call addParticle() once for each particle in the System to define its parameters. The number of particles for which you define GBSA parameters must be exactly equal to the number of particles in the System, or else an exception will be thrown when you try to create a Context. After a particle has been added, you can modify its force field parameters by calling setParticleParameters(). This will have no effect on Contexts that already exist unless you call updateParametersInContext().\n",
       "\n",
       "\n",
       "When using this Force, the System should also include a NonbondedForce, and both objects must specify identical charges for all particles. Otherwise, the results will not be correct. Furthermore, if the nonbonded method is set to CutoffNonPeriodic or CutoffPeriodic, you should call setReactionFieldDielectric(1.0) on the NonbondedForce to turn off the reaction field approximation, which does not produce correct results when combined with GBSA.\n",
       "\u001b[0;31mInit docstring:\u001b[0m\n",
       "__init__(self) -> GBSAOBCForce\n",
       "__init__(self, other) -> GBSAOBCForce\n",
       "Create a GBSAOBCForce.\n",
       "\u001b[0;31mFile:\u001b[0m           ~/MyOpt/Miniconda/envs/bifree2/lib/python3.7/site-packages/openmm/openmm.py\n",
       "\u001b[0;31mType:\u001b[0m           type\n",
       "\u001b[0;31mSubclasses:\u001b[0m     \n"
      ]
     },
     "metadata": {},
     "output_type": "display_data"
    }
   ],
   "source": [
    "mm.GBSAOBCForce?"
   ]
  },
  {
   "cell_type": "code",
   "execution_count": 5,
   "id": "f3f9b745-f7ef-4992-be8d-20584835d1a8",
   "metadata": {},
   "outputs": [],
   "source": [
    "gbsa = mm.GBSAOBCForce"
   ]
  },
  {
   "cell_type": "code",
   "execution_count": 6,
   "id": "b826c1e1-5ed2-4adc-bb65-898d99c83541",
   "metadata": {},
   "outputs": [
    {
     "data": {
      "text/plain": [
       "\u001b[0;31mSignature:\u001b[0m \u001b[0mgbsa\u001b[0m\u001b[0;34m.\u001b[0m\u001b[0maddParticle\u001b[0m\u001b[0;34m(\u001b[0m\u001b[0mself\u001b[0m\u001b[0;34m,\u001b[0m \u001b[0mcharge\u001b[0m\u001b[0;34m,\u001b[0m \u001b[0mradius\u001b[0m\u001b[0;34m,\u001b[0m \u001b[0mscalingFactor\u001b[0m\u001b[0;34m)\u001b[0m\u001b[0;34m\u001b[0m\u001b[0;34m\u001b[0m\u001b[0m\n",
       "\u001b[0;31mDocstring:\u001b[0m\n",
       "addParticle(self, charge, radius, scalingFactor) -> int\n",
       "Add the GBSA parameters for a particle. This should be called once for each particle in the System. When it is called for the i'th time, it specifies the parameters for the i'th particle.\n",
       "\n",
       "Parameters\n",
       "----------\n",
       "charge : double\n",
       "    the charge of the particle, measured in units of the proton charge\n",
       "radius : double\n",
       "    the GBSA radius of the particle, measured in nm\n",
       "scalingFactor : double\n",
       "    the OBC scaling factor for the particle\n",
       "\n",
       "Returns\n",
       "-------\n",
       "int\n",
       "    the index of the particle that was added\n",
       "\u001b[0;31mFile:\u001b[0m      ~/MyOpt/Miniconda/envs/bifree2/lib/python3.7/site-packages/openmm/openmm.py\n",
       "\u001b[0;31mType:\u001b[0m      function\n"
      ]
     },
     "metadata": {},
     "output_type": "display_data"
    }
   ],
   "source": [
    "gbsa.addParticle?"
   ]
  },
  {
   "cell_type": "code",
   "execution_count": 7,
   "id": "268f1f19-71d0-454b-bf22-1b944dabf364",
   "metadata": {},
   "outputs": [],
   "source": [
    "system_implicit = forcefield.createSystem(pdb.topology, soluteDielectric=1.0, solventDielectric=80.0, constraints=HBonds)"
   ]
  },
  {
   "cell_type": "code",
   "execution_count": 8,
   "id": "5b6c5934-06cf-4d70-8d3d-07845abbf34f",
   "metadata": {},
   "outputs": [
    {
     "data": {
      "text/plain": [
       "<openmm.openmm.CustomGBForce; proxy of <Swig Object of type 'OpenMM::CustomGBForce *' at 0x7f33c16e2120> >"
      ]
     },
     "execution_count": 8,
     "metadata": {},
     "output_type": "execute_result"
    }
   ],
   "source": [
    "implicit = system_implicit.getForces()[5]\n",
    "implicit"
   ]
  },
  {
   "cell_type": "code",
   "execution_count": 9,
   "id": "a4d61528-878f-4dcc-98fa-6ae6cdefaf68",
   "metadata": {},
   "outputs": [
    {
     "name": "stdout",
     "output_type": "stream",
     "text": [
      "charge\n",
      "or\n",
      "sr\n"
     ]
    }
   ],
   "source": [
    "# Impresion de los nombres de los parametros que tiene el modelo de solvente implicito seleccionado\n",
    "\n",
    "for ii in range(implicit.getNumPerParticleParameters()):\n",
    "    print(implicit.getPerParticleParameterName(ii))"
   ]
  },
  {
   "cell_type": "code",
   "execution_count": 10,
   "id": "7539702d-3bdd-4469-a846-7ae35e58ed1a",
   "metadata": {},
   "outputs": [],
   "source": [
    "# Creacion de listas con los parametros involucrados en el modelo de solvente implicito seleccionado\n",
    "\n",
    "charge  = []\n",
    "or_     = []\n",
    "sr      = []\n",
    "\n",
    "for ii in range(implicit.getNumParticles()):\n",
    "    aa, bb, cc = implicit.getParticleParameters(ii)\n",
    "    charge.append(aa)\n",
    "    or_.append(bb)\n",
    "    sr.append(cc)"
   ]
  },
  {
   "cell_type": "code",
   "execution_count": 11,
   "id": "abc9e0f2-5e15-47d6-a718-67767d98182b",
   "metadata": {},
   "outputs": [],
   "source": [
    "# Otra manera de crear listas con los parametros\n",
    "\n",
    "parameters = [implicit.getParticleParameters(ii) for ii in range(implicit.getNumParticles())]\n",
    "charge_2 = [parameters[ii][0] for ii in range(implicit.getNumParticles())]\n",
    "or_2     = [parameters[ii][1] for ii in range(implicit.getNumParticles())]\n",
    "sr_2     = [parameters[ii][2] for ii in range(implicit.getNumParticles())]"
   ]
  },
  {
   "cell_type": "code",
   "execution_count": 12,
   "id": "454c552b-3e1c-4b9f-a901-b6a0ac5c4bc4",
   "metadata": {},
   "outputs": [],
   "source": [
    "parameters_2 = [[implicit.getParticleParameters(ii)[jj] for jj in range(implicit.getNumPerParticleParameters())] for ii in range(implicit.getNumParticles())]"
   ]
  },
  {
   "cell_type": "code",
   "execution_count": 13,
   "id": "bdf88ee2-a13c-4b13-867c-e0227f611219",
   "metadata": {
    "tags": []
   },
   "outputs": [
    {
     "data": {
      "text/plain": [
       "tuple"
      ]
     },
     "execution_count": 13,
     "metadata": {},
     "output_type": "execute_result"
    }
   ],
   "source": [
    "type(parameters[0])"
   ]
  },
  {
   "cell_type": "code",
   "execution_count": 14,
   "id": "143adde1-ef20-415c-ba79-2cb91e173ecb",
   "metadata": {},
   "outputs": [
    {
     "data": {
      "text/plain": [
       "list"
      ]
     },
     "execution_count": 14,
     "metadata": {},
     "output_type": "execute_result"
    }
   ],
   "source": [
    "type(parameters_2[0])"
   ]
  },
  {
   "cell_type": "code",
   "execution_count": 18,
   "id": "a840218c-f408-4998-afb3-ebfa9db091e8",
   "metadata": {},
   "outputs": [
    {
     "ename": "TypeError",
     "evalue": "addParticle() missing 1 required positional argument: 'self'",
     "output_type": "error",
     "traceback": [
      "\u001b[0;31m---------------------------------------------------------------------------\u001b[0m",
      "\u001b[0;31mTypeError\u001b[0m                                 Traceback (most recent call last)",
      "\u001b[0;32m/tmp/ipykernel_31049/2013693345.py\u001b[0m in \u001b[0;36m<module>\u001b[0;34m\u001b[0m\n\u001b[1;32m      1\u001b[0m \u001b[0;32mfor\u001b[0m \u001b[0mii\u001b[0m \u001b[0;32min\u001b[0m \u001b[0mrange\u001b[0m\u001b[0;34m(\u001b[0m\u001b[0mimplicit\u001b[0m\u001b[0;34m.\u001b[0m\u001b[0mgetNumParticles\u001b[0m\u001b[0;34m(\u001b[0m\u001b[0;34m)\u001b[0m\u001b[0;34m)\u001b[0m\u001b[0;34m:\u001b[0m\u001b[0;34m\u001b[0m\u001b[0;34m\u001b[0m\u001b[0m\n\u001b[0;32m----> 2\u001b[0;31m     \u001b[0mgbsa\u001b[0m\u001b[0;34m.\u001b[0m\u001b[0maddParticle\u001b[0m\u001b[0;34m(\u001b[0m\u001b[0mcharge\u001b[0m\u001b[0;34m=\u001b[0m \u001b[0mcharge\u001b[0m\u001b[0;34m[\u001b[0m\u001b[0mii\u001b[0m\u001b[0;34m]\u001b[0m\u001b[0;34m,\u001b[0m \u001b[0mradius\u001b[0m\u001b[0;34m=\u001b[0m \u001b[0mor_\u001b[0m\u001b[0;34m[\u001b[0m\u001b[0mii\u001b[0m\u001b[0;34m]\u001b[0m\u001b[0;34m,\u001b[0m \u001b[0mscalingFactor\u001b[0m\u001b[0;34m=\u001b[0m \u001b[0msr\u001b[0m\u001b[0;34m[\u001b[0m\u001b[0mii\u001b[0m\u001b[0;34m]\u001b[0m\u001b[0;34m)\u001b[0m\u001b[0;34m\u001b[0m\u001b[0;34m\u001b[0m\u001b[0m\n\u001b[0m",
      "\u001b[0;31mTypeError\u001b[0m: addParticle() missing 1 required positional argument: 'self'"
     ]
    }
   ],
   "source": [
    "for ii in range(implicit.getNumParticles()):\n",
    "    gbsa.addParticle(charge= charge[ii], radius= or_[ii], scalingFactor= sr[ii])"
   ]
  },
  {
   "cell_type": "code",
   "execution_count": 17,
   "id": "d03aebe0-c588-44cb-9c91-fb5cb2ca17b2",
   "metadata": {},
   "outputs": [
    {
     "ename": "TypeError",
     "evalue": "addParticle() missing 1 required positional argument: 'self'",
     "output_type": "error",
     "traceback": [
      "\u001b[0;31m---------------------------------------------------------------------------\u001b[0m",
      "\u001b[0;31mTypeError\u001b[0m                                 Traceback (most recent call last)",
      "\u001b[0;32m/tmp/ipykernel_31049/2509565907.py\u001b[0m in \u001b[0;36m<module>\u001b[0;34m\u001b[0m\n\u001b[0;32m----> 1\u001b[0;31m \u001b[0mgbsa\u001b[0m\u001b[0;34m.\u001b[0m\u001b[0maddParticle\u001b[0m\u001b[0;34m(\u001b[0m\u001b[0mcharge\u001b[0m\u001b[0;34m=\u001b[0m\u001b[0;36m0.1\u001b[0m\u001b[0;34m,\u001b[0m \u001b[0mradius\u001b[0m\u001b[0;34m=\u001b[0m\u001b[0;36m0.1\u001b[0m\u001b[0;34m,\u001b[0m \u001b[0mscalingFactor\u001b[0m\u001b[0;34m=\u001b[0m\u001b[0;36m0.1\u001b[0m\u001b[0;34m)\u001b[0m\u001b[0;34m\u001b[0m\u001b[0;34m\u001b[0m\u001b[0m\n\u001b[0m",
      "\u001b[0;31mTypeError\u001b[0m: addParticle() missing 1 required positional argument: 'self'"
     ]
    }
   ],
   "source": [
    "gbsa.addParticle(charge=0.1, radius=0.1, scalingFactor=0.1)"
   ]
  },
  {
   "cell_type": "code",
   "execution_count": null,
   "id": "0ffd95f4-2291-4950-8ff9-38778331528e",
   "metadata": {},
   "outputs": [],
   "source": []
  }
 ],
 "metadata": {
  "kernelspec": {
   "display_name": "Python 3 (ipykernel)",
   "language": "python",
   "name": "python3"
  },
  "language_info": {
   "codemirror_mode": {
    "name": "ipython",
    "version": 3
   },
   "file_extension": ".py",
   "mimetype": "text/x-python",
   "name": "python",
   "nbconvert_exporter": "python",
   "pygments_lexer": "ipython3",
   "version": "3.7.12"
  }
 },
 "nbformat": 4,
 "nbformat_minor": 5
}
