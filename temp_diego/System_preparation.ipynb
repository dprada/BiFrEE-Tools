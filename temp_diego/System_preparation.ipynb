{
 "cells": [
  {
   "cell_type": "markdown",
   "id": "d6552e6b-543f-4e02-b2b6-581ad6090a43",
   "metadata": {},
   "source": [
    "# System preparation"
   ]
  },
  {
   "cell_type": "code",
   "execution_count": 1,
   "id": "e08b658a-9e05-468a-8c30-23feaac97564",
   "metadata": {
    "tags": []
   },
   "outputs": [
    {
     "data": {
      "application/vnd.jupyter.widget-view+json": {
       "model_id": "7b08fbc5ba9c4640a51224be2c444251",
       "version_major": 2,
       "version_minor": 0
      },
      "text/plain": []
     },
     "metadata": {},
     "output_type": "display_data"
    }
   ],
   "source": [
    "import molsysmt as msm"
   ]
  },
  {
   "cell_type": "code",
   "execution_count": 3,
   "id": "a1076d40-c5b9-4479-b09b-6db99cfeab24",
   "metadata": {
    "tags": []
   },
   "outputs": [],
   "source": [
    "molsys = msm.convert('1BRS')"
   ]
  },
  {
   "cell_type": "code",
   "execution_count": 4,
   "id": "5a4d2fde-9339-4596-9f48-6c0bfd5c0b83",
   "metadata": {},
   "outputs": [
    {
     "data": {
      "text/plain": [
       "[]"
      ]
     },
     "execution_count": 4,
     "metadata": {},
     "output_type": "execute_result"
    }
   ],
   "source": [
    "msm.build.get_atoms_with_alternate_locations(molsys)"
   ]
  },
  {
   "cell_type": "code",
   "execution_count": null,
   "id": "979bdb2a-cf6a-460d-9bca-bb177a90a4f5",
   "metadata": {},
   "outputs": [],
   "source": []
  }
 ],
 "metadata": {
  "kernelspec": {
   "display_name": "Python 3 (ipykernel)",
   "language": "python",
   "name": "python3"
  },
  "language_info": {
   "codemirror_mode": {
    "name": "ipython",
    "version": 3
   },
   "file_extension": ".py",
   "mimetype": "text/x-python",
   "name": "python",
   "nbconvert_exporter": "python",
   "pygments_lexer": "ipython3",
   "version": "3.9.16"
  }
 },
 "nbformat": 4,
 "nbformat_minor": 5
}
